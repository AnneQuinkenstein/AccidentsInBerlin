{
 "cells": [
  {
   "metadata": {
    "ExecuteTime": {
     "end_time": "2024-09-20T13:17:32.457057Z",
     "start_time": "2024-09-20T13:17:26.075023Z"
    }
   },
   "cell_type": "code",
   "source": [
    "import joblib\n",
    "import pandas as pd\n",
    "import joblib \n",
    "from sklearn.model_selection import StratifiedKFold\n",
    "from sklearn.metrics import make_scorer\n",
    "from sklearn.metrics import fbeta_score\n",
    "from sklearn.model_selection import cross_val_score\n",
    "from sklearn.ensemble import RandomForestClassifier\n",
    "\n",
    "df= pd.read_csv('../data/GeneralDatensatz18-21ohneGeo-mitLockdown_mitCorona_mitFerien.csv', sep=';')\n",
    "\n",
    "\n",
    "\n",
    "X = df.drop(columns=['UKATEGORIE','LAND','LOR_ab_2021'])\n",
    "y = df['UKATEGORIE'].isin([1, 2]).astype(int)\n",
    "\n",
    "# Random Forest randomSearch Grid getunete parameter\n",
    "model = RandomForestClassifier(n_estimators=344, min_samples_split=400, min_samples_leaf=8,max_features='log2', max_depth=15, random_state=42, class_weight={0:1, 1: 9})\n",
    "\n",
    "# Trainiere das Modell auf dem gesamten Trainings- und Validierungsdatensatz\n",
    "model.fit(X, y)\n",
    "\n",
    "# Speichern des Modells\n",
    "#joblib.dump(model, 'random_forest_model.pkl')"
   ],
   "id": "18044ae9a69d39b8",
   "outputs": [
    {
     "data": {
      "text/plain": [
       "['random_forest_model.pkl']"
      ]
     },
     "execution_count": 8,
     "metadata": {},
     "output_type": "execute_result"
    }
   ],
   "execution_count": 8
  }
 ],
 "metadata": {
  "kernelspec": {
   "display_name": "Python 3",
   "language": "python",
   "name": "python3"
  },
  "language_info": {
   "codemirror_mode": {
    "name": "ipython",
    "version": 2
   },
   "file_extension": ".py",
   "mimetype": "text/x-python",
   "name": "python",
   "nbconvert_exporter": "python",
   "pygments_lexer": "ipython2",
   "version": "2.7.6"
  }
 },
 "nbformat": 4,
 "nbformat_minor": 5
}
