{
 "cells": [
  {
   "metadata": {
    "ExecuteTime": {
     "end_time": "2024-09-23T14:51:38.809963Z",
     "start_time": "2024-09-23T14:51:38.750539Z"
    }
   },
   "cell_type": "code",
   "source": [
    "import pandas as pd\n",
    "import joblib \n",
    "from sklearn.model_selection import StratifiedKFold\n",
    "from sklearn.metrics import make_scorer\n",
    "from sklearn.metrics import fbeta_score\n",
    "from sklearn.model_selection import cross_val_score\n",
    "from sklearn.ensemble import RandomForestClassifier\n",
    "\n",
    "train_data_loaded = pd.read_csv('../data/train_data_2024-08-01.csv')\n",
    "\n",
    "X = train_data_loaded.drop(columns=['UKATEGORIE'])\n",
    "y = train_data_loaded['UKATEGORIE']"
   ],
   "id": "18044ae9a69d39b8",
   "outputs": [],
   "execution_count": 21
  },
  {
   "metadata": {
    "ExecuteTime": {
     "end_time": "2024-09-23T14:51:38.830868Z",
     "start_time": "2024-09-23T14:51:38.818602Z"
    }
   },
   "cell_type": "code",
   "source": [
    "kf = StratifiedKFold(n_splits=5, shuffle=True, random_state=42)\n",
    "\n",
    "beta = 2\n",
    "fbeta_scorer = make_scorer(fbeta_score, beta=beta)"
   ],
   "id": "ba63f4b6761458ec",
   "outputs": [],
   "execution_count": 22
  },
  {
   "metadata": {
    "ExecuteTime": {
     "end_time": "2024-09-23T14:51:49.482584Z",
     "start_time": "2024-09-23T14:51:38.847433Z"
    }
   },
   "cell_type": "code",
   "source": [
    "# Random Forest einzeln getunete parameter\n",
    "rf_einzeln_getuned = RandomForestClassifier(random_state=42, class_weight={0:1, 1: 1})\n",
    "rf_einzeln_score = cross_val_score(rf_einzeln_getuned, X, y, cv=kf, scoring=fbeta_scorer)"
   ],
   "id": "51b1a9c87936b81c",
   "outputs": [],
   "execution_count": 23
  },
  {
   "metadata": {
    "ExecuteTime": {
     "end_time": "2024-09-23T14:56:38.400744Z",
     "start_time": "2024-09-23T14:51:49.507660Z"
    }
   },
   "cell_type": "code",
   "source": [
    "# Random Forest Bayes optimierte parameter\n",
    "rf_bayes = RandomForestClassifier(n_estimators=1220, max_depth=23, max_features=16, min_samples_leaf=4, min_samples_split=38,  random_state=42, class_weight={0:1, 1: 1})\n",
    "rf_bayes_score = cross_val_score(rf_bayes, X, y, cv=kf, scoring=fbeta_scorer)\n",
    "\n",
    "\n",
    "\n"
   ],
   "id": "a0e11be7ad4d7913",
   "outputs": [],
   "execution_count": 24
  },
  {
   "metadata": {
    "ExecuteTime": {
     "end_time": "2024-09-23T14:52:16.455554Z",
     "start_time": "2024-09-17T17:23:17.501222Z"
    }
   },
   "cell_type": "code",
   "source": "",
   "id": "170b5c404f42f0b5",
   "outputs": [],
   "execution_count": null
  },
  {
   "metadata": {
    "ExecuteTime": {
     "end_time": "2024-09-23T14:52:16.459049Z",
     "start_time": "2024-09-17T17:23:17.525776Z"
    }
   },
   "cell_type": "code",
   "source": [
    "# Random Forest randomSearch Grid getunete parameter\n",
    "rf_randomSearch_getuned = RandomForestClassifier(n_estimators=344, min_samples_split=400, min_samples_leaf=8,max_features='log2', max_depth=15, random_state=42, class_weight={0:1, 1: 9})\n",
    "rf_randomGrid_score = cross_val_score(rf_randomSearch_getuned, X, y, cv=kf, scoring=fbeta_scorer)"
   ],
   "id": "a56218fe9d0ca52d",
   "outputs": [],
   "execution_count": 14
  },
  {
   "metadata": {
    "ExecuteTime": {
     "end_time": "2024-09-23T14:52:16.460182Z",
     "start_time": "2024-09-17T17:23:35.176580Z"
    }
   },
   "cell_type": "code",
   "source": [
    "print(\"fbeta mit bayes optimierten Parametern: \", rf_bayes_score.mean())\n",
    "print(\"fbeta randomSearch getunete Parameter: \", rf_randomGrid_score.mean())\n",
    "print(\"fbeta einzeln optimierte Parametern: \", rf_einzeln_score.mean())"
   ],
   "id": "5d3e4920d646880f",
   "outputs": [
    {
     "name": "stdout",
     "output_type": "stream",
     "text": [
      "fbeta mit bayes optimierten Parametern:  0.03047413442971265\n",
      "fbeta randomSearch getunete Parameter:  0.5039573583667317\n",
      "fbeta einzeln optimierte Parametern:  0.06692178647697589\n"
     ]
    }
   ],
   "execution_count": 15
  },
  {
   "metadata": {
    "ExecuteTime": {
     "end_time": "2024-09-23T14:52:16.467234Z",
     "start_time": "2024-09-17T17:23:35.211760Z"
    }
   },
   "cell_type": "code",
   "source": [
    "# Random Forest Bayes optimierte parameter mit class_weight 1:9\n",
    "rf_bayes_2 = RandomForestClassifier(n_estimators=1220, max_depth=23, max_features=16, min_samples_leaf=4, min_samples_split=38,  random_state=42, class_weight={0:1, 1: 9})\n",
    "rf_bayes_score_weighted = cross_val_score(rf_bayes_2, X, y, cv=kf, scoring=fbeta_scorer)"
   ],
   "id": "5cc72a759110cd65",
   "outputs": [],
   "execution_count": 16
  },
  {
   "metadata": {
    "ExecuteTime": {
     "end_time": "2024-09-23T14:52:16.474385Z",
     "start_time": "2024-09-17T17:27:56.817294Z"
    }
   },
   "cell_type": "code",
   "source": "print(\"fbeta bayes optimiert mit weights: \", rf_bayes_score_weighted.mean())",
   "id": "8aa78217b0b1015",
   "outputs": [
    {
     "name": "stdout",
     "output_type": "stream",
     "text": [
      "fbeta bayes optimiert mit weights:  0.4270381809603685\n"
     ]
    }
   ],
   "execution_count": 17
  },
  {
   "metadata": {
    "ExecuteTime": {
     "end_time": "2024-09-23T14:52:16.475Z",
     "start_time": "2024-09-17T17:27:56.948424Z"
    }
   },
   "cell_type": "code",
   "source": [
    "# nochmal bestes ergebnis ohne weights:\n",
    "rf_randomSearch_getuned_ohne_weights = RandomForestClassifier(n_estimators=344, min_samples_split=400, min_samples_leaf=8,max_features='log2', max_depth=15, random_state=42)\n",
    "rf_randomGrid__ohne_weights_score = cross_val_score(rf_randomSearch_getuned_ohne_weights, X, y, cv=kf, scoring=fbeta_scorer)\n",
    "\n",
    "print(rf_randomGrid__ohne_weights_score.mean())"
   ],
   "id": "dae0daa193986006",
   "outputs": [
    {
     "name": "stdout",
     "output_type": "stream",
     "text": [
      "0.0\n"
     ]
    }
   ],
   "execution_count": 18
  },
  {
   "metadata": {
    "ExecuteTime": {
     "end_time": "2024-09-23T14:52:16.475641Z",
     "start_time": "2024-09-17T17:28:15.817521Z"
    }
   },
   "cell_type": "code",
   "source": [
    "# Speichern des Modells\n",
    "#joblib.dump(rf_randomSearch_getuned, 'random_forest_rs_getuned.pkl')"
   ],
   "id": "6160db4f05ab5019",
   "outputs": [
    {
     "data": {
      "text/plain": [
       "['random_forest_rs_getuned.pkl']"
      ]
     },
     "execution_count": 19,
     "metadata": {},
     "output_type": "execute_result"
    }
   ],
   "execution_count": 19
  }
 ],
 "metadata": {
  "kernelspec": {
   "display_name": "Python 3",
   "language": "python",
   "name": "python3"
  },
  "language_info": {
   "codemirror_mode": {
    "name": "ipython",
    "version": 2
   },
   "file_extension": ".py",
   "mimetype": "text/x-python",
   "name": "python",
   "nbconvert_exporter": "python",
   "pygments_lexer": "ipython2",
   "version": "2.7.6"
  }
 },
 "nbformat": 4,
 "nbformat_minor": 5
}
