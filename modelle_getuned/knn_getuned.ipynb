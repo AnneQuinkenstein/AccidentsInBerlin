{
 "cells": [
  {
   "cell_type": "code",
   "id": "initial_id",
   "metadata": {
    "collapsed": true,
    "ExecuteTime": {
     "end_time": "2024-09-04T17:12:40.776136Z",
     "start_time": "2024-09-04T17:10:53.869058Z"
    }
   },
   "source": [
    "from imblearn.over_sampling import SMOTE\n",
    "from sklearn.neighbors import KNeighborsClassifier\n",
    "from sklearn.model_selection import train_test_split, cross_val_score\n",
    "import pandas as pd\n",
    "from sklearn.metrics import make_scorer, fbeta_score\n",
    "from sklearn.model_selection import StratifiedKFold\n",
    "\n",
    "train_data_loaded = pd.read_csv('../data/train_data_2024-08-01.csv')\n",
    "\n",
    "X = train_data_loaded.drop(columns=['UKATEGORIE'])\n",
    "y = train_data_loaded['UKATEGORIE']\n",
    "\n",
    "X_train, X_test, y_train, y_test = train_test_split(X, y, test_size=0.2, random_state=42)\n",
    "\n",
    "# KFold-Konfiguration\n",
    "kf = StratifiedKFold(n_splits=5, shuffle=True, random_state=42)\n",
    "\n",
    "# Definieren des F-beta-Scores mit beta = 2\n",
    "beta = 2\n",
    "fbeta_scorer = make_scorer(fbeta_score, beta=beta)\n",
    "\n",
    "# Anwendung von SMOTE auf Trainingsset\n",
    "sm = SMOTE(random_state=42)\n",
    "X_res, y_res = sm.fit_resample(X_train, y_train)\n",
    "\n",
    "# K-Nearest Neighbors Bayes-optimiert\n",
    "knn_bayes = KNeighborsClassifier(n_neighbors=1, leaf_size=50, weights='distance', p=1)\n",
    "\n",
    "knn_bayes_score = cross_val_score(knn_bayes, X, y, cv=kf, scoring=fbeta_scorer)\n",
    "\n",
    "# k_nearest neighbors randomSearchGrid getuned\n",
    "knn_random = KNeighborsClassifier(n_neighbors=6, leaf_size=41, weights='distance', p=1)\n",
    "knn_random_score= cross_val_score(knn_random, X_res, y_res, cv=kf, scoring=fbeta_scorer)\n",
    "\n",
    "# k_nearest neighbors einzeln getuned (n_neighbors und leaf_size)\n",
    "knn_einzeln = KNeighborsClassifier(n_neighbors=1, weights='distance', p=1)\n",
    "knn_einzeln_score= cross_val_score(knn_einzeln, X_res, y_res, cv=kf, scoring=fbeta_scorer)\n"
   ],
   "outputs": [],
   "execution_count": 2
  },
  {
   "metadata": {
    "ExecuteTime": {
     "end_time": "2024-09-04T17:12:40.782931Z",
     "start_time": "2024-09-04T17:12:40.779616Z"
    }
   },
   "cell_type": "code",
   "source": [
    "\n",
    "# Ausgabe der Ergebnisse\n",
    "print(f\"scores bayes optimimert: {knn_bayes_score.mean()}\")\n",
    "print(f\"scores randomSearch getuned: {knn_random_score.mean()}\")\n",
    "\n",
    "\n",
    "\n"
   ],
   "id": "180dca0ace9f27f0",
   "outputs": [
    {
     "name": "stdout",
     "output_type": "stream",
     "text": [
      "scores bayes optimimert: 0.19425559789579727\n",
      "scores randomSearch getuned: 0.9085003135587506\n"
     ]
    }
   ],
   "execution_count": 3
  },
  {
   "metadata": {
    "ExecuteTime": {
     "end_time": "2024-09-04T17:14:31.398042Z",
     "start_time": "2024-09-04T17:14:31.395188Z"
    }
   },
   "cell_type": "code",
   "source": "print(f\"score einzeln: {knn_einzeln_score.mean()}\")",
   "id": "b57af0b4aa4525cb",
   "outputs": [
    {
     "name": "stdout",
     "output_type": "stream",
     "text": [
      "score einzeln: 0.8858654732369169\n"
     ]
    }
   ],
   "execution_count": 5
  },
  {
   "metadata": {},
   "cell_type": "code",
   "outputs": [],
   "execution_count": null,
   "source": "",
   "id": "b77ab5da66786c0a"
  }
 ],
 "metadata": {
  "kernelspec": {
   "display_name": "Python 3",
   "language": "python",
   "name": "python3"
  },
  "language_info": {
   "codemirror_mode": {
    "name": "ipython",
    "version": 2
   },
   "file_extension": ".py",
   "mimetype": "text/x-python",
   "name": "python",
   "nbconvert_exporter": "python",
   "pygments_lexer": "ipython2",
   "version": "2.7.6"
  }
 },
 "nbformat": 4,
 "nbformat_minor": 5
}
