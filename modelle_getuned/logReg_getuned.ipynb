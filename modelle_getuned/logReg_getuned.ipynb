{
 "cells": [
  {
   "cell_type": "code",
   "id": "c5249c9c-e94d-465b-bbca-52449cf72f8f",
   "metadata": {
    "ExecuteTime": {
     "end_time": "2024-09-03T17:52:17.341751Z",
     "start_time": "2024-09-03T17:52:17.338434Z"
    }
   },
   "source": [
    "from sklearn.model_selection import RandomizedSearchCV, StratifiedKFold, cross_val_score\n",
    "import pandas as pd\n",
    "from sklearn.metrics import make_scorer, fbeta_score\n",
    "from sklearn.linear_model import LogisticRegression\n"
   ],
   "outputs": [],
   "execution_count": 9
  },
  {
   "cell_type": "code",
   "id": "dbaf5fe9-73dc-4c6b-8174-d1cb93393147",
   "metadata": {
    "ExecuteTime": {
     "end_time": "2024-09-03T17:52:17.422296Z",
     "start_time": "2024-09-03T17:52:17.383899Z"
    }
   },
   "source": [
    "train_data_loaded = pd.read_csv('../data/train_data_2024-08-01.csv')\n",
    "\n",
    "X = train_data_loaded.drop(columns=['UKATEGORIE'])\n",
    "y = train_data_loaded['UKATEGORIE']\n",
    "\n",
    "# KFold-Konfiguration\n",
    "kf = StratifiedKFold(n_splits=5, shuffle=True, random_state=42)\n",
    "\n",
    "# Definieren des F-beta-Scores mit beta = 2\n",
    "beta = 2\n",
    "fbeta_scorer = make_scorer(fbeta_score, beta=beta)"
   ],
   "outputs": [],
   "execution_count": 10
  },
  {
   "cell_type": "code",
   "id": "98d92998-c945-4507-970a-10c00e4efa72",
   "metadata": {
    "ExecuteTime": {
     "end_time": "2024-09-03T17:52:17.440422Z",
     "start_time": "2024-09-03T17:52:17.437132Z"
    }
   },
   "source": [
    "model_einzeln = LogisticRegression(C=1, max_iter = 2000, tol = 0.001, random_state=42, class_weight = {0:1, 1: 9})\n",
    "model_bayes_weighted = LogisticRegression(C=0.75, max_iter=1100, penalty= 'l1', solver='liblinear',tol = 0.01, random_state=42, class_weight = {0:1, 1: 9})\n",
    "model_bayes = LogisticRegression(C=0.75, max_iter=1100, penalty= 'l1', solver='liblinear',tol = 0.01, random_state=42)\n",
    "model_randomSearch = LogisticRegression(C=1, max_iter=1700, penalty='l2', solver='liblinear', tol=0.0001, random_state=42)\n",
    "model_randomSearch_weighted = LogisticRegression(C=1, max_iter=1700, penalty='l2', solver='liblinear', tol=0.0001, random_state=42, class_weight = {0:1, 1: 9})"
   ],
   "outputs": [],
   "execution_count": 11
  },
  {
   "cell_type": "code",
   "id": "036db194-ac2c-403a-af47-215fbad42e0f",
   "metadata": {
    "ExecuteTime": {
     "end_time": "2024-09-03T17:52:34.453953Z",
     "start_time": "2024-09-03T17:52:17.481462Z"
    }
   },
   "source": [
    "einzeln_score = cross_val_score(model_einzeln, X, y, cv=kf, scoring=fbeta_scorer)\n",
    "bayes_score = cross_val_score(model_bayes, X, y, cv=kf, scoring=fbeta_scorer)\n",
    "bayes_score_weighted = cross_val_score(model_bayes_weighted, X, y, cv=kf, scoring=fbeta_scorer)\n",
    "randomSearch_socre = cross_val_score(model_randomSearch, X, y, scoring=fbeta_scorer)\n",
    "randomSearch_score_weighted = cross_val_score(model_randomSearch_weighted, X, y, scoring=fbeta_scorer)"
   ],
   "outputs": [],
   "execution_count": 12
  },
  {
   "cell_type": "code",
   "id": "be89ba68-22ed-4fcd-a023-309196738c75",
   "metadata": {
    "ExecuteTime": {
     "end_time": "2024-09-03T17:52:34.497015Z",
     "start_time": "2024-09-03T17:52:34.492132Z"
    }
   },
   "source": [
    "print(\"fbeta mit bayes optimiert: \", bayes_score.mean())\n",
    "print(\"fbeta mit bayes weighted: \", bayes_score_weighted.mean())\n",
    "print(\"fbeta mit einzeln score: \", einzeln_score.mean())\n",
    "print(\"fbeta mit randomSearch score: \", randomSearch_socre.mean())\n",
    "print(\"fbeta mit randomSearch score mit weights: \", randomSearch_score_weighted.mean())"
   ],
   "outputs": [
    {
     "name": "stdout",
     "output_type": "stream",
     "text": [
      "fbeta mit bayes optimiert:  0.004860434563590631\n",
      "fbeta mit bayes weighted:  0.4790343880922004\n",
      "fbeta mit einzeln score:  0.4815773928311312\n",
      "fbeta mit randomSearch score:  0.0036469657194349624\n",
      "fbeta mit randomSearch score mit weights:  0.48190904511651905\n"
     ]
    }
   ],
   "execution_count": 13
  }
 ],
 "metadata": {
  "kernelspec": {
   "display_name": "Python 3 (ipykernel)",
   "language": "python",
   "name": "python3"
  },
  "language_info": {
   "codemirror_mode": {
    "name": "ipython",
    "version": 3
   },
   "file_extension": ".py",
   "mimetype": "text/x-python",
   "name": "python",
   "nbconvert_exporter": "python",
   "pygments_lexer": "ipython3",
   "version": "3.10.14"
  }
 },
 "nbformat": 4,
 "nbformat_minor": 5
}
