{
 "cells": [
  {
   "metadata": {
    "ExecuteTime": {
     "end_time": "2024-09-20T15:24:55.371945Z",
     "start_time": "2024-09-20T15:23:43.907147Z"
    }
   },
   "cell_type": "code",
   "source": [
    "from imblearn.over_sampling import SMOTE\n",
    "from sklearn.neighbors import KNeighborsClassifier\n",
    "import pandas as pd\n",
    "import joblib \n",
    "from sklearn.model_selection import StratifiedKFold\n",
    "from sklearn.metrics import fbeta_score\n",
    "\n",
    "df= pd.read_csv('../data/GeneralDatensatz18-21ohneGeo-mitLockdown_mitCorona_mitFerien.csv', sep=';')\n",
    "\n",
    "\n",
    "\n",
    "X_train_val = df.drop(columns=['UKATEGORIE','LAND','LOR_ab_2021'])\n",
    "y_train_val = df['UKATEGORIE'].isin([1, 2]).astype(int)\n",
    "\n",
    "# Stratified K-Fold Cross Validation Setup\n",
    "skf = StratifiedKFold(n_splits=5, shuffle=True, random_state=42)\n",
    "\n",
    "train_val_fbeta_scores = []  # Liste, um die F-beta Scores der einzelnen Folds zu speichern\n",
    "\n",
    "for train_index, val_index in skf.split(X_train_val, y_train_val):\n",
    "    X_train, X_val = X_train_val.iloc[train_index], X_train_val.iloc[val_index]\n",
    "    y_train, y_val = y_train_val.iloc[train_index], y_train_val.iloc[val_index]\n",
    "\n",
    "    # SMOTE anwenden auf den Trainingsdaten\n",
    "    smote = SMOTE(random_state=42)\n",
    "    X_train_resampled, y_train_resampled = smote.fit_resample(X_train, y_train)\n",
    "\n",
    "    # Trainiere das KNN Modell\n",
    "    model = KNeighborsClassifier(n_neighbors=6, leaf_size=41, weights='distance', p=1)\n",
    "    model.fit(X_train_resampled, y_train_resampled)\n",
    "\n",
    "    # Vorhersagen auf den Validierungsdaten\n",
    "    y_val_pred = model.predict(X_val)\n",
    "\n",
    "    # Berechne den F-beta Score für die Validierungsdaten\n",
    "    val_fbeta = fbeta_score(y_val, y_val_pred, beta=2, average='weighted')\n",
    "    train_val_fbeta_scores.append(val_fbeta)\n",
    "\n",
    "# Durchschnittlicher F-beta Score aus der Stratified K-Fold Cross Validation\n",
    "average_train_val_fbeta = sum(train_val_fbeta_scores) / len(train_val_fbeta_scores)\n",
    "\n",
    "# Lade den separaten Testdatensatz\n",
    "test_data = pd.read_csv('../data/test_data_nichtAnfassen.csv')\n",
    "X_test = test_data.drop(columns=['UKATEGORIE'])\n",
    "y_test = test_data['UKATEGORIE']\n",
    "\n",
    "# Trainiere das Modell auf dem gesamten Trainings- und Validierungsdatensatz mit SMOTE\n",
    "X_train_val_resampled, y_train_val_resampled = smote.fit_resample(X_train_val, y_train_val)\n",
    "model.fit(X_train_val_resampled, y_train_val_resampled)\n",
    "\n",
    "# Speichern des Modells\n",
    "#joblib.dump(model, 'knn_model.pkl')"
   ],
   "id": "18044ae9a69d39b8",
   "outputs": [
    {
     "data": {
      "text/plain": [
       "['knn_model.pkl']"
      ]
     },
     "execution_count": 1,
     "metadata": {},
     "output_type": "execute_result"
    }
   ],
   "execution_count": 1
  }
 ],
 "metadata": {
  "kernelspec": {
   "display_name": "Python 3",
   "language": "python",
   "name": "python3"
  },
  "language_info": {
   "codemirror_mode": {
    "name": "ipython",
    "version": 2
   },
   "file_extension": ".py",
   "mimetype": "text/x-python",
   "name": "python",
   "nbconvert_exporter": "python",
   "pygments_lexer": "ipython2",
   "version": "2.7.6"
  }
 },
 "nbformat": 4,
 "nbformat_minor": 5
}
