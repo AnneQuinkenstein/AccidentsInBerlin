{
 "cells": [
  {
   "metadata": {},
   "cell_type": "markdown",
   "source": [
    "Hier sind k-fold cross-validation Scores für die Modelle Logistic Regression, Random Forest und K-Nearest Neighbors. Als erstes werden die Modelle für die Kategorien tödliche/nicht tödliche Unfälle ausprobiert. Accuracy ist sehr hoch, da die Daten unbalanciert sind, d.h. sehr wenig Fälle bei Toten, sehr viele Nicht-Tote.  Recall und Precision sind daher wichtiger, und die sind 0. \n",
    "- Recall: 0 % der  tödlich Fälle wurden als tödlich erkannt\n",
    "- Precision: 0 % der erkannten tödlich Fälle sind tatsächlich tödlich Fälle\n",
    "\n",
    "Um eine ausgewogenere Datenlage zu erreichen, werden die Kategorien tödliche und schwere Unfälle zusammengefasst gegenüber leichten Unfällen.  Die Scores sind besser, aber immer noch nicht gut. \n",
    "\n",
    "zB Logistische Regression:\n",
    "\n",
    "- Recall: 0.001% der schwer/ tödlich Fälle wurden als schwer/ tödlich erkannt\n",
    "- Precision: 0,41% der erkannten schwer/ tödlich Fälle sind tatsächlich schwer/ tödlich Fälle?\n",
    "\n",
    "Im nächsten Blatt kFold_alleModelle_weighted wird ein Weight hinzugefügt, um die Daten auszugleichen."
   ],
   "id": "beec64f53f230ba7"
  },
  {
   "metadata": {
    "ExecuteTime": {
     "start_time": "2024-08-24T09:33:33.092393Z"
    }
   },
   "cell_type": "code",
   "source": [
    "import pandas as pd\n",
    "from sklearn.neighbors import KNeighborsClassifier\n",
    "from sklearn.linear_model import LogisticRegression\n",
    "from sklearn.model_selection import KFold, cross_val_score\n",
    "from sklearn.ensemble import RandomForestClassifier\n",
    "from sklearn.metrics import make_scorer, precision_score, recall_score\n",
    "\n",
    "# Load data\n",
    "df = pd.read_csv('../data/GeneralDatensatz18-21ohneGeo.csv', sep=';')\n",
    "\n",
    "# Define features and target\n",
    "X = df[['UMONAT', 'USTUNDE', 'UWOCHENTAG', 'UART', 'USTRZUSTAND', 'BEZ', 'UTYP1', 'ULICHTVERH', 'IstRad', 'IstPKW', 'IstFuss', 'IstKrad', 'IstGkfz', 'IstSonstige']]\n",
    "y = (df['UKATEGORIE'] == 1).astype(int)  # 1 ist tödlich, 0 ist schwer oder leicht (nicht tödlich)\n",
    "\n",
    "# KFold configuration\n",
    "kf = KFold(n_splits=5, shuffle=True, random_state=42)\n",
    "\n",
    "# Define custom scorers with zero_division parameter\n",
    "precision_scorer = make_scorer(precision_score, zero_division=0)\n",
    "recall_scorer = make_scorer(recall_score, zero_division=0)\n",
    "\n",
    "# Logistic Regression\n",
    "log_reg = LogisticRegression(max_iter=1000)\n",
    "accuracy_log = cross_val_score(log_reg, X, y, cv=kf, scoring='accuracy')\n",
    "print(\"Accuracy Logistic Regression (k-fold):\", accuracy_log.mean())\n",
    "\n",
    "recall_reg = cross_val_score(log_reg, X, y, cv=kf, scoring=recall_scorer)\n",
    "print(\"Recall Logistic Regression (k-fold):\", recall_reg.mean())\n",
    "\n",
    "precision_reg = cross_val_score(log_reg, X, y, cv=kf, scoring=precision_scorer)\n",
    "print(\"Precision Logistic Regression (k-fold):\", precision_reg.mean())\n",
    "\n",
    "f1_reg = cross_val_score(log_reg, X, y, cv=kf, scoring='f1')\n",
    "print(\"F1 Logistic Regression (k-fold):\", f1_reg.mean())\n",
    "\n",
    "roc_auc_reg = cross_val_score(log_reg, X, y, cv=kf, scoring='roc_auc')\n",
    "print(\"Roc Auc Logistic Regression (k-fold):\", roc_auc_reg.mean())\n",
    "\n",
    "# Random Forest\n",
    "rf_clas = RandomForestClassifier(n_estimators=100, max_depth=5, random_state=42)\n",
    "accuracy_rf = cross_val_score(rf_clas, X, y, cv=kf, scoring='accuracy')\n",
    "print(\"Accuracy Random Forest (k-fold):\", accuracy_rf.mean())\n",
    "\n",
    "recall_rf = cross_val_score(rf_clas, X, y, cv=kf, scoring=recall_scorer)\n",
    "print(\"Recall Random Forest (k-fold):\", recall_rf.mean())\n",
    "\n",
    "precision_rf = cross_val_score(rf_clas, X, y, cv=kf, scoring=precision_scorer)\n",
    "print(\"Precision Random Forest (k-fold):\", precision_rf.mean())\n",
    "\n",
    "f1_rf = cross_val_score(rf_clas, X, y, cv=kf, scoring='f1')\n",
    "print(\"F1 Random Forest (k-fold):\", f1_rf.mean())\n",
    "\n",
    "roc_auc_rf = cross_val_score(rf_clas, X, y, cv=kf, scoring='roc_auc')\n",
    "print(\"Roc Auc Random Forest (k-fold):\", roc_auc_rf.mean())\n",
    "\n",
    "# K-Nearest Neighbors\n",
    "knn_clas = KNeighborsClassifier(n_neighbors=3, weights='distance')\n",
    "accuracy_knn = cross_val_score(knn_clas, X, y, cv=kf, scoring='accuracy')\n",
    "print(\"Accuracy K-Nearest Neighbors (k-fold):\", accuracy_knn.mean())\n",
    "\n",
    "recall_knn = cross_val_score(knn_clas, X, y, cv=kf, scoring=recall_scorer)\n",
    "print(\"Recall K-Nearest Neighbors (k-fold):\", recall_knn.mean())\n",
    "\n",
    "precision_knn = cross_val_score(knn_clas, X, y, cv=kf, scoring=precision_scorer)\n",
    "print(\"Precision K-Nearest Neighbors (k-fold):\", precision_knn.mean())\n",
    "\n",
    "f1_knn = cross_val_score(knn_clas, X, y, cv=kf, scoring='f1')\n",
    "print(\"F1 K-Nearest Neighbors (k-fold):\", f1_knn.mean())\n"
   ],
   "id": "b928bb89b9907bb9",
   "outputs": [
    {
     "name": "stdout",
     "output_type": "stream",
     "text": [
      "Accuracy Logistic Regression (k-fold): 0.9969871131990994\n",
      "Recall Logistic Regression (k-fold): 0.0\n",
      "Precision Logistic Regression (k-fold): 0.0\n",
      "F1 Logistic Regression (k-fold): 0.0\n",
      "Roc Auc Logistic Regression (k-fold): 0.8211773073260392\n",
      "Accuracy Random Forest (k-fold): 0.9969871131990994\n",
      "Recall Random Forest (k-fold): 0.0\n",
      "Precision Random Forest (k-fold): 0.0\n",
      "F1 Random Forest (k-fold): 0.0\n",
      "Roc Auc Random Forest (k-fold): 0.8244314454186206\n",
      "Accuracy K-Nearest Neighbors (k-fold): 0.9967875801060593\n",
      "Recall K-Nearest Neighbors (k-fold): 0.0\n"
     ]
    }
   ],
   "execution_count": null
  },
  {
   "metadata": {},
   "cell_type": "markdown",
   "source": "",
   "id": "96da1893f9014d8f"
  },
  {
   "metadata": {},
   "cell_type": "markdown",
   "source": "",
   "id": "ac2a86d562025b5f"
  },
  {
   "metadata": {},
   "cell_type": "markdown",
   "source": "",
   "id": "7278edc2a96a60bb"
  },
  {
   "metadata": {
    "ExecuteTime": {
     "end_time": "2024-08-24T09:33:10.258139Z",
     "start_time": "2024-08-24T09:32:47.899718Z"
    }
   },
   "cell_type": "code",
   "source": [
    "import pandas as pd\n",
    "from sklearn.neighbors import KNeighborsClassifier\n",
    "from sklearn.linear_model import LogisticRegression\n",
    "from sklearn.model_selection import KFold, cross_val_score\n",
    "from sklearn.ensemble import RandomForestClassifier\n",
    "from sklearn.metrics import make_scorer, precision_score, recall_score\n",
    "\n",
    "# Load data\n",
    "df = pd.read_csv('../data/GeneralDatensatz18-21ohneGeo.csv', sep=';')\n",
    "\n",
    "# Define features and target\n",
    "X = df[['UMONAT', 'USTUNDE', 'UWOCHENTAG', 'UART', 'USTRZUSTAND', 'BEZ', 'UTYP1', 'ULICHTVERH', 'IstRad', 'IstPKW', 'IstFuss', 'IstKrad', 'IstGkfz', 'IstSonstige']]\n",
    "y = df['UKATEGORIE'].isin([1, 2]).astype(int)  # 1 ist schwer oder tödlich, 0 ist leicht\n",
    "\n",
    "# KFold configuration\n",
    "kf = KFold(n_splits=5, shuffle=True, random_state=42)\n",
    "\n",
    "# Define custom scorers with zero_division parameter\n",
    "precision_scorer = make_scorer(precision_score, zero_division=0)\n",
    "recall_scorer = make_scorer(recall_score, zero_division=0)\n",
    "\n",
    "# Logistic Regression\n",
    "log_reg = LogisticRegression(max_iter=1000)\n",
    "accuracy_log = cross_val_score(log_reg, X, y, cv=kf, scoring='accuracy')\n",
    "print(\"Accuracy Logistic Regression (k-fold):\", accuracy_log.mean())\n",
    "\n",
    "recall_reg = cross_val_score(log_reg, X, y, cv=kf, scoring=recall_scorer)\n",
    "print(\"Recall Logistic Regression (k-fold):\", recall_reg.mean())\n",
    "\n",
    "precision_reg = cross_val_score(log_reg, X, y, cv=kf, scoring=precision_scorer)\n",
    "print(\"Precision Logistic Regression (k-fold):\", precision_reg.mean())\n",
    "\n",
    "f1_reg = cross_val_score(log_reg, X, y, cv=kf, scoring='f1')\n",
    "print(\"F1 Logistic Regression (k-fold):\", f1_reg.mean())\n",
    "\n",
    "roc_auc_reg = cross_val_score(log_reg, X, y, cv=kf, scoring='roc_auc')\n",
    "print(\"Roc Auc Logistic Regression (k-fold):\", roc_auc_reg.mean())\n",
    "\n",
    "# Random Forest\n",
    "rf_clas = RandomForestClassifier(n_estimators=100, max_depth=5, random_state=42)\n",
    "accuracy_rf = cross_val_score(rf_clas, X, y, cv=kf, scoring='accuracy')\n",
    "print(\"Accuracy Random Forest (k-fold):\", accuracy_rf.mean())\n",
    "\n",
    "recall_rf = cross_val_score(rf_clas, X, y, cv=kf, scoring=recall_scorer)\n",
    "print(\"Recall Random Forest (k-fold):\", recall_rf.mean())\n",
    "\n",
    "precision_rf = cross_val_score(rf_clas, X, y, cv=kf, scoring=precision_scorer)\n",
    "print(\"Precision Random Forest (k-fold):\", precision_rf.mean())\n",
    "\n",
    "f1_rf = cross_val_score(rf_clas, X, y, cv=kf, scoring='f1')\n",
    "print(\"F1 Random Forest (k-fold):\", f1_rf.mean())\n",
    "\n",
    "roc_auc_rf = cross_val_score(rf_clas, X, y, cv=kf, scoring='roc_auc')\n",
    "print(\"Roc Auc Random Forest (k-fold):\", roc_auc_rf.mean())\n",
    "\n",
    "# K-Nearest Neighbors\n",
    "knn_clas = KNeighborsClassifier(n_neighbors=3, weights='distance')\n",
    "accuracy_knn = cross_val_score(knn_clas, X, y, cv=kf, scoring='accuracy')\n",
    "print(\"Accuracy K-Nearest Neighbors (k-fold):\", accuracy_knn.mean())\n",
    "\n",
    "recall_knn = cross_val_score(knn_clas, X, y, cv=kf, scoring=recall_scorer)\n",
    "print(\"Recall K-Nearest Neighbors (k-fold):\", recall_knn.mean())\n",
    "\n",
    "precision_knn = cross_val_score(knn_clas, X, y, cv=kf, scoring=precision_scorer)\n",
    "print(\"Precision K-Nearest Neighbors (k-fold):\", precision_knn.mean())\n",
    "\n",
    "f1_knn = cross_val_score(knn_clas, X, y, cv=kf, scoring='f1')\n",
    "print(\"F1 K-Nearest Neighbors (k-fold):\", f1_knn.mean())"
   ],
   "id": "ee7773ac52304c27",
   "outputs": [
    {
     "name": "stdout",
     "output_type": "stream",
     "text": [
      "Accuracy Logistic Regression (k-fold): 0.8461231963769842\n",
      "Recall Logistic Regression  (k-fold): 0.001690946964538671\n",
      "Precision Logistic Regression (k-fold): 0.41555555555555557\n",
      "F1 Logistic Regression (k-fold): 0.0033664290253320336\n",
      "Roc Auc Logistic Regression (k-fold): 0.6382976846294712\n",
      "Accuracy Random Forest (k-fold): 0.8462628591908204\n",
      "Recall Random Forest (k-fold): 0.0\n"
     ]
    },
    {
     "name": "stderr",
     "output_type": "stream",
     "text": [
      "/home/anne/anaconda3/lib/python3.11/site-packages/sklearn/metrics/_classification.py:1344: UndefinedMetricWarning: Precision is ill-defined and being set to 0.0 due to no predicted samples. Use `zero_division` parameter to control this behavior.\n",
      "  _warn_prf(average, modifier, msg_start, len(result))\n",
      "/home/anne/anaconda3/lib/python3.11/site-packages/sklearn/metrics/_classification.py:1344: UndefinedMetricWarning: Precision is ill-defined and being set to 0.0 due to no predicted samples. Use `zero_division` parameter to control this behavior.\n",
      "  _warn_prf(average, modifier, msg_start, len(result))\n",
      "/home/anne/anaconda3/lib/python3.11/site-packages/sklearn/metrics/_classification.py:1344: UndefinedMetricWarning: Precision is ill-defined and being set to 0.0 due to no predicted samples. Use `zero_division` parameter to control this behavior.\n",
      "  _warn_prf(average, modifier, msg_start, len(result))\n",
      "/home/anne/anaconda3/lib/python3.11/site-packages/sklearn/metrics/_classification.py:1344: UndefinedMetricWarning: Precision is ill-defined and being set to 0.0 due to no predicted samples. Use `zero_division` parameter to control this behavior.\n",
      "  _warn_prf(average, modifier, msg_start, len(result))\n",
      "/home/anne/anaconda3/lib/python3.11/site-packages/sklearn/metrics/_classification.py:1344: UndefinedMetricWarning: Precision is ill-defined and being set to 0.0 due to no predicted samples. Use `zero_division` parameter to control this behavior.\n",
      "  _warn_prf(average, modifier, msg_start, len(result))\n"
     ]
    },
    {
     "name": "stdout",
     "output_type": "stream",
     "text": [
      "Precision Random Forest (k-fold): 0.0\n",
      "F1 Random Forest (k-fold): 0.0\n",
      "Roc Auc Random Forest (k-fold): 0.6697097101013539\n",
      "Accuracy K-Nearest Neighbors (k-fold): 0.8091104764707573\n",
      "Recall K-Nearest Neighbors (k-fold): 0.11347623903069588\n",
      "Precision K-Nearest Neighbors (k-fold): 0.24217967246100125\n",
      "F1 K-Nearest Neighbors (k-fold): 0.15443972821930765\n"
     ]
    }
   ],
   "execution_count": 6
  },
  {
   "metadata": {},
   "cell_type": "markdown",
   "source": "",
   "id": "7c962c60777ae8a1"
  },
  {
   "metadata": {},
   "cell_type": "markdown",
   "source": "",
   "id": "2c38a6fbfebf1983"
  },
  {
   "metadata": {},
   "cell_type": "markdown",
   "source": "",
   "id": "e24426991b4f186e"
  }
 ],
 "metadata": {
  "kernelspec": {
   "display_name": "Python 3",
   "language": "python",
   "name": "python3"
  },
  "language_info": {
   "codemirror_mode": {
    "name": "ipython",
    "version": 2
   },
   "file_extension": ".py",
   "mimetype": "text/x-python",
   "name": "python",
   "nbconvert_exporter": "python",
   "pygments_lexer": "ipython2",
   "version": "2.7.6"
  }
 },
 "nbformat": 4,
 "nbformat_minor": 5
}
