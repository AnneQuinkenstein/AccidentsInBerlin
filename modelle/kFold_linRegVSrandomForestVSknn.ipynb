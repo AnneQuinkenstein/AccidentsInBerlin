{
 "cells": [
  {
   "metadata": {
    "ExecuteTime": {
     "end_time": "2024-06-13T12:24:33.445621Z",
     "start_time": "2024-06-13T12:24:10.436081Z"
    }
   },
   "cell_type": "code",
   "source": [
    "\n",
    "#Standard-Fehler fehlt noch ?\n",
    "import pandas as pd\n",
    "from sklearn.neighbors import KNeighborsClassifier\n",
    "from sklearn.linear_model import LogisticRegression\n",
    "from sklearn.model_selection import KFold, cross_val_score\n",
    "from sklearn.ensemble import RandomForestClassifier\n",
    "\n",
    "df = pd.read_csv('../data/GeneralDatensatz18-21ohneGeo.csv', sep=';')\n",
    "\n",
    "X=df[['UMONAT','USTUNDE','UWOCHENTAG','UART','USTRZUSTAND','BEZ','UTYP1','ULICHTVERH','IstRad','IstPKW','IstFuss','IstKrad','IstGkfz','IstSonstige']]\n",
    "#für tödliche Unfälle\n",
    "y=(df['UKATEGORIE'] == 1).astype(int)\n",
    "\n",
    "\n",
    "# KFold-Konfiguration\n",
    "kf = KFold(n_splits=5, shuffle=True, random_state=42)\n",
    "\n",
    "# Logistische Regression\n",
    "log_reg = LogisticRegression(max_iter=1000)\n",
    "accuracy_log = cross_val_score(log_reg, X, y, cv=kf, scoring='accuracy')\n",
    "print(\"Accuracy Logistic Regression (k-fold):\", accuracy_log.mean())\n",
    "\n",
    "# Random Forest\n",
    "rf_clas = RandomForestClassifier(n_estimators=100, max_depth=20,random_state=42)\n",
    "accuracy_rf = cross_val_score(rf_clas, X, y, cv=kf, scoring='accuracy')\n",
    "print(\"Accuracy Random Forest (k-fold):\", accuracy_rf.mean())\n",
    "\n",
    "# K-Nearest Neighbors\n",
    "knn_clas = KNeighborsClassifier(n_neighbors=3)\n",
    "accuracy_knn = cross_val_score(knn_clas, X, y, cv=kf, scoring='accuracy')\n",
    "print(\"Accuracy K-Nearest Neighbors (k-fold):\", accuracy_knn.mean())\n"
   ],
   "id": "b928bb89b9907bb9",
   "outputs": [
    {
     "name": "stdout",
     "output_type": "stream",
     "text": [
      "Accuracy Logistic Regression (k-fold): 0.9969871131990994\n",
      "Accuracy Random Forest (k-fold): 0.9969073027487696\n",
      "Accuracy K-Nearest Neighbors (k-fold): 0.9968474384414648\n"
     ]
    }
   ],
   "execution_count": 12
  },
  {
   "metadata": {
    "ExecuteTime": {
     "end_time": "2024-06-13T12:25:10.948843Z",
     "start_time": "2024-06-13T12:24:33.452347Z"
    }
   },
   "cell_type": "code",
   "source": [
    "#für leichte vs. tödliche und schwere Unfälle\n",
    "y=(df['UKATEGORIE'] == 3).astype(int)\n",
    "\n",
    "\n",
    "# KFold-Konfiguration\n",
    "kf = KFold(n_splits=5, shuffle=True, random_state=42)\n",
    "\n",
    "# Logistische Regression\n",
    "log_reg = LogisticRegression(max_iter=1000)\n",
    "accuracy_log = cross_val_score(log_reg, X, y, cv=kf, scoring='accuracy')\n",
    "print(\"Accuracy Logistic Regression (k-fold):\", accuracy_log.mean())\n",
    "\n",
    "# Random Forest\n",
    "rf_clas = RandomForestClassifier(n_estimators=100, max_depth=20,random_state=42)\n",
    "accuracy_rf = cross_val_score(rf_clas, X, y, cv=kf, scoring='accuracy')\n",
    "print(\"Accuracy Random Forest (k-fold):\", accuracy_rf.mean())\n",
    "\n",
    "# K-Nearest Neighbors\n",
    "knn_clas = KNeighborsClassifier(n_neighbors=3)\n",
    "accuracy_knn = cross_val_score(knn_clas, X, y, cv=kf, scoring='accuracy')\n",
    "print(\"Accuracy K-Nearest Neighbors (k-fold):\", accuracy_knn.mean())"
   ],
   "id": "ee7773ac52304c27",
   "outputs": [
    {
     "name": "stdout",
     "output_type": "stream",
     "text": [
      "Accuracy Logistic Regression (k-fold): 0.8461431504825414\n",
      "Accuracy Random Forest (k-fold): 0.8409953077594319\n",
      "Accuracy K-Nearest Neighbors (k-fold): 0.8120834371448462\n"
     ]
    }
   ],
   "execution_count": 13
  },
  {
   "metadata": {
    "ExecuteTime": {
     "end_time": "2024-06-13T12:25:10.955237Z",
     "start_time": "2024-06-13T12:25:10.951319Z"
    }
   },
   "cell_type": "code",
   "source": "",
   "id": "c7d0b62202e25aae",
   "outputs": [],
   "execution_count": 13
  }
 ],
 "metadata": {
  "kernelspec": {
   "display_name": "Python 3",
   "language": "python",
   "name": "python3"
  },
  "language_info": {
   "codemirror_mode": {
    "name": "ipython",
    "version": 2
   },
   "file_extension": ".py",
   "mimetype": "text/x-python",
   "name": "python",
   "nbconvert_exporter": "python",
   "pygments_lexer": "ipython2",
   "version": "2.7.6"
  }
 },
 "nbformat": 4,
 "nbformat_minor": 5
}
