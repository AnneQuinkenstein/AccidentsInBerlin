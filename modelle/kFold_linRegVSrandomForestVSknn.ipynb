{
 "cells": [
  {
   "metadata": {
    "ExecuteTime": {
     "end_time": "2024-06-10T19:34:47.292758Z",
     "start_time": "2024-06-10T19:34:29.137988Z"
    }
   },
   "cell_type": "code",
   "source": [
    "import pandas as pd\n",
    "from sklearn.neighbors import KNeighborsClassifier\n",
    "from sklearn.linear_model import LinearRegression\n",
    "from sklearn.model_selection import KFold, cross_val_score\n",
    "from sklearn.ensemble import RandomForestClassifier\n",
    "\n",
    "df = pd.read_csv('../data/GeneralDatensatz18-21ohneGeo.csv', sep=';')\n",
    "\n",
    "X=df[['UMONAT','USTUNDE','UWOCHENTAG','UART','USTRZUSTAND','BEZ','UTYP1','ULICHTVERH','IstRad','IstPKW','IstFuss','IstKrad','IstGkfz','IstSonstige']]\n",
    "#für tödliche Unfälle\n",
    "y=(df['UKATEGORIE'] == 1).astype(int)\n",
    "\n",
    "\n",
    "# KFold-Konfiguration\n",
    "kf = KFold(n_splits=5, shuffle=True, random_state=42)\n",
    "\n",
    "# Lineare Regression\n",
    "lin_reg = LinearRegression()\n",
    "mse_lin = -cross_val_score(lin_reg, X, y, cv=kf, scoring='neg_mean_squared_error')\n",
    "print(\"MSE Linear Regression (k-fold):\", mse_lin.mean())\n",
    "\n",
    "# Random Forest\n",
    "rf_clas = RandomForestClassifier(n_estimators=100, random_state=42)\n",
    "mse_rf = -cross_val_score(rf_clas, X, y, cv=kf, scoring='neg_mean_squared_error')\n",
    "print(\"MSE Random Forest (k-fold):\", mse_rf.mean())\n",
    "\n",
    "# K-Nearest Neighbors\n",
    "knn_clas = KNeighborsClassifier(n_neighbors=3)\n",
    "mse_knn = -cross_val_score(knn_clas, X, y, cv=kf, scoring='neg_mean_squared_error')\n",
    "print(\"MSE K-Nearest Neighbors (k-fold):\", mse_knn.mean())\n"
   ],
   "id": "b928bb89b9907bb9",
   "outputs": [
    {
     "name": "stdout",
     "output_type": "stream",
     "text": [
      "MSE Linear Regression (k-fold): 0.002972959019110112\n",
      "MSE Random Forest (k-fold): 0.0030926972512303904\n",
      "MSE K-Nearest Neighbors (k-fold): 0.003152561558535082\n"
     ]
    }
   ],
   "execution_count": 2
  },
  {
   "metadata": {
    "ExecuteTime": {
     "end_time": "2024-06-10T19:36:51.020594Z",
     "start_time": "2024-06-10T19:36:18.036479Z"
    }
   },
   "cell_type": "code",
   "source": [
    "#für leichte vs. tödliche und schwere Unfälle\n",
    "y=(df['UKATEGORIE'] == 3).astype(int)\n",
    "\n",
    "\n",
    "# KFold-Konfiguration\n",
    "kf = KFold(n_splits=5, shuffle=True, random_state=42)\n",
    "\n",
    "# Lineare Regression\n",
    "lin_reg = LinearRegression()\n",
    "mse_lin = -cross_val_score(lin_reg, X, y, cv=kf, scoring='neg_mean_squared_error')\n",
    "print(\"MSE Linear Regression (k-fold):\", mse_lin.mean())\n",
    "\n",
    "# Random Forest\n",
    "rf_clas = RandomForestClassifier(n_estimators=100, random_state=42)\n",
    "mse_rf = -cross_val_score(rf_clas, X, y, cv=kf, scoring='neg_mean_squared_error')\n",
    "print(\"MSE Random Forest (k-fold):\", mse_rf.mean())\n",
    "\n",
    "# K-Nearest Neighbors\n",
    "knn_clas = KNeighborsClassifier(n_neighbors=3)\n",
    "mse_knn = -cross_val_score(knn_clas, X, y, cv=kf, scoring='neg_mean_squared_error')\n",
    "print(\"MSE K-Nearest Neighbors (k-fold):\", mse_knn.mean())"
   ],
   "id": "ee7773ac52304c27",
   "outputs": [
    {
     "name": "stdout",
     "output_type": "stream",
     "text": [
      "MSE Linear Regression (k-fold): 0.1258192358733779\n",
      "MSE Random Forest (k-fold): 0.16864197780061962\n",
      "MSE K-Nearest Neighbors (k-fold): 0.18791656285515382\n"
     ]
    }
   ],
   "execution_count": 3
  },
  {
   "metadata": {},
   "cell_type": "code",
   "outputs": [],
   "execution_count": null,
   "source": "",
   "id": "c7d0b62202e25aae"
  }
 ],
 "metadata": {
  "kernelspec": {
   "display_name": "Python 3",
   "language": "python",
   "name": "python3"
  },
  "language_info": {
   "codemirror_mode": {
    "name": "ipython",
    "version": 2
   },
   "file_extension": ".py",
   "mimetype": "text/x-python",
   "name": "python",
   "nbconvert_exporter": "python",
   "pygments_lexer": "ipython2",
   "version": "2.7.6"
  }
 },
 "nbformat": 4,
 "nbformat_minor": 5
}
