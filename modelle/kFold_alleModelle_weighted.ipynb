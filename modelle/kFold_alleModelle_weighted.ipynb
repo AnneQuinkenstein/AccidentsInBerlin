{
 "cells": [
  {
   "metadata": {},
   "cell_type": "markdown",
   "source": [
    "\n",
    "\n",
    "Hier sind k-fold cross-validation Scores für die Modelle Logistic Regression, Random Forest und K-Nearest Neighbors wobei die Daten gewichtet wurden. (tödliche bzw tödliche/ schwere Unfälle mit Gewichtung 500)\n",
    "\n",
    "   - tödliche Unfälle vs. nicht tödliche Unfälle\n",
    "\n",
    "alle Modelle haben eine geringe Precision, d.h. viele False Positives, d.h. viele fälschlicherweise als tod klassifiziert werden. Der F1 Score ist dementsprechend auch gering, d.h. das Modell hat Schwierigkeiten die tödlichen Unfälle zu erkennen.\n",
    "\n",
    "   - tödliche und schwere Unfälle vs. leichte Unfälle\n",
    "\n",
    "Der F1 Score ist etwas besser, d.h. das Modell hat weniger Schwierigkeiten die schweren oder tödlichen Unfälle zu erkennen, aber die Scores zeigen immer noch problematiche Precision und Recall Werte.\n",
    "\n",
    "Nächste Schritte:\n",
    "\n",
    "    - Überlegen, ob für den F1 Score Precision, Recall gewichtet werden soll? F1Beta-Score (Beta=1) = 2 * (Precision * Recall) / (Precision + Recall)\n",
    "   -\n"
   ],
   "id": "9c17ff96f164bc4"
  },
  {
   "metadata": {
    "ExecuteTime": {
     "end_time": "2024-06-26T15:29:40.985266Z",
     "start_time": "2024-06-26T15:26:16.105763Z"
    }
   },
   "cell_type": "code",
   "source": [
    "import pandas as pd\n",
    "from sklearn.neighbors import KNeighborsClassifier\n",
    "from sklearn.linear_model import LogisticRegression\n",
    "from sklearn.model_selection import KFold, cross_val_score\n",
    "from sklearn.ensemble import RandomForestClassifier\n",
    "\n",
    "df = pd.read_csv('../data/GeneralDatensatz18-21ohneGeo-mitLockdown_mitCorona.csv', sep=';')\n",
    "\n",
    "X=df[['UMONAT','USTUNDE','UWOCHENTAG','UART','USTRZUSTAND','BEZ','UTYP1','ULICHTVERH','IstRad','IstPKW','IstFuss','IstKrad','IstGkfz','IstSonstige', 'LOCKDOWN', 'COVID']]\n",
    "#für tödliche Unfälle\n",
    "y=(df['UKATEGORIE'] == 1).astype(int)\n",
    "\n",
    "\n",
    "# KFold-Konfiguration\n",
    "kf = KFold(n_splits=5, shuffle=True, random_state=42)\n",
    "\n",
    "# Logistische Regression\n",
    "log_reg = LogisticRegression(max_iter=1000, class_weight={0:1, 1: 500})\n",
    "accuracy_log = cross_val_score(log_reg, X, y, cv=kf, scoring='accuracy')\n",
    "print(\"Accuracy Logistic Regression (k-fold):\", accuracy_log.mean())\n",
    "\n",
    "\n",
    "recall_reg = cross_val_score(log_reg, X, y, cv=kf, scoring='recall')\n",
    "print(\"Recall Logistic Regression  (k-fold):\", recall_reg.mean())\n",
    "\n",
    "precision_reg = cross_val_score(log_reg, X, y, cv=kf, scoring='precision')\n",
    "print(\"Precision Logistic Regression (k-fold):\", precision_reg.mean())\n",
    "\n",
    "f1_reg = cross_val_score(log_reg, X, y, cv=kf, scoring='f1')\n",
    "print(\"F1 Logistic Regression (k-fold):\", f1_reg.mean())\n",
    "\n",
    "roc_auc_reg = cross_val_score(log_reg, X, y, cv=kf, scoring='roc_auc')\n",
    "print(\"Roc Auc Logistic Regression (k-fold):\", roc_auc_reg.mean())\n",
    "\n",
    "\n",
    "# Random Forest\n",
    "rf_clas = RandomForestClassifier(n_estimators=100, max_depth=5,random_state=42, class_weight={0:1, 1: 1000})\n",
    "accuracy_rf = cross_val_score(rf_clas, X, y, cv=kf, scoring='accuracy')\n",
    "print(\"Accuracy Random Forest (k-fold):\", accuracy_rf.mean())\n",
    "\n",
    "recall_rf = cross_val_score(rf_clas, X, y, cv=kf, scoring='recall')\n",
    "print(\"Recall Random Forest (k-fold):\", recall_rf.mean())\n",
    "\n",
    "precision_rf = cross_val_score(rf_clas, X, y, cv=kf, scoring='precision')\n",
    "print(\"Precision Random Forest (k-fold):\", precision_rf.mean())\n",
    "\n",
    "f1_rf = cross_val_score(rf_clas, X, y, cv=kf, scoring='f1')\n",
    "print(\"F1 Random Forest (k-fold):\", f1_rf.mean())\n",
    "\n",
    "roc_auc_rf = cross_val_score(rf_clas, X, y, cv=kf, scoring='roc_auc')\n",
    "print(\"Roc Auc Random Forest (k-fold):\", roc_auc_rf.mean())\n",
    "\n",
    "\n",
    "# K-Nearest Neighbors\n",
    "knn_clas = KNeighborsClassifier(n_neighbors=3, weights='distance')\n",
    "accuracy_knn = cross_val_score(knn_clas, X, y, cv=kf, scoring='accuracy')\n",
    "print(\"Accuracy K-Nearest Neighbors (k-fold):\", accuracy_knn.mean())\n",
    "\n",
    "recall_knn = cross_val_score(knn_clas, X, y, cv=kf, scoring='recall')\n",
    "print(\"Recall K-Nearest Neighbors (k-fold):\", recall_knn.mean())\n",
    "\n",
    "precision_knn = cross_val_score(knn_clas, X, y, cv=kf, scoring='precision')\n",
    "print(\"Precision K-Nearest Neighbors (k-fold):\", precision_knn.mean())\n",
    "\n",
    "f1_knn = cross_val_score(knn_clas, X, y, cv=kf, scoring='f1')\n",
    "print(\"F1 K-Nearest Neighbors (k-fold):\", f1_knn.mean())"
   ],
   "id": "18044ae9a69d39b8",
   "outputs": [
    {
     "name": "stdout",
     "output_type": "stream",
     "text": [
      "Accuracy Logistic Regression (k-fold): 0.7154711302870119\n",
      "Recall Logistic Regression  (k-fold): 0.7700535945276478\n",
      "Precision Logistic Regression (k-fold): 0.00825973665992595\n",
      "F1 Logistic Regression (k-fold): 0.01633222148972382\n",
      "Roc Auc Logistic Regression (k-fold): 0.8090594388855494\n",
      "Accuracy Random Forest (k-fold): 0.7560354878910192\n",
      "Recall Random Forest (k-fold): 0.6910267852764347\n",
      "Precision Random Forest (k-fold): 0.008998802713895197\n",
      "F1 Random Forest (k-fold): 0.017751517831859295\n",
      "Roc Auc Random Forest (k-fold): 0.791631847415896\n",
      "Accuracy K-Nearest Neighbors (k-fold): 0.9968474424227309\n",
      "Recall K-Nearest Neighbors (k-fold): 0.0\n"
     ]
    },
    {
     "name": "stderr",
     "output_type": "stream",
     "text": [
      "/home/kasch/Nextcloud/IKT/venv/lib/python3.12/site-packages/sklearn/metrics/_classification.py:1517: UndefinedMetricWarning: Precision is ill-defined and being set to 0.0 due to no predicted samples. Use `zero_division` parameter to control this behavior.\n",
      "  _warn_prf(average, modifier, f\"{metric.capitalize()} is\", len(result))\n"
     ]
    },
    {
     "name": "stdout",
     "output_type": "stream",
     "text": [
      "Precision K-Nearest Neighbors (k-fold): 0.0\n",
      "F1 K-Nearest Neighbors (k-fold): 0.0\n"
     ]
    }
   ],
   "execution_count": 4
  },
  {
   "metadata": {},
   "cell_type": "markdown",
   "source": [
    "\n",
    "\n",
    "zB Logistische Regression:\n",
    "\n",
    "    Recall: 76 % der tödlich Fälle wurden als tödlich erkannt\n",
    "    Precision: 0,8 % der erkannten tödlich Fälle sind tatsächlich tödlich Fälle ( Precision = tp / (tp + fp) , d.h. wenn es viele False Positive gibt, viele fälschlicherweise als tod klassifiziert werden, dann wird der Nenner klein)\n",
    "\n"
   ],
   "id": "c3304ebe6744a61a"
  },
  {
   "metadata": {
    "ExecuteTime": {
     "end_time": "2024-06-26T15:33:06.000470Z",
     "start_time": "2024-06-26T15:29:40.986810Z"
    }
   },
   "cell_type": "code",
   "source": [
    "#für tödliche und schwere vs. leichte Unfälle\n",
    "y = df['UKATEGORIE'].isin([1, 2]).astype(int)\n",
    "# -> 1 ist schwer oder tödlich, 0 ist leicht\n",
    "\n",
    "# KFold-Konfiguration\n",
    "kf = KFold(n_splits=5, shuffle=True, random_state=42)\n",
    "\n",
    "\n",
    "# Logistische Regression\n",
    "log_reg = LogisticRegression(max_iter=1000, class_weight={0:1, 1: 500})\n",
    "accuracy_log = cross_val_score(log_reg, X, y, cv=kf, scoring='accuracy')\n",
    "print(\"Accuracy Logistic Regression (k-fold):\", accuracy_log.mean())\n",
    "\n",
    "\n",
    "recall_reg = cross_val_score(log_reg, X, y, cv=kf, scoring='recall')\n",
    "print(\"Recall Logistic Regression  (k-fold):\", recall_reg.mean())\n",
    "\n",
    "precision_reg = cross_val_score(log_reg, X, y, cv=kf, scoring='precision')\n",
    "print(\"Precision Logistic Regression (k-fold):\", precision_reg.mean())\n",
    "\n",
    "f1_reg = cross_val_score(log_reg, X, y, cv=kf, scoring='f1')\n",
    "print(\"F1 Logistic Regression (k-fold):\", f1_reg.mean())\n",
    "\n",
    "roc_auc_reg = cross_val_score(log_reg, X, y, cv=kf, scoring='roc_auc')\n",
    "print(\"Roc Auc Logistic Regression (k-fold):\", roc_auc_reg.mean())\n",
    "\n",
    "\n",
    "# Random Forest\n",
    "rf_clas = RandomForestClassifier(n_estimators=100, max_depth=5,random_state=42, class_weight={0:1, 1: 100})\n",
    "accuracy_rf = cross_val_score(rf_clas, X, y, cv=kf, scoring='accuracy')\n",
    "print(\"Accuracy Random Forest (k-fold):\", accuracy_rf.mean())\n",
    "\n",
    "recall_rf = cross_val_score(rf_clas, X, y, cv=kf, scoring='recall')\n",
    "print(\"Recall Random Forest (k-fold):\", recall_rf.mean())\n",
    "\n",
    "precision_rf = cross_val_score(rf_clas, X, y, cv=kf, scoring='precision')\n",
    "print(\"Precision Random Forest (k-fold):\", precision_rf.mean())\n",
    "\n",
    "f1_rf = cross_val_score(rf_clas, X, y, cv=kf, scoring='f1')\n",
    "print(\"F1 Random Forest (k-fold):\", f1_rf.mean())\n",
    "\n",
    "roc_auc_rf = cross_val_score(rf_clas, X, y, cv=kf, scoring='roc_auc')\n",
    "print(\"Roc Auc Random Forest (k-fold):\", roc_auc_rf.mean())\n",
    "\n",
    "\n",
    "# K-Nearest Neighbors\n",
    "knn_clas = KNeighborsClassifier(n_neighbors=3, weights='distance')\n",
    "accuracy_knn = cross_val_score(knn_clas, X, y, cv=kf, scoring='accuracy')\n",
    "print(\"Accuracy K-Nearest Neighbors (k-fold):\", accuracy_knn.mean())\n",
    "\n",
    "recall_knn = cross_val_score(knn_clas, X, y, cv=kf, scoring='recall')\n",
    "print(\"Recall K-Nearest Neighbors (k-fold):\", recall_knn.mean())\n",
    "\n",
    "precision_knn = cross_val_score(knn_clas, X, y, cv=kf, scoring='precision')\n",
    "print(\"Precision K-Nearest Neighbors (k-fold):\", precision_knn.mean())\n",
    "\n",
    "f1_knn = cross_val_score(knn_clas, X, y, cv=kf, scoring='f1')\n",
    "print(\"F1 K-Nearest Neighbors (k-fold):\", f1_knn.mean())"
   ],
   "id": "a0e11be7ad4d7913",
   "outputs": [
    {
     "name": "stdout",
     "output_type": "stream",
     "text": [
      "Accuracy Logistic Regression (k-fold): 0.1537371408091796\n",
      "Recall Logistic Regression  (k-fold): 1.0\n",
      "Precision Logistic Regression (k-fold): 0.1537371408091796\n",
      "F1 Logistic Regression (k-fold): 0.26650076510709847\n",
      "Roc Auc Logistic Regression (k-fold): 0.6400651281561294\n",
      "Accuracy Random Forest (k-fold): 0.1537371408091796\n",
      "Recall Random Forest (k-fold): 1.0\n",
      "Precision Random Forest (k-fold): 0.1537371408091796\n",
      "F1 Random Forest (k-fold): 0.26650076510709847\n",
      "Roc Auc Random Forest (k-fold): 0.661834102835406\n",
      "Accuracy K-Nearest Neighbors (k-fold): 0.8094496544619363\n",
      "Recall K-Nearest Neighbors (k-fold): 0.11450133643685496\n",
      "Precision K-Nearest Neighbors (k-fold): 0.24454579950201505\n",
      "F1 K-Nearest Neighbors (k-fold): 0.15588427406712574\n"
     ]
    }
   ],
   "execution_count": 5
  },
  {
   "metadata": {},
   "cell_type": "markdown",
   "source": [
    "\n",
    "\n",
    "zB Logistische Regression:\n",
    "\n",
    "    Recall: 100 % der schweren/tödlichen Fälle wurden als schweren/tödlichen erkannt\n",
    "    Precision: 15 % der erkannten schweren/tödlichen Fälle sind tatsächlich schweren/tödlichen Fälle\n",
    "    ROC AUC Logistic Regression: Der Wert von etwa 0,6393 zeigt, dass das Modell Logistic Regression eine mäßige Fähigkeit hat, zwischen den Klassen zu unterscheiden.\n",
    "\n"
   ],
   "id": "2fb19440cdf14ea4"
  }
 ],
 "metadata": {
  "kernelspec": {
   "display_name": "Python 3",
   "language": "python",
   "name": "python3"
  },
  "language_info": {
   "codemirror_mode": {
    "name": "ipython",
    "version": 2
   },
   "file_extension": ".py",
   "mimetype": "text/x-python",
   "name": "python",
   "nbconvert_exporter": "python",
   "pygments_lexer": "ipython2",
   "version": "2.7.6"
  }
 },
 "nbformat": 4,
 "nbformat_minor": 5
}
