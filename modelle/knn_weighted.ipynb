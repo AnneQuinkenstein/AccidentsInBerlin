{
 "cells": [
  {
   "metadata": {},
   "cell_type": "markdown",
   "source": [
    "k-nearest neighbors (kNN) neigt bei unausgeglichenen Daten dazu,  die Mehrheitsklasse zu bevorzugen, da er auf der Nähe zu den nächsten Nachbarn basiert. Dagegen hilft: \n",
    "\n",
    "1. **Resampling**: Mehrheitsklasse unterabtasten (Unterabtastung) oder Minderheitsklasse überabtasten (Überabtastung),  z.B. SMOTE (Synthetic Minority Over-sampling Technique) oder Random Oversampling (siehe https://iopscience.iop.org/article/10.1088/1757-899X/719/1/012072/pdf).\n",
    "    - Ergebnis: SMOTE besser als Random Oversampling\n",
    "\n",
    "2. **Gewichtete Distanzen**:  Distanzen in der kNN-Berechnung zu gewichten, Anpassung der `weights` Parameter in der `KNeighborsClassifier` Funktion in scikit-learn erreicht werden. (nicht so effektiv) \n",
    "\n",
    "3. **Anomalieerkennung**: In einigen Fällen kann es sinnvoll sein, das Problem als Anomalieerkennung zu behandeln, bei der die Minderheitsklasse als \"Anomalie\" betrachtet wird. zb Local Outlier Factor (LOF) Er berechnet einen Score, der angibt, wie isoliert ein Punkt im Vergleich zu seiner Umgebung ist. \n",
    "    - Ergebnis: Anomalieerkennung funktioniert nicht so gut. \n"
   ],
   "id": "a60ed139a9fc1951"
  },
  {
   "metadata": {
    "ExecuteTime": {
     "end_time": "2024-06-28T16:41:45.230781Z",
     "start_time": "2024-06-28T16:36:38.218304Z"
    }
   },
   "cell_type": "code",
   "source": [
    "import pandas as pd\n",
    "from sklearn.neighbors import KNeighborsClassifier, LocalOutlierFactor\n",
    "from sklearn.model_selection import KFold\n",
    "from imblearn.over_sampling import SMOTE, RandomOverSampler\n",
    "from sklearn.metrics import fbeta_score\n",
    "from sklearn.ensemble import IsolationForest\n",
    "\n",
    "# Angenommen, Ihre Daten sind in einem DataFrame df\n",
    "df = pd.read_csv('../data/GeneralDatensatz18-21ohneGeo-mitLockdown_mitCorona.csv', sep=';')\n",
    "\n",
    "X = df[['UMONAT','USTUNDE','UWOCHENTAG','UART','USTRZUSTAND','BEZ','UTYP1','ULICHTVERH','IstRad','IstPKW','IstFuss','IstKrad','IstGkfz','IstSonstige', 'LOCKDOWN', 'COVID']]\n",
    "y = df['UKATEGORIE'].isin([1, 2]).astype(int)\n",
    "\n",
    "# Initialisieren Sie KFold\n",
    "kf = KFold(n_splits=3, random_state=42, shuffle=True)\n",
    "\n",
    "# Initialisieren Sie Listen, um die Ergebnisse zu speichern\n",
    "fbeta_scores_SMOTE = []\n",
    "\n",
    "\n",
    "\n",
    "\n",
    "# Loop über jeden Split\n",
    "for train_index, test_index in kf.split(X):\n",
    "    X_train, X_test = X.iloc[train_index], X.iloc[test_index]\n",
    "    y_train, y_test = y.iloc[train_index], y.iloc[test_index]\n",
    "\n",
    "    # Anwendung von SMOTE\n",
    "    sm = SMOTE(random_state=42)\n",
    "    X_res, y_res = sm.fit_resample(X_train, y_train)\n",
    "\n",
    "    # Trainieren Sie den Klassifikator\n",
    "    knn = KNeighborsClassifier(n_neighbors=3, weights='distance')\n",
    "    knn.fit(X_res, y_res)\n",
    "\n",
    "    # Vorhersagen auf den Testdaten machen\n",
    "    y_pred = knn.predict(X_test)\n",
    "\n",
    "    # F-beta-Score berechnen und zur Liste hinzufügen\n",
    "    fbeta = fbeta_score(y_test, y_pred, beta=2)\n",
    "    fbeta_scores_SMOTE.append(fbeta)\n",
    "\n",
    "    # Anwendung von Random OverSampling\n",
    "    ros = RandomOverSampler(random_state=42)\n",
    "    X_res, y_res = ros.fit_resample(X_train, y_train)\n",
    "\n",
    "    # Trainieren Sie den Klassifikator\n",
    "    knn.fit(X_res, y_res)\n",
    "\n",
    "    # Vorhersagen auf den Testdaten machen\n",
    "    y_pred = knn.predict(X_test)\n",
    "\n",
    "    # F-beta-Score berechnen und zur Liste hinzufügen\n",
    "    fbeta = fbeta_score(y_test, y_pred, beta=2)\n",
    "    fbeta_scores_ro.append(fbeta)\n",
    "    \n",
    "     # Führen Sie den LOF Algorithmus auf den Trainingsdaten aus\n",
    "    y_pred_train = lof.fit_predict(X_train)\n",
    "\n",
    "    # Wandle die Vorhersagen in binäre Werte um: -1 wird zu 1 (Anomalie), 1 wird zu 0 (normal)\n",
    "    y_pred_train_binary = (y_pred_train == -1).astype(int)\n",
    "\n",
    "    # Führen Sie den LOF Algorithmus auf den Testdaten aus\n",
    "    y_pred_test = lof.fit_predict(X_test)\n",
    "\n",
    "    # Wandle die Vorhersagen in binäre Werte um: -1 wird zu 1 (Anomalie), 1 wird zu 0 (normal)\n",
    "    y_pred_test_binary = (y_pred_test == -1).astype(int)\n",
    "\n",
    "    # Berechne den F-beta-Score für die Trainingsdaten\n",
    "    fbeta_train = fbeta_score(y_train, y_pred_train_binary, beta=2)\n",
    "\n",
    "    # Berechne den F-beta-Score für die Testdaten\n",
    "    fbeta_test = fbeta_score(y_test, y_pred_test_binary, beta=2)\n",
    "\n",
    "    # Füge den durchschnittlichen F-beta-Score zur Liste hinzu\n",
    "    fbeta_scores_LOF.append((fbeta_train + fbeta_test) / 2)\n",
    "\n",
    "\n",
    "# Durchschnittlichen F-beta-Score über alle Folds ausgeben\n",
    "print(\"Average F-beta score for SMOTE:\", pd.Series(fbeta_scores_SMOTE).mean())\n",
    "print(\"Average F-beta score for random oversampling:\", pd.Series(fbeta_scores_ro).mean())\n",
    "print(f\"Average F-beta score for LOF: {pd.Series(fbeta_scores_LOF).mean()}\")\n",
    "\n"
   ],
   "id": "32af6548174f8ce0",
   "outputs": [
    {
     "name": "stdout",
     "output_type": "stream",
     "text": [
      "Average F-beta score for SMOTE: 0.27417020902581585\n",
      "Average F-beta score for random oversampling: 0.2401041078791355\n",
      "Average F-beta score for LOF: 0.11777800006519033\n"
     ]
    }
   ],
   "execution_count": 1
  },
  {
   "metadata": {},
   "cell_type": "markdown",
   "source": "Erklärung LOC-Code: Die Vorhersagen y_pred sind -1 für Anomalien und 1 für normale Datenpunkte. Diese werden dann in ein binäres Format konvertiert (1 für Anomalien, 0 für normale Datenpunkte), das mit den wahren Labels verglichen werden kann. ",
   "id": "e4d215dcbf2913b1"
  }
 ],
 "metadata": {
  "kernelspec": {
   "display_name": "Python 3",
   "language": "python",
   "name": "python3"
  },
  "language_info": {
   "codemirror_mode": {
    "name": "ipython",
    "version": 2
   },
   "file_extension": ".py",
   "mimetype": "text/x-python",
   "name": "python",
   "nbconvert_exporter": "python",
   "pygments_lexer": "ipython2",
   "version": "2.7.6"
  }
 },
 "nbformat": 4,
 "nbformat_minor": 5
}
