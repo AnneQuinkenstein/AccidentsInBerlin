{
 "cells": [
  {
   "cell_type": "markdown",
   "id": "96051b11-f4bf-43d4-ae96-708b9babdfed",
   "metadata": {},
   "source": [
    "\n",
    "Description: The number of features to consider when looking for the best split.\n",
    "Impact: Controls the randomness of each tree. A lower value can reduce overfitting but may also reduce accuracy.\n",
    "Typical Range: Values like 'auto', 'sqrt', 'log2', or a specific integer.\n",
    "max_features must be in (0, n_features]"
   ]
  },
  {
   "cell_type": "code",
   "execution_count": 1,
   "id": "18044ae9a69d39b8",
   "metadata": {
    "ExecuteTime": {
     "end_time": "2024-07-04T13:05:45.377698Z",
     "start_time": "2024-07-04T13:05:45.297935Z"
    }
   },
   "outputs": [],
   "source": [
    "import pandas as pd\n",
    "import numpy as np\n",
    "from sklearn.model_selection import KFold, cross_val_score\n",
    "from sklearn.ensemble import RandomForestClassifier\n",
    "from sklearn.metrics import make_scorer, fbeta_score\n",
    "\n",
    "\n",
    "df = pd.read_csv('GeneralDatensatz18-21ohneGeo-mitLockdown_mitCorona.csv', sep=';')\n",
    "\n",
    "X=df[['UMONAT','USTUNDE','UWOCHENTAG','UART','USTRZUSTAND','BEZ','UTYP1','ULICHTVERH','IstRad','IstPKW','IstFuss','IstKrad','IstGkfz','IstSonstige', 'LOCKDOWN', 'COVID']]\n",
    "#für tödliche Unfälle\n",
    "\n",
    "# KFold-Konfiguration\n",
    "kf = KFold(n_splits=5, shuffle=True, random_state=42)\n",
    "\n",
    "#für tödliche und schwere vs. leichte Unfälle  -> 1 ist schwer oder tödlich, 0 ist leicht\n",
    "y = df['UKATEGORIE'].isin([1, 2]).astype(int)\n",
    "\n",
    "\n",
    "\n"
   ]
  },
  {
   "cell_type": "markdown",
   "id": "c3304ebe6744a61a",
   "metadata": {},
   "source": []
  },
  {
   "cell_type": "code",
   "execution_count": 2,
   "id": "a0e11be7ad4d7913",
   "metadata": {
    "ExecuteTime": {
     "end_time": "2024-07-04T13:35:49.055935Z",
     "start_time": "2024-07-04T13:05:45.379178Z"
    }
   },
   "outputs": [
    {
     "name": "stdout",
     "output_type": "stream",
     "text": [
      "bester score bei max_feature = 1\n",
      "Fbeta-score mit max-feature = 1: 0.06091002953188866\n",
      "bester score bei max_feature = 2\n",
      "Fbeta-score mit max-feature = 2: 0.06882845444231767\n",
      "bester score bei max_feature = 3\n",
      "Fbeta-score mit max-feature = 3: 0.0724257679042761\n",
      "bester score bei max_feature = 4\n",
      "Fbeta-score mit max-feature = 4: 0.07395594724045755\n",
      "Fbeta-score mit max-feature = 5: 0.07342211178284173\n",
      "bester score bei max_feature = 6\n",
      "Fbeta-score mit max-feature = 6: 0.07535707153188696\n",
      "bester score bei max_feature = 7\n",
      "Fbeta-score mit max-feature = 7: 0.07699202241978817\n",
      "Fbeta-score mit max-feature = 8: 0.07529898572700848\n",
      "bester score bei max_feature = 9\n",
      "Fbeta-score mit max-feature = 9: 0.0782744969124614\n",
      "bester score bei max_feature = 10\n",
      "Fbeta-score mit max-feature = 10: 0.07915377239006911\n",
      "Fbeta-score mit max-feature = 11: 0.0771393464649111\n",
      "bester score bei max_feature = 12\n",
      "Fbeta-score mit max-feature = 12: 0.08088045859139413\n",
      "Fbeta-score mit max-feature = 13: 0.07931747314701829\n",
      "bester score bei max_feature = 14\n",
      "Fbeta-score mit max-feature = 14: 0.08154322795717314\n",
      "Fbeta-score mit max-feature = 15: 0.08026877784259406\n",
      "Fbeta-score mit max-feature = 16: 0.07980081693491928\n",
      "Fbeta-score mit max-feature = 17: nan\n"
     ]
    },
    {
     "name": "stderr",
     "output_type": "stream",
     "text": [
      "/usr/local/miniconda3/envs/py3.10-cuda12.1-tf2.16/lib/python3.10/site-packages/sklearn/model_selection/_validation.py:372: FitFailedWarning: \n",
      "5 fits failed out of a total of 5.\n",
      "The score on these train-test partitions for these parameters will be set to nan.\n",
      "If these failures are not expected, you can try to debug them by setting error_score='raise'.\n",
      "\n",
      "Below are more details about the failures:\n",
      "--------------------------------------------------------------------------------\n",
      "5 fits failed with the following error:\n",
      "Traceback (most recent call last):\n",
      "  File \"/usr/local/miniconda3/envs/py3.10-cuda12.1-tf2.16/lib/python3.10/site-packages/sklearn/model_selection/_validation.py\", line 680, in _fit_and_score\n",
      "    estimator.fit(X_train, y_train, **fit_params)\n",
      "  File \"/usr/local/miniconda3/envs/py3.10-cuda12.1-tf2.16/lib/python3.10/site-packages/sklearn/ensemble/_forest.py\", line 450, in fit\n",
      "    trees = Parallel(\n",
      "  File \"/usr/local/miniconda3/envs/py3.10-cuda12.1-tf2.16/lib/python3.10/site-packages/joblib/parallel.py\", line 1085, in __call__\n",
      "    if self.dispatch_one_batch(iterator):\n",
      "  File \"/usr/local/miniconda3/envs/py3.10-cuda12.1-tf2.16/lib/python3.10/site-packages/joblib/parallel.py\", line 901, in dispatch_one_batch\n",
      "    self._dispatch(tasks)\n",
      "  File \"/usr/local/miniconda3/envs/py3.10-cuda12.1-tf2.16/lib/python3.10/site-packages/joblib/parallel.py\", line 819, in _dispatch\n",
      "    job = self._backend.apply_async(batch, callback=cb)\n",
      "  File \"/usr/local/miniconda3/envs/py3.10-cuda12.1-tf2.16/lib/python3.10/site-packages/joblib/_parallel_backends.py\", line 208, in apply_async\n",
      "    result = ImmediateResult(func)\n",
      "  File \"/usr/local/miniconda3/envs/py3.10-cuda12.1-tf2.16/lib/python3.10/site-packages/joblib/_parallel_backends.py\", line 597, in __init__\n",
      "    self.results = batch()\n",
      "  File \"/usr/local/miniconda3/envs/py3.10-cuda12.1-tf2.16/lib/python3.10/site-packages/joblib/parallel.py\", line 288, in __call__\n",
      "    return [func(*args, **kwargs)\n",
      "  File \"/usr/local/miniconda3/envs/py3.10-cuda12.1-tf2.16/lib/python3.10/site-packages/joblib/parallel.py\", line 288, in <listcomp>\n",
      "    return [func(*args, **kwargs)\n",
      "  File \"/usr/local/miniconda3/envs/py3.10-cuda12.1-tf2.16/lib/python3.10/site-packages/sklearn/utils/fixes.py\", line 216, in __call__\n",
      "    return self.function(*args, **kwargs)\n",
      "  File \"/usr/local/miniconda3/envs/py3.10-cuda12.1-tf2.16/lib/python3.10/site-packages/sklearn/ensemble/_forest.py\", line 185, in _parallel_build_trees\n",
      "    tree.fit(X, y, sample_weight=curr_sample_weight, check_input=False)\n",
      "  File \"/usr/local/miniconda3/envs/py3.10-cuda12.1-tf2.16/lib/python3.10/site-packages/sklearn/tree/_classes.py\", line 937, in fit\n",
      "    super().fit(\n",
      "  File \"/usr/local/miniconda3/envs/py3.10-cuda12.1-tf2.16/lib/python3.10/site-packages/sklearn/tree/_classes.py\", line 308, in fit\n",
      "    raise ValueError(\"max_features must be in (0, n_features]\")\n",
      "ValueError: max_features must be in (0, n_features]\n",
      "\n",
      "  warnings.warn(some_fits_failed_message, FitFailedWarning)\n"
     ]
    },
    {
     "name": "stdout",
     "output_type": "stream",
     "text": [
      "Fbeta-score mit max-feature = auto: 0.07395594724045755\n",
      "Fbeta-score mit max-feature = sqrt: 0.07395594724045755\n",
      "Fbeta-score mit max-feature = log2: 0.07395594724045755\n"
     ]
    }
   ],
   "source": [
    "# erstmal alle Parameter einzeln mit class weight 9 und fbeta mit beta = 2\n",
    "beta = 2\n",
    "fbeta_scorer= make_scorer(fbeta_score, beta=beta)\n",
    "class_weight_optimiert = {0:1, 1: 9}\n",
    "\n",
    "\n",
    "max_index = 0\n",
    "max_score = 0\n",
    "number_trees = []\n",
    "results = []\n",
    "\n",
    "\n",
    "\n",
    "for i in 1, 2, 3, 4, 5, 6, 7, 8, 9, 10, 11, 12, 13, 14, 15, 16, 17, 'auto', 'sqrt', 'log2':\n",
    "    rf_clas = RandomForestClassifier(max_features = i, random_state=42, class_weight=class_weight_optimiert)\n",
    "    result_fbeta = cross_val_score(rf_clas, X, y, cv=kf, scoring=fbeta_scorer)\n",
    "    if result_fbeta.mean() > max_score: \n",
    "        max_index = i\n",
    "        max_score = result_fbeta.mean()\n",
    "        print(f\"bester score bei max_feature = {i}\")\n",
    "    number_trees.append(i)\n",
    "    results.append(result_fbeta.mean())\n",
    "    print(f\"Fbeta-score mit max-feature = {i}:\", result_fbeta.mean())\n",
    "\n",
    "\n",
    "\n"
   ]
  },
  {
   "cell_type": "markdown",
   "id": "2fb19440cdf14ea4",
   "metadata": {},
   "source": [
    "\n",
    "\n",
    "\n",
    "\n"
   ]
  },
  {
   "cell_type": "code",
   "execution_count": 3,
   "id": "aa22ef8aa8942f54",
   "metadata": {
    "ExecuteTime": {
     "end_time": "2024-07-04T13:35:56.421082Z",
     "start_time": "2024-07-04T13:35:55.425887Z"
    }
   },
   "outputs": [
    {
     "name": "stderr",
     "output_type": "stream",
     "text": [
      "No artists with labels found to put in legend.  Note that artists whose label start with an underscore are ignored when legend() is called with no argument.\n"
     ]
    },
    {
     "data": {
      "image/png": "[encoded data removed]",
      "text/plain": [
       "<Figure size 1000x600 with 1 Axes>"
      ]
     },
     "metadata": {},
     "output_type": "display_data"
    }
   ],
   "source": [
    "from matplotlib import pyplot as plt\n",
    "\n",
    "# F1-Scores plotten\n",
    "plt.figure(figsize=(10, 6))\n",
    "plt.plot(number_trees, results)\n",
    "\n",
    "plt.title('Tuning max_features')\n",
    "plt.xlabel('max_features')\n",
    "plt.ylabel('Fbeta-Score')\n",
    "plt.legend()\n",
    "plt.grid(True)\n",
    "plt.show()"
   ]
  },
  {
   "cell_type": "code",
   "execution_count": null,
   "id": "ec9fdc59-6d0f-465c-8bb0-e6c4178d82a9",
   "metadata": {},
   "outputs": [],
   "source": [
    "\n"
   ]
  },
  {
   "cell_type": "code",
   "execution_count": null,
   "id": "d3f50064-5702-4ce9-a3d1-2516daa8286c",
   "metadata": {},
   "outputs": [],
   "source": []
  },
  {
   "cell_type": "code",
   "execution_count": null,
   "id": "7ab29a7b-9755-4718-97fc-1480ff0a35f8",
   "metadata": {},
   "outputs": [],
   "source": []
  },
  {
   "cell_type": "code",
   "execution_count": null,
   "id": "d01904fb-3dd5-48de-8475-cfe8e25fc390",
   "metadata": {},
   "outputs": [],
   "source": []
  }
 ],
 "metadata": {
  "kernelspec": {
   "display_name": "Python 3.10 (Cuda 12.1, Tensorflow 2.16)",
   "language": "python",
   "name": "py3.10-cuda12.1-tf2.16"
  },
  "language_info": {
   "codemirror_mode": {
    "name": "ipython",
    "version": 3
   },
   "file_extension": ".py",
   "mimetype": "text/x-python",
   "name": "python",
   "nbconvert_exporter": "python",
   "pygments_lexer": "ipython3",
   "version": "3.10.14"
  }
 },
 "nbformat": 4,
 "nbformat_minor": 5
}
