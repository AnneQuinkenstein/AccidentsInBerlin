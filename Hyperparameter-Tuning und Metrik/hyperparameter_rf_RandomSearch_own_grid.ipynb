{
 "cells": [
  {
   "cell_type": "code",
   "execution_count": 1,
   "id": "c5249c9c-e94d-465b-bbca-52449cf72f8f",
   "metadata": {},
   "outputs": [],
   "source": [
    "from sklearn.datasets import make_classification\n",
    "\n",
    "from sklearn.model_selection import RandomizedSearchCV, StratifiedKFold\n",
    "from sklearn.ensemble import RandomForestClassifier\n",
    "from scipy.stats import randint\n",
    "import pandas as pd\n",
    "from sklearn.metrics import make_scorer, fbeta_score\n",
    "\n"
   ]
  },
  {
   "cell_type": "code",
   "execution_count": null,
   "id": "b37fe378-9bc2-4341-8056-55c56ad9023c",
   "metadata": {},
   "outputs": [],
   "source": []
  },
  {
   "cell_type": "code",
   "execution_count": 2,
   "id": "dbaf5fe9-73dc-4c6b-8174-d1cb93393147",
   "metadata": {},
   "outputs": [],
   "source": [
    "df = pd.read_csv('GeneralDatensatz18-21ohneGeo-mitLockdown_mitCorona.csv', sep=';')\n",
    "\n",
    "X=df[['UMONAT','USTUNDE','UWOCHENTAG','UART','USTRZUSTAND','BEZ','UTYP1','ULICHTVERH','IstRad','IstPKW','IstFuss','IstKrad','IstGkfz','IstSonstige', 'LOCKDOWN', 'COVID']]\n",
    "#für tödliche Unfälle\n",
    "\n",
    "#für tödliche und schwere vs. leichte Unfälle  -> 1 ist schwer oder tödlich, 0 ist leicht\n",
    "y = df['UKATEGORIE'].isin([1, 2]).astype(int)"
   ]
  },
  {
   "cell_type": "code",
   "execution_count": 3,
   "id": "98d92998-c945-4507-970a-10c00e4efa72",
   "metadata": {},
   "outputs": [],
   "source": [
    "beta = 2\n",
    "fbeta_scorer= make_scorer(fbeta_score, beta=beta)"
   ]
  },
  {
   "cell_type": "code",
   "execution_count": null,
   "id": "036db194-ac2c-403a-af47-215fbad42e0f",
   "metadata": {},
   "outputs": [],
   "source": [
    "param_dist = {\n",
    "    'n_estimators': list(range(100, 500, 4)),\n",
    "    'max_depth': list(range(1, 18)),\n",
    "    'min_samples_split': list(range(100, 500, 4)),\n",
    "    'min_samples_leaf': list(range(2, 100, 3)),\n",
    "    'max_features': ['auto', 'sqrt', 'log2',8, 10, 12, 14, 16],\n",
    "    \n",
    "    'class_weight': [{0:1, 1: 9}]\n",
    "}\n",
    "\n",
    "stratified_kfold = StratifiedKFold(n_splits=5)\n",
    "rf = RandomForestClassifier()\n",
    "random_search = RandomizedSearchCV(estimator=rf, param_distributions=param_dist, n_iter=100, cv=stratified_kfold, scoring=fbeta_scorer)\n",
    "random_search.fit(X, y)\n",
    "best_params = random_search.best_params_"
   ]
  },
  {
   "cell_type": "code",
   "execution_count": null,
   "id": "be89ba68-22ed-4fcd-a023-309196738c75",
   "metadata": {},
   "outputs": [],
   "source": [
    "best_params"
   ]
  }
 ],
 "metadata": {
  "kernelspec": {
   "display_name": "Python 3.10 (Cuda 12.1, Tensorflow 2.16)",
   "language": "python",
   "name": "py3.10-cuda12.1-tf2.16"
  },
  "language_info": {
   "codemirror_mode": {
    "name": "ipython",
    "version": 3
   },
   "file_extension": ".py",
   "mimetype": "text/x-python",
   "name": "python",
   "nbconvert_exporter": "python",
   "pygments_lexer": "ipython3",
   "version": "3.10.14"
  }
 },
 "nbformat": 4,
 "nbformat_minor": 5
}
