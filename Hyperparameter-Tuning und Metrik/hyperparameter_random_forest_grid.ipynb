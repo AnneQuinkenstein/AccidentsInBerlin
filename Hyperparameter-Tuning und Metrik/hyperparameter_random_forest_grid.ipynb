{
 "cells": [
  {
   "cell_type": "code",
   "execution_count": null,
   "id": "40705692-8ce3-4386-b6ef-691fd5b9c681",
   "metadata": {},
   "outputs": [],
   "source": []
  },
  {
   "cell_type": "code",
   "execution_count": null,
   "id": "fd1927a1-e2f5-4a59-904e-fcd4cb32de58",
   "metadata": {},
   "outputs": [],
   "source": [
    "from sklearn.model_selection import GridSearchCV, KFold, cross_val_score\n",
    "from sklearn.ensemble import RandomForestClassifier\n",
    "from sklearn.metrics import make_scorer, fbeta_score\n",
    "import pandas as pd\n",
    "import numpy as np"
   ]
  },
  {
   "cell_type": "code",
   "execution_count": null,
   "id": "553b6742-dd42-4bcd-bce1-1687adb667b5",
   "metadata": {},
   "outputs": [],
   "source": [
    "df = pd.read_csv('GeneralDatensatz18-21ohneGeo-mitLockdown_mitCorona.csv', sep=';')\n",
    "\n",
    "X=df[['UMONAT','USTUNDE','UWOCHENTAG','UART','USTRZUSTAND','BEZ','UTYP1','ULICHTVERH','IstRad','IstPKW','IstFuss','IstKrad','IstGkfz','IstSonstige', 'LOCKDOWN', 'COVID']]\n",
    "#für tödliche Unfälle\n",
    "\n",
    "#für tödliche und schwere vs. leichte Unfälle  -> 1 ist schwer oder tödlich, 0 ist leicht\n",
    "y = df['UKATEGORIE'].isin([1, 2]).astype(int)"
   ]
  },
  {
   "cell_type": "code",
   "execution_count": null,
   "id": "ace203fe-74f9-4acd-ba80-9e21ebf8c3f3",
   "metadata": {},
   "outputs": [],
   "source": [
    "beta = 2\n",
    "fbeta_scorer= make_scorer(fbeta_score, beta=beta)\n"
   ]
  },
  {
   "cell_type": "code",
   "execution_count": null,
   "id": "fb5f3e7b-a387-4a60-83a7-432457156eac",
   "metadata": {},
   "outputs": [],
   "source": [
    "# Stratified K-Fold cross-validation mit 5 folds\n",
    "stratified_kfold = StratifiedKFold(n_splits=5)\n",
    "\n",
    "\n",
    "param_grid = { \n",
    "    'n_estimators': list(range(100, 500, 4)),\n",
    "    'max_depth': list(range(1, 18)),\n",
    "    'min_samples_split': list(range(100, 500, 4)),\n",
    "    'min_samples_leaf': list(range(2, 100, 3)),\n",
    "    'max_features': ['auto', 'sqrt', 'log2',8, 10, 12, 24, 16],\n",
    "    \n",
    "    'class_weight': [{0:1, 1: 9}]\n",
    "}\n",
    "\n",
    "rf = RandomForestClassifier()\n",
    "\n",
    "grid_search = GridSearchCV(estimator=rf, param_grid=param_grid, cv=stratified_kfold, scoring=fbeta_scorer)\n",
    "grid_search.fit(X_train, y_train)\n",
    "best_params = grid_search.best_params_\n"
   ]
  }
 ],
 "metadata": {
  "kernelspec": {
   "display_name": "Python 3.10 (Cuda 12.1, Tensorflow 2.16)",
   "language": "python",
   "name": "py3.10-cuda12.1-tf2.16"
  },
  "language_info": {
   "codemirror_mode": {
    "name": "ipython",
    "version": 3
   },
   "file_extension": ".py",
   "mimetype": "text/x-python",
   "name": "python",
   "nbconvert_exporter": "python",
   "pygments_lexer": "ipython3",
   "version": "3.10.14"
  }
 },
 "nbformat": 4,
 "nbformat_minor": 5
}
