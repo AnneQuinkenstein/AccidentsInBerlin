{
 "cells": [
  {
   "metadata": {
    "jupyter": {
     "is_executing": true
    }
   },
   "cell_type": "code",
   "source": [
    "import pandas as pd\n",
    "from sklearn.linear_model import LogisticRegression\n",
    "from sklearn.model_selection import KFold, cross_val_score\n",
    "from sklearn.ensemble import RandomForestClassifier\n",
    "\n",
    "df = pd.read_csv('../data/GeneralDatensatz18-21ohneGeo-mitLockdown_mitCorona.csv', sep=';')\n",
    "\n",
    "X=df[['UMONAT','USTUNDE','UWOCHENTAG','UART','USTRZUSTAND','BEZ','UTYP1','ULICHTVERH','IstRad','IstPKW','IstFuss','IstKrad','IstGkfz','IstSonstige', 'LOCKDOWN', 'COVID']]\n",
    "\n",
    "#für tödliche und schwere vs. leichte Unfälle\n",
    "y = df['UKATEGORIE'].isin([1, 2]).astype(int)\n",
    "# -> 1 ist schwer oder tödlich, 0 ist leicht\n",
    "\n",
    "# KFold-Konfiguration\n",
    "kf = KFold(n_splits=5, shuffle=True, random_state=42)\n",
    "\n",
    "import matplotlib.pyplot as plt\n",
    "\n",
    "# Leere Listen für F1-Scores\n",
    "f1_scores_log_reg = []\n",
    "f1_scores_rf = []\n",
    "\n",
    "weights = range(0, 1500, 9)\n",
    "\n",
    "for i in weights:\n",
    "    # Logistische Regression\n",
    "    log_reg = LogisticRegression(max_iter=1000, class_weight={0:1, 1: i})\n",
    "\n",
    "    # F1-Score berechnen und speichern\n",
    "    f1_reg = cross_val_score(log_reg, X, y, cv=kf, scoring='f1')\n",
    "    print(f\"Weight: {i} F1 Score Logistische Regression (k-fold): { f1_reg.mean()}\")\n",
    "    \n",
    "    f1_scores_log_reg.append(f1_reg.mean())\n",
    "    \n",
    "\n",
    "    # Random Forest\n",
    "    rf_clas = RandomForestClassifier(n_estimators=100, max_depth=5,random_state=42, class_weight={0:1, 1: i})\n",
    "\n",
    "    # F1-Score berechnen und speichern\n",
    "    f1_rf = cross_val_score(rf_clas, X, y, cv=kf, scoring='f1')\n",
    "    print(f\"Weight: {i} F1 Score Random Forest (k-fold): { f1_rf.mean()}\")\n",
    "\n",
    "    f1_scores_rf.append(f1_rf.mean())\n",
    "    \n",
    "# F1-Scores plotten\n",
    "plt.figure(figsize=(10, 6))\n",
    "plt.plot(weights, f1_scores_log_reg, marker='o', label='Logistic Regression')\n",
    "plt.plot(weights, f1_scores_rf, marker='o', label='Random Forest')\n",
    "plt.title('F1-Scores für verschiedene Gewichte')\n",
    "plt.xlabel('Gewicht')\n",
    "plt.ylabel('F1-Score')\n",
    "plt.legend()\n",
    "plt.grid(True)\n",
    "plt.show()"
   ],
   "id": "14b16b8aa2e581e4",
   "outputs": [],
   "execution_count": null
  }
 ],
 "metadata": {
  "kernelspec": {
   "display_name": "Python 3",
   "language": "python",
   "name": "python3"
  },
  "language_info": {
   "codemirror_mode": {
    "name": "ipython",
    "version": 2
   },
   "file_extension": ".py",
   "mimetype": "text/x-python",
   "name": "python",
   "nbconvert_exporter": "python",
   "pygments_lexer": "ipython2",
   "version": "2.7.6"
  }
 },
 "nbformat": 4,
 "nbformat_minor": 5
}
