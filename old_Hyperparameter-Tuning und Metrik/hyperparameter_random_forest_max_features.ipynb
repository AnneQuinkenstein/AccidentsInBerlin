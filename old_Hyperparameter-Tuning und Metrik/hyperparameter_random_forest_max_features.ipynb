{
 "cells": [
  {
   "cell_type": "markdown",
   "id": "96051b11-f4bf-43d4-ae96-708b9babdfed",
   "metadata": {},
   "source": [
    "\n",
    "Description: The number of features to consider when looking for the best split.\n",
    "Impact: Controls the randomness of each tree. A lower value can reduce overfitting but may also reduce accuracy.\n",
    "Typical Range: Values like 'auto', 'sqrt', 'log2', or a specific integer.\n",
    "max_features must be in (0, n_features]"
   ]
  },
  {
   "cell_type": "code",
   "id": "18044ae9a69d39b8",
   "metadata": {
    "ExecuteTime": {
     "end_time": "2024-09-20T14:42:54.125556Z",
     "start_time": "2024-09-20T14:42:53.829993Z"
    }
   },
   "source": [
    "import pandas as pd\n",
    "import numpy as np\n",
    "from sklearn.model_selection import KFold, cross_val_score\n",
    "from sklearn.ensemble import RandomForestClassifier\n",
    "from sklearn.metrics import make_scorer, fbeta_score\n",
    "\n",
    "\n",
    "df = pd.read_csv('GeneralDatensatz18-21ohneGeo-mitLockdown_mitCorona.csv', sep=';')\n",
    "\n",
    "X=df[['UMONAT','USTUNDE','UWOCHENTAG','UART','USTRZUSTAND','BEZ','UTYP1','ULICHTVERH','IstRad','IstPKW','IstFuss','IstKrad','IstGkfz','IstSonstige', 'LOCKDOWN', 'COVID']]\n",
    "#für tödliche Unfälle\n",
    "\n",
    "# KFold-Konfiguration\n",
    "kf = KFold(n_splits=5, shuffle=True, random_state=42)\n",
    "\n",
    "#für tödliche und schwere vs. leichte Unfälle  -> 1 ist schwer oder tödlich, 0 ist leicht\n",
    "y = df['UKATEGORIE'].isin([1, 2]).astype(int)\n",
    "\n",
    "\n",
    "\n"
   ],
   "outputs": [],
   "execution_count": 3
  },
  {
   "cell_type": "markdown",
   "id": "c3304ebe6744a61a",
   "metadata": {},
   "source": []
  },
  {
   "cell_type": "code",
   "id": "a0e11be7ad4d7913",
   "metadata": {
    "ExecuteTime": {
     "end_time": "2024-09-20T14:43:24.359889Z",
     "start_time": "2024-09-20T14:42:54.142832Z"
    }
   },
   "source": [
    "# erstmal alle Parameter einzeln mit class weight 9 und fbeta mit beta = 2\n",
    "beta = 2\n",
    "fbeta_scorer= make_scorer(fbeta_score, beta=beta)\n",
    "class_weight_optimiert = {0:1, 1: 9}\n",
    "\n",
    "\n",
    "max_index = 0\n",
    "max_score = 0\n",
    "number_trees = []\n",
    "results = []\n",
    "\n",
    "\n",
    "\n",
    "for i in 1, 2, 3, 4, 5, 6, 7, 8, 9, 10, 11, 12, 13, 14, 15, 16, 17, 'auto', 'sqrt', 'log2':\n",
    "    rf_clas = RandomForestClassifier(max_features = i, random_state=42, class_weight=class_weight_optimiert)\n",
    "    result_fbeta = cross_val_score(rf_clas, X, y, cv=kf, scoring=fbeta_scorer)\n",
    "    if result_fbetagit  > max_score: \n",
    "        max_index = i\n",
    "        max_score = result_fbeta.mean()\n",
    "        print(f\"bester score bei max_feature = {i}\")\n",
    "    number_trees.append(i)\n",
    "    results.append(result_fbeta.mean())\n",
    "    print(f\"Fbeta-score mit max-feature = {i}:\", result_fbeta.mean())\n",
    "\n",
    "\n",
    "\n"
   ],
   "outputs": [
    {
     "ename": "ValueError",
     "evalue": "The truth value of an array with more than one element is ambiguous. Use a.any() or a.all()",
     "output_type": "error",
     "traceback": [
      "\u001B[0;31m---------------------------------------------------------------------------\u001B[0m",
      "\u001B[0;31mValueError\u001B[0m                                Traceback (most recent call last)",
      "Cell \u001B[0;32mIn[4], line 17\u001B[0m\n\u001B[1;32m     15\u001B[0m rf_clas \u001B[38;5;241m=\u001B[39m RandomForestClassifier(max_features \u001B[38;5;241m=\u001B[39m i, random_state\u001B[38;5;241m=\u001B[39m\u001B[38;5;241m42\u001B[39m, class_weight\u001B[38;5;241m=\u001B[39mclass_weight_optimiert)\n\u001B[1;32m     16\u001B[0m result_fbeta \u001B[38;5;241m=\u001B[39m cross_val_score(rf_clas, X, y, cv\u001B[38;5;241m=\u001B[39mkf, scoring\u001B[38;5;241m=\u001B[39mfbeta_scorer)\n\u001B[0;32m---> 17\u001B[0m \u001B[38;5;28;01mif\u001B[39;00m result_fbeta \u001B[38;5;241m>\u001B[39m max_score: \n\u001B[1;32m     18\u001B[0m     max_index \u001B[38;5;241m=\u001B[39m i\n\u001B[1;32m     19\u001B[0m     max_score \u001B[38;5;241m=\u001B[39m result_fbeta\n",
      "\u001B[0;31mValueError\u001B[0m: The truth value of an array with more than one element is ambiguous. Use a.any() or a.all()"
     ]
    }
   ],
   "execution_count": 4
  },
  {
   "cell_type": "markdown",
   "id": "2fb19440cdf14ea4",
   "metadata": {},
   "source": [
    "\n",
    "\n",
    "\n",
    "\n"
   ]
  },
  {
   "cell_type": "code",
   "id": "aa22ef8aa8942f54",
   "metadata": {
    "ExecuteTime": {
     "end_time": "2024-09-20T14:43:24.366321Z",
     "start_time": "2024-09-20T14:43:24.365442Z"
    }
   },
   "source": [
    "from matplotlib import pyplot as plt\n",
    "\n",
    "# F1-Scores plotten\n",
    "plt.figure(figsize=(10, 6))\n",
    "plt.plot(number_trees, results)\n",
    "\n",
    "plt.title('Tuning max_features')\n",
    "plt.xlabel('max_features')\n",
    "plt.ylabel('Fbeta-Score')\n",
    "plt.legend()\n",
    "plt.grid(True)\n",
    "plt.show()"
   ],
   "outputs": [],
   "execution_count": null
  },
  {
   "cell_type": "code",
   "id": "ec9fdc59-6d0f-465c-8bb0-e6c4178d82a9",
   "metadata": {},
   "source": [
    "\n"
   ],
   "outputs": [],
   "execution_count": null
  },
  {
   "cell_type": "code",
   "id": "d3f50064-5702-4ce9-a3d1-2516daa8286c",
   "metadata": {},
   "source": [],
   "outputs": [],
   "execution_count": null
  },
  {
   "cell_type": "code",
   "id": "7ab29a7b-9755-4718-97fc-1480ff0a35f8",
   "metadata": {},
   "source": [],
   "outputs": [],
   "execution_count": null
  },
  {
   "cell_type": "code",
   "id": "d01904fb-3dd5-48de-8475-cfe8e25fc390",
   "metadata": {},
   "source": [],
   "outputs": [],
   "execution_count": null
  }
 ],
 "metadata": {
  "kernelspec": {
   "display_name": "Python 3 (ipykernel)",
   "language": "python",
   "name": "python3"
  },
  "language_info": {
   "codemirror_mode": {
    "name": "ipython",
    "version": 3
   },
   "file_extension": ".py",
   "mimetype": "text/x-python",
   "name": "python",
   "nbconvert_exporter": "python",
   "pygments_lexer": "ipython3",
   "version": "3.10.14"
  }
 },
 "nbformat": 4,
 "nbformat_minor": 5
}
