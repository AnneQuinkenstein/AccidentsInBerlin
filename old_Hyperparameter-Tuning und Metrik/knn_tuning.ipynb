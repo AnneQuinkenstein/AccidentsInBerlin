{
 "cells": [
  {
   "cell_type": "code",
   "id": "18044ae9a69d39b8",
   "metadata": {
    "ExecuteTime": {
     "end_time": "2024-09-04T14:24:39.855533Z",
     "start_time": "2024-09-04T12:00:52.373324Z"
    }
   },
   "source": [
    "import pandas as pd\n",
    "from sklearn.neighbors import KNeighborsClassifier\n",
    "from sklearn.model_selection import StratifiedKFold, train_test_split, cross_val_score\n",
    "from imblearn.over_sampling import SMOTE\n",
    "from sklearn.metrics import fbeta_score, make_scorer\n",
    "\n",
    "train_data_loaded = pd.read_csv('../data/train_data_2024-08-01.csv')\n",
    "X = train_data_loaded.drop(columns=['UKATEGORIE'])\n",
    "y = train_data_loaded['UKATEGORIE']\n",
    "\n",
    "X_train, X_test, y_train, y_test = train_test_split(X, y, test_size=0.2, random_state=42)\n",
    "\n",
    "sf = StratifiedKFold(n_splits=5, random_state=42, shuffle=True)\n",
    "\n",
    "beta = 2\n",
    "fbeta_scorer = make_scorer(fbeta_score, beta=beta)\n",
    "\n",
    "\n",
    "for i in range(1, 20):\n",
    "    fbeta_scores_SMOTE = []\n",
    "    # Loop über jeden Split\n",
    "    for train_index, test_index in sf.split(X, y):\n",
    "        X_train, X_test = X.iloc[train_index], X.iloc[test_index]\n",
    "        y_train, y_test = y.iloc[train_index], y.iloc[test_index]\n",
    "    \n",
    "        # Anwendung von SMOTE\n",
    "        sm = SMOTE(random_state=42)\n",
    "        X_res, y_res = sm.fit_resample(X_train, y_train)\n",
    "    \n",
    "        # Trainieren Sie den Klassifikator\n",
    "        knn = KNeighborsClassifier(n_neighbors=i, weights='distance', p=1)\n",
    "        knn.fit(X_res, y_res)\n",
    "    \n",
    "        # Vorhersagen auf den Testdaten machen\n",
    "        y_pred = knn.predict(X_test)\n",
    "        y_pred_train = knn.predict(X_train)\n",
    "    \n",
    "        # F-beta-Score berechnen und zur Liste hinzufügen\n",
    "        fbeta = cross_val_score(knn, X, y, scoring=fbeta_scorer)\n",
    "        fbeta_scores_SMOTE.append(fbeta)\n",
    "    \n",
    "        \n",
    "    # print(f\"SMOTE fbeta scores für {i} neighbors (Train und Test): \", fbeta_train, fbeta_test)\n",
    "\n",
    "# Durchschnittlichen F-beta-Score über alle Folds ausgeben\n",
    "    print(f\"Average F-beta score for {i} neighbors:\" , pd.Series(fbeta_scores_SMOTE).mean())\n",
    "\n",
    "\n",
    "\n"
   ],
   "outputs": [
    {
     "name": "stdout",
     "output_type": "stream",
     "text": [
      "Average F-beta score for 1 neighbors: [0.19562716 0.18277622 0.18039539 0.20551297 0.19331586]\n",
      "Average F-beta score for 2 neighbors: [0.13420449 0.13015761 0.12890694 0.14700735 0.14263074]\n",
      "Average F-beta score for 3 neighbors: [0.13243832 0.11764706 0.12068966 0.1345737  0.11733673]\n",
      "Average F-beta score for 4 neighbors: [0.10752688 0.10843373 0.09535271 0.12181617 0.11464497]\n",
      "Average F-beta score for 5 neighbors: [0.08915023 0.08679245 0.08970727 0.09900057 0.08773585]\n",
      "Average F-beta score for 6 neighbors: [0.08498854 0.08392142 0.08285714 0.08955793 0.08195159]\n",
      "Average F-beta score for 7 neighbors: [0.07361488 0.07239382 0.07795958 0.07807981 0.06759367]\n",
      "Average F-beta score for 8 neighbors: [0.06418985 0.0669383  0.06214799 0.07469926 0.05932698]\n",
      "Average F-beta score for 9 neighbors: [0.05883507 0.05780913 0.05481597 0.05768479 0.05753852]\n",
      "Average F-beta score for 10 neighbors: [0.04919323 0.05775255 0.05011792 0.05494505 0.05300353]\n",
      "Average F-beta score for 11 neighbors: [0.03862151 0.0492126  0.04947556 0.05025621 0.05011792]\n",
      "Average F-beta score for 12 neighbors: [0.03866746 0.04540071 0.04164188 0.04639684 0.03754941]\n",
      "Average F-beta score for 13 neighbors: [0.03577818 0.0386828  0.0368086  0.04649782 0.04147738]\n",
      "Average F-beta score for 14 neighbors: [0.0348675  0.03378378 0.02988643 0.03765359 0.03275109]\n",
      "Average F-beta score for 15 neighbors: [0.03091961 0.03584943 0.02994012 0.03972984 0.03079674]\n",
      "Average F-beta score for 16 neighbors: [0.02997602 0.02791625 0.02797203 0.03288163 0.02390438]\n",
      "Average F-beta score for 17 neighbors: [0.02798321 0.02794969 0.025005   0.03093812 0.02494014]\n",
      "Average F-beta score for 18 neighbors: [0.03296045 0.02499    0.0260052  0.02897682 0.02596884]\n",
      "Average F-beta score for 19 neighbors: [0.028      0.0239952  0.02403365 0.031      0.02597922]\n"
     ]
    }
   ],
   "execution_count": 4
  },
  {
   "cell_type": "markdown",
   "id": "c3304ebe6744a61a",
   "metadata": {},
   "source": [
    "\n"
   ]
  },
  {
   "metadata": {},
   "cell_type": "markdown",
   "source": "",
   "id": "21820d4525f34fa3"
  },
  {
   "cell_type": "code",
   "id": "a0e11be7ad4d7913",
   "metadata": {
    "ExecuteTime": {
     "end_time": "2024-09-04T17:03:22.079053Z",
     "start_time": "2024-09-04T15:27:34.096125Z"
    }
   },
   "source": [
    "# für leaf_size\n",
    "\n",
    "for i in range(1, 200, 20):\n",
    "    fbeta_scores_SMOTE_leaf = []\n",
    "    # Loop über jeden Split\n",
    "    for train_index, test_index in sf.split(X, y):\n",
    "        X_train, X_test = X.iloc[train_index], X.iloc[test_index]\n",
    "        y_train, y_test = y.iloc[train_index], y.iloc[test_index]\n",
    "    \n",
    "        # Anwendung von SMOTE\n",
    "        sm = SMOTE(random_state=42)\n",
    "        X_res, y_res = sm.fit_resample(X_train, y_train)\n",
    "    \n",
    "        # Trainieren Sie den Klassifikator\n",
    "        knn = KNeighborsClassifier(leaf_size=i, weights='distance', p=1)\n",
    "        knn.fit(X_res, y_res)\n",
    "    \n",
    "        # Vorhersagen auf den Testdaten machen\n",
    "        y_pred = knn.predict(X_test)\n",
    "        y_pred_train = knn.predict(X_train)\n",
    "    \n",
    "        # F-beta-Score berechnen und zur Liste hinzufügen\n",
    "        fbeta = fbeta_score(y_test, y_pred, beta=2)\n",
    "        fbeta_scores_SMOTE_leaf.append(fbeta)\n",
    "    \n",
    "        \n",
    "    # print(f\"SMOTE fbeta scores für {i} neighbors (Train und Test): \", fbeta_train, fbeta_test)\n",
    "\n",
    "# Durchschnittlichen F-beta-Score über alle Folds ausgeben\n",
    "    print(f\"Average F-beta score for leaf_size = {i}: \" , pd.Series(fbeta_scores_SMOTE_leaf).mean())\n",
    "\n"
   ],
   "outputs": [
    {
     "name": "stdout",
     "output_type": "stream",
     "text": [
      "Average F-beta score for leaf_size = 1:  0.3203308512923251\n",
      "Average F-beta score for leaf_size = 21:  0.3203308512923251\n",
      "Average F-beta score for leaf_size = 41:  0.3203308512923251\n",
      "Average F-beta score for leaf_size = 61:  0.3203308512923251\n",
      "Average F-beta score for leaf_size = 81:  0.3203308512923251\n",
      "Average F-beta score for leaf_size = 101:  0.3203308512923251\n",
      "Average F-beta score for leaf_size = 121:  0.3203308512923251\n",
      "Average F-beta score for leaf_size = 141:  0.3203308512923251\n",
      "Average F-beta score for leaf_size = 161:  0.3203308512923251\n",
      "Average F-beta score for leaf_size = 181:  0.3203308512923251\n"
     ]
    }
   ],
   "execution_count": 6
  },
  {
   "metadata": {},
   "cell_type": "code",
   "outputs": [],
   "execution_count": null,
   "source": "",
   "id": "6cc200788bda9753"
  }
 ],
 "metadata": {
  "kernelspec": {
   "display_name": "Python 3 (ipykernel)",
   "language": "python",
   "name": "python3"
  },
  "language_info": {
   "codemirror_mode": {
    "name": "ipython",
    "version": 3
   },
   "file_extension": ".py",
   "mimetype": "text/x-python",
   "name": "python",
   "nbconvert_exporter": "python",
   "pygments_lexer": "ipython3",
   "version": "3.10.14"
  }
 },
 "nbformat": 4,
 "nbformat_minor": 5
}
