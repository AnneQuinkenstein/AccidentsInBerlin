{
 "cells": [
  {
   "cell_type": "markdown",
   "id": "0ea2a960-eb8a-4339-a740-4d2dee5608c9",
   "metadata": {},
   "source": [
    "\n",
    "Description: The minimum number of samples required to be at a leaf node.\n",
    "Impact: Helps prevent overfitting, especially in the context of imbalanced datasets.\n",
    "Typical Range: Values like 1, 2, 4, 10."
   ]
  },
  {
   "cell_type": "code",
   "execution_count": 1,
   "id": "18044ae9a69d39b8",
   "metadata": {
    "ExecuteTime": {
     "end_time": "2024-07-04T13:05:45.377698Z",
     "start_time": "2024-07-04T13:05:45.297935Z"
    }
   },
   "outputs": [],
   "source": [
    "import pandas as pd\n",
    "import numpy as np\n",
    "from sklearn.model_selection import KFold, cross_val_score\n",
    "from sklearn.ensemble import RandomForestClassifier\n",
    "from sklearn.metrics import make_scorer, fbeta_score\n",
    "\n",
    "\n",
    "df = pd.read_csv('GeneralDatensatz18-21ohneGeo-mitLockdown_mitCorona.csv', sep=';')\n",
    "\n",
    "X=df[['UMONAT','USTUNDE','UWOCHENTAG','UART','USTRZUSTAND','BEZ','UTYP1','ULICHTVERH','IstRad','IstPKW','IstFuss','IstKrad','IstGkfz','IstSonstige', 'LOCKDOWN', 'COVID']]\n",
    "#für tödliche Unfälle\n",
    "\n",
    "# KFold-Konfiguration\n",
    "kf = KFold(n_splits=5, shuffle=True, random_state=42)\n",
    "\n",
    "#für tödliche und schwere vs. leichte Unfälle  -> 1 ist schwer oder tödlich, 0 ist leicht\n",
    "y = df['UKATEGORIE'].isin([1, 2]).astype(int)\n",
    "\n",
    "\n",
    "\n"
   ]
  },
  {
   "cell_type": "markdown",
   "id": "c3304ebe6744a61a",
   "metadata": {},
   "source": []
  },
  {
   "cell_type": "code",
   "execution_count": 2,
   "id": "a0e11be7ad4d7913",
   "metadata": {
    "ExecuteTime": {
     "end_time": "2024-07-04T13:35:49.055935Z",
     "start_time": "2024-07-04T13:05:45.379178Z"
    }
   },
   "outputs": [
    {
     "name": "stdout",
     "output_type": "stream",
     "text": [
      "bester score bei min_samples_leaf = 1\n",
      "Fbeta-score mit min_samples_leaf = 1: 0.07395594724045755\n",
      "bester score bei min_samples_leaf = 2\n",
      "Fbeta-score mit min_samples_leaf = 2: 0.23244825180126077\n",
      "bester score bei min_samples_leaf = 3\n",
      "Fbeta-score mit min_samples_leaf = 3: 0.32138805917765584\n",
      "bester score bei min_samples_leaf = 4\n",
      "Fbeta-score mit min_samples_leaf = 4: 0.37154431795734116\n",
      "bester score bei min_samples_leaf = 5\n",
      "Fbeta-score mit min_samples_leaf = 5: 0.40147139541967425\n",
      "bester score bei min_samples_leaf = 6\n",
      "Fbeta-score mit min_samples_leaf = 6: 0.4253312498766917\n",
      "bester score bei min_samples_leaf = 7\n",
      "Fbeta-score mit min_samples_leaf = 7: 0.4377359459025718\n",
      "bester score bei min_samples_leaf = 8\n",
      "Fbeta-score mit min_samples_leaf = 8: 0.4517765478203519\n",
      "bester score bei min_samples_leaf = 9\n",
      "Fbeta-score mit min_samples_leaf = 9: 0.4611478016779239\n",
      "bester score bei min_samples_leaf = 10\n",
      "Fbeta-score mit min_samples_leaf = 10: 0.4684663471774441\n",
      "bester score bei min_samples_leaf = 11\n",
      "Fbeta-score mit min_samples_leaf = 11: 0.4722751869881533\n",
      "bester score bei min_samples_leaf = 12\n",
      "Fbeta-score mit min_samples_leaf = 12: 0.4775437860294269\n",
      "bester score bei min_samples_leaf = 13\n",
      "Fbeta-score mit min_samples_leaf = 13: 0.4828016593626381\n",
      "bester score bei min_samples_leaf = 14\n",
      "Fbeta-score mit min_samples_leaf = 14: 0.48382464854160245\n",
      "bester score bei min_samples_leaf = 15\n",
      "Fbeta-score mit min_samples_leaf = 15: 0.48636389732530494\n",
      "bester score bei min_samples_leaf = 16\n",
      "Fbeta-score mit min_samples_leaf = 16: 0.487993845413775\n",
      "bester score bei min_samples_leaf = 17\n",
      "Fbeta-score mit min_samples_leaf = 17: 0.4898919296480993\n",
      "bester score bei min_samples_leaf = 18\n",
      "Fbeta-score mit min_samples_leaf = 18: 0.4926545505550134\n",
      "bester score bei min_samples_leaf = 19\n",
      "Fbeta-score mit min_samples_leaf = 19: 0.49332678317635725\n",
      "bester score bei min_samples_leaf = 20\n",
      "Fbeta-score mit min_samples_leaf = 20: 0.4943689190534137\n",
      "bester score bei min_samples_leaf = 21\n",
      "Fbeta-score mit min_samples_leaf = 21: 0.4945219005404173\n",
      "Fbeta-score mit min_samples_leaf = 22: 0.4941678843897973\n",
      "bester score bei min_samples_leaf = 23\n",
      "Fbeta-score mit min_samples_leaf = 23: 0.4981764673306238\n",
      "Fbeta-score mit min_samples_leaf = 24: 0.49760750266593046\n",
      "bester score bei min_samples_leaf = 25\n",
      "Fbeta-score mit min_samples_leaf = 25: 0.49967180275878204\n",
      "bester score bei min_samples_leaf = 26\n",
      "Fbeta-score mit min_samples_leaf = 26: 0.5002437455315301\n",
      "Fbeta-score mit min_samples_leaf = 27: 0.49898511634549403\n",
      "Fbeta-score mit min_samples_leaf = 28: 0.4989431329137649\n",
      "bester score bei min_samples_leaf = 29\n",
      "Fbeta-score mit min_samples_leaf = 29: 0.5022509482282896\n",
      "Fbeta-score mit min_samples_leaf = 30: 0.49980861799927173\n",
      "Fbeta-score mit min_samples_leaf = 31: 0.5016650897329609\n",
      "Fbeta-score mit min_samples_leaf = 32: 0.5011431744398491\n",
      "Fbeta-score mit min_samples_leaf = 33: 0.5018017279877847\n",
      "bester score bei min_samples_leaf = 34\n",
      "Fbeta-score mit min_samples_leaf = 34: 0.502844822016512\n",
      "bester score bei min_samples_leaf = 35\n",
      "Fbeta-score mit min_samples_leaf = 35: 0.5032809760668876\n",
      "Fbeta-score mit min_samples_leaf = 36: 0.5028849268082952\n",
      "Fbeta-score mit min_samples_leaf = 37: 0.502275677613476\n",
      "bester score bei min_samples_leaf = 38\n",
      "Fbeta-score mit min_samples_leaf = 38: 0.5034676310320143\n",
      "bester score bei min_samples_leaf = 39\n",
      "Fbeta-score mit min_samples_leaf = 39: 0.5039936780106073\n",
      "bester score bei min_samples_leaf = 40\n",
      "Fbeta-score mit min_samples_leaf = 40: 0.5055785828860757\n",
      "Fbeta-score mit min_samples_leaf = 41: 0.5050751986598236\n",
      "Fbeta-score mit min_samples_leaf = 42: 0.5053363668439962\n",
      "bester score bei min_samples_leaf = 43\n",
      "Fbeta-score mit min_samples_leaf = 43: 0.5061773944131962\n",
      "Fbeta-score mit min_samples_leaf = 44: 0.5044743967054777\n",
      "Fbeta-score mit min_samples_leaf = 45: 0.504277065378641\n",
      "Fbeta-score mit min_samples_leaf = 46: 0.5052536380778466\n",
      "bester score bei min_samples_leaf = 47\n",
      "Fbeta-score mit min_samples_leaf = 47: 0.5067155023705185\n",
      "Fbeta-score mit min_samples_leaf = 48: 0.5057266370058092\n",
      "Fbeta-score mit min_samples_leaf = 49: 0.5036830801759754\n",
      "Fbeta-score mit min_samples_leaf = 50: 0.5045943300348497\n",
      "Fbeta-score mit min_samples_leaf = 51: 0.5040449167062311\n",
      "Fbeta-score mit min_samples_leaf = 52: 0.5041592560487763\n",
      "Fbeta-score mit min_samples_leaf = 53: 0.5057926313503367\n",
      "Fbeta-score mit min_samples_leaf = 54: 0.5063895134064585\n",
      "Fbeta-score mit min_samples_leaf = 55: 0.5054893354966683\n",
      "Fbeta-score mit min_samples_leaf = 56: 0.5044868709362105\n",
      "Fbeta-score mit min_samples_leaf = 57: 0.505483058013671\n",
      "bester score bei min_samples_leaf = 58\n",
      "Fbeta-score mit min_samples_leaf = 58: 0.5079648631572511\n",
      "Fbeta-score mit min_samples_leaf = 59: 0.5066928280737304\n",
      "Fbeta-score mit min_samples_leaf = 60: 0.5051330812362902\n",
      "Fbeta-score mit min_samples_leaf = 61: 0.5053114628036246\n",
      "Fbeta-score mit min_samples_leaf = 62: 0.5059983238672243\n",
      "Fbeta-score mit min_samples_leaf = 63: 0.5062712402030629\n",
      "Fbeta-score mit min_samples_leaf = 64: 0.5061701621142772\n",
      "Fbeta-score mit min_samples_leaf = 65: 0.5063398954009524\n",
      "Fbeta-score mit min_samples_leaf = 66: 0.5071017147747435\n",
      "Fbeta-score mit min_samples_leaf = 67: 0.5059356889979741\n",
      "Fbeta-score mit min_samples_leaf = 68: 0.5072299561774477\n",
      "Fbeta-score mit min_samples_leaf = 69: 0.5068607074779782\n",
      "Fbeta-score mit min_samples_leaf = 70: 0.5060140654252923\n",
      "Fbeta-score mit min_samples_leaf = 71: 0.5076169520695559\n",
      "Fbeta-score mit min_samples_leaf = 72: 0.5069743932882617\n",
      "Fbeta-score mit min_samples_leaf = 73: 0.5060059757653942\n",
      "Fbeta-score mit min_samples_leaf = 74: 0.506638525921687\n",
      "Fbeta-score mit min_samples_leaf = 75: 0.5066020226872061\n",
      "Fbeta-score mit min_samples_leaf = 76: 0.5059016861524024\n",
      "Fbeta-score mit min_samples_leaf = 77: 0.5071645876499131\n",
      "Fbeta-score mit min_samples_leaf = 78: 0.5069495788760134\n",
      "Fbeta-score mit min_samples_leaf = 79: 0.5069989941955514\n"
     ]
    }
   ],
   "source": [
    "# erstmal alle Parameter einzeln mit class weight 9 und fbeta mit beta = 2\n",
    "beta = 2\n",
    "fbeta_scorer= make_scorer(fbeta_score, beta=beta)\n",
    "class_weight_optimiert = {0:1, 1: 9}\n",
    "\n",
    "\n",
    "max_index = 0\n",
    "max_score = 0\n",
    "number_trees = []\n",
    "results = []\n",
    "\n",
    "\n",
    "\n",
    "for i in range (1, 80):\n",
    "    rf_clas = RandomForestClassifier(min_samples_leaf = i, random_state=42, class_weight=class_weight_optimiert)\n",
    "    result_fbeta = cross_val_score(rf_clas, X, y, cv=kf, scoring=fbeta_scorer)\n",
    "    if result_fbeta.mean() > max_score: \n",
    "        max_index = i\n",
    "        max_score = result_fbeta.mean()\n",
    "        print(f\"bester score bei min_samples_leaf = {i}\")\n",
    "    number_trees.append(i)\n",
    "    results.append(result_fbeta.mean())\n",
    "    print(f\"Fbeta-score mit min_samples_leaf = {i}:\", result_fbeta.mean())\n",
    "\n",
    "\n",
    "\n"
   ]
  },
  {
   "cell_type": "markdown",
   "id": "2fb19440cdf14ea4",
   "metadata": {},
   "source": [
    "\n",
    "\n",
    "\n",
    "\n"
   ]
  },
  {
   "cell_type": "code",
   "execution_count": 3,
   "id": "aa22ef8aa8942f54",
   "metadata": {
    "ExecuteTime": {
     "end_time": "2024-07-04T13:35:56.421082Z",
     "start_time": "2024-07-04T13:35:55.425887Z"
    }
   },
   "outputs": [
    {
     "name": "stderr",
     "output_type": "stream",
     "text": [
      "No artists with labels found to put in legend.  Note that artists whose label start with an underscore are ignored when legend() is called with no argument.\n"
     ]
    },
    {
     "data": {
      "image/png": "[encoded data removed]",
      "text/plain": [
       "<Figure size 1000x600 with 1 Axes>"
      ]
     },
     "metadata": {},
     "output_type": "display_data"
    }
   ],
   "source": [
    "from matplotlib import pyplot as plt\n",
    "\n",
    "# F1-Scores plotten\n",
    "plt.figure(figsize=(10, 6))\n",
    "plt.plot(number_trees, results)\n",
    "\n",
    "plt.title('Tuning min_samples_leaf')\n",
    "plt.xlabel('min_samples_leaf')\n",
    "plt.ylabel('Fbeta-Score')\n",
    "plt.legend()\n",
    "plt.grid(True)\n",
    "plt.show()"
   ]
  },
  {
   "cell_type": "code",
   "execution_count": null,
   "id": "ec9fdc59-6d0f-465c-8bb0-e6c4178d82a9",
   "metadata": {},
   "outputs": [],
   "source": [
    "\n"
   ]
  },
  {
   "cell_type": "code",
   "execution_count": null,
   "id": "d3f50064-5702-4ce9-a3d1-2516daa8286c",
   "metadata": {},
   "outputs": [],
   "source": []
  },
  {
   "cell_type": "code",
   "execution_count": null,
   "id": "7ab29a7b-9755-4718-97fc-1480ff0a35f8",
   "metadata": {},
   "outputs": [],
   "source": []
  },
  {
   "cell_type": "code",
   "execution_count": null,
   "id": "d01904fb-3dd5-48de-8475-cfe8e25fc390",
   "metadata": {},
   "outputs": [],
   "source": []
  }
 ],
 "metadata": {
  "kernelspec": {
   "display_name": "Python 3.10 (Cuda 12.1, Tensorflow 2.16)",
   "language": "python",
   "name": "py3.10-cuda12.1-tf2.16"
  },
  "language_info": {
   "codemirror_mode": {
    "name": "ipython",
    "version": 3
   },
   "file_extension": ".py",
   "mimetype": "text/x-python",
   "name": "python",
   "nbconvert_exporter": "python",
   "pygments_lexer": "ipython3",
   "version": "3.10.14"
  }
 },
 "nbformat": 4,
 "nbformat_minor": 5
}
