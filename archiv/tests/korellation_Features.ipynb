{
 "cells": [
  {
   "metadata": {},
   "cell_type": "code",
   "outputs": [],
   "execution_count": null,
   "source": "",
   "id": "df94acd7d27dce5"
  },
  {
   "metadata": {},
   "cell_type": "markdown",
   "source": "",
   "id": "3efcdac27be3cd46"
  },
  {
   "cell_type": "code",
   "execution_count": null,
   "id": "initial_id",
   "metadata": {
    "collapsed": true
   },
   "outputs": [],
   "source": [
    "correlation_matrix(df[numeric_features])\n",
    "numerisch -> linear - sonst kategorisch \n",
    "\n",
    "die felder im nullbereich, dann kaum miteinander korreliert - rot starkt positiv korreliert \n",
    "dann die features rausnehmen, die stark korrelieren \n",
    "\n",
    "für katgorische feature: Box wisker Plot \n",
    "seaborn -> plot kategorical variable \n",
    "\n",
    "\n",
    "wenn Unterschied, dann Variable relevant - sonst rausschmeißen  \n",
    "wieviele Unfälle - in abhängigkeit von Season Variable - für jedes Box-Wisker Plots \n",
    "\n",
    "feature importanzen - im trainingsdatensatz , vorher kann man mit Box-Wisker Plots gucken \n",
    "\n",
    "y-data profiling \n",
    "\n",
    "werte dürfen nicht korrelieren \n",
    "vll bei feature importanz, eine weg, oder beide nur ein bißchen ... erscheinen gar nicht relevant \n"
   ]
  }
 ],
 "metadata": {
  "kernelspec": {
   "display_name": "Python 3",
   "language": "python",
   "name": "python3"
  },
  "language_info": {
   "codemirror_mode": {
    "name": "ipython",
    "version": 2
   },
   "file_extension": ".py",
   "mimetype": "text/x-python",
   "name": "python",
   "nbconvert_exporter": "python",
   "pygments_lexer": "ipython2",
   "version": "2.7.6"
  }
 },
 "nbformat": 4,
 "nbformat_minor": 5
}
