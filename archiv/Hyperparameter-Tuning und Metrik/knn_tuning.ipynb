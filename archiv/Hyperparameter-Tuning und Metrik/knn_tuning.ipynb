{
 "cells": [
  {
   "cell_type": "code",
   "id": "18044ae9a69d39b8",
   "metadata": {
    "ExecuteTime": {
     "end_time": "2024-07-15T10:39:29.322517Z",
     "start_time": "2024-07-15T10:08:05.818421Z"
    }
   },
   "source": [
    "import pandas as pd\n",
    "from sklearn.neighbors import KNeighborsClassifier, LocalOutlierFactor\n",
    "from sklearn.model_selection import KFold, StratifiedKFold\n",
    "from imblearn.over_sampling import SMOTE, RandomOverSampler\n",
    "from sklearn.metrics import fbeta_score\n",
    "from sklearn.ensemble import IsolationForest\n",
    "\n",
    "# Angenommen, Ihre Daten sind in einem DataFrame df\n",
    "df = pd.read_csv('../data/GeneralDatensatz18-21ohneGeo-mitLockdown_mitCorona.csv', sep=';')\n",
    "\n",
    "X = df[['UMONAT','USTUNDE','UWOCHENTAG','UART','USTRZUSTAND','BEZ','UTYP1','ULICHTVERH','IstRad','IstPKW','IstFuss','IstKrad','IstGkfz','IstSonstige', 'LOCKDOWN', 'COVID']]\n",
    "y = df['UKATEGORIE'].isin([1, 2]).astype(int)\n",
    "\n",
    "# Initialisieren Sie KFold\n",
    "sf = StratifiedKFold(n_splits=5, random_state=42, shuffle=True)\n",
    "\n",
    "# Initialisieren Sie Listen, um die Ergebnisse zu speichern\n",
    "\n",
    "\n",
    "for i in range(300, 5000, 50):\n",
    "    fbeta_scores_SMOTE = []\n",
    "    # Loop über jeden Split\n",
    "    for train_index, test_index in sf.split(X, y):\n",
    "        X_train, X_test = X.iloc[train_index], X.iloc[test_index]\n",
    "        y_train, y_test = y.iloc[train_index], y.iloc[test_index]\n",
    "    \n",
    "        # Anwendung von SMOTE\n",
    "        sm = SMOTE(random_state=42)\n",
    "        X_res, y_res = sm.fit_resample(X_train, y_train)\n",
    "    \n",
    "        # Trainieren Sie den Klassifikator\n",
    "        knn = KNeighborsClassifier(n_neighbors=i, weights='distance')\n",
    "        knn.fit(X_res, y_res)\n",
    "    \n",
    "        # Vorhersagen auf den Testdaten machen\n",
    "        y_pred = knn.predict(X_test)\n",
    "        y_pred_train = knn.predict(X_train)\n",
    "    \n",
    "        # F-beta-Score berechnen und zur Liste hinzufügen\n",
    "        fbeta = fbeta_score(y_test, y_pred, beta=2)\n",
    "        fbeta_scores_SMOTE.append(fbeta)\n",
    "    \n",
    "        \n",
    "    # print(f\"SMOTE fbeta scores für {i} neighbors (Train und Test): \", fbeta_train, fbeta_test)\n",
    "\n",
    "# Durchschnittlichen F-beta-Score über alle Folds ausgeben\n",
    "    print(f\"Average F-beta score for {i} neighbors:\" , pd.Series(fbeta_scores_SMOTE).mean())\n",
    "\n",
    "\n",
    "\n"
   ],
   "outputs": [
    {
     "name": "stdout",
     "output_type": "stream",
     "text": [
      "Average F-beta score for 4500 neighbors: 0.42563504763316795\n",
      "Average F-beta score for 4501 neighbors: 0.4252882533000898\n",
      "Average F-beta score for 4502 neighbors: 0.42542492139963395\n"
     ]
    },
    {
     "ename": "KeyboardInterrupt",
     "evalue": "",
     "output_type": "error",
     "traceback": [
      "\u001B[0;31m---------------------------------------------------------------------------\u001B[0m",
      "\u001B[0;31mKeyboardInterrupt\u001B[0m                         Traceback (most recent call last)",
      "Cell \u001B[0;32mIn[2], line 36\u001B[0m\n\u001B[1;32m     33\u001B[0m knn\u001B[38;5;241m.\u001B[39mfit(X_res, y_res)\n\u001B[1;32m     35\u001B[0m \u001B[38;5;66;03m# Vorhersagen auf den Testdaten machen\u001B[39;00m\n\u001B[0;32m---> 36\u001B[0m y_pred \u001B[38;5;241m=\u001B[39m \u001B[43mknn\u001B[49m\u001B[38;5;241;43m.\u001B[39;49m\u001B[43mpredict\u001B[49m\u001B[43m(\u001B[49m\u001B[43mX_test\u001B[49m\u001B[43m)\u001B[49m\n\u001B[1;32m     37\u001B[0m y_pred_train \u001B[38;5;241m=\u001B[39m knn\u001B[38;5;241m.\u001B[39mpredict(X_train)\n\u001B[1;32m     39\u001B[0m \u001B[38;5;66;03m# F-beta-Score berechnen und zur Liste hinzufügen\u001B[39;00m\n",
      "File \u001B[0;32m~/Nextcloud/IKT/venv/lib/python3.12/site-packages/sklearn/neighbors/_classification.py:274\u001B[0m, in \u001B[0;36mKNeighborsClassifier.predict\u001B[0;34m(self, X)\u001B[0m\n\u001B[1;32m    272\u001B[0m     neigh_dist \u001B[38;5;241m=\u001B[39m \u001B[38;5;28;01mNone\u001B[39;00m\n\u001B[1;32m    273\u001B[0m \u001B[38;5;28;01melse\u001B[39;00m:\n\u001B[0;32m--> 274\u001B[0m     neigh_dist, neigh_ind \u001B[38;5;241m=\u001B[39m \u001B[38;5;28;43mself\u001B[39;49m\u001B[38;5;241;43m.\u001B[39;49m\u001B[43mkneighbors\u001B[49m\u001B[43m(\u001B[49m\u001B[43mX\u001B[49m\u001B[43m)\u001B[49m\n\u001B[1;32m    276\u001B[0m classes_ \u001B[38;5;241m=\u001B[39m \u001B[38;5;28mself\u001B[39m\u001B[38;5;241m.\u001B[39mclasses_\n\u001B[1;32m    277\u001B[0m _y \u001B[38;5;241m=\u001B[39m \u001B[38;5;28mself\u001B[39m\u001B[38;5;241m.\u001B[39m_y\n",
      "File \u001B[0;32m~/Nextcloud/IKT/venv/lib/python3.12/site-packages/sklearn/neighbors/_base.py:886\u001B[0m, in \u001B[0;36mKNeighborsMixin.kneighbors\u001B[0;34m(self, X, n_neighbors, return_distance)\u001B[0m\n\u001B[1;32m    883\u001B[0m     \u001B[38;5;28;01melse\u001B[39;00m:\n\u001B[1;32m    884\u001B[0m         kwds \u001B[38;5;241m=\u001B[39m \u001B[38;5;28mself\u001B[39m\u001B[38;5;241m.\u001B[39meffective_metric_params_\n\u001B[0;32m--> 886\u001B[0m     chunked_results \u001B[38;5;241m=\u001B[39m \u001B[38;5;28;43mlist\u001B[39;49m\u001B[43m(\u001B[49m\n\u001B[1;32m    887\u001B[0m \u001B[43m        \u001B[49m\u001B[43mpairwise_distances_chunked\u001B[49m\u001B[43m(\u001B[49m\n\u001B[1;32m    888\u001B[0m \u001B[43m            \u001B[49m\u001B[43mX\u001B[49m\u001B[43m,\u001B[49m\n\u001B[1;32m    889\u001B[0m \u001B[43m            \u001B[49m\u001B[38;5;28;43mself\u001B[39;49m\u001B[38;5;241;43m.\u001B[39;49m\u001B[43m_fit_X\u001B[49m\u001B[43m,\u001B[49m\n\u001B[1;32m    890\u001B[0m \u001B[43m            \u001B[49m\u001B[43mreduce_func\u001B[49m\u001B[38;5;241;43m=\u001B[39;49m\u001B[43mreduce_func\u001B[49m\u001B[43m,\u001B[49m\n\u001B[1;32m    891\u001B[0m \u001B[43m            \u001B[49m\u001B[43mmetric\u001B[49m\u001B[38;5;241;43m=\u001B[39;49m\u001B[38;5;28;43mself\u001B[39;49m\u001B[38;5;241;43m.\u001B[39;49m\u001B[43meffective_metric_\u001B[49m\u001B[43m,\u001B[49m\n\u001B[1;32m    892\u001B[0m \u001B[43m            \u001B[49m\u001B[43mn_jobs\u001B[49m\u001B[38;5;241;43m=\u001B[39;49m\u001B[43mn_jobs\u001B[49m\u001B[43m,\u001B[49m\n\u001B[1;32m    893\u001B[0m \u001B[43m            \u001B[49m\u001B[38;5;241;43m*\u001B[39;49m\u001B[38;5;241;43m*\u001B[39;49m\u001B[43mkwds\u001B[49m\u001B[43m,\u001B[49m\n\u001B[1;32m    894\u001B[0m \u001B[43m        \u001B[49m\u001B[43m)\u001B[49m\n\u001B[1;32m    895\u001B[0m \u001B[43m    \u001B[49m\u001B[43m)\u001B[49m\n\u001B[1;32m    897\u001B[0m \u001B[38;5;28;01melif\u001B[39;00m \u001B[38;5;28mself\u001B[39m\u001B[38;5;241m.\u001B[39m_fit_method \u001B[38;5;129;01min\u001B[39;00m [\u001B[38;5;124m\"\u001B[39m\u001B[38;5;124mball_tree\u001B[39m\u001B[38;5;124m\"\u001B[39m, \u001B[38;5;124m\"\u001B[39m\u001B[38;5;124mkd_tree\u001B[39m\u001B[38;5;124m\"\u001B[39m]:\n\u001B[1;32m    898\u001B[0m     \u001B[38;5;28;01mif\u001B[39;00m issparse(X):\n",
      "File \u001B[0;32m~/Nextcloud/IKT/venv/lib/python3.12/site-packages/sklearn/metrics/pairwise.py:2170\u001B[0m, in \u001B[0;36mpairwise_distances_chunked\u001B[0;34m(X, Y, reduce_func, metric, n_jobs, working_memory, **kwds)\u001B[0m\n\u001B[1;32m   2168\u001B[0m \u001B[38;5;28;01mif\u001B[39;00m reduce_func \u001B[38;5;129;01mis\u001B[39;00m \u001B[38;5;129;01mnot\u001B[39;00m \u001B[38;5;28;01mNone\u001B[39;00m:\n\u001B[1;32m   2169\u001B[0m     chunk_size \u001B[38;5;241m=\u001B[39m D_chunk\u001B[38;5;241m.\u001B[39mshape[\u001B[38;5;241m0\u001B[39m]\n\u001B[0;32m-> 2170\u001B[0m     D_chunk \u001B[38;5;241m=\u001B[39m \u001B[43mreduce_func\u001B[49m\u001B[43m(\u001B[49m\u001B[43mD_chunk\u001B[49m\u001B[43m,\u001B[49m\u001B[43m \u001B[49m\u001B[43msl\u001B[49m\u001B[38;5;241;43m.\u001B[39;49m\u001B[43mstart\u001B[49m\u001B[43m)\u001B[49m\n\u001B[1;32m   2171\u001B[0m     _check_chunk_size(D_chunk, chunk_size)\n\u001B[1;32m   2172\u001B[0m \u001B[38;5;28;01myield\u001B[39;00m D_chunk\n",
      "File \u001B[0;32m~/Nextcloud/IKT/venv/lib/python3.12/site-packages/sklearn/neighbors/_base.py:738\u001B[0m, in \u001B[0;36mKNeighborsMixin._kneighbors_reduce_func\u001B[0;34m(self, dist, start, n_neighbors, return_distance)\u001B[0m\n\u001B[1;32m    711\u001B[0m \u001B[38;5;250m\u001B[39m\u001B[38;5;124;03m\"\"\"Reduce a chunk of distances to the nearest neighbors.\u001B[39;00m\n\u001B[1;32m    712\u001B[0m \n\u001B[1;32m    713\u001B[0m \u001B[38;5;124;03mCallback to :func:`sklearn.metrics.pairwise.pairwise_distances_chunked`\u001B[39;00m\n\u001B[0;32m   (...)\u001B[0m\n\u001B[1;32m    735\u001B[0m \u001B[38;5;124;03m    The neighbors indices.\u001B[39;00m\n\u001B[1;32m    736\u001B[0m \u001B[38;5;124;03m\"\"\"\u001B[39;00m\n\u001B[1;32m    737\u001B[0m sample_range \u001B[38;5;241m=\u001B[39m np\u001B[38;5;241m.\u001B[39marange(dist\u001B[38;5;241m.\u001B[39mshape[\u001B[38;5;241m0\u001B[39m])[:, \u001B[38;5;28;01mNone\u001B[39;00m]\n\u001B[0;32m--> 738\u001B[0m neigh_ind \u001B[38;5;241m=\u001B[39m \u001B[43mnp\u001B[49m\u001B[38;5;241;43m.\u001B[39;49m\u001B[43margpartition\u001B[49m\u001B[43m(\u001B[49m\u001B[43mdist\u001B[49m\u001B[43m,\u001B[49m\u001B[43m \u001B[49m\u001B[43mn_neighbors\u001B[49m\u001B[43m \u001B[49m\u001B[38;5;241;43m-\u001B[39;49m\u001B[43m \u001B[49m\u001B[38;5;241;43m1\u001B[39;49m\u001B[43m,\u001B[49m\u001B[43m \u001B[49m\u001B[43maxis\u001B[49m\u001B[38;5;241;43m=\u001B[39;49m\u001B[38;5;241;43m1\u001B[39;49m\u001B[43m)\u001B[49m\n\u001B[1;32m    739\u001B[0m neigh_ind \u001B[38;5;241m=\u001B[39m neigh_ind[:, :n_neighbors]\n\u001B[1;32m    740\u001B[0m \u001B[38;5;66;03m# argpartition doesn't guarantee sorted order, so we sort again\u001B[39;00m\n",
      "File \u001B[0;32m~/Nextcloud/IKT/venv/lib/python3.12/site-packages/numpy/core/fromnumeric.py:858\u001B[0m, in \u001B[0;36margpartition\u001B[0;34m(a, kth, axis, kind, order)\u001B[0m\n\u001B[1;32m    779\u001B[0m \u001B[38;5;129m@array_function_dispatch\u001B[39m(_argpartition_dispatcher)\n\u001B[1;32m    780\u001B[0m \u001B[38;5;28;01mdef\u001B[39;00m \u001B[38;5;21margpartition\u001B[39m(a, kth, axis\u001B[38;5;241m=\u001B[39m\u001B[38;5;241m-\u001B[39m\u001B[38;5;241m1\u001B[39m, kind\u001B[38;5;241m=\u001B[39m\u001B[38;5;124m'\u001B[39m\u001B[38;5;124mintroselect\u001B[39m\u001B[38;5;124m'\u001B[39m, order\u001B[38;5;241m=\u001B[39m\u001B[38;5;28;01mNone\u001B[39;00m):\n\u001B[1;32m    781\u001B[0m \u001B[38;5;250m    \u001B[39m\u001B[38;5;124;03m\"\"\"\u001B[39;00m\n\u001B[1;32m    782\u001B[0m \u001B[38;5;124;03m    Perform an indirect partition along the given axis using the\u001B[39;00m\n\u001B[1;32m    783\u001B[0m \u001B[38;5;124;03m    algorithm specified by the `kind` keyword. It returns an array of\u001B[39;00m\n\u001B[0;32m   (...)\u001B[0m\n\u001B[1;32m    856\u001B[0m \n\u001B[1;32m    857\u001B[0m \u001B[38;5;124;03m    \"\"\"\u001B[39;00m\n\u001B[0;32m--> 858\u001B[0m     \u001B[38;5;28;01mreturn\u001B[39;00m \u001B[43m_wrapfunc\u001B[49m\u001B[43m(\u001B[49m\u001B[43ma\u001B[49m\u001B[43m,\u001B[49m\u001B[43m \u001B[49m\u001B[38;5;124;43m'\u001B[39;49m\u001B[38;5;124;43margpartition\u001B[39;49m\u001B[38;5;124;43m'\u001B[39;49m\u001B[43m,\u001B[49m\u001B[43m \u001B[49m\u001B[43mkth\u001B[49m\u001B[43m,\u001B[49m\u001B[43m \u001B[49m\u001B[43maxis\u001B[49m\u001B[38;5;241;43m=\u001B[39;49m\u001B[43maxis\u001B[49m\u001B[43m,\u001B[49m\u001B[43m \u001B[49m\u001B[43mkind\u001B[49m\u001B[38;5;241;43m=\u001B[39;49m\u001B[43mkind\u001B[49m\u001B[43m,\u001B[49m\u001B[43m \u001B[49m\u001B[43morder\u001B[49m\u001B[38;5;241;43m=\u001B[39;49m\u001B[43morder\u001B[49m\u001B[43m)\u001B[49m\n",
      "File \u001B[0;32m~/Nextcloud/IKT/venv/lib/python3.12/site-packages/numpy/core/fromnumeric.py:59\u001B[0m, in \u001B[0;36m_wrapfunc\u001B[0;34m(obj, method, *args, **kwds)\u001B[0m\n\u001B[1;32m     56\u001B[0m     \u001B[38;5;28;01mreturn\u001B[39;00m _wrapit(obj, method, \u001B[38;5;241m*\u001B[39margs, \u001B[38;5;241m*\u001B[39m\u001B[38;5;241m*\u001B[39mkwds)\n\u001B[1;32m     58\u001B[0m \u001B[38;5;28;01mtry\u001B[39;00m:\n\u001B[0;32m---> 59\u001B[0m     \u001B[38;5;28;01mreturn\u001B[39;00m \u001B[43mbound\u001B[49m\u001B[43m(\u001B[49m\u001B[38;5;241;43m*\u001B[39;49m\u001B[43margs\u001B[49m\u001B[43m,\u001B[49m\u001B[43m \u001B[49m\u001B[38;5;241;43m*\u001B[39;49m\u001B[38;5;241;43m*\u001B[39;49m\u001B[43mkwds\u001B[49m\u001B[43m)\u001B[49m\n\u001B[1;32m     60\u001B[0m \u001B[38;5;28;01mexcept\u001B[39;00m \u001B[38;5;167;01mTypeError\u001B[39;00m:\n\u001B[1;32m     61\u001B[0m     \u001B[38;5;66;03m# A TypeError occurs if the object does have such a method in its\u001B[39;00m\n\u001B[1;32m     62\u001B[0m     \u001B[38;5;66;03m# class, but its signature is not identical to that of NumPy's. This\u001B[39;00m\n\u001B[0;32m   (...)\u001B[0m\n\u001B[1;32m     66\u001B[0m     \u001B[38;5;66;03m# Call _wrapit from within the except clause to ensure a potential\u001B[39;00m\n\u001B[1;32m     67\u001B[0m     \u001B[38;5;66;03m# exception has a traceback chain.\u001B[39;00m\n\u001B[1;32m     68\u001B[0m     \u001B[38;5;28;01mreturn\u001B[39;00m _wrapit(obj, method, \u001B[38;5;241m*\u001B[39margs, \u001B[38;5;241m*\u001B[39m\u001B[38;5;241m*\u001B[39mkwds)\n",
      "\u001B[0;31mKeyboardInterrupt\u001B[0m: "
     ]
    }
   ],
   "execution_count": 2
  },
  {
   "cell_type": "markdown",
   "id": "c3304ebe6744a61a",
   "metadata": {},
   "source": [
    "\n"
   ]
  },
  {
   "metadata": {},
   "cell_type": "markdown",
   "source": "",
   "id": "21820d4525f34fa3"
  },
  {
   "cell_type": "code",
   "id": "a0e11be7ad4d7913",
   "metadata": {
    "ExecuteTime": {
     "end_time": "2024-07-15T10:39:29.324367Z",
     "start_time": "2024-07-15T10:39:29.324221Z"
    }
   },
   "source": [],
   "outputs": [],
   "execution_count": null
  }
 ],
 "metadata": {
  "kernelspec": {
   "display_name": "Python 3 (ipykernel)",
   "language": "python",
   "name": "python3"
  },
  "language_info": {
   "codemirror_mode": {
    "name": "ipython",
    "version": 3
   },
   "file_extension": ".py",
   "mimetype": "text/x-python",
   "name": "python",
   "nbconvert_exporter": "python",
   "pygments_lexer": "ipython3",
   "version": "3.10.14"
  }
 },
 "nbformat": 4,
 "nbformat_minor": 5
}
