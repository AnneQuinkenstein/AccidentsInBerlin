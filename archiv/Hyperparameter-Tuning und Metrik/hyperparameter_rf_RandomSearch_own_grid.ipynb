{
 "cells": [
  {
   "cell_type": "code",
   "id": "c5249c9c-e94d-465b-bbca-52449cf72f8f",
   "metadata": {
    "ExecuteTime": {
     "end_time": "2024-07-11T15:21:49.968924Z",
     "start_time": "2024-07-11T15:21:49.964151Z"
    }
   },
   "source": [
    "from sklearn.datasets import make_classification\n",
    "\n",
    "from sklearn.model_selection import RandomizedSearchCV, StratifiedKFold\n",
    "from sklearn.ensemble import RandomForestClassifier\n",
    "from scipy.stats import randint\n",
    "import pandas as pd\n",
    "from sklearn.metrics import make_scorer, fbeta_score\n",
    "\n"
   ],
   "outputs": [],
   "execution_count": 3
  },
  {
   "cell_type": "code",
   "id": "b37fe378-9bc2-4341-8056-55c56ad9023c",
   "metadata": {
    "ExecuteTime": {
     "end_time": "2024-07-11T15:21:49.973363Z",
     "start_time": "2024-07-11T15:21:49.971094Z"
    }
   },
   "source": [],
   "outputs": [],
   "execution_count": 3
  },
  {
   "cell_type": "code",
   "id": "dbaf5fe9-73dc-4c6b-8174-d1cb93393147",
   "metadata": {
    "ExecuteTime": {
     "end_time": "2024-07-11T15:21:50.087630Z",
     "start_time": "2024-07-11T15:21:49.984097Z"
    }
   },
   "source": [
    "df = pd.read_csv('../data/GeneralDatensatz18-21ohneGeo-mitLockdown_mitCorona.csv', sep=';')\n",
    "\n",
    "X=df[['UMONAT','USTUNDE','UWOCHENTAG','UART','USTRZUSTAND','BEZ','UTYP1','ULICHTVERH','IstRad','IstPKW','IstFuss','IstKrad','IstGkfz','IstSonstige', 'LOCKDOWN', 'COVID']]\n",
    "#für tödliche Unfälle\n",
    "\n",
    "#für tödliche und schwere vs. leichte Unfälle  -> 1 ist schwer oder tödlich, 0 ist leicht\n",
    "y = df['UKATEGORIE'].isin([1, 2]).astype(int)"
   ],
   "outputs": [],
   "execution_count": 4
  },
  {
   "cell_type": "code",
   "id": "98d92998-c945-4507-970a-10c00e4efa72",
   "metadata": {
    "ExecuteTime": {
     "end_time": "2024-07-11T15:21:50.093763Z",
     "start_time": "2024-07-11T15:21:50.089773Z"
    }
   },
   "source": [
    "beta = 2\n",
    "fbeta_scorer= make_scorer(fbeta_score, beta=beta)"
   ],
   "outputs": [],
   "execution_count": 5
  },
  {
   "cell_type": "code",
   "id": "036db194-ac2c-403a-af47-215fbad42e0f",
   "metadata": {
    "ExecuteTime": {
     "end_time": "2024-07-11T17:07:00.414943Z",
     "start_time": "2024-07-11T15:21:50.094928Z"
    }
   },
   "source": [
    "param_dist = {\n",
    "    'n_estimators': list(range(100, 500, 4)),\n",
    "    'max_depth': list(range(1, 18)),\n",
    "    'min_samples_split': list(range(100, 500, 4)),\n",
    "    'min_samples_leaf': list(range(2, 100, 3)),\n",
    "    'max_features': ['auto', 'sqrt', 'log2',8, 10, 12, 14, 16],\n",
    "    \n",
    "    'class_weight': [{0:1, 1: 9}]\n",
    "}\n",
    "\n",
    "stratified_kfold = StratifiedKFold(n_splits=5)\n",
    "rf = RandomForestClassifier()\n",
    "random_search = RandomizedSearchCV(estimator=rf, param_distributions=param_dist, n_iter=100, cv=stratified_kfold, scoring=fbeta_scorer)\n",
    "random_search.fit(X, y)\n",
    "best_params = random_search.best_params_"
   ],
   "outputs": [
    {
     "name": "stderr",
     "output_type": "stream",
     "text": [
      "/home/kasch/Nextcloud/IKT/venv/lib/python3.12/site-packages/sklearn/model_selection/_validation.py:540: FitFailedWarning: \n",
      "85 fits failed out of a total of 500.\n",
      "The score on these train-test partitions for these parameters will be set to nan.\n",
      "If these failures are not expected, you can try to debug them by setting error_score='raise'.\n",
      "\n",
      "Below are more details about the failures:\n",
      "--------------------------------------------------------------------------------\n",
      "85 fits failed with the following error:\n",
      "Traceback (most recent call last):\n",
      "  File \"/home/kasch/Nextcloud/IKT/venv/lib/python3.12/site-packages/sklearn/model_selection/_validation.py\", line 888, in _fit_and_score\n",
      "    estimator.fit(X_train, y_train, **fit_params)\n",
      "  File \"/home/kasch/Nextcloud/IKT/venv/lib/python3.12/site-packages/sklearn/base.py\", line 1466, in wrapper\n",
      "    estimator._validate_params()\n",
      "  File \"/home/kasch/Nextcloud/IKT/venv/lib/python3.12/site-packages/sklearn/base.py\", line 666, in _validate_params\n",
      "    validate_parameter_constraints(\n",
      "  File \"/home/kasch/Nextcloud/IKT/venv/lib/python3.12/site-packages/sklearn/utils/_param_validation.py\", line 95, in validate_parameter_constraints\n",
      "    raise InvalidParameterError(\n",
      "sklearn.utils._param_validation.InvalidParameterError: The 'max_features' parameter of RandomForestClassifier must be an int in the range [1, inf), a float in the range (0.0, 1.0], a str among {'log2', 'sqrt'} or None. Got 'auto' instead.\n",
      "\n",
      "  warnings.warn(some_fits_failed_message, FitFailedWarning)\n",
      "/home/kasch/Nextcloud/IKT/venv/lib/python3.12/site-packages/sklearn/model_selection/_search.py:1052: UserWarning: One or more of the test scores are non-finite: [0.50492935 0.50754366 0.50355924 0.50537758 0.5070621  0.50378322\n",
      " 0.47598162 0.49770352 0.50495814        nan 0.47598162 0.48295243\n",
      "        nan 0.50542284 0.50506243 0.50105478 0.50367515 0.47598162\n",
      "        nan 0.50290106 0.50442806 0.50500258 0.50681335 0.47598162\n",
      " 0.50129256 0.47598162 0.50436713 0.50532583 0.50368917 0.50475182\n",
      " 0.5014748  0.50473709        nan 0.50557933        nan        nan\n",
      " 0.50470534 0.5061552  0.4990686         nan 0.47598162 0.47598162\n",
      " 0.49412278        nan 0.50495122        nan        nan 0.50234242\n",
      " 0.47598162        nan 0.50275697 0.47598162 0.50505421 0.50357722\n",
      " 0.50425493 0.47598162 0.50796245 0.50446587 0.50582481 0.50562161\n",
      "        nan 0.50375342 0.5031486  0.47598162 0.49934013 0.50690453\n",
      " 0.50713444 0.50659151 0.50686749 0.50685846 0.49818866 0.47598162\n",
      " 0.50293867 0.50481913 0.50698702 0.50683381        nan 0.50458048\n",
      " 0.47598162 0.50647132 0.50347489 0.49420905 0.49776543 0.50268767\n",
      "        nan        nan 0.49944462 0.50358156        nan 0.50569062\n",
      " 0.50377013 0.50722696 0.47598162 0.50551057 0.50408904        nan\n",
      " 0.50309432 0.50137337 0.50507833 0.50420968]\n",
      "  warnings.warn(\n"
     ]
    }
   ],
   "execution_count": 6
  },
  {
   "cell_type": "code",
   "id": "be89ba68-22ed-4fcd-a023-309196738c75",
   "metadata": {
    "ExecuteTime": {
     "end_time": "2024-07-11T17:07:00.421755Z",
     "start_time": "2024-07-11T17:07:00.416309Z"
    }
   },
   "source": [
    "best_params"
   ],
   "outputs": [
    {
     "data": {
      "text/plain": [
       "{'n_estimators': 344,\n",
       " 'min_samples_split': 400,\n",
       " 'min_samples_leaf': 8,\n",
       " 'max_features': 'log2',\n",
       " 'max_depth': 15,\n",
       " 'class_weight': {0: 1, 1: 9}}"
      ]
     },
     "execution_count": 7,
     "metadata": {},
     "output_type": "execute_result"
    }
   ],
   "execution_count": 7
  }
 ],
 "metadata": {
  "kernelspec": {
   "display_name": "Python 3 (ipykernel)",
   "language": "python",
   "name": "python3"
  },
  "language_info": {
   "codemirror_mode": {
    "name": "ipython",
    "version": 3
   },
   "file_extension": ".py",
   "mimetype": "text/x-python",
   "name": "python",
   "nbconvert_exporter": "python",
   "pygments_lexer": "ipython3",
   "version": "3.10.14"
  }
 },
 "nbformat": 4,
 "nbformat_minor": 5
}
