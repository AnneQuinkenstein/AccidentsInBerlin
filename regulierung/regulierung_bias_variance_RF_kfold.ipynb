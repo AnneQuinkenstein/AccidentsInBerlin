{
 "cells": [
  {
   "metadata": {},
   "cell_type": "markdown",
   "source": "# Random Forest",
   "id": "c0b745c8f0a6e936"
  },
  {
   "metadata": {},
   "cell_type": "markdown",
   "source": "",
   "id": "9bd498057a994392"
  },
  {
   "metadata": {
    "ExecuteTime": {
     "end_time": "2024-08-07T08:16:38.274847Z",
     "start_time": "2024-08-07T08:16:22.168441Z"
    }
   },
   "cell_type": "code",
   "source": [
    "from sklearn.ensemble import RandomForestClassifier\n",
    "import pandas as pd\n",
    "from sklearn.linear_model import LogisticRegression\n",
    "from sklearn.model_selection import cross_val_score, StratifiedKFold\n",
    "from sklearn.metrics import make_scorer, fbeta_score\n",
    "\n",
    "# Lade den Datensatz\n",
    "train_data_loaded = pd.read_csv('../data/train_data_2024-08-01.csv')\n",
    "X = train_data_loaded.drop(columns=['UKATEGORIE'])\n",
    "y = train_data_loaded['UKATEGORIE']\n",
    "\n",
    "# Define the f-beta scorer\n",
    "fbeta_scorer = make_scorer(fbeta_score, beta=2)\n",
    "\n",
    "# Initialize Stratified K-Fold\n",
    "skf = StratifiedKFold(n_splits=5, shuffle=True, random_state=42)\n",
    "\n",
    "# Model \n",
    "rfmodel = RandomForestClassifier(class_weight={0: 1, 1: 9}, random_state=42)\n",
    "\n",
    "\n",
    "# crossvalscore für Bias-Variance-Analyse\n",
    "\n",
    "rf_scores = cross_val_score(rfmodel, X, y, cv=skf, scoring=fbeta_scorer)\n",
    "print(f'Random Forest F-beta Score (mean): {rf_scores.mean()}')\n",
    "print(f'Random Forest F-beta Score (std): {rf_scores.std()}')\n",
    "\n",
    "\n",
    "\n",
    "# Train Ridge model on the full dataset for feature importance\n",
    "rfmodel.fit(X, y)\n",
    "\n",
    "#Extrahiere die Feature Importances\n",
    "\n",
    "feature_importances = rfmodel.feature_importances_\n",
    "\n",
    "# Erstelle ein DataFrame der Features und ihrer Importances\n",
    "\n",
    "importances_df = pd.DataFrame({\n",
    "    'Feature': X.columns,\n",
    "    'Importance': feature_importances\n",
    "})\n",
    "\n",
    "# Sortiere das DataFrame nach Importances\n",
    "\n",
    "importancesdf = importances_df.sort_values(by='Importance', ascending=False)\n",
    "\n",
    "#Identifiziere die wichtigsten Features\n",
    "\n",
    "top_features = importancesdf.head(5)\n",
    "print(top_features)\n",
    "\n",
    "# Berechne und drucke die Korrelationsmatrix der Top Features\n",
    "\n",
    "Xtop_features = X[top_features['Feature']]\n",
    "correlation_matrix = Xtop_features.corr()\n",
    "print(\"Korrelationsmatrix der Top Features:\")\n",
    "print(correlation_matrix)"
   ],
   "id": "45415edb94a35f9c",
   "outputs": [
    {
     "name": "stdout",
     "output_type": "stream",
     "text": [
      "Random Forest F-beta Score (mean): 0.05721014214538493\n",
      "Random Forest F-beta Score (std): 0.010311509625039694\n",
      "      Feature  Importance\n",
      "3     USTUNDE    0.190419\n",
      "0         BEZ    0.140222\n",
      "4  UWOCHENTAG    0.127451\n",
      "2      UMONAT    0.115603\n",
      "6       UTYP1    0.068989\n",
      "Korrelationsmatrix der Top Features:\n",
      "             USTUNDE       BEZ  UWOCHENTAG    UMONAT     UTYP1\n",
      "USTUNDE     1.000000 -0.019728    0.016865  0.000265  0.032250\n",
      "BEZ        -0.019728  1.000000    0.004234 -0.001105 -0.006259\n",
      "UWOCHENTAG  0.016865  0.004234    1.000000  0.011848  0.001495\n",
      "UMONAT      0.000265 -0.001105    0.011848  1.000000 -0.005130\n",
      "UTYP1       0.032250 -0.006259    0.001495 -0.005130  1.000000\n"
     ]
    }
   ],
   "execution_count": 3
  },
  {
   "metadata": {},
   "cell_type": "markdown",
   "source": "",
   "id": "fb78cdaf6993c16"
  }
 ],
 "metadata": {
  "kernelspec": {
   "display_name": "Python 3",
   "language": "python",
   "name": "python3"
  },
  "language_info": {
   "codemirror_mode": {
    "name": "ipython",
    "version": 2
   },
   "file_extension": ".py",
   "mimetype": "text/x-python",
   "name": "python",
   "nbconvert_exporter": "python",
   "pygments_lexer": "ipython2",
   "version": "2.7.6"
  }
 },
 "nbformat": 4,
 "nbformat_minor": 5
}
