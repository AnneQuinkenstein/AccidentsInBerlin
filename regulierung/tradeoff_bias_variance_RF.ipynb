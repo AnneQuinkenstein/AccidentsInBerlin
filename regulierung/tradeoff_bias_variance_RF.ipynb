{
 "cells": [
  {
   "metadata": {},
   "cell_type": "markdown",
   "source": [
    "# Random Forests\n",
    "\n",
    "\n"
   ],
   "id": "c0b745c8f0a6e936"
  },
  {
   "metadata": {},
   "cell_type": "markdown",
   "source": [
    "1. Trainiere Random Forest Modell auf den Trainingsdaten \n",
    "2. Rechner Trainings FBeta Score und Test FBeta Score aus \n",
    "3. Vergleiche beide und interpretiere bias-variance tradeoff. "
   ],
   "id": "9211cd210477809d"
  },
  {
   "metadata": {
    "ExecuteTime": {
     "end_time": "2024-08-25T19:11:17.236894Z",
     "start_time": "2024-08-25T19:11:16.027245Z"
    }
   },
   "cell_type": "code",
   "outputs": [
    {
     "name": "stdout",
     "output_type": "stream",
     "text": [
      "Train F-beta Score: 0.8685579870268729\n",
      "Test F-beta Score: 0.3581935863489261\n"
     ]
    }
   ],
   "execution_count": 7,
   "source": [
    "import pandas as pd\n",
    "from imblearn.ensemble import BalancedRandomForestClassifier\n",
    "from sklearn.metrics import fbeta_score\n",
    "from sklearn.model_selection import train_test_split\n",
    "\n",
    "# Lade den Datensatz\n",
    "train_data_loaded = pd.read_csv('../data/train_data_2024-08-01.csv')\n",
    "X = train_data_loaded.drop(columns=['UKATEGORIE'])\n",
    "y = train_data_loaded['UKATEGORIE']\n",
    "\n",
    "# Splitte den Datensatz in Trainings- und Testdaten\n",
    "X_train, X_test, y_train, y_test = train_test_split(X, y, test_size=0.2, random_state=42, stratify=y)\n",
    "\n",
    "# Trainiere das Balanced Random Forest Modell mit replacement=True\n",
    "model = BalancedRandomForestClassifier(class_weight={0: 1, 1: 9}, random_state=42, sampling_strategy='all', replacement=True)\n",
    "model.fit(X_train, y_train)\n",
    "\n",
    "# Vorhersagen auf Trainings- und Testdaten\n",
    "y_train_pred = model.predict(X_train)\n",
    "y_test_pred = model.predict(X_test)\n",
    "\n",
    "# Berechne den Fbeta für Trainings- und Testdaten\n",
    "train_fbeta = fbeta_score(y_train, y_train_pred, beta=2)\n",
    "test_fbeta = fbeta_score(y_test, y_test_pred, beta=2)\n",
    "\n",
    "# Drucke die Trainings- und Testfehler\n",
    "print(f'Train F-beta Score: {train_fbeta}')\n",
    "print(f'Test F-beta Score: {test_fbeta}')"
   ],
   "id": "c8e087b07695cd5a"
  },
  {
   "metadata": {},
   "cell_type": "code",
   "outputs": [],
   "execution_count": null,
   "source": [
    "Der signifikante Unterschied zwischen dem F-beta-Score des Trainings (0.8686) und dem F-beta-Score des Tests (0.3582) deutet darauf hin, dass das Modell überanpasst ist. Überanpassung tritt auf, wenn ein Modell auf den Trainingsdaten gut, aber auf den Testdaten schlecht abschneidet. Dies bedeutet, dass das Modell die Trainingsdaten zu gut gelernt hat, einschließlich deren Rauschen und Ausreißer, und nicht gut auf neue, ungesehene Daten verallgemeinert.\n",
    "\n",
    "Aber jetzt mal mit den besten Hyperparametern.\n",
    "Der F-beta-Score des Trainings (0.4757) und der F-beta-Score des Tests (0.4755) sind sehr nah beieinander. Dies deutet darauf hin, dass das Modell weder überanpasst noch unteranpasst ist. Die Leistung des Modells ist sowohl bei den Trainings- als auch bei den Testdaten konsistent, was darauf hindeutet, dass es gut auf neue, ungesehene Daten verallgemeinert"
   ],
   "id": "2e5b6bd43cd629c0"
  },
  {
   "metadata": {
    "ExecuteTime": {
     "end_time": "2024-08-25T19:11:19.524753Z",
     "start_time": "2024-08-25T19:11:17.243458Z"
    }
   },
   "cell_type": "code",
   "source": [
    "import pandas as pd\n",
    "from imblearn.ensemble import BalancedRandomForestClassifier\n",
    "from sklearn.metrics import fbeta_score\n",
    "from sklearn.model_selection import train_test_split\n",
    "\n",
    "# Lade den Datensatz\n",
    "train_data_loaded = pd.read_csv('../data/train_data_2024-08-01.csv')\n",
    "X = train_data_loaded.drop(columns=['UKATEGORIE'])\n",
    "y = train_data_loaded['UKATEGORIE']\n",
    "\n",
    "# Splitte den Datensatz in Trainings- und Testdaten\n",
    "X_train, X_test, y_train, y_test = train_test_split(X, y, test_size=0.2, random_state=42, stratify=y)\n",
    "\n",
    "# Trainiere das Balanced Random Forest Modell mit replacement=True\n",
    "model = BalancedRandomForestClassifier(class_weight={0: 1, 1: 9}, min_samples_leaf=8, n_estimators=344, min_samples_split=400, max_features='log2', max_depth=15, random_state=42, sampling_strategy='all', replacement=True)\n",
    "model.fit(X_train, y_train)\n",
    "\n",
    "# Vorhersagen auf Trainings- und Testdaten\n",
    "y_train_pred = model.predict(X_train)\n",
    "y_test_pred = model.predict(X_test)\n",
    "\n",
    "# Berechne den Fbeta für Trainings- und Testdaten\n",
    "train_fbeta = fbeta_score(y_train, y_train_pred, beta=2)\n",
    "test_fbeta = fbeta_score(y_test, y_test_pred, beta=2)\n",
    "\n",
    "# Drucke die Trainings- und Testfehler\n",
    "print(f'Train F-beta Score: {train_fbeta}')\n",
    "print(f'Test F-beta Score: {test_fbeta}')\n"
   ],
   "id": "45415edb94a35f9c",
   "outputs": [
    {
     "name": "stdout",
     "output_type": "stream",
     "text": [
      "Train F-beta Score: 0.47567546688812073\n",
      "Test F-beta Score: 0.47554662752066756\n"
     ]
    }
   ],
   "execution_count": 8
  }
 ],
 "metadata": {
  "kernelspec": {
   "display_name": "Python 3",
   "language": "python",
   "name": "python3"
  },
  "language_info": {
   "codemirror_mode": {
    "name": "ipython",
    "version": 2
   },
   "file_extension": ".py",
   "mimetype": "text/x-python",
   "name": "python",
   "nbconvert_exporter": "python",
   "pygments_lexer": "ipython2",
   "version": "2.7.6"
  }
 },
 "nbformat": 4,
 "nbformat_minor": 5
}
