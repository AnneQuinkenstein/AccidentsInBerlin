{
 "cells": [
  {
   "cell_type": "code",
   "id": "initial_id",
   "metadata": {
    "collapsed": true,
    "ExecuteTime": {
     "end_time": "2024-08-29T09:46:38.713186Z",
     "start_time": "2024-08-29T09:46:37.440051Z"
    }
   },
   "source": [
    "from imblearn.over_sampling import SMOTE\n",
    "from sklearn.neighbors import KNeighborsClassifier\n",
    "from sklearn.model_selection import train_test_split, cross_val_score\n",
    "from skopt import BayesSearchCV\n",
    "from skopt.space import Real, Categorical, Integer\n",
    "import pandas as pd\n",
    "from sklearn.metrics import make_scorer, fbeta_score\n",
    "from sklearn.model_selection import StratifiedKFold"
   ],
   "outputs": [],
   "execution_count": 1
  },
  {
   "metadata": {
    "ExecuteTime": {
     "end_time": "2024-08-29T09:46:38.780469Z",
     "start_time": "2024-08-29T09:46:38.723224Z"
    }
   },
   "cell_type": "code",
   "source": [
    "train_data_loaded = pd.read_csv('../data/train_data_2024-08-01.csv')\n",
    "\n",
    "X = train_data_loaded.drop(columns=['UKATEGORIE'])\n",
    "y = train_data_loaded['UKATEGORIE']\n",
    "\n",
    "X_train, X_test, y_train, y_test = train_test_split(X, y, test_size=0.2, random_state=42)\n",
    "\n",
    "# KFold-Konfiguration\n",
    "kf = StratifiedKFold(n_splits=5, shuffle=True, random_state=42)\n",
    "\n",
    "# Definieren des F-beta-Scores mit beta = 2\n",
    "beta = 2\n",
    "fbeta_scorer = make_scorer(fbeta_score, beta=beta)"
   ],
   "id": "bd9bc673d329fe87",
   "outputs": [],
   "execution_count": 2
  },
  {
   "metadata": {
    "ExecuteTime": {
     "end_time": "2024-08-29T09:46:38.895676Z",
     "start_time": "2024-08-29T09:46:38.890670Z"
    }
   },
   "cell_type": "code",
   "source": [
    "# Parameter-Suchräume definieren\n",
    "#class_weights = ['balanced', {0: 1, 1: 2, 2: 1}, {0: 1, 1: 1, 2: 2}, None]\n",
    "#class_weights = ['balanced', {0:1, 1: 1}, {0:1, 1: 3}, {0:1, 1: 6}, {0:1, 1: 7}, {0:1, 1: 8}, {0:1, 1: 9}, {0:1, 1: 10}, None]\n",
    "\n",
    "knn_param_space = {\n",
    "    'n_neighbors': (1200, 1700, 20),\n",
    "    'leaf_size': (10, 50),\n",
    "    'p': (1, 2),\n",
    "    'weights': Categorical(['uniform', 'distance'])\n",
    "}\n",
    "\n",
    "\n"
   ],
   "id": "f71d9da4fa566fc5",
   "outputs": [],
   "execution_count": 3
  },
  {
   "metadata": {
    "ExecuteTime": {
     "end_time": "2024-08-29T09:46:39.477665Z",
     "start_time": "2024-08-29T09:46:38.923004Z"
    }
   },
   "cell_type": "code",
   "source": [
    "# Anwendung von SMOTE\n",
    "sm = SMOTE(random_state=42)\n",
    "X_res, y_res = sm.fit_resample(X_train, y_train)"
   ],
   "id": "e500c23be65922fa",
   "outputs": [],
   "execution_count": 4
  },
  {
   "metadata": {
    "ExecuteTime": {
     "end_time": "2024-08-29T09:58:51.142119Z",
     "start_time": "2024-08-29T09:46:39.504361Z"
    }
   },
   "cell_type": "code",
   "source": [
    "# K-Nearest Neighbors\n",
    "knn_opt = BayesSearchCV(estimator=KNeighborsClassifier(), search_spaces=knn_param_space, n_iter=32, cv=kf, n_jobs=-1, scoring=fbeta_scorer, random_state=42)\n",
    "knn_opt.fit(X_res, y_res)\n",
    "print(\"Best parameters for KNN: \", knn_opt.best_params_)"
   ],
   "id": "2ef18dd2ec79f627",
   "outputs": [
    {
     "name": "stdout",
     "output_type": "stream",
     "text": [
      "Best parameters for KNN:  OrderedDict({'leaf_size': 43, 'n_neighbors': 20, 'p': 1, 'weights': 'distance'})\n"
     ]
    }
   ],
   "execution_count": 5
  },
  {
   "metadata": {
    "ExecuteTime": {
     "end_time": "2024-08-29T09:59:15.085562Z",
     "start_time": "2024-08-29T09:58:51.651719Z"
    }
   },
   "cell_type": "code",
   "source": [
    "# Modell evaluieren\n",
    "\n",
    "# Best parameters from BayesSearchCV\n",
    "best_knn_params = knn_opt.best_params_\n",
    "\n",
    "# Erstelle das KNN Modell mit den besten Parametern\n",
    "knn_best = KNeighborsClassifier(**best_knn_params)\n",
    "\n",
    "# Führe die Kreuzvalidierung durch\n",
    "scores = cross_val_score(knn_best, X_res, y_res, cv=kf, scoring=fbeta_scorer, n_jobs=-1)\n",
    "\n",
    "# Ausgabe der Ergebnisse\n",
    "print(f\"Kreuzvalidierungsergebnisse: {scores}\")\n",
    "print(f\"Durchschnittlicher Wert: {scores.mean()} ± {scores.std()}\")"
   ],
   "id": "3370bf53f4258253",
   "outputs": [
    {
     "name": "stdout",
     "output_type": "stream",
     "text": [
      "Kreuzvalidierungsergebnisse: [0.8893356  0.88770944 0.88630104 0.89089332 0.88754421]\n",
      "Durchschnittlicher Wert: 0.8883567213095602 ± 0.0015935827402731794\n"
     ]
    }
   ],
   "execution_count": 6
  },
  {
   "metadata": {
    "ExecuteTime": {
     "end_time": "2024-08-29T09:59:15.169386Z",
     "start_time": "2024-08-29T09:59:15.167347Z"
    }
   },
   "cell_type": "code",
   "source": "",
   "id": "3f2a6354c6f463bd",
   "outputs": [],
   "execution_count": null
  },
  {
   "metadata": {
    "ExecuteTime": {
     "end_time": "2024-08-29T09:59:15.223225Z",
     "start_time": "2024-08-29T09:59:15.219846Z"
    }
   },
   "cell_type": "code",
   "source": "print(\"Best fbeta_score for KNN: \", knn_opt.best_score_)\n",
   "id": "416a465c08849a85",
   "outputs": [
    {
     "name": "stdout",
     "output_type": "stream",
     "text": [
      "Best fbeta_score for KNN:  0.8883567213095602\n"
     ]
    }
   ],
   "execution_count": 7
  },
  {
   "metadata": {
    "ExecuteTime": {
     "end_time": "2024-08-29T11:11:34.579101Z",
     "start_time": "2024-08-29T11:11:17.685768Z"
    }
   },
   "cell_type": "code",
   "source": [
    "# Perform Cross-Validation auf Trainingsdaten\n",
    "train_scores = cross_val_score(knn_best, X_train, y_train, cv=kf, scoring=fbeta_scorer)\n",
    "\n",
    "# Perform Cross-Validation auf Testdaten\n",
    "test_scores = cross_val_score(knn_best, X_test, y_test, cv=kf, scoring=fbeta_scorer)\n",
    "\n",
    "print(\"Cross-Validation Scores für Trainingsdaten: \", train_scores)\n",
    "print(\"Mean Cross-Validation Score für Trainingsdaten: \", train_scores.mean())\n",
    "print(\"Standard Deviation Cross-Validation Score für Trainingsdaten: \", train_scores.std())\n",
    "\n",
    "print(\"\\nCross-Validation Scores für Testdaten: \", test_scores)"
   ],
   "id": "a1b6d878ff3bba06",
   "outputs": [
    {
     "name": "stdout",
     "output_type": "stream",
     "text": [
      "Cross-Validation Scores für Trainingsdaten:  [0.01888218 0.02386335 0.01512478 0.02011061 0.01513241]\n",
      "Mean Cross-Validation Score für Trainingsdaten:  0.018622664498935026\n",
      "Standard Deviation Cross-Validation Score für Trainingsdaten:  0.003291297713917394\n",
      "\n",
      "Cross-Validation Scores für Testdaten:  [0.01485149 0.00499002 0.01986097 0.00498504 0.004995  ]\n"
     ]
    }
   ],
   "execution_count": 8
  },
  {
   "metadata": {},
   "cell_type": "code",
   "outputs": [],
   "execution_count": null,
   "source": "",
   "id": "de1a299a575aeeb6"
  }
 ],
 "metadata": {
  "kernelspec": {
   "display_name": "Python 3",
   "language": "python",
   "name": "python3"
  },
  "language_info": {
   "codemirror_mode": {
    "name": "ipython",
    "version": 2
   },
   "file_extension": ".py",
   "mimetype": "text/x-python",
   "name": "python",
   "nbconvert_exporter": "python",
   "pygments_lexer": "ipython2",
   "version": "2.7.6"
  }
 },
 "nbformat": 4,
 "nbformat_minor": 5
}
