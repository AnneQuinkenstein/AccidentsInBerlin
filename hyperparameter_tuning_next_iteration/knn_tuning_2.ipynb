{
 "cells": [
  {
   "cell_type": "code",
   "id": "18044ae9a69d39b8",
   "metadata": {
    "ExecuteTime": {
     "end_time": "2024-08-28T11:58:53.225364Z",
     "start_time": "2024-08-28T07:17:23.102811Z"
    }
   },
   "source": [
    "import pandas as pd\n",
    "from sklearn.neighbors import KNeighborsClassifier, LocalOutlierFactor\n",
    "from sklearn.model_selection import StratifiedKFold\n",
    "from imblearn.over_sampling import SMOTE\n",
    "from sklearn.metrics import fbeta_score, make_scorer\n",
    "\n",
    "\n",
    "train_data_loaded = pd.read_csv('../data/train_data_2024-08-01.csv')\n",
    "\n",
    "X = train_data_loaded.drop(columns=['UKATEGORIE'])\n",
    "y = train_data_loaded['UKATEGORIE']\n",
    "\n",
    "# KFold-Konfiguration\n",
    "kf = StratifiedKFold(n_splits=5, shuffle=True, random_state=42)\n",
    "\n",
    "# Definieren des F-beta-Scores mit beta = 2\n",
    "beta = 2\n",
    "fbeta_scorer = make_scorer(fbeta_score, beta=beta)\n",
    "\n",
    "for i in range(400, 4000, 100):\n",
    "    fbeta_scores_SMOTE = []\n",
    "    \n",
    "    # Loop über jeden Split\n",
    "    for train_index, test_index in kf.split(X, y):\n",
    "        X_train, X_test = X.iloc[train_index], X.iloc[test_index]\n",
    "        y_train, y_test = y.iloc[train_index], y.iloc[test_index]\n",
    "    \n",
    "        # Anwendung von SMOTE\n",
    "        sm = SMOTE(random_state=42)\n",
    "        X_res, y_res = sm.fit_resample(X_train, y_train)\n",
    "    \n",
    "        # Trainieren Sie den Klassifikator\n",
    "        knn = KNeighborsClassifier(n_neighbors=i, weights='distance')\n",
    "        knn.fit(X_res, y_res)\n",
    "    \n",
    "        # Vorhersagen auf den Testdaten machen\n",
    "        y_pred = knn.predict(X_test)\n",
    "        y_pred_train = knn.predict(X_train)\n",
    "    \n",
    "        # F-beta-Score berechnen und zur Liste hinzufügen\n",
    "        fbeta = fbeta_score(y_test, y_pred, beta=2)\n",
    "        fbeta_scores_SMOTE.append(fbeta)\n",
    "    \n",
    "        \n",
    "    # print(f\"SMOTE fbeta scores für {i} neighbors (Train und Test): \", fbeta_train, fbeta_test)\n",
    "\n",
    "# Durchschnittlichen F-beta-Score über alle Folds ausgeben\n",
    "    print(f\"Average F-beta score for {i} neighbors:\" , pd.Series(fbeta_scores_SMOTE).mean())\n",
    "\n",
    "\n",
    "\n"
   ],
   "outputs": [
    {
     "name": "stdout",
     "output_type": "stream",
     "text": [
      "Average F-beta score for 400 neighbors: 0.4165067839189437\n",
      "Average F-beta score for 500 neighbors: 0.41907410560464864\n",
      "Average F-beta score for 600 neighbors: 0.4198662953103868\n",
      "Average F-beta score for 700 neighbors: 0.42266278474712315\n",
      "Average F-beta score for 800 neighbors: 0.42423951470941523\n",
      "Average F-beta score for 900 neighbors: 0.42543515825008493\n",
      "Average F-beta score for 1000 neighbors: 0.4269029532062453\n",
      "Average F-beta score for 1100 neighbors: 0.4272638003884383\n",
      "Average F-beta score for 1200 neighbors: 0.4264703972896357\n",
      "Average F-beta score for 1300 neighbors: 0.42788505167916446\n",
      "Average F-beta score for 1400 neighbors: 0.4267310204819289\n",
      "Average F-beta score for 1500 neighbors: 0.4269664885613461\n",
      "Average F-beta score for 1600 neighbors: 0.4263332452873917\n",
      "Average F-beta score for 1700 neighbors: 0.4283193950179559\n",
      "Average F-beta score for 1800 neighbors: 0.42637249504063324\n",
      "Average F-beta score for 1900 neighbors: 0.4270806124807825\n",
      "Average F-beta score for 2000 neighbors: 0.4261820658424716\n",
      "Average F-beta score for 2100 neighbors: 0.42644031646106073\n",
      "Average F-beta score for 2200 neighbors: 0.42762425409502514\n",
      "Average F-beta score for 2300 neighbors: 0.4271367180962399\n",
      "Average F-beta score for 2400 neighbors: 0.42710896081849736\n",
      "Average F-beta score for 2500 neighbors: 0.4264692610721116\n",
      "Average F-beta score for 2600 neighbors: 0.42645226717621976\n",
      "Average F-beta score for 2700 neighbors: 0.4260170899495598\n",
      "Average F-beta score for 2800 neighbors: 0.4254813880936177\n",
      "Average F-beta score for 2900 neighbors: 0.4259437970521793\n",
      "Average F-beta score for 3000 neighbors: 0.4255251167117936\n",
      "Average F-beta score for 3100 neighbors: 0.42567496107542235\n",
      "Average F-beta score for 3200 neighbors: 0.42578907844324665\n",
      "Average F-beta score for 3300 neighbors: 0.42546521856114017\n",
      "Average F-beta score for 3400 neighbors: 0.4258355956459763\n",
      "Average F-beta score for 3500 neighbors: 0.42552211662598893\n",
      "Average F-beta score for 3600 neighbors: 0.4249753535026805\n",
      "Average F-beta score for 3700 neighbors: 0.4241170915985554\n",
      "Average F-beta score for 3800 neighbors: 0.424705030831147\n",
      "Average F-beta score for 3900 neighbors: 0.4243405455036263\n"
     ]
    }
   ],
   "execution_count": 2
  },
  {
   "metadata": {},
   "cell_type": "code",
   "outputs": [],
   "execution_count": null,
   "source": "",
   "id": "7b04783be570923a"
  },
  {
   "metadata": {
    "ExecuteTime": {
     "end_time": "2024-08-28T12:00:48.204111Z",
     "start_time": "2024-08-28T12:00:48.193123Z"
    }
   },
   "cell_type": "code",
   "source": "print(max(fbeta_scores_SMOTE))",
   "id": "7b746199e732291a",
   "outputs": [
    {
     "name": "stdout",
     "output_type": "stream",
     "text": [
      "0.43394297398614107\n"
     ]
    }
   ],
   "execution_count": 3
  },
  {
   "metadata": {
    "ExecuteTime": {
     "end_time": "2024-08-28T12:04:22.612746Z",
     "start_time": "2024-08-28T12:04:22.609762Z"
    }
   },
   "cell_type": "code",
   "source": "print(fbeta_scores_SMOTE.index(max(fbeta_scores_SMOTE)))",
   "id": "395bd004be141426",
   "outputs": [
    {
     "name": "stdout",
     "output_type": "stream",
     "text": [
      "4\n"
     ]
    }
   ],
   "execution_count": 6
  },
  {
   "cell_type": "markdown",
   "id": "c3304ebe6744a61a",
   "metadata": {},
   "source": [
    "\n"
   ]
  },
  {
   "metadata": {},
   "cell_type": "markdown",
   "source": "",
   "id": "21820d4525f34fa3"
  },
  {
   "cell_type": "code",
   "id": "a0e11be7ad4d7913",
   "metadata": {
    "ExecuteTime": {
     "end_time": "2024-08-28T11:58:53.311128Z",
     "start_time": "2024-08-28T11:58:53.302440Z"
    }
   },
   "source": [],
   "outputs": [],
   "execution_count": null
  }
 ],
 "metadata": {
  "kernelspec": {
   "display_name": "Python 3 (ipykernel)",
   "language": "python",
   "name": "python3"
  },
  "language_info": {
   "codemirror_mode": {
    "name": "ipython",
    "version": 3
   },
   "file_extension": ".py",
   "mimetype": "text/x-python",
   "name": "python",
   "nbconvert_exporter": "python",
   "pygments_lexer": "ipython3",
   "version": "3.10.14"
  }
 },
 "nbformat": 4,
 "nbformat_minor": 5
}
