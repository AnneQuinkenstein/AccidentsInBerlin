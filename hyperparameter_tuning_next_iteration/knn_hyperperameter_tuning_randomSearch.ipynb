{
 "cells": [
  {
   "cell_type": "code",
   "id": "initial_id",
   "metadata": {
    "collapsed": true,
    "ExecuteTime": {
     "end_time": "2024-09-21T05:38:45.281312Z",
     "start_time": "2024-09-21T05:38:43.425416Z"
    }
   },
   "source": [
    "from imblearn.over_sampling import SMOTE\n",
    "from sklearn.neighbors import KNeighborsClassifier\n",
    "from sklearn.model_selection import train_test_split, cross_val_score, RandomizedSearchCV\n",
    "from skopt import BayesSearchCV\n",
    "from skopt.space import Real, Categorical, Integer\n",
    "import pandas as pd\n",
    "from sklearn.metrics import make_scorer, fbeta_score\n",
    "from sklearn.model_selection import StratifiedKFold"
   ],
   "outputs": [],
   "execution_count": 1
  },
  {
   "metadata": {
    "ExecuteTime": {
     "end_time": "2024-09-21T05:38:45.360666Z",
     "start_time": "2024-09-21T05:38:45.292937Z"
    }
   },
   "cell_type": "code",
   "source": [
    "train_data_loaded = pd.read_csv('../data/train_data_2024-08-01.csv')\n",
    "\n",
    "X = train_data_loaded.drop(columns=['UKATEGORIE'])\n",
    "y = train_data_loaded['UKATEGORIE']\n",
    "\n",
    "X_train, X_test, y_train, y_test = train_test_split(X, y, test_size=0.2, random_state=42)\n",
    "\n",
    "# KFold-Konfiguration\n",
    "kf = StratifiedKFold(n_splits=5, shuffle=True, random_state=42)\n",
    "\n",
    "# Definieren des F-beta-Scores mit beta = 2\n",
    "beta = 2\n",
    "fbeta_scorer = make_scorer(fbeta_score, beta=beta)"
   ],
   "id": "bd9bc673d329fe87",
   "outputs": [],
   "execution_count": 2
  },
  {
   "metadata": {
    "ExecuteTime": {
     "end_time": "2024-09-21T05:38:45.499441Z",
     "start_time": "2024-09-21T05:38:45.494851Z"
    }
   },
   "cell_type": "code",
   "source": [
    "# Parameter-Suchräume definieren\n",
    "#class_weights = ['balanced', {0: 1, 1: 2, 2: 1}, {0: 1, 1: 1, 2: 2}, None]\n",
    "#class_weights = ['balanced', {0:1, 1: 1}, {0:1, 1: 3}, {0:1, 1: 6}, {0:1, 1: 7}, {0:1, 1: 8}, {0:1, 1: 9}, {0:1, 1: 10}, None]\n",
    "\n",
    "param_dist = {\n",
    "    'n_neighbors': list(range(5,50)),\n",
    "    'leaf_size': list(range(20, 50)),\n",
    "    'p': list(range(1, 2)),\n",
    "    'weights': Categorical(['uniform', 'distance'])\n",
    "}\n",
    "\n",
    "\n"
   ],
   "id": "f71d9da4fa566fc5",
   "outputs": [],
   "execution_count": 3
  },
  {
   "metadata": {
    "ExecuteTime": {
     "end_time": "2024-09-21T05:38:46.123154Z",
     "start_time": "2024-09-21T05:38:45.539830Z"
    }
   },
   "cell_type": "code",
   "source": [
    "# Anwendung von SMOTE\n",
    "sm = SMOTE(random_state=42)\n",
    "X_res, y_res = sm.fit_resample(X_train, y_train)"
   ],
   "id": "e500c23be65922fa",
   "outputs": [],
   "execution_count": 4
  },
  {
   "metadata": {
    "ExecuteTime": {
     "end_time": "2024-09-21T07:14:36.698662Z",
     "start_time": "2024-09-21T05:38:46.151065Z"
    }
   },
   "cell_type": "code",
   "source": [
    "# K-Nearest Neighbors\n",
    "knn_opt = RandomizedSearchCV(estimator=KNeighborsClassifier(), param_distributions=param_dist, n_iter=100, cv=kf, scoring=fbeta_scorer, random_state=42)\n",
    "knn_opt.fit(X_res, y_res)\n",
    "print(\"Best parameters for KNN: \", knn_opt.best_params_)"
   ],
   "id": "2ef18dd2ec79f627",
   "outputs": [
    {
     "name": "stdout",
     "output_type": "stream",
     "text": [
      "Best parameters for KNN:  {'leaf_size': 39, 'n_neighbors': 6, 'p': 1, 'weights': 'distance'}\n"
     ]
    }
   ],
   "execution_count": 5
  },
  {
   "metadata": {
    "ExecuteTime": {
     "end_time": "2024-09-21T07:15:11.490319Z",
     "start_time": "2024-09-21T07:14:36.831167Z"
    }
   },
   "cell_type": "code",
   "source": [
    "# Modell evaluieren\n",
    "\n",
    "# Best parameters from BayesSearchCV\n",
    "best_knn_params = knn_opt.best_params_\n",
    "\n",
    "# Erstelle das KNN Modell mit den besten Parametern\n",
    "knn_best = KNeighborsClassifier(**best_knn_params)\n",
    "\n",
    "# Führe die Kreuzvalidierung durch\n",
    "scores = cross_val_score(knn_best, X_res, y_res, cv=kf, scoring=fbeta_scorer, n_jobs=-1)\n",
    "\n",
    "# Ausgabe der Ergebnisse\n",
    "print(f\"Kreuzvalidierungsergebnisse: {scores}\")\n",
    "print(f\"Durchschnittlicher Wert: {scores.mean()} ± {scores.std()}\")"
   ],
   "id": "3370bf53f4258253",
   "outputs": [
    {
     "name": "stdout",
     "output_type": "stream",
     "text": [
      "Kreuzvalidierungsergebnisse: [0.90690743 0.90934586 0.90786193 0.91141367 0.90697267]\n",
      "Durchschnittlicher Wert: 0.9085003135587506 ± 0.0017018280173942426\n"
     ]
    }
   ],
   "execution_count": 6
  },
  {
   "metadata": {
    "ExecuteTime": {
     "end_time": "2024-09-21T07:15:11.690655Z",
     "start_time": "2024-09-21T07:15:11.687319Z"
    }
   },
   "cell_type": "code",
   "source": "",
   "id": "3f2a6354c6f463bd",
   "outputs": [],
   "execution_count": null
  },
  {
   "metadata": {
    "ExecuteTime": {
     "end_time": "2024-09-21T07:15:11.746663Z",
     "start_time": "2024-09-21T07:15:11.739206Z"
    }
   },
   "cell_type": "code",
   "source": "print(\"Best fbeta_score for KNN: \", knn_opt.best_score_)\n",
   "id": "416a465c08849a85",
   "outputs": [
    {
     "name": "stdout",
     "output_type": "stream",
     "text": [
      "Best fbeta_score for KNN:  0.9085003135587506\n"
     ]
    }
   ],
   "execution_count": 7
  },
  {
   "metadata": {
    "ExecuteTime": {
     "end_time": "2024-09-21T07:15:31.802694Z",
     "start_time": "2024-09-21T07:15:11.848316Z"
    }
   },
   "cell_type": "code",
   "source": [
    "# Perform Cross-Validation auf Trainingsdaten\n",
    "train_scores = cross_val_score(knn_best, X_train, y_train, cv=kf, scoring=fbeta_scorer)\n",
    "\n",
    "# Perform Cross-Validation auf Testdaten\n",
    "test_scores = cross_val_score(knn_best, X_test, y_test, cv=kf, scoring=fbeta_scorer)\n",
    "\n",
    "print(\"Cross-Validation Scores für Trainingsdaten: \", train_scores)\n",
    "print(\"Mean Cross-Validation Score für Trainingsdaten: \", train_scores.mean())\n",
    "print(\"Standard Deviation Cross-Validation Score für Trainingsdaten: \", train_scores.std())\n",
    "\n",
    "print(\"\\nCross-Validation Scores für Testdaten: \", test_scores)"
   ],
   "id": "a1b6d878ff3bba06",
   "outputs": [
    {
     "name": "stdout",
     "output_type": "stream",
     "text": [
      "Cross-Validation Scores für Trainingsdaten:  [0.08864399 0.08458423 0.06377858 0.08502994 0.07926976]\n",
      "Mean Cross-Validation Score für Trainingsdaten:  0.08026129818852559\n",
      "Standard Deviation Cross-Validation Score für Trainingsdaten:  0.008767671000629904\n",
      "\n",
      "Cross-Validation Scores für Testdaten:  [0.08498584 0.05293551 0.06635071 0.07142857 0.06679389]\n"
     ]
    }
   ],
   "execution_count": 8
  },
  {
   "metadata": {
    "ExecuteTime": {
     "end_time": "2024-09-21T07:15:31.850448Z",
     "start_time": "2024-09-21T07:15:31.848536Z"
    }
   },
   "cell_type": "code",
   "source": "",
   "id": "de1a299a575aeeb6",
   "outputs": [],
   "execution_count": null
  }
 ],
 "metadata": {
  "kernelspec": {
   "display_name": "Python 3",
   "language": "python",
   "name": "python3"
  },
  "language_info": {
   "codemirror_mode": {
    "name": "ipython",
    "version": 2
   },
   "file_extension": ".py",
   "mimetype": "text/x-python",
   "name": "python",
   "nbconvert_exporter": "python",
   "pygments_lexer": "ipython2",
   "version": "2.7.6"
  }
 },
 "nbformat": 4,
 "nbformat_minor": 5
}
