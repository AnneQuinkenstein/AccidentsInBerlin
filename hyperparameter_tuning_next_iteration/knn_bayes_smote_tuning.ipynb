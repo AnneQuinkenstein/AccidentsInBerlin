{
 "cells": [
  {
   "cell_type": "code",
   "id": "initial_id",
   "metadata": {
    "collapsed": true,
    "ExecuteTime": {
     "end_time": "2024-08-29T11:30:57.934370Z",
     "start_time": "2024-08-29T11:17:10.437351Z"
    }
   },
   "source": [
    "from imblearn.over_sampling import SMOTE\n",
    "from sklearn.neighbors import KNeighborsClassifier\n",
    "from sklearn.model_selection import train_test_split, cross_val_score\n",
    "from skopt import BayesSearchCV\n",
    "from skopt.space import Real, Categorical, Integer\n",
    "import pandas as pd\n",
    "from sklearn.metrics import make_scorer, fbeta_score\n",
    "from sklearn.model_selection import StratifiedKFold\n",
    "\n",
    "train_data_loaded = pd.read_csv('../data/train_data_2024-08-01.csv')\n",
    "\n",
    "X = train_data_loaded.drop(columns=['UKATEGORIE'])\n",
    "y = train_data_loaded['UKATEGORIE']\n",
    "\n",
    "X_train, X_test, y_train, y_test = train_test_split(X, y, test_size=0.2, random_state=42)\n",
    "\n",
    "# KFold-Konfiguration\n",
    "kf = StratifiedKFold(n_splits=5, shuffle=True, random_state=42)\n",
    "\n",
    "# Definieren des F-beta-Scores mit beta = 2\n",
    "beta = 2\n",
    "fbeta_scorer = make_scorer(fbeta_score, beta=beta)\n",
    "\n",
    "knn_param_space = {\n",
    "    'n_neighbors': Integer(5, 50),\n",
    "    'leaf_size': Integer(20, 50),\n",
    "    'p': Integer(1, 2),\n",
    "    'weights': Categorical(['uniform', 'distance'])\n",
    "}\n",
    "\n",
    "# Anwendung von SMOTE auf Trainingsset\n",
    "sm = SMOTE(random_state=42)\n",
    "X_res, y_res = sm.fit_resample(X_train, y_train)\n",
    "\n",
    "# K-Nearest Neighbors\n",
    "knn_opt = BayesSearchCV(estimator=KNeighborsClassifier(), search_spaces=knn_param_space, n_iter=32, cv=kf, n_jobs=-1, scoring=fbeta_scorer, random_state=42)\n",
    "knn_opt.fit(X_res, y_res)\n",
    "print(\"Best parameters for KNN: \", knn_opt.best_params_)\n",
    "\n",
    "# Best parameters from BayesSearchCV\n",
    "best_knn_params = knn_opt.best_params_\n",
    "\n",
    "# Erstelle das KNN Modell mit den besten Parametern\n",
    "knn_best = KNeighborsClassifier(**best_knn_params)\n",
    "\n",
    "# Führe die Kreuzvalidierung durch mit Resampling innerhalb der Kreuzvalidierung\n",
    "scores = cross_val_score(knn_best, X_res, y_res, cv=kf, scoring=fbeta_scorer, n_jobs=-1)\n",
    "\n",
    "# Ausgabe der Ergebnisse\n",
    "print(f\"Kreuzvalidierungsergebnisse: {scores}\")\n",
    "print(f\"Durchschnittlicher Wert: {scores.mean()} ± {scores.std()}\")\n",
    "\n",
    "print(\"Best fbeta_score for KNN: \", knn_opt.best_score_)\n",
    "\n",
    "# Auch nachfolgendes Cross-Validation führt man besser auf den resampleten Daten durch\n",
    "# Perform Cross-Validation auf Trainingsdaten\n",
    "train_scores = cross_val_score(knn_best, X_res, y_res, cv=kf, scoring=fbeta_scorer)\n",
    "\n",
    "# Anwendung von SMOTE auf Testset\n",
    "X_test_res, y_test_res = sm.fit_resample(X_test, y_test)\n",
    "\n",
    "# Perform Cross-Validation auf Testdaten\n",
    "test_scores = cross_val_score(knn_best, X_test_res, y_test_res, cv=kf, scoring=fbeta_scorer)\n",
    "\n",
    "print(\"Cross-Validation Scores für Trainingsdaten: \", train_scores)\n",
    "print(\"Mean Cross-Validation Score für Trainingsdaten: \", train_scores.mean())\n",
    "print(\"Standard Deviation Cross-Validation Score für Trainingsdaten: \", train_scores.std())\n",
    "\n",
    "print(\"\\nCross-Validation Scores für Testdaten: \", test_scores)\n",
    "print(\"Mean Cross-Validation Score für Testdaten: \", test_scores.mean())\n",
    "print(\"Standard Deviation Cross-Validation Score für Testdaten: \", test_scores.std())"
   ],
   "outputs": [
    {
     "name": "stderr",
     "output_type": "stream",
     "text": [
      "/home/kasch/Nextcloud/IKT/venv/lib/python3.12/site-packages/skopt/optimizer/optimizer.py:517: UserWarning: The objective has been evaluated at point [50, 5, 1, 'distance'] before, using random point [42, 48, 2, 'distance']\n",
      "  warnings.warn(\n"
     ]
    },
    {
     "name": "stdout",
     "output_type": "stream",
     "text": [
      "Best parameters for KNN:  OrderedDict({'leaf_size': 41, 'n_neighbors': 6, 'p': 1, 'weights': 'distance'})\n",
      "Kreuzvalidierungsergebnisse: [0.90690743 0.90934586 0.90786193 0.91141367 0.90697267]\n",
      "Durchschnittlicher Wert: 0.9085003135587506 ± 0.0017018280173942426\n",
      "Best fbeta_score for KNN:  0.9085003135587506\n",
      "Cross-Validation Scores für Trainingsdaten:  [0.90690743 0.90934586 0.90786193 0.91141367 0.90697267]\n",
      "Mean Cross-Validation Score für Trainingsdaten:  0.9085003135587506\n",
      "Standard Deviation Cross-Validation Score für Trainingsdaten:  0.0017018280173942426\n",
      "\n",
      "Cross-Validation Scores für Testdaten:  [0.91709772 0.92219423 0.91427365 0.91866835 0.92556454]\n",
      "Mean Cross-Validation Score für Testdaten:  0.9195596990659244\n",
      "Standard Deviation Cross-Validation Score für Testdaten:  0.003944541495031128\n"
     ]
    }
   ],
   "execution_count": 2
  }
 ],
 "metadata": {
  "kernelspec": {
   "display_name": "Python 3",
   "language": "python",
   "name": "python3"
  },
  "language_info": {
   "codemirror_mode": {
    "name": "ipython",
    "version": 2
   },
   "file_extension": ".py",
   "mimetype": "text/x-python",
   "name": "python",
   "nbconvert_exporter": "python",
   "pygments_lexer": "ipython2",
   "version": "2.7.6"
  }
 },
 "nbformat": 4,
 "nbformat_minor": 5
}
