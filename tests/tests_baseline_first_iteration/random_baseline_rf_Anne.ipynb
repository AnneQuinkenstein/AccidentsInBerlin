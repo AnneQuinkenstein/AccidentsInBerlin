{
 "cells": [
  {
   "cell_type": "code",
   "id": "initial_id",
   "metadata": {
    "collapsed": true,
    "ExecuteTime": {
     "end_time": "2024-08-26T13:41:11.992195Z",
     "start_time": "2024-08-26T13:41:11.576059Z"
    }
   },
   "source": [
    "import numpy as np\n",
    "from imblearn.ensemble import BalancedRandomForestClassifier\n",
    "from sklearn.metrics import classification_report\n",
    "from collections import Counter\n",
    "import pandas as pd\n",
    "from sklearn.model_selection import StratifiedKFold, cross_val_score\n",
    "from sklearn.metrics import make_scorer, fbeta_score"
   ],
   "outputs": [],
   "execution_count": 1
  },
  {
   "metadata": {
    "ExecuteTime": {
     "end_time": "2024-08-26T13:41:12.034777Z",
     "start_time": "2024-08-26T13:41:12.004340Z"
    }
   },
   "cell_type": "code",
   "source": [
    "train_data_loaded = pd.read_csv('../data/train_data_2024-08-01.csv')\n",
    "\n",
    "X = train_data_loaded.drop(columns=['UKATEGORIE'])\n",
    "y = train_data_loaded['UKATEGORIE']"
   ],
   "id": "3c17ed6e09fa6cec",
   "outputs": [],
   "execution_count": 2
  },
  {
   "metadata": {
    "ExecuteTime": {
     "end_time": "2024-08-26T13:41:12.098595Z",
     "start_time": "2024-08-26T13:41:12.095097Z"
    }
   },
   "cell_type": "code",
   "source": [
    "# StratifiedKFold initialisieren\n",
    "skf = StratifiedKFold(n_splits=5)\n",
    "\n",
    "# Variablen für Ergebnisse\n",
    "fbetas_rf = []\n",
    "fbetas_random = []\n",
    "fbetas_mehrheit = []"
   ],
   "id": "14640e88b6468603",
   "outputs": [],
   "execution_count": 3
  },
  {
   "metadata": {
    "ExecuteTime": {
     "end_time": "2024-08-26T13:41:12.155346Z",
     "start_time": "2024-08-26T13:41:12.152601Z"
    }
   },
   "cell_type": "code",
   "source": [
    "beta = 2\n",
    "fbeta_scorer= make_scorer(fbeta_score, beta=beta)"
   ],
   "id": "fcd1f4cf70853c46",
   "outputs": [],
   "execution_count": 4
  },
  {
   "metadata": {
    "ExecuteTime": {
     "end_time": "2024-08-26T13:41:34.966689Z",
     "start_time": "2024-08-26T13:41:12.218290Z"
    }
   },
   "cell_type": "code",
   "source": [
    "# Balanced Random Forest Modell mit aktualisierten Parametern\n",
    "bal_rf_model = BalancedRandomForestClassifier(min_samples_leaf=8, n_estimators=344, min_samples_split=400, max_features='log2', max_depth=15, random_state=42, sampling_strategy='all', replacement=True)\n",
    "\n",
    "rf_scores = cross_val_score(bal_rf_model, X, y, cv=skf, scoring=fbeta_scorer)\n",
    "print(f'Durchschnittlicher Random Forest F-beta Score (mean) mit unseren Daten: {rf_scores.mean()}')\n",
    "print(f'Standardabweichung des Random Forest F-beta Score (std) mit unseren Daten: {rf_scores.std()}')\n",
    "\n",
    "# zufällige und Mehrheitsklassen-Vorhersagen\n",
    "counter = 1\n",
    "for train_index, test_index in skf.split(X, y):\n",
    "    X_train, X_test = X.iloc[train_index], X.iloc[test_index]\n",
    "    y_train, y_test = y.iloc[train_index], y.iloc[test_index]\n",
    "    \n",
    "    # Drucke die ersten 10 values von y_train\n",
    "    print(\"nur split y_train:\", y_train.values[:100])\n",
    "    # Drucke die ersten 10 values von y_test\n",
    "    print(\"nur split y_test:\", y_test.values[:100])\n",
    "    \n",
    "    # Random Forest Modell trainieren\n",
    "    bal_rf_model.fit(X_train, y_train)\n",
    "    y_pred_rf = bal_rf_model.predict(X_test)\n",
    "    print(\"Ersten 10 Vorhersagen mit dem Random Forest Modell:\", y_pred_rf[:10])\n",
    "    \n",
    "    # Zufällige Vorhersagen basierend auf den Klassenwahrscheinlichkeiten erstellen\n",
    "    class_counts = Counter(y_test)\n",
    "    total_samples = len(y_test)\n",
    "    class_probabilities = {cls: count / total_samples for cls, count in class_counts.items()}\n",
    "    \n",
    "    np.random.seed(42)\n",
    "    y_pred_random_weighted = np.random.choice(\n",
    "        list(class_probabilities.keys()),\n",
    "        size=y_test.shape,\n",
    "        p=list(class_probabilities.values())\n",
    "    )\n",
    "    \n",
    "    # Drucke die ersten 10 Werte\n",
    "    print(\"Ersten 10 Vorhersagen mit dem _random_weighted:\", y_pred_random_weighted[:10])\n",
    "    \n",
    "    # Leistung der gewichteten zufälligen Vorhersagen bewerten\n",
    "    fbeta_random_weighted = fbeta_score(y_test, y_pred_random_weighted, beta=beta, average='weighted')\n",
    "    print(f\"Fold Nummer {counter}: fbeta_random_weighted - Score ist {fbeta_random_weighted}\")\n",
    "    fbetas_random.append(fbeta_random_weighted)\n",
    "    \n",
    "    # Immer Mehrheitsklasse vorhersagen\n",
    "    y_pred_majority = np.full(y_test.shape, y_train.mode().iloc[0])\n",
    "    \n",
    "    # Drucke die ersten 10 Werte\n",
    "    print(\"Ersten 10 Vorhersagen mit dem y_pred_majority:\", y_pred_majority[:10])\n",
    "    \n",
    "    # Leistung der Vorhersagen der Mehrheitsklasse bewerten\n",
    "    fbeta_mehrheit = fbeta_score(y_test, y_pred_majority, beta=beta, average='weighted')\n",
    "    print(f\"Fold Nummer {counter}: fbeta_mehrheit - Score ist {fbeta_mehrheit}\")\n",
    "    fbetas_mehrheit.append(fbeta_mehrheit)\n",
    "    \n",
    "    counter += 1\n",
    "\n",
    "# Durchschnittliche F-beta-Scores berechnen\n",
    "print(f'Random Weighted Predictions F-beta Score (mean): {np.mean(fbetas_random)}')\n",
    "print(f'Random Weighted Predictions F-beta Score (std): {np.std(fbetas_random)}')\n",
    "\n",
    "print(f'Majority Class Predictions F-beta Score (mean): {np.mean(fbetas_mehrheit)}')\n",
    "print(f'Majority Class Predictions F-beta Score (std): {np.std(fbetas_mehrheit)}')\n",
    "\n",
    "    "
   ],
   "id": "f6ccdf6e33312554",
   "outputs": [
    {
     "name": "stdout",
     "output_type": "stream",
     "text": [
      "Durchschnittlicher Random Forest F-beta Score (mean) mit unseren Daten: 0.4756496839403724\n",
      "Standardabweichung des Random Forest F-beta Score (std) mit unseren Daten: 0.00011202336212620579\n",
      "y_train: [1 1 1 1 1 1 1 1 1 1 1 1 1 0 0 0 0 0 0 0 0 0 0 0 0 0 0 0 0 0 0 1 0 0 0 0 0\n",
      " 0 0 0 0 1 0 0 0 0 0 0 0 0 0 0 1 0 0 0 0 0 0 0 0 1 1 0 0 0 0 0 0 1 0 0 0 0\n",
      " 1 0 0 0 0 1 0 0 0 0 1 0 1 0 0 0 0 0 1 0 0 0 0 1 1 0]\n",
      "y_test: [0 0 0 0 0 0 0 0 0 0 0 1 0 0 0 0 0 0 0 0 0 0 0 1 1 0 0 0 0 1 0 0 0 1 0 0 1\n",
      " 0 0 0 0 1 0 1 0 0 0 0 0 0 0 0 0 1 0 0 0 0 0 0 0 0 0 0 1 1 1 1 0 1 0 0 0 0\n",
      " 1 0 1 0 1 0 0 0 1 0 0 0 0 1 0 0 0 0 0 0 0 0 0 0 0 0]\n",
      "Ersten 10 Vorhersagen mit dem Random Forest Modell: [1 1 1 1 1 1 1 1 1 1]\n",
      "Ersten 10 Vorhersagen mit dem _random_weighted: [0 1 0 0 0 0 0 1 0 0]\n",
      "Fold Nummer 1: fbeta_random_weighted - Score ist 0.7463015685247019\n",
      "Ersten 10 Vorhersagen mit dem y_pred_majority: [0 0 0 0 0 0 0 0 0 0]\n",
      "Fold Nummer 1: fbeta_mehrheit - Score ist 0.8168620906598428\n",
      "y_train: [0 0 0 0 0 0 0 0 0 0 0 1 0 0 0 0 0 0 0 0 0 0 0 1 1 0 0 0 0 1 0 0 0 1 0 0 1\n",
      " 0 0 0 0 1 0 1 0 0 0 0 0 0 0 0 0 1 0 0 0 0 0 0 0 0 0 0 1 1 1 1 0 1 0 0 0 0\n",
      " 1 0 1 0 1 0 0 0 1 0 0 0 0 1 0 0 0 0 0 0 0 0 0 0 0 0]\n",
      "y_test: [1 1 1 1 1 1 1 1 1 1 1 1 1 0 0 0 0 0 0 0 0 0 0 0 0 0 0 0 0 0 0 1 0 0 0 0 0\n",
      " 0 0 0 0 1 0 0 0 0 0 0 0 0 0 0 1 0 0 0 0 0 0 0 0 1 1 0 0 0 0 0 0 1 0 0 0 0\n",
      " 1 0 0 0 0 1 0 0 0 0 1 0 1 0 0 0 0 0 1 0 0 0 0 1 1 0]\n",
      "Ersten 10 Vorhersagen mit dem Random Forest Modell: [1 1 1 1 1 1 1 1 1 1]\n",
      "Ersten 10 Vorhersagen mit dem _random_weighted: [0 0 0 0 0 0 1 0 0 0]\n",
      "Fold Nummer 2: fbeta_random_weighted - Score ist 0.7382707492767893\n",
      "Ersten 10 Vorhersagen mit dem y_pred_majority: [0 0 0 0 0 0 0 0 0 0]\n",
      "Fold Nummer 2: fbeta_mehrheit - Score ist 0.8168620906598428\n",
      "y_train: [0 0 0 0 0 0 0 0 0 0 0 1 0 0 0 0 0 0 0 0 0 0 0 1 1 0 0 0 0 1 0 0 0 1 0 0 1\n",
      " 0 0 0 0 1 0 1 0 0 0 0 0 0 0 0 0 1 0 0 0 0 0 0 0 0 0 0 1 1 1 1 0 1 0 0 0 0\n",
      " 1 0 1 0 1 0 0 0 1 0 0 0 0 1 0 0 0 0 0 0 0 0 0 0 0 0]\n",
      "y_test: [1 1 1 1 1 1 1 1 1 1 1 1 1 1 1 1 1 1 1 1 1 1 1 1 1 0 0 0 1 0 0 0 0 0 0 1 0\n",
      " 0 0 0 1 0 0 0 0 0 0 0 0 0 0 0 0 1 0 0 0 0 1 1 1 0 0 0 0 0 0 0 0 0 0 0 0 0\n",
      " 1 0 1 0 1 0 0 0 0 0 0 1 0 0 0 0 0 1 0 0 0 0 0 0 1 1]\n",
      "Ersten 10 Vorhersagen mit dem Random Forest Modell: [1 1 1 1 1 1 1 1 1 1]\n",
      "Ersten 10 Vorhersagen mit dem _random_weighted: [0 0 0 0 0 0 1 0 0 0]\n",
      "Fold Nummer 3: fbeta_random_weighted - Score ist 0.7309138770091184\n",
      "Ersten 10 Vorhersagen mit dem y_pred_majority: [0 0 0 0 0 0 0 0 0 0]\n",
      "Fold Nummer 3: fbeta_mehrheit - Score ist 0.8167143150750468\n",
      "y_train: [0 0 0 0 0 0 0 0 0 0 0 1 0 0 0 0 0 0 0 0 0 0 0 1 1 0 0 0 0 1 0 0 0 1 0 0 1\n",
      " 0 0 0 0 1 0 1 0 0 0 0 0 0 0 0 0 1 0 0 0 0 0 0 0 0 0 0 1 1 1 1 0 1 0 0 0 0\n",
      " 1 0 1 0 1 0 0 0 1 0 0 0 0 1 0 0 0 0 0 0 0 0 0 0 0 0]\n",
      "y_test: [1 1 1 1 1 1 1 1 1 1 1 1 1 1 1 1 1 1 1 1 1 1 1 1 1 1 1 1 1 0 0 0 1 0 0 1 0\n",
      " 0 0 0 0 0 1 0 0 0 0 0 1 0 0 1 0 0 0 0 0 0 0 0 0 0 0 0 0 0 1 0 0 0 0 0 0 0\n",
      " 0 0 0 1 0 0 0 1 0 0 0 0 0 1 0 0 0 0 0 0 0 0 0 0 1 1]\n",
      "Ersten 10 Vorhersagen mit dem Random Forest Modell: [1 1 1 1 1 1 1 1 1 1]\n",
      "Ersten 10 Vorhersagen mit dem _random_weighted: [0 0 0 0 0 0 1 0 0 0]\n",
      "Fold Nummer 4: fbeta_random_weighted - Score ist 0.7416122431135633\n",
      "Ersten 10 Vorhersagen mit dem y_pred_majority: [0 0 0 0 0 0 0 0 0 0]\n",
      "Fold Nummer 4: fbeta_mehrheit - Score ist 0.8167143150750468\n",
      "y_train: [0 0 0 0 0 0 0 0 0 0 0 1 0 0 0 0 0 0 0 0 0 0 0 1 1 0 0 0 0 1 0 0 0 1 0 0 1\n",
      " 0 0 0 0 1 0 1 0 0 0 0 0 0 0 0 0 1 0 0 0 0 0 0 0 0 0 0 1 1 1 1 0 1 0 0 0 0\n",
      " 1 0 1 0 1 0 0 0 1 0 0 0 0 1 0 0 0 0 0 0 0 0 0 0 0 0]\n",
      "y_test: [1 1 1 1 1 1 1 1 1 1 1 1 1 1 1 1 1 0 0 0 0 0 0 0 0 0 0 0 0 0 0 1 0 0 0 0 0\n",
      " 0 0 0 0 0 1 0 1 0 0 0 1 1 1 0 0 1 0 0 0 0 0 0 1 0 0 0 0 0 0 1 0 1 0 0 0 0\n",
      " 0 0 0 0 0 1 0 0 0 0 0 0 0 0 0 0 0 0 0 0 0 0 0 0 0 0]\n",
      "Ersten 10 Vorhersagen mit dem Random Forest Modell: [1 1 1 1 1 1 1 1 1 1]\n",
      "Ersten 10 Vorhersagen mit dem _random_weighted: [0 0 0 0 0 0 1 0 0 0]\n",
      "Fold Nummer 5: fbeta_random_weighted - Score ist 0.7340082584457402\n",
      "Ersten 10 Vorhersagen mit dem y_pred_majority: [0 0 0 0 0 0 0 0 0 0]\n",
      "Fold Nummer 5: fbeta_mehrheit - Score ist 0.8168394026197696\n",
      "Random Weighted Predictions F-beta Score (mean): 0.7382213392739827\n",
      "Random Weighted Predictions F-beta Score (std): 0.0054394821400489575\n",
      "Majority Class Predictions F-beta Score (mean): 0.8167984428179098\n",
      "Majority Class Predictions F-beta Score (std): 6.91877954155441e-05\n"
     ]
    }
   ],
   "execution_count": 5
  },
  {
   "metadata": {
    "ExecuteTime": {
     "end_time": "2024-08-26T13:41:34.979574Z",
     "start_time": "2024-08-26T13:41:34.977537Z"
    }
   },
   "cell_type": "code",
   "source": "",
   "id": "bc0c6383091941af",
   "outputs": [],
   "execution_count": null
  },
  {
   "metadata": {
    "ExecuteTime": {
     "end_time": "2024-08-26T13:41:35.043613Z",
     "start_time": "2024-08-26T13:41:35.037609Z"
    }
   },
   "cell_type": "code",
   "source": [
    "# Durchschnittliche Genauigkeiten berechnen\n",
    "mean_scores_rf = np.mean(fbetas_rf)\n",
    "mean_scores_random = np.mean(fbetas_random)\n",
    "mean_scores_mehrheit = np.mean(fbetas_mehrheit)"
   ],
   "id": "dcd08cc94652934f",
   "outputs": [
    {
     "name": "stderr",
     "output_type": "stream",
     "text": [
      "/home/anne/anaconda3/lib/python3.11/site-packages/numpy/core/fromnumeric.py:3504: RuntimeWarning: Mean of empty slice.\n",
      "  return _methods._mean(a, axis=axis, dtype=dtype,\n",
      "/home/anne/anaconda3/lib/python3.11/site-packages/numpy/core/_methods.py:129: RuntimeWarning: invalid value encountered in scalar divide\n",
      "  ret = ret.dtype.type(ret / rcount)\n"
     ]
    }
   ],
   "execution_count": 6
  },
  {
   "metadata": {
    "ExecuteTime": {
     "end_time": "2024-08-26T13:41:35.124092Z",
     "start_time": "2024-08-26T13:41:35.120747Z"
    }
   },
   "cell_type": "code",
   "source": [
    "print(f\"LogReg Mean score: {mean_scores_rf}\")\n",
    "print(f\"Weighted Random Prediction Mean score: {mean_scores_random}\")\n",
    "print(f\"Weighted Mehrheit Prediction Mean score: {mean_scores_mehrheit}\")\n"
   ],
   "id": "76d1e18435ebe2e",
   "outputs": [
    {
     "name": "stdout",
     "output_type": "stream",
     "text": [
      "LogReg Mean score: nan\n",
      "Weighted Random Prediction Mean score: 0.7382213392739827\n",
      "Weighted Mehrheit Prediction Mean score: 0.8167984428179098\n"
     ]
    }
   ],
   "execution_count": 7
  },
  {
   "metadata": {
    "ExecuteTime": {
     "end_time": "2024-08-26T13:41:35.211154Z",
     "start_time": "2024-08-26T13:41:35.190509Z"
    }
   },
   "cell_type": "code",
   "source": [
    "\n",
    "# Klassifikationsberichte für den letzten Fold ausgeben\n",
    "print(\"LogReg Classification Report (Last Fold):\")\n",
    "print(classification_report(y_test, y_pred_rf))\n",
    "\n",
    "print(\"Weighted Random Prediction Classification Report (Last Fold):\")\n",
    "print(classification_report(y_test, y_pred_random_weighted))"
   ],
   "id": "67d40de0fe392e46",
   "outputs": [
    {
     "name": "stdout",
     "output_type": "stream",
     "text": [
      "LogReg Classification Report (Last Fold):\n",
      "              precision    recall  f1-score   support\n",
      "\n",
      "           0       0.00      0.00      0.00      6787\n",
      "           1       0.15      1.00      0.27      1231\n",
      "\n",
      "    accuracy                           0.15      8018\n",
      "   macro avg       0.08      0.50      0.13      8018\n",
      "weighted avg       0.02      0.15      0.04      8018\n",
      "\n",
      "Weighted Random Prediction Classification Report (Last Fold):\n",
      "              precision    recall  f1-score   support\n",
      "\n",
      "           0       0.84      0.84      0.84      6787\n",
      "           1       0.14      0.15      0.14      1231\n",
      "\n",
      "    accuracy                           0.73      8018\n",
      "   macro avg       0.49      0.49      0.49      8018\n",
      "weighted avg       0.74      0.73      0.74      8018\n",
      "\n"
     ]
    },
    {
     "name": "stderr",
     "output_type": "stream",
     "text": [
      "/home/anne/anaconda3/lib/python3.11/site-packages/sklearn/metrics/_classification.py:1344: UndefinedMetricWarning: Precision and F-score are ill-defined and being set to 0.0 in labels with no predicted samples. Use `zero_division` parameter to control this behavior.\n",
      "  _warn_prf(average, modifier, msg_start, len(result))\n",
      "/home/anne/anaconda3/lib/python3.11/site-packages/sklearn/metrics/_classification.py:1344: UndefinedMetricWarning: Precision and F-score are ill-defined and being set to 0.0 in labels with no predicted samples. Use `zero_division` parameter to control this behavior.\n",
      "  _warn_prf(average, modifier, msg_start, len(result))\n",
      "/home/anne/anaconda3/lib/python3.11/site-packages/sklearn/metrics/_classification.py:1344: UndefinedMetricWarning: Precision and F-score are ill-defined and being set to 0.0 in labels with no predicted samples. Use `zero_division` parameter to control this behavior.\n",
      "  _warn_prf(average, modifier, msg_start, len(result))\n"
     ]
    }
   ],
   "execution_count": 8
  }
 ],
 "metadata": {
  "kernelspec": {
   "display_name": "Python 3",
   "language": "python",
   "name": "python3"
  },
  "language_info": {
   "codemirror_mode": {
    "name": "ipython",
    "version": 2
   },
   "file_extension": ".py",
   "mimetype": "text/x-python",
   "name": "python",
   "nbconvert_exporter": "python",
   "pygments_lexer": "ipython2",
   "version": "2.7.6"
  }
 },
 "nbformat": 4,
 "nbformat_minor": 5
}
