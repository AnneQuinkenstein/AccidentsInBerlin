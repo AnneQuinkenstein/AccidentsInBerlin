{
 "cells": [
  {
   "cell_type": "code",
   "id": "initial_id",
   "metadata": {
    "collapsed": true,
    "ExecuteTime": {
     "end_time": "2024-09-19T18:04:15.426781Z",
     "start_time": "2024-09-19T18:04:15.421906Z"
    }
   },
   "source": "kann es sein, dass beta=2 für fbeta score zu niedrig ist?",
   "outputs": [
    {
     "name": "stdout",
     "output_type": "stream",
     "text": [
      "Object `ist` not found.\n"
     ]
    }
   ],
   "execution_count": 5
  },
  {
   "metadata": {
    "ExecuteTime": {
     "end_time": "2024-09-19T18:04:26.964099Z",
     "start_time": "2024-09-19T18:04:15.439246Z"
    }
   },
   "cell_type": "code",
   "source": [
    "import numpy as np\n",
    "from sklearn.linear_model import LogisticRegression\n",
    "from sklearn.metrics import make_scorer, fbeta_score\n",
    "from sklearn.model_selection import StratifiedKFold, cross_val_score\n",
    "import pandas as pd\n",
    "\n",
    "# Lade Datensatz\n",
    "train_data_loaded = pd.read_csv('../data/train_data_2024-08-01.csv')\n",
    "X = train_data_loaded.drop(columns=['UKATEGORIE'])\n",
    "y = train_data_loaded['UKATEGORIE']\n",
    "\n",
    "# StratifiedKFold initialisieren\n",
    "skf = StratifiedKFold(n_splits=5, shuffle=True, random_state=42)\n",
    "\n",
    "# Liste von beta-Werten\n",
    "beta_values = [1, 2, 3, 5, 10, 50, 100]\n",
    "\n",
    "# Variablen für Ergebnisse\n",
    "results = {}\n",
    "\n",
    "for beta in beta_values:\n",
    "    fbeta_scorer = make_scorer(fbeta_score, beta=beta)\n",
    "    model_logreg = LogisticRegression(C=1, max_iter=1700, penalty='l2', solver='liblinear', tol=0.0001, random_state=42, class_weight={0: 1, 1: 9})\n",
    "    logreg_scores = cross_val_score(model_logreg, X, y, cv=skf, scoring=fbeta_scorer)\n",
    "    results[beta] = logreg_scores.mean()\n",
    "\n",
    "# Ergebnisse ausgeben\n",
    "for beta, score in results.items():\n",
    "    print(f'Beta: {beta}, F-beta Score (mean): {score}')"
   ],
   "id": "7ff83114b68f287b",
   "outputs": [
    {
     "name": "stdout",
     "output_type": "stream",
     "text": [
      "Beta: 1, F-beta Score (mean): 0.28777772921160116\n",
      "Beta: 2, F-beta Score (mean): 0.48240489744404214\n",
      "Beta: 3, F-beta Score (mean): 0.6228114595968568\n",
      "Beta: 5, F-beta Score (mean): 0.7587059999909253\n",
      "Beta: 10, F-beta Score (mean): 0.844195847918229\n",
      "Beta: 50, F-beta Score (mean): 0.877072668749238\n",
      "Beta: 100, F-beta Score (mean): 0.8781519765611858\n"
     ]
    }
   ],
   "execution_count": 6
  }
 ],
 "metadata": {
  "kernelspec": {
   "display_name": "Python 3",
   "language": "python",
   "name": "python3"
  },
  "language_info": {
   "codemirror_mode": {
    "name": "ipython",
    "version": 2
   },
   "file_extension": ".py",
   "mimetype": "text/x-python",
   "name": "python",
   "nbconvert_exporter": "python",
   "pygments_lexer": "ipython2",
   "version": "2.7.6"
  }
 },
 "nbformat": 4,
 "nbformat_minor": 5
}
