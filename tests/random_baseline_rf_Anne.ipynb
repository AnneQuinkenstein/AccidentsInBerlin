{
 "cells": [
  {
   "cell_type": "code",
   "id": "initial_id",
   "metadata": {
    "collapsed": true,
    "ExecuteTime": {
     "end_time": "2024-07-30T16:32:13.501138Z",
     "start_time": "2024-07-30T16:32:13.498449Z"
    }
   },
   "source": [
    "import numpy as np\n",
    "from sklearn.ensemble import RandomForestClassifier\n",
    "from sklearn.metrics import classification_report\n",
    "from collections import Counter\n",
    "import pandas as pd\n",
    "from sklearn.model_selection import StratifiedKFold\n",
    "from sklearn.metrics import make_scorer, fbeta_score"
   ],
   "outputs": [],
   "execution_count": 78
  },
  {
   "metadata": {
    "ExecuteTime": {
     "end_time": "2024-07-30T16:32:13.550189Z",
     "start_time": "2024-07-30T16:32:13.509014Z"
    }
   },
   "cell_type": "code",
   "source": [
    "# daten laden / teilen\n",
    "df = pd.read_csv('../data/GeneralDatensatz18-21ohneGeo-mitLockdown_mitCorona.csv', sep=';')\n",
    "\n",
    "X=df[['UMONAT','USTUNDE','UWOCHENTAG','UART','USTRZUSTAND','BEZ','UTYP1','ULICHTVERH','IstRad','IstPKW','IstFuss','IstKrad','IstGkfz','IstSonstige', 'LOCKDOWN', 'COVID']]\n",
    "#für tödliche Unfälle\n",
    "\n",
    "#für tödliche und schwere vs. leichte Unfälle  -> 1 ist schwer oder tödlich, 0 ist leicht\n",
    "y = df['UKATEGORIE'].isin([1, 2]).astype(int)\n",
    "#drucke die ersten 10 values von y\n",
    "print(y[:10])"
   ],
   "id": "3c17ed6e09fa6cec",
   "outputs": [
    {
     "name": "stdout",
     "output_type": "stream",
     "text": [
      "0    0\n",
      "1    0\n",
      "2    0\n",
      "3    0\n",
      "4    0\n",
      "5    0\n",
      "6    0\n",
      "7    1\n",
      "8    0\n",
      "9    0\n",
      "Name: UKATEGORIE, dtype: int64\n"
     ]
    }
   ],
   "execution_count": 79
  },
  {
   "metadata": {
    "ExecuteTime": {
     "end_time": "2024-07-30T16:32:13.553449Z",
     "start_time": "2024-07-30T16:32:13.551198Z"
    }
   },
   "cell_type": "code",
   "source": [
    "# StratifiedKFold initialisieren\n",
    "skf = StratifiedKFold(n_splits=5)\n",
    "\n",
    "# Variablen für Ergebnisse\n",
    "fbetas_rf = []\n",
    "fbetas_random = []\n",
    "fbetas_mehrheit = []"
   ],
   "id": "14640e88b6468603",
   "outputs": [],
   "execution_count": 80
  },
  {
   "metadata": {
    "ExecuteTime": {
     "end_time": "2024-07-30T16:32:13.555789Z",
     "start_time": "2024-07-30T16:32:13.554114Z"
    }
   },
   "cell_type": "code",
   "source": [
    "beta = 2\n",
    "fbeta_scorer= make_scorer(fbeta_score, beta=beta)"
   ],
   "id": "fcd1f4cf70853c46",
   "outputs": [],
   "execution_count": 81
  },
  {
   "metadata": {
    "ExecuteTime": {
     "end_time": "2024-07-30T16:32:53.806828Z",
     "start_time": "2024-07-30T16:32:13.556596Z"
    }
   },
   "cell_type": "code",
   "source": [
    "from sklearn.model_selection import cross_val_score\n",
    " \n",
    "counter = 0 \n",
    "# Stratified K-Fold Cross-Validation\n",
    "for (train_index, test_index) in skf.split(X, y):\n",
    "    X_train, X_test = X.iloc[train_index], X.iloc[test_index]\n",
    "    y_train, y_test = y.iloc[train_index], y.iloc[test_index]\n",
    "    \n",
    "    #drucke die ersten 10 values von y_train\n",
    "    print(\"ytrain\", y_train[:10])\n",
    "    #drucke die ersten 10 values von y_test\n",
    "    print(\"y-test\", y_test[:10])\n",
    "    \n",
    "    # Random Forest Modell trainieren\n",
    "    model = RandomForestClassifier(n_estimators=500, min_samples_split=5, min_samples_leaf=2, max_features='sqrt', max_depth=50, class_weight={0: 1, 1: 9}, random_state=42)\n",
    "    \n",
    "    model.fit(X_train, y_train)\n",
    "    \n",
    "    # Vorhersagen mit dem Random Forest Modell\n",
    "    y_pred_rf = model.predict(X_test)\n",
    "    print(\"ersten 10 Vorhersagen mit dem Random Forest Modelly\", y_pred_rf[:10])\n",
    "   \n",
    "    \n",
    "    # Leistung des Random Forest Modells bewerten\n",
    "    fbeta_rf = fbeta_score(y_test, y_pred_rf, beta=beta, average='weighted')\n",
    "    print(f\"Fold nummer {counter}: fbeta - score ist {fbeta_rf} \")\n",
    "    fbetas_rf.append(fbeta_rf)\n",
    "    \n",
    "     # jetzt mit random:\n",
    "\n",
    "    # Klassenverteilung im Testdatensatz ermitteln\n",
    "    class_counts = Counter(y_test)\n",
    "    total_samples = len(y_test)\n",
    "    class_probabilities = {cls: count / total_samples for cls, count in class_counts.items()}\n",
    "    \n",
    "    # Zufällige Vorhersagen basierend auf den Klassenwahrscheinlichkeiten erstellen\n",
    "    np.random.seed(42)\n",
    "    y_pred_random_weighted = np.random.choice(\n",
    "        list(class_probabilities.keys()),\n",
    "        size=y_test.shape,\n",
    "        # umdrehen: p=list(reversed(class_probabilities.values()))\n",
    "        p=list(class_probabilities.values())\n",
    "    )\n",
    "    #drucke die ersten 10 Werte\n",
    "    print(\"ersten 10 Vorhersagen mit dem _random_weighted\",y_pred_random_weighted[:10])\n",
    "    \n",
    "    # Leistung der gewichteten zufälligen Vorhersagen bewerten\n",
    "    fbeta_random_weighted = fbeta_score(y_test, y_pred_random_weighted, beta=beta, average='weighted')\n",
    "    print(f\"Fold nummer {counter}: fbeta_random_weighted - score ist {fbeta_random_weighted} \")\n",
    "    fbetas_random.append(fbeta_random_weighted)\n",
    "    \n",
    "    # immer mehrheitsklasse vorhersagen\n",
    "    y_pred_zeros =np.zeros(y_test.shape)\n",
    "   \n",
    "     #drucke die ersten 10 Werte\n",
    "    print(\"ersten 10 Vorhersagen mit dem y_pred_zeros\",y_pred_zeros[:10])\n",
    "    \n",
    "    # Leistung der Vorhersagen der mehrheitsklasse bewerten\n",
    "    fbeta_mehrheit = fbeta_score(y_test, y_pred_zeros, beta=beta, average='weighted')\n",
    "    print(f\"Fold nummer {counter}: fbeta_mehrheit - score ist {fbeta_mehrheit} \")\n",
    "    fbetas_mehrheit.append(fbeta_mehrheit)\n",
    "    counter = counter+1\n",
    "    \n",
    "    "
   ],
   "id": "f6ccdf6e33312554",
   "outputs": [
    {
     "name": "stdout",
     "output_type": "stream",
     "text": [
      "ytrain 9982    0\n",
      "9983    0\n",
      "9984    0\n",
      "9985    0\n",
      "9986    0\n",
      "9987    0\n",
      "9988    0\n",
      "9989    0\n",
      "9990    0\n",
      "9991    0\n",
      "Name: UKATEGORIE, dtype: int64\n",
      "y-test 0    0\n",
      "1    0\n",
      "2    0\n",
      "3    0\n",
      "4    0\n",
      "5    0\n",
      "6    0\n",
      "7    1\n",
      "8    0\n",
      "9    0\n",
      "Name: UKATEGORIE, dtype: int64\n",
      "ersten 10 Vorhersagen mit dem Random Forest Modelly [0 0 0 0 0 0 0 0 0 0]\n",
      "Fold nummer 0: fbeta - score ist 0.8022286453116609 \n",
      "ersten 10 Vorhersagen mit dem _random_weighted [0 1 0 0 0 0 0 1 0 0]\n",
      "Fold nummer 0: fbeta_random_weighted - score ist 0.7418018382188678 \n",
      "ersten 10 Vorhersagen mit dem y_pred_zeros [0. 0. 0. 0. 0. 0. 0. 0. 0. 0.]\n",
      "Fold nummer 0: fbeta_mehrheit - score ist 0.8166006394009186 \n",
      "ytrain 0    0\n",
      "1    0\n",
      "2    0\n",
      "3    0\n",
      "4    0\n",
      "5    0\n",
      "6    0\n",
      "7    1\n",
      "8    0\n",
      "9    0\n",
      "Name: UKATEGORIE, dtype: int64\n",
      "y-test 9982    0\n",
      "9983    0\n",
      "9984    0\n",
      "9985    0\n",
      "9986    0\n",
      "9987    0\n",
      "9988    0\n",
      "9989    0\n",
      "9990    0\n",
      "9991    0\n",
      "Name: UKATEGORIE, dtype: int64\n",
      "ersten 10 Vorhersagen mit dem Random Forest Modelly [0 0 1 0 0 0 0 0 0 0]\n",
      "Fold nummer 1: fbeta - score ist 0.8077916430750132 \n",
      "ersten 10 Vorhersagen mit dem _random_weighted [0 1 0 0 0 0 0 1 0 0]\n",
      "Fold nummer 1: fbeta_random_weighted - score ist 0.7418018382188678 \n",
      "ersten 10 Vorhersagen mit dem y_pred_zeros [0. 0. 0. 0. 0. 0. 0. 0. 0. 0.]\n",
      "Fold nummer 1: fbeta_mehrheit - score ist 0.8166006394009186 \n",
      "ytrain 0    0\n",
      "1    0\n",
      "2    0\n",
      "3    0\n",
      "4    0\n",
      "5    0\n",
      "6    0\n",
      "7    1\n",
      "8    0\n",
      "9    0\n",
      "Name: UKATEGORIE, dtype: int64\n",
      "y-test 20002    0\n",
      "20004    0\n",
      "20005    0\n",
      "20006    0\n",
      "20007    0\n",
      "20008    0\n",
      "20009    0\n",
      "20010    0\n",
      "20011    0\n",
      "20012    0\n",
      "Name: UKATEGORIE, dtype: int64\n",
      "ersten 10 Vorhersagen mit dem Random Forest Modelly [0 0 0 0 1 0 0 0 0 0]\n",
      "Fold nummer 2: fbeta - score ist 0.8052951853922199 \n",
      "ersten 10 Vorhersagen mit dem _random_weighted [0 1 0 0 0 0 0 1 0 0]\n",
      "Fold nummer 2: fbeta_random_weighted - score ist 0.7446038202025342 \n",
      "ersten 10 Vorhersagen mit dem y_pred_zeros [0. 0. 0. 0. 0. 0. 0. 0. 0. 0.]\n",
      "Fold nummer 2: fbeta_mehrheit - score ist 0.8166006394009186 \n",
      "ytrain 0    0\n",
      "1    0\n",
      "2    0\n",
      "3    0\n",
      "4    0\n",
      "5    0\n",
      "6    0\n",
      "7    1\n",
      "8    0\n",
      "9    0\n",
      "Name: UKATEGORIE, dtype: int64\n",
      "y-test 29977    0\n",
      "29979    0\n",
      "29980    0\n",
      "29981    0\n",
      "29982    0\n",
      "29983    0\n",
      "29984    0\n",
      "29985    0\n",
      "29986    0\n",
      "29987    0\n",
      "Name: UKATEGORIE, dtype: int64\n",
      "ersten 10 Vorhersagen mit dem Random Forest Modelly [0 1 0 0 0 0 0 0 1 0]\n",
      "Fold nummer 3: fbeta - score ist 0.7913322719920324 \n",
      "ersten 10 Vorhersagen mit dem _random_weighted [0 1 0 0 0 0 0 1 0 0]\n",
      "Fold nummer 3: fbeta_random_weighted - score ist 0.7453790054696134 \n",
      "ersten 10 Vorhersagen mit dem y_pred_zeros [0. 0. 0. 0. 0. 0. 0. 0. 0. 0.]\n",
      "Fold nummer 3: fbeta_mehrheit - score ist 0.8165824641866629 \n",
      "ytrain 0    0\n",
      "1    0\n",
      "2    0\n",
      "3    0\n",
      "4    0\n",
      "5    0\n",
      "6    0\n",
      "7    1\n",
      "8    0\n",
      "9    0\n",
      "Name: UKATEGORIE, dtype: int64\n",
      "y-test 40035    0\n",
      "40036    0\n",
      "40037    0\n",
      "40038    0\n",
      "40039    0\n",
      "40040    0\n",
      "40042    0\n",
      "40043    0\n",
      "40044    0\n",
      "40045    0\n",
      "Name: UKATEGORIE, dtype: int64\n",
      "ersten 10 Vorhersagen mit dem Random Forest Modelly [0 0 1 1 0 0 0 0 0 0]\n",
      "Fold nummer 4: fbeta - score ist 0.7972555903778153 \n",
      "ersten 10 Vorhersagen mit dem _random_weighted [0 1 0 0 0 0 0 1 0 0]\n",
      "Fold nummer 4: fbeta_random_weighted - score ist 0.7411756134981385 \n",
      "ersten 10 Vorhersagen mit dem y_pred_zeros [0. 0. 0. 0. 0. 0. 0. 0. 0. 0.]\n",
      "Fold nummer 4: fbeta_mehrheit - score ist 0.8165824641866629 \n"
     ]
    }
   ],
   "execution_count": 82
  },
  {
   "metadata": {
    "ExecuteTime": {
     "end_time": "2024-07-30T16:32:53.809150Z",
     "start_time": "2024-07-30T16:32:53.807476Z"
    }
   },
   "cell_type": "code",
   "source": "",
   "id": "bc0c6383091941af",
   "outputs": [],
   "execution_count": 82
  },
  {
   "metadata": {
    "ExecuteTime": {
     "end_time": "2024-07-30T16:32:53.811799Z",
     "start_time": "2024-07-30T16:32:53.809570Z"
    }
   },
   "cell_type": "code",
   "source": [
    "# Durchschnittliche Genauigkeiten berechnen\n",
    "mean_scores_rf = np.mean(fbetas_rf)\n",
    "mean_scores_random = np.mean(fbetas_random)\n",
    "mean_scores_mehrheit = np.mean(fbetas_mehrheit)"
   ],
   "id": "dcd08cc94652934f",
   "outputs": [],
   "execution_count": 83
  },
  {
   "metadata": {
    "ExecuteTime": {
     "end_time": "2024-07-30T16:32:53.822925Z",
     "start_time": "2024-07-30T16:32:53.812336Z"
    }
   },
   "cell_type": "code",
   "source": [
    "print(f\"LogReg Mean score: {mean_scores_rf}\")\n",
    "print(f\"Weighted Random Prediction Mean score: {mean_scores_random}\")\n",
    "print(f\"Weighted Mehrheit Prediction Mean score: {mean_scores_mehrheit}\")\n"
   ],
   "id": "76d1e18435ebe2e",
   "outputs": [
    {
     "name": "stdout",
     "output_type": "stream",
     "text": [
      "LogReg Mean score: 0.8007806672297484\n",
      "Weighted Random Prediction Mean score: 0.7429524231216044\n",
      "Weighted Mehrheit Prediction Mean score: 0.8165933693152164\n"
     ]
    }
   ],
   "execution_count": 84
  },
  {
   "metadata": {
    "ExecuteTime": {
     "end_time": "2024-07-30T16:32:53.842125Z",
     "start_time": "2024-07-30T16:32:53.823724Z"
    }
   },
   "cell_type": "code",
   "source": [
    "\n",
    "# Klassifikationsberichte für den letzten Fold ausgeben\n",
    "print(\"LogReg Classification Report (Last Fold):\")\n",
    "print(classification_report(y_test, y_pred_rf))\n",
    "\n",
    "print(\"Weighted Random Prediction Classification Report (Last Fold):\")\n",
    "print(classification_report(y_test, y_pred_random_weighted))"
   ],
   "id": "67d40de0fe392e46",
   "outputs": [
    {
     "name": "stdout",
     "output_type": "stream",
     "text": [
      "LogReg Classification Report (Last Fold):\n",
      "              precision    recall  f1-score   support\n",
      "\n",
      "           0       0.87      0.91      0.89      8482\n",
      "           1       0.31      0.23      0.26      1541\n",
      "\n",
      "    accuracy                           0.80     10023\n",
      "   macro avg       0.59      0.57      0.57     10023\n",
      "weighted avg       0.78      0.80      0.79     10023\n",
      "\n",
      "Weighted Random Prediction Classification Report (Last Fold):\n",
      "              precision    recall  f1-score   support\n",
      "\n",
      "           0       0.85      0.85      0.85      8482\n",
      "           1       0.15      0.14      0.14      1541\n",
      "\n",
      "    accuracy                           0.74     10023\n",
      "   macro avg       0.50      0.50      0.50     10023\n",
      "weighted avg       0.74      0.74      0.74     10023\n",
      "\n"
     ]
    }
   ],
   "execution_count": 85
  }
 ],
 "metadata": {
  "kernelspec": {
   "display_name": "Python 3",
   "language": "python",
   "name": "python3"
  },
  "language_info": {
   "codemirror_mode": {
    "name": "ipython",
    "version": 2
   },
   "file_extension": ".py",
   "mimetype": "text/x-python",
   "name": "python",
   "nbconvert_exporter": "python",
   "pygments_lexer": "ipython2",
   "version": "2.7.6"
  }
 },
 "nbformat": 4,
 "nbformat_minor": 5
}
