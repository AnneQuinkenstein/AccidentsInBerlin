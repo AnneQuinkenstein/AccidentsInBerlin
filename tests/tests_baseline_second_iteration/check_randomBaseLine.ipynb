{
 "cells": [
  {
   "metadata": {
    "ExecuteTime": {
     "end_time": "2024-09-20T18:55:49.297621Z",
     "start_time": "2024-09-20T18:55:49.284206Z"
    }
   },
   "cell_type": "code",
   "source": [
    "import numpy as np\n",
    "from sklearn.linear_model import LogisticRegression \n",
    "from sklearn.metrics import classification_report\n",
    "from collections import Counter\n",
    "import pandas as pd\n",
    "from sklearn.model_selection import StratifiedKFold,  cross_val_score\n",
    "from sklearn.metrics import make_scorer, fbeta_score"
   ],
   "id": "67e97767e45156e",
   "outputs": [],
   "execution_count": 40
  },
  {
   "metadata": {
    "ExecuteTime": {
     "end_time": "2024-09-20T18:55:49.573760Z",
     "start_time": "2024-09-20T18:55:49.447695Z"
    }
   },
   "cell_type": "code",
   "source": [
    "# Lade Datensatz\n",
    "train_data_loaded = pd.read_csv('../../data/train_data_2024-08-01.csv')\n",
    "X = train_data_loaded.drop(columns=['UKATEGORIE'])\n",
    "y = train_data_loaded['UKATEGORIE']\n"
   ],
   "id": "1af4db23cbd3c29b",
   "outputs": [],
   "execution_count": 41
  },
  {
   "metadata": {
    "ExecuteTime": {
     "end_time": "2024-09-20T18:55:49.606601Z",
     "start_time": "2024-09-20T18:55:49.581213Z"
    }
   },
   "cell_type": "code",
   "source": [
    "# StratifiedKFold initialisieren\n",
    "skf = StratifiedKFold(n_splits=5, shuffle=True, random_state=42)\n",
    "\n",
    "# Variablen für Ergebnisse\n",
    "fbetas_rf = []\n",
    "fbetas_random = []\n",
    "fbetas_mehrheit = []"
   ],
   "id": "a32a140d80216a4e",
   "outputs": [],
   "execution_count": 42
  },
  {
   "metadata": {
    "ExecuteTime": {
     "end_time": "2024-09-20T18:55:49.637443Z",
     "start_time": "2024-09-20T18:55:49.608880Z"
    }
   },
   "cell_type": "code",
   "source": [
    "# Liste von beta-Werten\n",
    "beta_values = [0.7, 0.9, 1, 2, 3, 5, 10, 15, 20, 30, 50]\n",
    "\n",
    "# Variablen für Ergebnisse\n",
    "results = {}\n",
    "results_rf = {}\n",
    "results_random = {}\n",
    "results_mehrheit = {}\n",
    "results_rf_recall = {}\n",
    "results_random_recall = {}\n",
    "results_majority_recall = {}\n",
    "results_rf_precision = {}\n",
    "results_random_precision = {}\n",
    "results_majority_precision = {}\n"
   ],
   "id": "13a8101206445b80",
   "outputs": [],
   "execution_count": 43
  },
  {
   "metadata": {
    "ExecuteTime": {
     "end_time": "2024-09-20T18:56:33.848407Z",
     "start_time": "2024-09-20T18:55:49.642692Z"
    }
   },
   "cell_type": "code",
   "source": [
    "from sklearn.metrics import recall_score, precision_score\n",
    "\n",
    "for beta in beta_values:\n",
    "    fbeta_scorer = make_scorer(fbeta_score, beta=beta)\n",
    "    model_logreg = LogisticRegression(C=1, max_iter=1700, penalty='l2', solver='liblinear', tol=0.0001, random_state=42, class_weight={0: 1, 1: 9})\n",
    "    logreg_scores = cross_val_score(model_logreg, X, y, cv=skf, scoring=fbeta_scorer)\n",
    "    results[beta] = logreg_scores.mean()\n",
    "\n",
    "   # print(f'LogReg F betas für beta = {beta}: {logreg_scores}')\n",
    "   # print(f'LogReg F-beta Score (mean) für beta = {beta}: {logreg_scores.mean()}')\n",
    "\n",
    "    # Variablen für Ergebnisse\n",
    "    fbetas_rf = []\n",
    "    fbetas_random = []\n",
    "    fbetas_mehrheit = []\n",
    "    recall_rf = []\n",
    "    recall_random = []\n",
    "    recall_majority = []\n",
    "    precision_scores_rf = []\n",
    "    precision_scores_random = []\n",
    "    precision_scores_majority = []\n",
    "    \n",
    "    counter = 1\n",
    "    for train_index, test_index in skf.split(X, y):\n",
    "        X_train, X_test = X.iloc[train_index], X.iloc[test_index]\n",
    "        y_train, y_test = y.iloc[train_index], y.iloc[test_index]\n",
    "        \n",
    "        # Drucke die ersten 10 values von y_train\n",
    "        print(f\"Die ersten 20 Werte von y_train für beta = {beta}:               \", y_train.values[:20])\n",
    "        # Drucke die ersten 10 values von y_test\n",
    "        print(f\"Die ersten 20 Werte von y_test für beta = {beta}:                \", y_test.values[:20])\n",
    "        \n",
    "        # Random Forest Modell trainieren\n",
    "        model_logreg.fit(X_train, y_train)\n",
    "        y_pred_rf = model_logreg.predict(X_test)\n",
    "        print(f\"Ersten 20 Vorhersagen mit dem Modell für beta = {beta}:          \", y_pred_rf[:20])\n",
    "        recall_rf.append(recall_score(y_test, y_pred_rf))      \n",
    "        precision_scores_rf.append(precision_score(y_test, y_pred_rf))\n",
    "        \n",
    "        # Zufällige Vorhersagen basierend auf den Klassenwahrscheinlichkeiten erstellen\n",
    "        class_counts = Counter(y_test)\n",
    "        total_samples = len(y_test)\n",
    "        class_probabilities = {cls: count / total_samples for cls, count in class_counts.items()}\n",
    "        \n",
    "        np.random.seed(42)\n",
    "        y_pred_random_weighted = np.random.choice(\n",
    "            list(class_probabilities.keys()),\n",
    "            size=y_test.shape,\n",
    "            p=list(class_probabilities.values())\n",
    "        )\n",
    "        \n",
    "        recall_random.append(recall_score(y_test, y_pred_random_weighted)) \n",
    "        precision_scores_random.append(precision_score(y_test, y_pred_random_weighted))\n",
    "        \n",
    "        # Drucke die ersten 10 Werte\n",
    "        print(f\"Ersten 20 Vorhersagen mit dem _random_weighted für beta = {beta}:\", y_pred_random_weighted[:20])\n",
    "        \n",
    "        # Leistung der gewichteten zufälligen Vorhersagen bewerten\n",
    "        fbeta_random_weighted = fbeta_score(y_test, y_pred_random_weighted, beta=beta )\n",
    "      \n",
    "        fbetas_random.append(fbeta_random_weighted)\n",
    "         \n",
    "        # Immer Mehrheitsklasse vorhersagen\n",
    "        y_pred_majority = np.full(y_test.shape, y_train.mode().iloc[0])\n",
    "        \n",
    "        recall_majority.append(recall_score(y_test, y_pred_majority))\n",
    "        precision_scores_majority.append(precision_score(y_test, y_pred_majority))\n",
    "        \n",
    "        # Drucke die ersten 10 Werte\n",
    "        print(f\"Ersten 20 Vorhersagen mit dem y_pred_majority für beta = {beta}: \", y_pred_majority[:20])\n",
    "        \n",
    "        # Leistung der Vorhersagen der Mehrheitsklasse bewerten\n",
    "        fbeta_mehrheit = fbeta_score(y_test, y_pred_majority, beta=beta)\n",
    "        \n",
    "       # print(f\"Fold Nummer {counter}: fbeta_random_weighted - Score ist {fbeta_random_weighted}\")\n",
    "       # print(f\"Fold Nummer {counter}: fbeta_mehrheit - Score ist {fbeta_mehrheit}\")\n",
    "        fbetas_mehrheit.append(fbeta_mehrheit)\n",
    "        \n",
    "        \n",
    "        counter += 1\n",
    "        \n",
    "    results_rf[beta] = np.mean(logreg_scores)\n",
    "    results_random[beta] = np.mean(fbetas_random)\n",
    "    results_mehrheit[beta] =  np.mean(fbetas_mehrheit)\n",
    "    results_rf_recall[beta] = np.mean(recall_rf) \n",
    "    results_random_recall[beta] = np.mean(recall_random)\n",
    "    results_majority_recall[beta] = np.mean(recall_majority)\n",
    "    results_rf_precision[beta] = np.mean(precision_scores_rf)\n",
    "    results_random_precision[beta] = np.mean(precision_scores_random)\n",
    "    results_majority_precision[beta] = np.mean(precision_scores_majority)\n",
    "    \n",
    "       "
   ],
   "id": "3960b806447649de",
   "outputs": [
    {
     "name": "stdout",
     "output_type": "stream",
     "text": [
      "Die ersten 20 Werte von y_train für beta = 0.7:                [0 0 0 0 0 0 0 0 1 0 0 0 0 0 0 0 0 0 0 1]\n",
      "Die ersten 20 Werte von y_test für beta = 0.7:                 [0 0 0 0 0 1 0 0 0 0 0 1 1 1 0 0 0 0 0 0]\n",
      "Ersten 20 Vorhersagen mit dem Modell für beta = 0.7:           [1 1 1 0 1 1 1 1 1 0 0 1 1 1 1 1 1 0 1 0]\n",
      "Ersten 20 Vorhersagen mit dem _random_weighted für beta = 0.7: [0 1 0 0 0 0 0 1 0 0 0 1 0 0 0 0 0 0 0 0]\n",
      "Ersten 20 Vorhersagen mit dem y_pred_majority für beta = 0.7:  [0 0 0 0 0 0 0 0 0 0 0 0 0 0 0 0 0 0 0 0]\n",
      "Die ersten 20 Werte von y_train für beta = 0.7:                [0 0 0 0 0 0 0 0 0 0 1 0 0 0 0 0 0 0 1 0]\n",
      "Die ersten 20 Werte von y_test für beta = 0.7:                 [0 0 0 0 0 1 0 0 0 0 0 0 0 0 0 1 1 0 0 0]\n"
     ]
    },
    {
     "name": "stderr",
     "output_type": "stream",
     "text": [
      "/home/lisa/Code/Python/data_science1/.venv/lib/python3.12/site-packages/sklearn/metrics/_classification.py:1509: UndefinedMetricWarning: Precision is ill-defined and being set to 0.0 due to no predicted samples. Use `zero_division` parameter to control this behavior.\n",
      "  _warn_prf(average, modifier, f\"{metric.capitalize()} is\", len(result))\n"
     ]
    },
    {
     "name": "stdout",
     "output_type": "stream",
     "text": [
      "Ersten 20 Vorhersagen mit dem Modell für beta = 0.7:           [1 1 1 1 1 1 1 1 1 1 1 1 1 1 1 1 1 1 1 1]\n",
      "Ersten 20 Vorhersagen mit dem _random_weighted für beta = 0.7: [0 1 0 0 0 0 0 1 0 0 0 1 0 0 0 0 0 0 0 0]\n",
      "Ersten 20 Vorhersagen mit dem y_pred_majority für beta = 0.7:  [0 0 0 0 0 0 0 0 0 0 0 0 0 0 0 0 0 0 0 0]\n",
      "Die ersten 20 Werte von y_train für beta = 0.7:                [0 0 0 0 0 0 0 0 1 0 0 0 0 0 0 0 0 1 1 0]\n",
      "Die ersten 20 Werte von y_test für beta = 0.7:                 [0 0 0 0 0 0 0 1 0 0 0 1 0 0 0 0 0 1 1 0]\n"
     ]
    },
    {
     "name": "stderr",
     "output_type": "stream",
     "text": [
      "/home/lisa/Code/Python/data_science1/.venv/lib/python3.12/site-packages/sklearn/metrics/_classification.py:1509: UndefinedMetricWarning: Precision is ill-defined and being set to 0.0 due to no predicted samples. Use `zero_division` parameter to control this behavior.\n",
      "  _warn_prf(average, modifier, f\"{metric.capitalize()} is\", len(result))\n"
     ]
    },
    {
     "name": "stdout",
     "output_type": "stream",
     "text": [
      "Ersten 20 Vorhersagen mit dem Modell für beta = 0.7:           [1 1 1 1 1 0 1 1 1 1 1 1 1 1 1 1 1 1 1 1]\n",
      "Ersten 20 Vorhersagen mit dem _random_weighted für beta = 0.7: [0 1 0 0 0 0 0 1 0 0 0 1 0 0 0 0 0 0 0 0]\n",
      "Ersten 20 Vorhersagen mit dem y_pred_majority für beta = 0.7:  [0 0 0 0 0 0 0 0 0 0 0 0 0 0 0 0 0 0 0 0]\n",
      "Die ersten 20 Werte von y_train für beta = 0.7:                [0 0 0 0 0 0 0 0 0 1 0 0 0 0 0 0 0 0 0 0]\n",
      "Die ersten 20 Werte von y_test für beta = 0.7:                 [0 0 0 1 0 0 0 1 0 0 1 0 0 0 0 0 0 0 0 0]\n"
     ]
    },
    {
     "name": "stderr",
     "output_type": "stream",
     "text": [
      "/home/lisa/Code/Python/data_science1/.venv/lib/python3.12/site-packages/sklearn/metrics/_classification.py:1509: UndefinedMetricWarning: Precision is ill-defined and being set to 0.0 due to no predicted samples. Use `zero_division` parameter to control this behavior.\n",
      "  _warn_prf(average, modifier, f\"{metric.capitalize()} is\", len(result))\n"
     ]
    },
    {
     "name": "stdout",
     "output_type": "stream",
     "text": [
      "Ersten 20 Vorhersagen mit dem Modell für beta = 0.7:           [1 0 0 1 0 1 1 1 1 1 1 0 1 1 0 0 0 1 1 1]\n",
      "Ersten 20 Vorhersagen mit dem _random_weighted für beta = 0.7: [0 1 0 0 0 0 0 1 0 0 0 1 0 0 0 0 0 0 0 0]\n",
      "Ersten 20 Vorhersagen mit dem y_pred_majority für beta = 0.7:  [0 0 0 0 0 0 0 0 0 0 0 0 0 0 0 0 0 0 0 0]\n",
      "Die ersten 20 Werte von y_train für beta = 0.7:                [0 0 0 0 0 0 0 0 0 0 0 0 0 0 0 0 0 0 1 0]\n",
      "Die ersten 20 Werte von y_test für beta = 0.7:                 [0 0 1 0 0 1 0 0 1 0 0 0 0 0 1 0 0 0 0 0]\n"
     ]
    },
    {
     "name": "stderr",
     "output_type": "stream",
     "text": [
      "/home/lisa/Code/Python/data_science1/.venv/lib/python3.12/site-packages/sklearn/metrics/_classification.py:1509: UndefinedMetricWarning: Precision is ill-defined and being set to 0.0 due to no predicted samples. Use `zero_division` parameter to control this behavior.\n",
      "  _warn_prf(average, modifier, f\"{metric.capitalize()} is\", len(result))\n"
     ]
    },
    {
     "name": "stdout",
     "output_type": "stream",
     "text": [
      "Ersten 20 Vorhersagen mit dem Modell für beta = 0.7:           [1 0 1 1 1 1 1 1 0 1 1 1 1 1 1 1 1 0 1 1]\n",
      "Ersten 20 Vorhersagen mit dem _random_weighted für beta = 0.7: [0 1 0 0 0 0 0 1 0 0 0 1 0 0 0 0 0 0 0 0]\n",
      "Ersten 20 Vorhersagen mit dem y_pred_majority für beta = 0.7:  [0 0 0 0 0 0 0 0 0 0 0 0 0 0 0 0 0 0 0 0]\n"
     ]
    },
    {
     "name": "stderr",
     "output_type": "stream",
     "text": [
      "/home/lisa/Code/Python/data_science1/.venv/lib/python3.12/site-packages/sklearn/metrics/_classification.py:1509: UndefinedMetricWarning: Precision is ill-defined and being set to 0.0 due to no predicted samples. Use `zero_division` parameter to control this behavior.\n",
      "  _warn_prf(average, modifier, f\"{metric.capitalize()} is\", len(result))\n"
     ]
    },
    {
     "name": "stdout",
     "output_type": "stream",
     "text": [
      "Die ersten 20 Werte von y_train für beta = 0.9:                [0 0 0 0 0 0 0 0 1 0 0 0 0 0 0 0 0 0 0 1]\n",
      "Die ersten 20 Werte von y_test für beta = 0.9:                 [0 0 0 0 0 1 0 0 0 0 0 1 1 1 0 0 0 0 0 0]\n",
      "Ersten 20 Vorhersagen mit dem Modell für beta = 0.9:           [1 1 1 0 1 1 1 1 1 0 0 1 1 1 1 1 1 0 1 0]\n",
      "Ersten 20 Vorhersagen mit dem _random_weighted für beta = 0.9: [0 1 0 0 0 0 0 1 0 0 0 1 0 0 0 0 0 0 0 0]\n",
      "Ersten 20 Vorhersagen mit dem y_pred_majority für beta = 0.9:  [0 0 0 0 0 0 0 0 0 0 0 0 0 0 0 0 0 0 0 0]\n",
      "Die ersten 20 Werte von y_train für beta = 0.9:                [0 0 0 0 0 0 0 0 0 0 1 0 0 0 0 0 0 0 1 0]\n",
      "Die ersten 20 Werte von y_test für beta = 0.9:                 [0 0 0 0 0 1 0 0 0 0 0 0 0 0 0 1 1 0 0 0]\n"
     ]
    },
    {
     "name": "stderr",
     "output_type": "stream",
     "text": [
      "/home/lisa/Code/Python/data_science1/.venv/lib/python3.12/site-packages/sklearn/metrics/_classification.py:1509: UndefinedMetricWarning: Precision is ill-defined and being set to 0.0 due to no predicted samples. Use `zero_division` parameter to control this behavior.\n",
      "  _warn_prf(average, modifier, f\"{metric.capitalize()} is\", len(result))\n"
     ]
    },
    {
     "name": "stdout",
     "output_type": "stream",
     "text": [
      "Ersten 20 Vorhersagen mit dem Modell für beta = 0.9:           [1 1 1 1 1 1 1 1 1 1 1 1 1 1 1 1 1 1 1 1]\n",
      "Ersten 20 Vorhersagen mit dem _random_weighted für beta = 0.9: [0 1 0 0 0 0 0 1 0 0 0 1 0 0 0 0 0 0 0 0]\n",
      "Ersten 20 Vorhersagen mit dem y_pred_majority für beta = 0.9:  [0 0 0 0 0 0 0 0 0 0 0 0 0 0 0 0 0 0 0 0]\n",
      "Die ersten 20 Werte von y_train für beta = 0.9:                [0 0 0 0 0 0 0 0 1 0 0 0 0 0 0 0 0 1 1 0]\n",
      "Die ersten 20 Werte von y_test für beta = 0.9:                 [0 0 0 0 0 0 0 1 0 0 0 1 0 0 0 0 0 1 1 0]\n"
     ]
    },
    {
     "name": "stderr",
     "output_type": "stream",
     "text": [
      "/home/lisa/Code/Python/data_science1/.venv/lib/python3.12/site-packages/sklearn/metrics/_classification.py:1509: UndefinedMetricWarning: Precision is ill-defined and being set to 0.0 due to no predicted samples. Use `zero_division` parameter to control this behavior.\n",
      "  _warn_prf(average, modifier, f\"{metric.capitalize()} is\", len(result))\n"
     ]
    },
    {
     "name": "stdout",
     "output_type": "stream",
     "text": [
      "Ersten 20 Vorhersagen mit dem Modell für beta = 0.9:           [1 1 1 1 1 0 1 1 1 1 1 1 1 1 1 1 1 1 1 1]\n",
      "Ersten 20 Vorhersagen mit dem _random_weighted für beta = 0.9: [0 1 0 0 0 0 0 1 0 0 0 1 0 0 0 0 0 0 0 0]\n",
      "Ersten 20 Vorhersagen mit dem y_pred_majority für beta = 0.9:  [0 0 0 0 0 0 0 0 0 0 0 0 0 0 0 0 0 0 0 0]\n",
      "Die ersten 20 Werte von y_train für beta = 0.9:                [0 0 0 0 0 0 0 0 0 1 0 0 0 0 0 0 0 0 0 0]\n",
      "Die ersten 20 Werte von y_test für beta = 0.9:                 [0 0 0 1 0 0 0 1 0 0 1 0 0 0 0 0 0 0 0 0]\n"
     ]
    },
    {
     "name": "stderr",
     "output_type": "stream",
     "text": [
      "/home/lisa/Code/Python/data_science1/.venv/lib/python3.12/site-packages/sklearn/metrics/_classification.py:1509: UndefinedMetricWarning: Precision is ill-defined and being set to 0.0 due to no predicted samples. Use `zero_division` parameter to control this behavior.\n",
      "  _warn_prf(average, modifier, f\"{metric.capitalize()} is\", len(result))\n"
     ]
    },
    {
     "name": "stdout",
     "output_type": "stream",
     "text": [
      "Ersten 20 Vorhersagen mit dem Modell für beta = 0.9:           [1 0 0 1 0 1 1 1 1 1 1 0 1 1 0 0 0 1 1 1]\n",
      "Ersten 20 Vorhersagen mit dem _random_weighted für beta = 0.9: [0 1 0 0 0 0 0 1 0 0 0 1 0 0 0 0 0 0 0 0]\n",
      "Ersten 20 Vorhersagen mit dem y_pred_majority für beta = 0.9:  [0 0 0 0 0 0 0 0 0 0 0 0 0 0 0 0 0 0 0 0]\n",
      "Die ersten 20 Werte von y_train für beta = 0.9:                [0 0 0 0 0 0 0 0 0 0 0 0 0 0 0 0 0 0 1 0]\n",
      "Die ersten 20 Werte von y_test für beta = 0.9:                 [0 0 1 0 0 1 0 0 1 0 0 0 0 0 1 0 0 0 0 0]\n"
     ]
    },
    {
     "name": "stderr",
     "output_type": "stream",
     "text": [
      "/home/lisa/Code/Python/data_science1/.venv/lib/python3.12/site-packages/sklearn/metrics/_classification.py:1509: UndefinedMetricWarning: Precision is ill-defined and being set to 0.0 due to no predicted samples. Use `zero_division` parameter to control this behavior.\n",
      "  _warn_prf(average, modifier, f\"{metric.capitalize()} is\", len(result))\n"
     ]
    },
    {
     "name": "stdout",
     "output_type": "stream",
     "text": [
      "Ersten 20 Vorhersagen mit dem Modell für beta = 0.9:           [1 0 1 1 1 1 1 1 0 1 1 1 1 1 1 1 1 0 1 1]\n",
      "Ersten 20 Vorhersagen mit dem _random_weighted für beta = 0.9: [0 1 0 0 0 0 0 1 0 0 0 1 0 0 0 0 0 0 0 0]\n",
      "Ersten 20 Vorhersagen mit dem y_pred_majority für beta = 0.9:  [0 0 0 0 0 0 0 0 0 0 0 0 0 0 0 0 0 0 0 0]\n"
     ]
    },
    {
     "name": "stderr",
     "output_type": "stream",
     "text": [
      "/home/lisa/Code/Python/data_science1/.venv/lib/python3.12/site-packages/sklearn/metrics/_classification.py:1509: UndefinedMetricWarning: Precision is ill-defined and being set to 0.0 due to no predicted samples. Use `zero_division` parameter to control this behavior.\n",
      "  _warn_prf(average, modifier, f\"{metric.capitalize()} is\", len(result))\n"
     ]
    },
    {
     "name": "stdout",
     "output_type": "stream",
     "text": [
      "Die ersten 20 Werte von y_train für beta = 1:                [0 0 0 0 0 0 0 0 1 0 0 0 0 0 0 0 0 0 0 1]\n",
      "Die ersten 20 Werte von y_test für beta = 1:                 [0 0 0 0 0 1 0 0 0 0 0 1 1 1 0 0 0 0 0 0]\n",
      "Ersten 20 Vorhersagen mit dem Modell für beta = 1:           [1 1 1 0 1 1 1 1 1 0 0 1 1 1 1 1 1 0 1 0]\n",
      "Ersten 20 Vorhersagen mit dem _random_weighted für beta = 1: [0 1 0 0 0 0 0 1 0 0 0 1 0 0 0 0 0 0 0 0]\n",
      "Ersten 20 Vorhersagen mit dem y_pred_majority für beta = 1:  [0 0 0 0 0 0 0 0 0 0 0 0 0 0 0 0 0 0 0 0]\n",
      "Die ersten 20 Werte von y_train für beta = 1:                [0 0 0 0 0 0 0 0 0 0 1 0 0 0 0 0 0 0 1 0]\n",
      "Die ersten 20 Werte von y_test für beta = 1:                 [0 0 0 0 0 1 0 0 0 0 0 0 0 0 0 1 1 0 0 0]\n"
     ]
    },
    {
     "name": "stderr",
     "output_type": "stream",
     "text": [
      "/home/lisa/Code/Python/data_science1/.venv/lib/python3.12/site-packages/sklearn/metrics/_classification.py:1509: UndefinedMetricWarning: Precision is ill-defined and being set to 0.0 due to no predicted samples. Use `zero_division` parameter to control this behavior.\n",
      "  _warn_prf(average, modifier, f\"{metric.capitalize()} is\", len(result))\n"
     ]
    },
    {
     "name": "stdout",
     "output_type": "stream",
     "text": [
      "Ersten 20 Vorhersagen mit dem Modell für beta = 1:           [1 1 1 1 1 1 1 1 1 1 1 1 1 1 1 1 1 1 1 1]\n",
      "Ersten 20 Vorhersagen mit dem _random_weighted für beta = 1: [0 1 0 0 0 0 0 1 0 0 0 1 0 0 0 0 0 0 0 0]\n",
      "Ersten 20 Vorhersagen mit dem y_pred_majority für beta = 1:  [0 0 0 0 0 0 0 0 0 0 0 0 0 0 0 0 0 0 0 0]\n",
      "Die ersten 20 Werte von y_train für beta = 1:                [0 0 0 0 0 0 0 0 1 0 0 0 0 0 0 0 0 1 1 0]\n",
      "Die ersten 20 Werte von y_test für beta = 1:                 [0 0 0 0 0 0 0 1 0 0 0 1 0 0 0 0 0 1 1 0]\n"
     ]
    },
    {
     "name": "stderr",
     "output_type": "stream",
     "text": [
      "/home/lisa/Code/Python/data_science1/.venv/lib/python3.12/site-packages/sklearn/metrics/_classification.py:1509: UndefinedMetricWarning: Precision is ill-defined and being set to 0.0 due to no predicted samples. Use `zero_division` parameter to control this behavior.\n",
      "  _warn_prf(average, modifier, f\"{metric.capitalize()} is\", len(result))\n"
     ]
    },
    {
     "name": "stdout",
     "output_type": "stream",
     "text": [
      "Ersten 20 Vorhersagen mit dem Modell für beta = 1:           [1 1 1 1 1 0 1 1 1 1 1 1 1 1 1 1 1 1 1 1]\n",
      "Ersten 20 Vorhersagen mit dem _random_weighted für beta = 1: [0 1 0 0 0 0 0 1 0 0 0 1 0 0 0 0 0 0 0 0]\n",
      "Ersten 20 Vorhersagen mit dem y_pred_majority für beta = 1:  [0 0 0 0 0 0 0 0 0 0 0 0 0 0 0 0 0 0 0 0]\n",
      "Die ersten 20 Werte von y_train für beta = 1:                [0 0 0 0 0 0 0 0 0 1 0 0 0 0 0 0 0 0 0 0]\n",
      "Die ersten 20 Werte von y_test für beta = 1:                 [0 0 0 1 0 0 0 1 0 0 1 0 0 0 0 0 0 0 0 0]\n"
     ]
    },
    {
     "name": "stderr",
     "output_type": "stream",
     "text": [
      "/home/lisa/Code/Python/data_science1/.venv/lib/python3.12/site-packages/sklearn/metrics/_classification.py:1509: UndefinedMetricWarning: Precision is ill-defined and being set to 0.0 due to no predicted samples. Use `zero_division` parameter to control this behavior.\n",
      "  _warn_prf(average, modifier, f\"{metric.capitalize()} is\", len(result))\n"
     ]
    },
    {
     "name": "stdout",
     "output_type": "stream",
     "text": [
      "Ersten 20 Vorhersagen mit dem Modell für beta = 1:           [1 0 0 1 0 1 1 1 1 1 1 0 1 1 0 0 0 1 1 1]\n",
      "Ersten 20 Vorhersagen mit dem _random_weighted für beta = 1: [0 1 0 0 0 0 0 1 0 0 0 1 0 0 0 0 0 0 0 0]\n",
      "Ersten 20 Vorhersagen mit dem y_pred_majority für beta = 1:  [0 0 0 0 0 0 0 0 0 0 0 0 0 0 0 0 0 0 0 0]\n",
      "Die ersten 20 Werte von y_train für beta = 1:                [0 0 0 0 0 0 0 0 0 0 0 0 0 0 0 0 0 0 1 0]\n",
      "Die ersten 20 Werte von y_test für beta = 1:                 [0 0 1 0 0 1 0 0 1 0 0 0 0 0 1 0 0 0 0 0]\n"
     ]
    },
    {
     "name": "stderr",
     "output_type": "stream",
     "text": [
      "/home/lisa/Code/Python/data_science1/.venv/lib/python3.12/site-packages/sklearn/metrics/_classification.py:1509: UndefinedMetricWarning: Precision is ill-defined and being set to 0.0 due to no predicted samples. Use `zero_division` parameter to control this behavior.\n",
      "  _warn_prf(average, modifier, f\"{metric.capitalize()} is\", len(result))\n"
     ]
    },
    {
     "name": "stdout",
     "output_type": "stream",
     "text": [
      "Ersten 20 Vorhersagen mit dem Modell für beta = 1:           [1 0 1 1 1 1 1 1 0 1 1 1 1 1 1 1 1 0 1 1]\n",
      "Ersten 20 Vorhersagen mit dem _random_weighted für beta = 1: [0 1 0 0 0 0 0 1 0 0 0 1 0 0 0 0 0 0 0 0]\n",
      "Ersten 20 Vorhersagen mit dem y_pred_majority für beta = 1:  [0 0 0 0 0 0 0 0 0 0 0 0 0 0 0 0 0 0 0 0]\n"
     ]
    },
    {
     "name": "stderr",
     "output_type": "stream",
     "text": [
      "/home/lisa/Code/Python/data_science1/.venv/lib/python3.12/site-packages/sklearn/metrics/_classification.py:1509: UndefinedMetricWarning: Precision is ill-defined and being set to 0.0 due to no predicted samples. Use `zero_division` parameter to control this behavior.\n",
      "  _warn_prf(average, modifier, f\"{metric.capitalize()} is\", len(result))\n"
     ]
    },
    {
     "name": "stdout",
     "output_type": "stream",
     "text": [
      "Die ersten 20 Werte von y_train für beta = 2:                [0 0 0 0 0 0 0 0 1 0 0 0 0 0 0 0 0 0 0 1]\n",
      "Die ersten 20 Werte von y_test für beta = 2:                 [0 0 0 0 0 1 0 0 0 0 0 1 1 1 0 0 0 0 0 0]\n",
      "Ersten 20 Vorhersagen mit dem Modell für beta = 2:           [1 1 1 0 1 1 1 1 1 0 0 1 1 1 1 1 1 0 1 0]\n",
      "Ersten 20 Vorhersagen mit dem _random_weighted für beta = 2: [0 1 0 0 0 0 0 1 0 0 0 1 0 0 0 0 0 0 0 0]\n",
      "Ersten 20 Vorhersagen mit dem y_pred_majority für beta = 2:  [0 0 0 0 0 0 0 0 0 0 0 0 0 0 0 0 0 0 0 0]\n",
      "Die ersten 20 Werte von y_train für beta = 2:                [0 0 0 0 0 0 0 0 0 0 1 0 0 0 0 0 0 0 1 0]\n",
      "Die ersten 20 Werte von y_test für beta = 2:                 [0 0 0 0 0 1 0 0 0 0 0 0 0 0 0 1 1 0 0 0]\n"
     ]
    },
    {
     "name": "stderr",
     "output_type": "stream",
     "text": [
      "/home/lisa/Code/Python/data_science1/.venv/lib/python3.12/site-packages/sklearn/metrics/_classification.py:1509: UndefinedMetricWarning: Precision is ill-defined and being set to 0.0 due to no predicted samples. Use `zero_division` parameter to control this behavior.\n",
      "  _warn_prf(average, modifier, f\"{metric.capitalize()} is\", len(result))\n"
     ]
    },
    {
     "name": "stdout",
     "output_type": "stream",
     "text": [
      "Ersten 20 Vorhersagen mit dem Modell für beta = 2:           [1 1 1 1 1 1 1 1 1 1 1 1 1 1 1 1 1 1 1 1]\n",
      "Ersten 20 Vorhersagen mit dem _random_weighted für beta = 2: [0 1 0 0 0 0 0 1 0 0 0 1 0 0 0 0 0 0 0 0]\n",
      "Ersten 20 Vorhersagen mit dem y_pred_majority für beta = 2:  [0 0 0 0 0 0 0 0 0 0 0 0 0 0 0 0 0 0 0 0]\n",
      "Die ersten 20 Werte von y_train für beta = 2:                [0 0 0 0 0 0 0 0 1 0 0 0 0 0 0 0 0 1 1 0]\n",
      "Die ersten 20 Werte von y_test für beta = 2:                 [0 0 0 0 0 0 0 1 0 0 0 1 0 0 0 0 0 1 1 0]\n"
     ]
    },
    {
     "name": "stderr",
     "output_type": "stream",
     "text": [
      "/home/lisa/Code/Python/data_science1/.venv/lib/python3.12/site-packages/sklearn/metrics/_classification.py:1509: UndefinedMetricWarning: Precision is ill-defined and being set to 0.0 due to no predicted samples. Use `zero_division` parameter to control this behavior.\n",
      "  _warn_prf(average, modifier, f\"{metric.capitalize()} is\", len(result))\n"
     ]
    },
    {
     "name": "stdout",
     "output_type": "stream",
     "text": [
      "Ersten 20 Vorhersagen mit dem Modell für beta = 2:           [1 1 1 1 1 0 1 1 1 1 1 1 1 1 1 1 1 1 1 1]\n",
      "Ersten 20 Vorhersagen mit dem _random_weighted für beta = 2: [0 1 0 0 0 0 0 1 0 0 0 1 0 0 0 0 0 0 0 0]\n",
      "Ersten 20 Vorhersagen mit dem y_pred_majority für beta = 2:  [0 0 0 0 0 0 0 0 0 0 0 0 0 0 0 0 0 0 0 0]\n",
      "Die ersten 20 Werte von y_train für beta = 2:                [0 0 0 0 0 0 0 0 0 1 0 0 0 0 0 0 0 0 0 0]\n",
      "Die ersten 20 Werte von y_test für beta = 2:                 [0 0 0 1 0 0 0 1 0 0 1 0 0 0 0 0 0 0 0 0]\n"
     ]
    },
    {
     "name": "stderr",
     "output_type": "stream",
     "text": [
      "/home/lisa/Code/Python/data_science1/.venv/lib/python3.12/site-packages/sklearn/metrics/_classification.py:1509: UndefinedMetricWarning: Precision is ill-defined and being set to 0.0 due to no predicted samples. Use `zero_division` parameter to control this behavior.\n",
      "  _warn_prf(average, modifier, f\"{metric.capitalize()} is\", len(result))\n"
     ]
    },
    {
     "name": "stdout",
     "output_type": "stream",
     "text": [
      "Ersten 20 Vorhersagen mit dem Modell für beta = 2:           [1 0 0 1 0 1 1 1 1 1 1 0 1 1 0 0 0 1 1 1]\n",
      "Ersten 20 Vorhersagen mit dem _random_weighted für beta = 2: [0 1 0 0 0 0 0 1 0 0 0 1 0 0 0 0 0 0 0 0]\n",
      "Ersten 20 Vorhersagen mit dem y_pred_majority für beta = 2:  [0 0 0 0 0 0 0 0 0 0 0 0 0 0 0 0 0 0 0 0]\n",
      "Die ersten 20 Werte von y_train für beta = 2:                [0 0 0 0 0 0 0 0 0 0 0 0 0 0 0 0 0 0 1 0]\n",
      "Die ersten 20 Werte von y_test für beta = 2:                 [0 0 1 0 0 1 0 0 1 0 0 0 0 0 1 0 0 0 0 0]\n"
     ]
    },
    {
     "name": "stderr",
     "output_type": "stream",
     "text": [
      "/home/lisa/Code/Python/data_science1/.venv/lib/python3.12/site-packages/sklearn/metrics/_classification.py:1509: UndefinedMetricWarning: Precision is ill-defined and being set to 0.0 due to no predicted samples. Use `zero_division` parameter to control this behavior.\n",
      "  _warn_prf(average, modifier, f\"{metric.capitalize()} is\", len(result))\n"
     ]
    },
    {
     "name": "stdout",
     "output_type": "stream",
     "text": [
      "Ersten 20 Vorhersagen mit dem Modell für beta = 2:           [1 0 1 1 1 1 1 1 0 1 1 1 1 1 1 1 1 0 1 1]\n",
      "Ersten 20 Vorhersagen mit dem _random_weighted für beta = 2: [0 1 0 0 0 0 0 1 0 0 0 1 0 0 0 0 0 0 0 0]\n",
      "Ersten 20 Vorhersagen mit dem y_pred_majority für beta = 2:  [0 0 0 0 0 0 0 0 0 0 0 0 0 0 0 0 0 0 0 0]\n"
     ]
    },
    {
     "name": "stderr",
     "output_type": "stream",
     "text": [
      "/home/lisa/Code/Python/data_science1/.venv/lib/python3.12/site-packages/sklearn/metrics/_classification.py:1509: UndefinedMetricWarning: Precision is ill-defined and being set to 0.0 due to no predicted samples. Use `zero_division` parameter to control this behavior.\n",
      "  _warn_prf(average, modifier, f\"{metric.capitalize()} is\", len(result))\n"
     ]
    },
    {
     "name": "stdout",
     "output_type": "stream",
     "text": [
      "Die ersten 20 Werte von y_train für beta = 3:                [0 0 0 0 0 0 0 0 1 0 0 0 0 0 0 0 0 0 0 1]\n",
      "Die ersten 20 Werte von y_test für beta = 3:                 [0 0 0 0 0 1 0 0 0 0 0 1 1 1 0 0 0 0 0 0]\n",
      "Ersten 20 Vorhersagen mit dem Modell für beta = 3:           [1 1 1 0 1 1 1 1 1 0 0 1 1 1 1 1 1 0 1 0]\n",
      "Ersten 20 Vorhersagen mit dem _random_weighted für beta = 3: [0 1 0 0 0 0 0 1 0 0 0 1 0 0 0 0 0 0 0 0]\n",
      "Ersten 20 Vorhersagen mit dem y_pred_majority für beta = 3:  [0 0 0 0 0 0 0 0 0 0 0 0 0 0 0 0 0 0 0 0]\n",
      "Die ersten 20 Werte von y_train für beta = 3:                [0 0 0 0 0 0 0 0 0 0 1 0 0 0 0 0 0 0 1 0]\n",
      "Die ersten 20 Werte von y_test für beta = 3:                 [0 0 0 0 0 1 0 0 0 0 0 0 0 0 0 1 1 0 0 0]\n"
     ]
    },
    {
     "name": "stderr",
     "output_type": "stream",
     "text": [
      "/home/lisa/Code/Python/data_science1/.venv/lib/python3.12/site-packages/sklearn/metrics/_classification.py:1509: UndefinedMetricWarning: Precision is ill-defined and being set to 0.0 due to no predicted samples. Use `zero_division` parameter to control this behavior.\n",
      "  _warn_prf(average, modifier, f\"{metric.capitalize()} is\", len(result))\n"
     ]
    },
    {
     "name": "stdout",
     "output_type": "stream",
     "text": [
      "Ersten 20 Vorhersagen mit dem Modell für beta = 3:           [1 1 1 1 1 1 1 1 1 1 1 1 1 1 1 1 1 1 1 1]\n",
      "Ersten 20 Vorhersagen mit dem _random_weighted für beta = 3: [0 1 0 0 0 0 0 1 0 0 0 1 0 0 0 0 0 0 0 0]\n",
      "Ersten 20 Vorhersagen mit dem y_pred_majority für beta = 3:  [0 0 0 0 0 0 0 0 0 0 0 0 0 0 0 0 0 0 0 0]\n",
      "Die ersten 20 Werte von y_train für beta = 3:                [0 0 0 0 0 0 0 0 1 0 0 0 0 0 0 0 0 1 1 0]\n",
      "Die ersten 20 Werte von y_test für beta = 3:                 [0 0 0 0 0 0 0 1 0 0 0 1 0 0 0 0 0 1 1 0]\n"
     ]
    },
    {
     "name": "stderr",
     "output_type": "stream",
     "text": [
      "/home/lisa/Code/Python/data_science1/.venv/lib/python3.12/site-packages/sklearn/metrics/_classification.py:1509: UndefinedMetricWarning: Precision is ill-defined and being set to 0.0 due to no predicted samples. Use `zero_division` parameter to control this behavior.\n",
      "  _warn_prf(average, modifier, f\"{metric.capitalize()} is\", len(result))\n"
     ]
    },
    {
     "name": "stdout",
     "output_type": "stream",
     "text": [
      "Ersten 20 Vorhersagen mit dem Modell für beta = 3:           [1 1 1 1 1 0 1 1 1 1 1 1 1 1 1 1 1 1 1 1]\n",
      "Ersten 20 Vorhersagen mit dem _random_weighted für beta = 3: [0 1 0 0 0 0 0 1 0 0 0 1 0 0 0 0 0 0 0 0]\n",
      "Ersten 20 Vorhersagen mit dem y_pred_majority für beta = 3:  [0 0 0 0 0 0 0 0 0 0 0 0 0 0 0 0 0 0 0 0]\n",
      "Die ersten 20 Werte von y_train für beta = 3:                [0 0 0 0 0 0 0 0 0 1 0 0 0 0 0 0 0 0 0 0]\n",
      "Die ersten 20 Werte von y_test für beta = 3:                 [0 0 0 1 0 0 0 1 0 0 1 0 0 0 0 0 0 0 0 0]\n"
     ]
    },
    {
     "name": "stderr",
     "output_type": "stream",
     "text": [
      "/home/lisa/Code/Python/data_science1/.venv/lib/python3.12/site-packages/sklearn/metrics/_classification.py:1509: UndefinedMetricWarning: Precision is ill-defined and being set to 0.0 due to no predicted samples. Use `zero_division` parameter to control this behavior.\n",
      "  _warn_prf(average, modifier, f\"{metric.capitalize()} is\", len(result))\n"
     ]
    },
    {
     "name": "stdout",
     "output_type": "stream",
     "text": [
      "Ersten 20 Vorhersagen mit dem Modell für beta = 3:           [1 0 0 1 0 1 1 1 1 1 1 0 1 1 0 0 0 1 1 1]\n",
      "Ersten 20 Vorhersagen mit dem _random_weighted für beta = 3: [0 1 0 0 0 0 0 1 0 0 0 1 0 0 0 0 0 0 0 0]\n",
      "Ersten 20 Vorhersagen mit dem y_pred_majority für beta = 3:  [0 0 0 0 0 0 0 0 0 0 0 0 0 0 0 0 0 0 0 0]\n",
      "Die ersten 20 Werte von y_train für beta = 3:                [0 0 0 0 0 0 0 0 0 0 0 0 0 0 0 0 0 0 1 0]\n",
      "Die ersten 20 Werte von y_test für beta = 3:                 [0 0 1 0 0 1 0 0 1 0 0 0 0 0 1 0 0 0 0 0]\n"
     ]
    },
    {
     "name": "stderr",
     "output_type": "stream",
     "text": [
      "/home/lisa/Code/Python/data_science1/.venv/lib/python3.12/site-packages/sklearn/metrics/_classification.py:1509: UndefinedMetricWarning: Precision is ill-defined and being set to 0.0 due to no predicted samples. Use `zero_division` parameter to control this behavior.\n",
      "  _warn_prf(average, modifier, f\"{metric.capitalize()} is\", len(result))\n"
     ]
    },
    {
     "name": "stdout",
     "output_type": "stream",
     "text": [
      "Ersten 20 Vorhersagen mit dem Modell für beta = 3:           [1 0 1 1 1 1 1 1 0 1 1 1 1 1 1 1 1 0 1 1]\n",
      "Ersten 20 Vorhersagen mit dem _random_weighted für beta = 3: [0 1 0 0 0 0 0 1 0 0 0 1 0 0 0 0 0 0 0 0]\n",
      "Ersten 20 Vorhersagen mit dem y_pred_majority für beta = 3:  [0 0 0 0 0 0 0 0 0 0 0 0 0 0 0 0 0 0 0 0]\n"
     ]
    },
    {
     "name": "stderr",
     "output_type": "stream",
     "text": [
      "/home/lisa/Code/Python/data_science1/.venv/lib/python3.12/site-packages/sklearn/metrics/_classification.py:1509: UndefinedMetricWarning: Precision is ill-defined and being set to 0.0 due to no predicted samples. Use `zero_division` parameter to control this behavior.\n",
      "  _warn_prf(average, modifier, f\"{metric.capitalize()} is\", len(result))\n"
     ]
    },
    {
     "name": "stdout",
     "output_type": "stream",
     "text": [
      "Die ersten 20 Werte von y_train für beta = 5:                [0 0 0 0 0 0 0 0 1 0 0 0 0 0 0 0 0 0 0 1]\n",
      "Die ersten 20 Werte von y_test für beta = 5:                 [0 0 0 0 0 1 0 0 0 0 0 1 1 1 0 0 0 0 0 0]\n",
      "Ersten 20 Vorhersagen mit dem Modell für beta = 5:           [1 1 1 0 1 1 1 1 1 0 0 1 1 1 1 1 1 0 1 0]\n",
      "Ersten 20 Vorhersagen mit dem _random_weighted für beta = 5: [0 1 0 0 0 0 0 1 0 0 0 1 0 0 0 0 0 0 0 0]\n",
      "Ersten 20 Vorhersagen mit dem y_pred_majority für beta = 5:  [0 0 0 0 0 0 0 0 0 0 0 0 0 0 0 0 0 0 0 0]\n",
      "Die ersten 20 Werte von y_train für beta = 5:                [0 0 0 0 0 0 0 0 0 0 1 0 0 0 0 0 0 0 1 0]\n",
      "Die ersten 20 Werte von y_test für beta = 5:                 [0 0 0 0 0 1 0 0 0 0 0 0 0 0 0 1 1 0 0 0]\n"
     ]
    },
    {
     "name": "stderr",
     "output_type": "stream",
     "text": [
      "/home/lisa/Code/Python/data_science1/.venv/lib/python3.12/site-packages/sklearn/metrics/_classification.py:1509: UndefinedMetricWarning: Precision is ill-defined and being set to 0.0 due to no predicted samples. Use `zero_division` parameter to control this behavior.\n",
      "  _warn_prf(average, modifier, f\"{metric.capitalize()} is\", len(result))\n"
     ]
    },
    {
     "name": "stdout",
     "output_type": "stream",
     "text": [
      "Ersten 20 Vorhersagen mit dem Modell für beta = 5:           [1 1 1 1 1 1 1 1 1 1 1 1 1 1 1 1 1 1 1 1]\n",
      "Ersten 20 Vorhersagen mit dem _random_weighted für beta = 5: [0 1 0 0 0 0 0 1 0 0 0 1 0 0 0 0 0 0 0 0]\n",
      "Ersten 20 Vorhersagen mit dem y_pred_majority für beta = 5:  [0 0 0 0 0 0 0 0 0 0 0 0 0 0 0 0 0 0 0 0]\n",
      "Die ersten 20 Werte von y_train für beta = 5:                [0 0 0 0 0 0 0 0 1 0 0 0 0 0 0 0 0 1 1 0]\n",
      "Die ersten 20 Werte von y_test für beta = 5:                 [0 0 0 0 0 0 0 1 0 0 0 1 0 0 0 0 0 1 1 0]\n"
     ]
    },
    {
     "name": "stderr",
     "output_type": "stream",
     "text": [
      "/home/lisa/Code/Python/data_science1/.venv/lib/python3.12/site-packages/sklearn/metrics/_classification.py:1509: UndefinedMetricWarning: Precision is ill-defined and being set to 0.0 due to no predicted samples. Use `zero_division` parameter to control this behavior.\n",
      "  _warn_prf(average, modifier, f\"{metric.capitalize()} is\", len(result))\n"
     ]
    },
    {
     "name": "stdout",
     "output_type": "stream",
     "text": [
      "Ersten 20 Vorhersagen mit dem Modell für beta = 5:           [1 1 1 1 1 0 1 1 1 1 1 1 1 1 1 1 1 1 1 1]\n",
      "Ersten 20 Vorhersagen mit dem _random_weighted für beta = 5: [0 1 0 0 0 0 0 1 0 0 0 1 0 0 0 0 0 0 0 0]\n",
      "Ersten 20 Vorhersagen mit dem y_pred_majority für beta = 5:  [0 0 0 0 0 0 0 0 0 0 0 0 0 0 0 0 0 0 0 0]\n",
      "Die ersten 20 Werte von y_train für beta = 5:                [0 0 0 0 0 0 0 0 0 1 0 0 0 0 0 0 0 0 0 0]\n",
      "Die ersten 20 Werte von y_test für beta = 5:                 [0 0 0 1 0 0 0 1 0 0 1 0 0 0 0 0 0 0 0 0]\n"
     ]
    },
    {
     "name": "stderr",
     "output_type": "stream",
     "text": [
      "/home/lisa/Code/Python/data_science1/.venv/lib/python3.12/site-packages/sklearn/metrics/_classification.py:1509: UndefinedMetricWarning: Precision is ill-defined and being set to 0.0 due to no predicted samples. Use `zero_division` parameter to control this behavior.\n",
      "  _warn_prf(average, modifier, f\"{metric.capitalize()} is\", len(result))\n"
     ]
    },
    {
     "name": "stdout",
     "output_type": "stream",
     "text": [
      "Ersten 20 Vorhersagen mit dem Modell für beta = 5:           [1 0 0 1 0 1 1 1 1 1 1 0 1 1 0 0 0 1 1 1]\n",
      "Ersten 20 Vorhersagen mit dem _random_weighted für beta = 5: [0 1 0 0 0 0 0 1 0 0 0 1 0 0 0 0 0 0 0 0]\n",
      "Ersten 20 Vorhersagen mit dem y_pred_majority für beta = 5:  [0 0 0 0 0 0 0 0 0 0 0 0 0 0 0 0 0 0 0 0]\n",
      "Die ersten 20 Werte von y_train für beta = 5:                [0 0 0 0 0 0 0 0 0 0 0 0 0 0 0 0 0 0 1 0]\n",
      "Die ersten 20 Werte von y_test für beta = 5:                 [0 0 1 0 0 1 0 0 1 0 0 0 0 0 1 0 0 0 0 0]\n"
     ]
    },
    {
     "name": "stderr",
     "output_type": "stream",
     "text": [
      "/home/lisa/Code/Python/data_science1/.venv/lib/python3.12/site-packages/sklearn/metrics/_classification.py:1509: UndefinedMetricWarning: Precision is ill-defined and being set to 0.0 due to no predicted samples. Use `zero_division` parameter to control this behavior.\n",
      "  _warn_prf(average, modifier, f\"{metric.capitalize()} is\", len(result))\n"
     ]
    },
    {
     "name": "stdout",
     "output_type": "stream",
     "text": [
      "Ersten 20 Vorhersagen mit dem Modell für beta = 5:           [1 0 1 1 1 1 1 1 0 1 1 1 1 1 1 1 1 0 1 1]\n",
      "Ersten 20 Vorhersagen mit dem _random_weighted für beta = 5: [0 1 0 0 0 0 0 1 0 0 0 1 0 0 0 0 0 0 0 0]\n",
      "Ersten 20 Vorhersagen mit dem y_pred_majority für beta = 5:  [0 0 0 0 0 0 0 0 0 0 0 0 0 0 0 0 0 0 0 0]\n"
     ]
    },
    {
     "name": "stderr",
     "output_type": "stream",
     "text": [
      "/home/lisa/Code/Python/data_science1/.venv/lib/python3.12/site-packages/sklearn/metrics/_classification.py:1509: UndefinedMetricWarning: Precision is ill-defined and being set to 0.0 due to no predicted samples. Use `zero_division` parameter to control this behavior.\n",
      "  _warn_prf(average, modifier, f\"{metric.capitalize()} is\", len(result))\n"
     ]
    },
    {
     "name": "stdout",
     "output_type": "stream",
     "text": [
      "Die ersten 20 Werte von y_train für beta = 10:                [0 0 0 0 0 0 0 0 1 0 0 0 0 0 0 0 0 0 0 1]\n",
      "Die ersten 20 Werte von y_test für beta = 10:                 [0 0 0 0 0 1 0 0 0 0 0 1 1 1 0 0 0 0 0 0]\n",
      "Ersten 20 Vorhersagen mit dem Modell für beta = 10:           [1 1 1 0 1 1 1 1 1 0 0 1 1 1 1 1 1 0 1 0]\n",
      "Ersten 20 Vorhersagen mit dem _random_weighted für beta = 10: [0 1 0 0 0 0 0 1 0 0 0 1 0 0 0 0 0 0 0 0]\n",
      "Ersten 20 Vorhersagen mit dem y_pred_majority für beta = 10:  [0 0 0 0 0 0 0 0 0 0 0 0 0 0 0 0 0 0 0 0]\n",
      "Die ersten 20 Werte von y_train für beta = 10:                [0 0 0 0 0 0 0 0 0 0 1 0 0 0 0 0 0 0 1 0]\n",
      "Die ersten 20 Werte von y_test für beta = 10:                 [0 0 0 0 0 1 0 0 0 0 0 0 0 0 0 1 1 0 0 0]\n"
     ]
    },
    {
     "name": "stderr",
     "output_type": "stream",
     "text": [
      "/home/lisa/Code/Python/data_science1/.venv/lib/python3.12/site-packages/sklearn/metrics/_classification.py:1509: UndefinedMetricWarning: Precision is ill-defined and being set to 0.0 due to no predicted samples. Use `zero_division` parameter to control this behavior.\n",
      "  _warn_prf(average, modifier, f\"{metric.capitalize()} is\", len(result))\n"
     ]
    },
    {
     "name": "stdout",
     "output_type": "stream",
     "text": [
      "Ersten 20 Vorhersagen mit dem Modell für beta = 10:           [1 1 1 1 1 1 1 1 1 1 1 1 1 1 1 1 1 1 1 1]\n",
      "Ersten 20 Vorhersagen mit dem _random_weighted für beta = 10: [0 1 0 0 0 0 0 1 0 0 0 1 0 0 0 0 0 0 0 0]\n",
      "Ersten 20 Vorhersagen mit dem y_pred_majority für beta = 10:  [0 0 0 0 0 0 0 0 0 0 0 0 0 0 0 0 0 0 0 0]\n",
      "Die ersten 20 Werte von y_train für beta = 10:                [0 0 0 0 0 0 0 0 1 0 0 0 0 0 0 0 0 1 1 0]\n",
      "Die ersten 20 Werte von y_test für beta = 10:                 [0 0 0 0 0 0 0 1 0 0 0 1 0 0 0 0 0 1 1 0]\n"
     ]
    },
    {
     "name": "stderr",
     "output_type": "stream",
     "text": [
      "/home/lisa/Code/Python/data_science1/.venv/lib/python3.12/site-packages/sklearn/metrics/_classification.py:1509: UndefinedMetricWarning: Precision is ill-defined and being set to 0.0 due to no predicted samples. Use `zero_division` parameter to control this behavior.\n",
      "  _warn_prf(average, modifier, f\"{metric.capitalize()} is\", len(result))\n"
     ]
    },
    {
     "name": "stdout",
     "output_type": "stream",
     "text": [
      "Ersten 20 Vorhersagen mit dem Modell für beta = 10:           [1 1 1 1 1 0 1 1 1 1 1 1 1 1 1 1 1 1 1 1]\n",
      "Ersten 20 Vorhersagen mit dem _random_weighted für beta = 10: [0 1 0 0 0 0 0 1 0 0 0 1 0 0 0 0 0 0 0 0]\n",
      "Ersten 20 Vorhersagen mit dem y_pred_majority für beta = 10:  [0 0 0 0 0 0 0 0 0 0 0 0 0 0 0 0 0 0 0 0]\n",
      "Die ersten 20 Werte von y_train für beta = 10:                [0 0 0 0 0 0 0 0 0 1 0 0 0 0 0 0 0 0 0 0]\n",
      "Die ersten 20 Werte von y_test für beta = 10:                 [0 0 0 1 0 0 0 1 0 0 1 0 0 0 0 0 0 0 0 0]\n"
     ]
    },
    {
     "name": "stderr",
     "output_type": "stream",
     "text": [
      "/home/lisa/Code/Python/data_science1/.venv/lib/python3.12/site-packages/sklearn/metrics/_classification.py:1509: UndefinedMetricWarning: Precision is ill-defined and being set to 0.0 due to no predicted samples. Use `zero_division` parameter to control this behavior.\n",
      "  _warn_prf(average, modifier, f\"{metric.capitalize()} is\", len(result))\n"
     ]
    },
    {
     "name": "stdout",
     "output_type": "stream",
     "text": [
      "Ersten 20 Vorhersagen mit dem Modell für beta = 10:           [1 0 0 1 0 1 1 1 1 1 1 0 1 1 0 0 0 1 1 1]\n",
      "Ersten 20 Vorhersagen mit dem _random_weighted für beta = 10: [0 1 0 0 0 0 0 1 0 0 0 1 0 0 0 0 0 0 0 0]\n",
      "Ersten 20 Vorhersagen mit dem y_pred_majority für beta = 10:  [0 0 0 0 0 0 0 0 0 0 0 0 0 0 0 0 0 0 0 0]\n",
      "Die ersten 20 Werte von y_train für beta = 10:                [0 0 0 0 0 0 0 0 0 0 0 0 0 0 0 0 0 0 1 0]\n",
      "Die ersten 20 Werte von y_test für beta = 10:                 [0 0 1 0 0 1 0 0 1 0 0 0 0 0 1 0 0 0 0 0]\n"
     ]
    },
    {
     "name": "stderr",
     "output_type": "stream",
     "text": [
      "/home/lisa/Code/Python/data_science1/.venv/lib/python3.12/site-packages/sklearn/metrics/_classification.py:1509: UndefinedMetricWarning: Precision is ill-defined and being set to 0.0 due to no predicted samples. Use `zero_division` parameter to control this behavior.\n",
      "  _warn_prf(average, modifier, f\"{metric.capitalize()} is\", len(result))\n"
     ]
    },
    {
     "name": "stdout",
     "output_type": "stream",
     "text": [
      "Ersten 20 Vorhersagen mit dem Modell für beta = 10:           [1 0 1 1 1 1 1 1 0 1 1 1 1 1 1 1 1 0 1 1]\n",
      "Ersten 20 Vorhersagen mit dem _random_weighted für beta = 10: [0 1 0 0 0 0 0 1 0 0 0 1 0 0 0 0 0 0 0 0]\n",
      "Ersten 20 Vorhersagen mit dem y_pred_majority für beta = 10:  [0 0 0 0 0 0 0 0 0 0 0 0 0 0 0 0 0 0 0 0]\n"
     ]
    },
    {
     "name": "stderr",
     "output_type": "stream",
     "text": [
      "/home/lisa/Code/Python/data_science1/.venv/lib/python3.12/site-packages/sklearn/metrics/_classification.py:1509: UndefinedMetricWarning: Precision is ill-defined and being set to 0.0 due to no predicted samples. Use `zero_division` parameter to control this behavior.\n",
      "  _warn_prf(average, modifier, f\"{metric.capitalize()} is\", len(result))\n"
     ]
    },
    {
     "name": "stdout",
     "output_type": "stream",
     "text": [
      "Die ersten 20 Werte von y_train für beta = 15:                [0 0 0 0 0 0 0 0 1 0 0 0 0 0 0 0 0 0 0 1]\n",
      "Die ersten 20 Werte von y_test für beta = 15:                 [0 0 0 0 0 1 0 0 0 0 0 1 1 1 0 0 0 0 0 0]\n",
      "Ersten 20 Vorhersagen mit dem Modell für beta = 15:           [1 1 1 0 1 1 1 1 1 0 0 1 1 1 1 1 1 0 1 0]\n",
      "Ersten 20 Vorhersagen mit dem _random_weighted für beta = 15: [0 1 0 0 0 0 0 1 0 0 0 1 0 0 0 0 0 0 0 0]\n",
      "Ersten 20 Vorhersagen mit dem y_pred_majority für beta = 15:  [0 0 0 0 0 0 0 0 0 0 0 0 0 0 0 0 0 0 0 0]\n",
      "Die ersten 20 Werte von y_train für beta = 15:                [0 0 0 0 0 0 0 0 0 0 1 0 0 0 0 0 0 0 1 0]\n",
      "Die ersten 20 Werte von y_test für beta = 15:                 [0 0 0 0 0 1 0 0 0 0 0 0 0 0 0 1 1 0 0 0]\n"
     ]
    },
    {
     "name": "stderr",
     "output_type": "stream",
     "text": [
      "/home/lisa/Code/Python/data_science1/.venv/lib/python3.12/site-packages/sklearn/metrics/_classification.py:1509: UndefinedMetricWarning: Precision is ill-defined and being set to 0.0 due to no predicted samples. Use `zero_division` parameter to control this behavior.\n",
      "  _warn_prf(average, modifier, f\"{metric.capitalize()} is\", len(result))\n"
     ]
    },
    {
     "name": "stdout",
     "output_type": "stream",
     "text": [
      "Ersten 20 Vorhersagen mit dem Modell für beta = 15:           [1 1 1 1 1 1 1 1 1 1 1 1 1 1 1 1 1 1 1 1]\n",
      "Ersten 20 Vorhersagen mit dem _random_weighted für beta = 15: [0 1 0 0 0 0 0 1 0 0 0 1 0 0 0 0 0 0 0 0]\n",
      "Ersten 20 Vorhersagen mit dem y_pred_majority für beta = 15:  [0 0 0 0 0 0 0 0 0 0 0 0 0 0 0 0 0 0 0 0]\n",
      "Die ersten 20 Werte von y_train für beta = 15:                [0 0 0 0 0 0 0 0 1 0 0 0 0 0 0 0 0 1 1 0]\n",
      "Die ersten 20 Werte von y_test für beta = 15:                 [0 0 0 0 0 0 0 1 0 0 0 1 0 0 0 0 0 1 1 0]\n"
     ]
    },
    {
     "name": "stderr",
     "output_type": "stream",
     "text": [
      "/home/lisa/Code/Python/data_science1/.venv/lib/python3.12/site-packages/sklearn/metrics/_classification.py:1509: UndefinedMetricWarning: Precision is ill-defined and being set to 0.0 due to no predicted samples. Use `zero_division` parameter to control this behavior.\n",
      "  _warn_prf(average, modifier, f\"{metric.capitalize()} is\", len(result))\n"
     ]
    },
    {
     "name": "stdout",
     "output_type": "stream",
     "text": [
      "Ersten 20 Vorhersagen mit dem Modell für beta = 15:           [1 1 1 1 1 0 1 1 1 1 1 1 1 1 1 1 1 1 1 1]\n",
      "Ersten 20 Vorhersagen mit dem _random_weighted für beta = 15: [0 1 0 0 0 0 0 1 0 0 0 1 0 0 0 0 0 0 0 0]\n",
      "Ersten 20 Vorhersagen mit dem y_pred_majority für beta = 15:  [0 0 0 0 0 0 0 0 0 0 0 0 0 0 0 0 0 0 0 0]\n",
      "Die ersten 20 Werte von y_train für beta = 15:                [0 0 0 0 0 0 0 0 0 1 0 0 0 0 0 0 0 0 0 0]\n",
      "Die ersten 20 Werte von y_test für beta = 15:                 [0 0 0 1 0 0 0 1 0 0 1 0 0 0 0 0 0 0 0 0]\n"
     ]
    },
    {
     "name": "stderr",
     "output_type": "stream",
     "text": [
      "/home/lisa/Code/Python/data_science1/.venv/lib/python3.12/site-packages/sklearn/metrics/_classification.py:1509: UndefinedMetricWarning: Precision is ill-defined and being set to 0.0 due to no predicted samples. Use `zero_division` parameter to control this behavior.\n",
      "  _warn_prf(average, modifier, f\"{metric.capitalize()} is\", len(result))\n"
     ]
    },
    {
     "name": "stdout",
     "output_type": "stream",
     "text": [
      "Ersten 20 Vorhersagen mit dem Modell für beta = 15:           [1 0 0 1 0 1 1 1 1 1 1 0 1 1 0 0 0 1 1 1]\n",
      "Ersten 20 Vorhersagen mit dem _random_weighted für beta = 15: [0 1 0 0 0 0 0 1 0 0 0 1 0 0 0 0 0 0 0 0]\n",
      "Ersten 20 Vorhersagen mit dem y_pred_majority für beta = 15:  [0 0 0 0 0 0 0 0 0 0 0 0 0 0 0 0 0 0 0 0]\n",
      "Die ersten 20 Werte von y_train für beta = 15:                [0 0 0 0 0 0 0 0 0 0 0 0 0 0 0 0 0 0 1 0]\n",
      "Die ersten 20 Werte von y_test für beta = 15:                 [0 0 1 0 0 1 0 0 1 0 0 0 0 0 1 0 0 0 0 0]\n"
     ]
    },
    {
     "name": "stderr",
     "output_type": "stream",
     "text": [
      "/home/lisa/Code/Python/data_science1/.venv/lib/python3.12/site-packages/sklearn/metrics/_classification.py:1509: UndefinedMetricWarning: Precision is ill-defined and being set to 0.0 due to no predicted samples. Use `zero_division` parameter to control this behavior.\n",
      "  _warn_prf(average, modifier, f\"{metric.capitalize()} is\", len(result))\n"
     ]
    },
    {
     "name": "stdout",
     "output_type": "stream",
     "text": [
      "Ersten 20 Vorhersagen mit dem Modell für beta = 15:           [1 0 1 1 1 1 1 1 0 1 1 1 1 1 1 1 1 0 1 1]\n",
      "Ersten 20 Vorhersagen mit dem _random_weighted für beta = 15: [0 1 0 0 0 0 0 1 0 0 0 1 0 0 0 0 0 0 0 0]\n",
      "Ersten 20 Vorhersagen mit dem y_pred_majority für beta = 15:  [0 0 0 0 0 0 0 0 0 0 0 0 0 0 0 0 0 0 0 0]\n"
     ]
    },
    {
     "name": "stderr",
     "output_type": "stream",
     "text": [
      "/home/lisa/Code/Python/data_science1/.venv/lib/python3.12/site-packages/sklearn/metrics/_classification.py:1509: UndefinedMetricWarning: Precision is ill-defined and being set to 0.0 due to no predicted samples. Use `zero_division` parameter to control this behavior.\n",
      "  _warn_prf(average, modifier, f\"{metric.capitalize()} is\", len(result))\n"
     ]
    },
    {
     "name": "stdout",
     "output_type": "stream",
     "text": [
      "Die ersten 20 Werte von y_train für beta = 20:                [0 0 0 0 0 0 0 0 1 0 0 0 0 0 0 0 0 0 0 1]\n",
      "Die ersten 20 Werte von y_test für beta = 20:                 [0 0 0 0 0 1 0 0 0 0 0 1 1 1 0 0 0 0 0 0]\n",
      "Ersten 20 Vorhersagen mit dem Modell für beta = 20:           [1 1 1 0 1 1 1 1 1 0 0 1 1 1 1 1 1 0 1 0]\n",
      "Ersten 20 Vorhersagen mit dem _random_weighted für beta = 20: [0 1 0 0 0 0 0 1 0 0 0 1 0 0 0 0 0 0 0 0]\n",
      "Ersten 20 Vorhersagen mit dem y_pred_majority für beta = 20:  [0 0 0 0 0 0 0 0 0 0 0 0 0 0 0 0 0 0 0 0]\n",
      "Die ersten 20 Werte von y_train für beta = 20:                [0 0 0 0 0 0 0 0 0 0 1 0 0 0 0 0 0 0 1 0]\n",
      "Die ersten 20 Werte von y_test für beta = 20:                 [0 0 0 0 0 1 0 0 0 0 0 0 0 0 0 1 1 0 0 0]\n"
     ]
    },
    {
     "name": "stderr",
     "output_type": "stream",
     "text": [
      "/home/lisa/Code/Python/data_science1/.venv/lib/python3.12/site-packages/sklearn/metrics/_classification.py:1509: UndefinedMetricWarning: Precision is ill-defined and being set to 0.0 due to no predicted samples. Use `zero_division` parameter to control this behavior.\n",
      "  _warn_prf(average, modifier, f\"{metric.capitalize()} is\", len(result))\n"
     ]
    },
    {
     "name": "stdout",
     "output_type": "stream",
     "text": [
      "Ersten 20 Vorhersagen mit dem Modell für beta = 20:           [1 1 1 1 1 1 1 1 1 1 1 1 1 1 1 1 1 1 1 1]\n",
      "Ersten 20 Vorhersagen mit dem _random_weighted für beta = 20: [0 1 0 0 0 0 0 1 0 0 0 1 0 0 0 0 0 0 0 0]\n",
      "Ersten 20 Vorhersagen mit dem y_pred_majority für beta = 20:  [0 0 0 0 0 0 0 0 0 0 0 0 0 0 0 0 0 0 0 0]\n",
      "Die ersten 20 Werte von y_train für beta = 20:                [0 0 0 0 0 0 0 0 1 0 0 0 0 0 0 0 0 1 1 0]\n",
      "Die ersten 20 Werte von y_test für beta = 20:                 [0 0 0 0 0 0 0 1 0 0 0 1 0 0 0 0 0 1 1 0]\n"
     ]
    },
    {
     "name": "stderr",
     "output_type": "stream",
     "text": [
      "/home/lisa/Code/Python/data_science1/.venv/lib/python3.12/site-packages/sklearn/metrics/_classification.py:1509: UndefinedMetricWarning: Precision is ill-defined and being set to 0.0 due to no predicted samples. Use `zero_division` parameter to control this behavior.\n",
      "  _warn_prf(average, modifier, f\"{metric.capitalize()} is\", len(result))\n"
     ]
    },
    {
     "name": "stdout",
     "output_type": "stream",
     "text": [
      "Ersten 20 Vorhersagen mit dem Modell für beta = 20:           [1 1 1 1 1 0 1 1 1 1 1 1 1 1 1 1 1 1 1 1]\n",
      "Ersten 20 Vorhersagen mit dem _random_weighted für beta = 20: [0 1 0 0 0 0 0 1 0 0 0 1 0 0 0 0 0 0 0 0]\n",
      "Ersten 20 Vorhersagen mit dem y_pred_majority für beta = 20:  [0 0 0 0 0 0 0 0 0 0 0 0 0 0 0 0 0 0 0 0]\n",
      "Die ersten 20 Werte von y_train für beta = 20:                [0 0 0 0 0 0 0 0 0 1 0 0 0 0 0 0 0 0 0 0]\n",
      "Die ersten 20 Werte von y_test für beta = 20:                 [0 0 0 1 0 0 0 1 0 0 1 0 0 0 0 0 0 0 0 0]\n"
     ]
    },
    {
     "name": "stderr",
     "output_type": "stream",
     "text": [
      "/home/lisa/Code/Python/data_science1/.venv/lib/python3.12/site-packages/sklearn/metrics/_classification.py:1509: UndefinedMetricWarning: Precision is ill-defined and being set to 0.0 due to no predicted samples. Use `zero_division` parameter to control this behavior.\n",
      "  _warn_prf(average, modifier, f\"{metric.capitalize()} is\", len(result))\n"
     ]
    },
    {
     "name": "stdout",
     "output_type": "stream",
     "text": [
      "Ersten 20 Vorhersagen mit dem Modell für beta = 20:           [1 0 0 1 0 1 1 1 1 1 1 0 1 1 0 0 0 1 1 1]\n",
      "Ersten 20 Vorhersagen mit dem _random_weighted für beta = 20: [0 1 0 0 0 0 0 1 0 0 0 1 0 0 0 0 0 0 0 0]\n",
      "Ersten 20 Vorhersagen mit dem y_pred_majority für beta = 20:  [0 0 0 0 0 0 0 0 0 0 0 0 0 0 0 0 0 0 0 0]\n",
      "Die ersten 20 Werte von y_train für beta = 20:                [0 0 0 0 0 0 0 0 0 0 0 0 0 0 0 0 0 0 1 0]\n",
      "Die ersten 20 Werte von y_test für beta = 20:                 [0 0 1 0 0 1 0 0 1 0 0 0 0 0 1 0 0 0 0 0]\n"
     ]
    },
    {
     "name": "stderr",
     "output_type": "stream",
     "text": [
      "/home/lisa/Code/Python/data_science1/.venv/lib/python3.12/site-packages/sklearn/metrics/_classification.py:1509: UndefinedMetricWarning: Precision is ill-defined and being set to 0.0 due to no predicted samples. Use `zero_division` parameter to control this behavior.\n",
      "  _warn_prf(average, modifier, f\"{metric.capitalize()} is\", len(result))\n"
     ]
    },
    {
     "name": "stdout",
     "output_type": "stream",
     "text": [
      "Ersten 20 Vorhersagen mit dem Modell für beta = 20:           [1 0 1 1 1 1 1 1 0 1 1 1 1 1 1 1 1 0 1 1]\n",
      "Ersten 20 Vorhersagen mit dem _random_weighted für beta = 20: [0 1 0 0 0 0 0 1 0 0 0 1 0 0 0 0 0 0 0 0]\n",
      "Ersten 20 Vorhersagen mit dem y_pred_majority für beta = 20:  [0 0 0 0 0 0 0 0 0 0 0 0 0 0 0 0 0 0 0 0]\n"
     ]
    },
    {
     "name": "stderr",
     "output_type": "stream",
     "text": [
      "/home/lisa/Code/Python/data_science1/.venv/lib/python3.12/site-packages/sklearn/metrics/_classification.py:1509: UndefinedMetricWarning: Precision is ill-defined and being set to 0.0 due to no predicted samples. Use `zero_division` parameter to control this behavior.\n",
      "  _warn_prf(average, modifier, f\"{metric.capitalize()} is\", len(result))\n"
     ]
    },
    {
     "name": "stdout",
     "output_type": "stream",
     "text": [
      "Die ersten 20 Werte von y_train für beta = 30:                [0 0 0 0 0 0 0 0 1 0 0 0 0 0 0 0 0 0 0 1]\n",
      "Die ersten 20 Werte von y_test für beta = 30:                 [0 0 0 0 0 1 0 0 0 0 0 1 1 1 0 0 0 0 0 0]\n",
      "Ersten 20 Vorhersagen mit dem Modell für beta = 30:           [1 1 1 0 1 1 1 1 1 0 0 1 1 1 1 1 1 0 1 0]\n",
      "Ersten 20 Vorhersagen mit dem _random_weighted für beta = 30: [0 1 0 0 0 0 0 1 0 0 0 1 0 0 0 0 0 0 0 0]\n",
      "Ersten 20 Vorhersagen mit dem y_pred_majority für beta = 30:  [0 0 0 0 0 0 0 0 0 0 0 0 0 0 0 0 0 0 0 0]\n",
      "Die ersten 20 Werte von y_train für beta = 30:                [0 0 0 0 0 0 0 0 0 0 1 0 0 0 0 0 0 0 1 0]\n",
      "Die ersten 20 Werte von y_test für beta = 30:                 [0 0 0 0 0 1 0 0 0 0 0 0 0 0 0 1 1 0 0 0]\n"
     ]
    },
    {
     "name": "stderr",
     "output_type": "stream",
     "text": [
      "/home/lisa/Code/Python/data_science1/.venv/lib/python3.12/site-packages/sklearn/metrics/_classification.py:1509: UndefinedMetricWarning: Precision is ill-defined and being set to 0.0 due to no predicted samples. Use `zero_division` parameter to control this behavior.\n",
      "  _warn_prf(average, modifier, f\"{metric.capitalize()} is\", len(result))\n"
     ]
    },
    {
     "name": "stdout",
     "output_type": "stream",
     "text": [
      "Ersten 20 Vorhersagen mit dem Modell für beta = 30:           [1 1 1 1 1 1 1 1 1 1 1 1 1 1 1 1 1 1 1 1]\n",
      "Ersten 20 Vorhersagen mit dem _random_weighted für beta = 30: [0 1 0 0 0 0 0 1 0 0 0 1 0 0 0 0 0 0 0 0]\n",
      "Ersten 20 Vorhersagen mit dem y_pred_majority für beta = 30:  [0 0 0 0 0 0 0 0 0 0 0 0 0 0 0 0 0 0 0 0]\n",
      "Die ersten 20 Werte von y_train für beta = 30:                [0 0 0 0 0 0 0 0 1 0 0 0 0 0 0 0 0 1 1 0]\n",
      "Die ersten 20 Werte von y_test für beta = 30:                 [0 0 0 0 0 0 0 1 0 0 0 1 0 0 0 0 0 1 1 0]\n"
     ]
    },
    {
     "name": "stderr",
     "output_type": "stream",
     "text": [
      "/home/lisa/Code/Python/data_science1/.venv/lib/python3.12/site-packages/sklearn/metrics/_classification.py:1509: UndefinedMetricWarning: Precision is ill-defined and being set to 0.0 due to no predicted samples. Use `zero_division` parameter to control this behavior.\n",
      "  _warn_prf(average, modifier, f\"{metric.capitalize()} is\", len(result))\n"
     ]
    },
    {
     "name": "stdout",
     "output_type": "stream",
     "text": [
      "Ersten 20 Vorhersagen mit dem Modell für beta = 30:           [1 1 1 1 1 0 1 1 1 1 1 1 1 1 1 1 1 1 1 1]\n",
      "Ersten 20 Vorhersagen mit dem _random_weighted für beta = 30: [0 1 0 0 0 0 0 1 0 0 0 1 0 0 0 0 0 0 0 0]\n",
      "Ersten 20 Vorhersagen mit dem y_pred_majority für beta = 30:  [0 0 0 0 0 0 0 0 0 0 0 0 0 0 0 0 0 0 0 0]\n",
      "Die ersten 20 Werte von y_train für beta = 30:                [0 0 0 0 0 0 0 0 0 1 0 0 0 0 0 0 0 0 0 0]\n",
      "Die ersten 20 Werte von y_test für beta = 30:                 [0 0 0 1 0 0 0 1 0 0 1 0 0 0 0 0 0 0 0 0]\n"
     ]
    },
    {
     "name": "stderr",
     "output_type": "stream",
     "text": [
      "/home/lisa/Code/Python/data_science1/.venv/lib/python3.12/site-packages/sklearn/metrics/_classification.py:1509: UndefinedMetricWarning: Precision is ill-defined and being set to 0.0 due to no predicted samples. Use `zero_division` parameter to control this behavior.\n",
      "  _warn_prf(average, modifier, f\"{metric.capitalize()} is\", len(result))\n"
     ]
    },
    {
     "name": "stdout",
     "output_type": "stream",
     "text": [
      "Ersten 20 Vorhersagen mit dem Modell für beta = 30:           [1 0 0 1 0 1 1 1 1 1 1 0 1 1 0 0 0 1 1 1]\n",
      "Ersten 20 Vorhersagen mit dem _random_weighted für beta = 30: [0 1 0 0 0 0 0 1 0 0 0 1 0 0 0 0 0 0 0 0]\n",
      "Ersten 20 Vorhersagen mit dem y_pred_majority für beta = 30:  [0 0 0 0 0 0 0 0 0 0 0 0 0 0 0 0 0 0 0 0]\n",
      "Die ersten 20 Werte von y_train für beta = 30:                [0 0 0 0 0 0 0 0 0 0 0 0 0 0 0 0 0 0 1 0]\n",
      "Die ersten 20 Werte von y_test für beta = 30:                 [0 0 1 0 0 1 0 0 1 0 0 0 0 0 1 0 0 0 0 0]\n"
     ]
    },
    {
     "name": "stderr",
     "output_type": "stream",
     "text": [
      "/home/lisa/Code/Python/data_science1/.venv/lib/python3.12/site-packages/sklearn/metrics/_classification.py:1509: UndefinedMetricWarning: Precision is ill-defined and being set to 0.0 due to no predicted samples. Use `zero_division` parameter to control this behavior.\n",
      "  _warn_prf(average, modifier, f\"{metric.capitalize()} is\", len(result))\n"
     ]
    },
    {
     "name": "stdout",
     "output_type": "stream",
     "text": [
      "Ersten 20 Vorhersagen mit dem Modell für beta = 30:           [1 0 1 1 1 1 1 1 0 1 1 1 1 1 1 1 1 0 1 1]\n",
      "Ersten 20 Vorhersagen mit dem _random_weighted für beta = 30: [0 1 0 0 0 0 0 1 0 0 0 1 0 0 0 0 0 0 0 0]\n",
      "Ersten 20 Vorhersagen mit dem y_pred_majority für beta = 30:  [0 0 0 0 0 0 0 0 0 0 0 0 0 0 0 0 0 0 0 0]\n"
     ]
    },
    {
     "name": "stderr",
     "output_type": "stream",
     "text": [
      "/home/lisa/Code/Python/data_science1/.venv/lib/python3.12/site-packages/sklearn/metrics/_classification.py:1509: UndefinedMetricWarning: Precision is ill-defined and being set to 0.0 due to no predicted samples. Use `zero_division` parameter to control this behavior.\n",
      "  _warn_prf(average, modifier, f\"{metric.capitalize()} is\", len(result))\n"
     ]
    },
    {
     "name": "stdout",
     "output_type": "stream",
     "text": [
      "Die ersten 20 Werte von y_train für beta = 50:                [0 0 0 0 0 0 0 0 1 0 0 0 0 0 0 0 0 0 0 1]\n",
      "Die ersten 20 Werte von y_test für beta = 50:                 [0 0 0 0 0 1 0 0 0 0 0 1 1 1 0 0 0 0 0 0]\n",
      "Ersten 20 Vorhersagen mit dem Modell für beta = 50:           [1 1 1 0 1 1 1 1 1 0 0 1 1 1 1 1 1 0 1 0]\n",
      "Ersten 20 Vorhersagen mit dem _random_weighted für beta = 50: [0 1 0 0 0 0 0 1 0 0 0 1 0 0 0 0 0 0 0 0]\n",
      "Ersten 20 Vorhersagen mit dem y_pred_majority für beta = 50:  [0 0 0 0 0 0 0 0 0 0 0 0 0 0 0 0 0 0 0 0]\n",
      "Die ersten 20 Werte von y_train für beta = 50:                [0 0 0 0 0 0 0 0 0 0 1 0 0 0 0 0 0 0 1 0]\n",
      "Die ersten 20 Werte von y_test für beta = 50:                 [0 0 0 0 0 1 0 0 0 0 0 0 0 0 0 1 1 0 0 0]\n"
     ]
    },
    {
     "name": "stderr",
     "output_type": "stream",
     "text": [
      "/home/lisa/Code/Python/data_science1/.venv/lib/python3.12/site-packages/sklearn/metrics/_classification.py:1509: UndefinedMetricWarning: Precision is ill-defined and being set to 0.0 due to no predicted samples. Use `zero_division` parameter to control this behavior.\n",
      "  _warn_prf(average, modifier, f\"{metric.capitalize()} is\", len(result))\n"
     ]
    },
    {
     "name": "stdout",
     "output_type": "stream",
     "text": [
      "Ersten 20 Vorhersagen mit dem Modell für beta = 50:           [1 1 1 1 1 1 1 1 1 1 1 1 1 1 1 1 1 1 1 1]\n",
      "Ersten 20 Vorhersagen mit dem _random_weighted für beta = 50: [0 1 0 0 0 0 0 1 0 0 0 1 0 0 0 0 0 0 0 0]\n",
      "Ersten 20 Vorhersagen mit dem y_pred_majority für beta = 50:  [0 0 0 0 0 0 0 0 0 0 0 0 0 0 0 0 0 0 0 0]\n",
      "Die ersten 20 Werte von y_train für beta = 50:                [0 0 0 0 0 0 0 0 1 0 0 0 0 0 0 0 0 1 1 0]\n",
      "Die ersten 20 Werte von y_test für beta = 50:                 [0 0 0 0 0 0 0 1 0 0 0 1 0 0 0 0 0 1 1 0]\n"
     ]
    },
    {
     "name": "stderr",
     "output_type": "stream",
     "text": [
      "/home/lisa/Code/Python/data_science1/.venv/lib/python3.12/site-packages/sklearn/metrics/_classification.py:1509: UndefinedMetricWarning: Precision is ill-defined and being set to 0.0 due to no predicted samples. Use `zero_division` parameter to control this behavior.\n",
      "  _warn_prf(average, modifier, f\"{metric.capitalize()} is\", len(result))\n"
     ]
    },
    {
     "name": "stdout",
     "output_type": "stream",
     "text": [
      "Ersten 20 Vorhersagen mit dem Modell für beta = 50:           [1 1 1 1 1 0 1 1 1 1 1 1 1 1 1 1 1 1 1 1]\n",
      "Ersten 20 Vorhersagen mit dem _random_weighted für beta = 50: [0 1 0 0 0 0 0 1 0 0 0 1 0 0 0 0 0 0 0 0]\n",
      "Ersten 20 Vorhersagen mit dem y_pred_majority für beta = 50:  [0 0 0 0 0 0 0 0 0 0 0 0 0 0 0 0 0 0 0 0]\n",
      "Die ersten 20 Werte von y_train für beta = 50:                [0 0 0 0 0 0 0 0 0 1 0 0 0 0 0 0 0 0 0 0]\n",
      "Die ersten 20 Werte von y_test für beta = 50:                 [0 0 0 1 0 0 0 1 0 0 1 0 0 0 0 0 0 0 0 0]\n"
     ]
    },
    {
     "name": "stderr",
     "output_type": "stream",
     "text": [
      "/home/lisa/Code/Python/data_science1/.venv/lib/python3.12/site-packages/sklearn/metrics/_classification.py:1509: UndefinedMetricWarning: Precision is ill-defined and being set to 0.0 due to no predicted samples. Use `zero_division` parameter to control this behavior.\n",
      "  _warn_prf(average, modifier, f\"{metric.capitalize()} is\", len(result))\n"
     ]
    },
    {
     "name": "stdout",
     "output_type": "stream",
     "text": [
      "Ersten 20 Vorhersagen mit dem Modell für beta = 50:           [1 0 0 1 0 1 1 1 1 1 1 0 1 1 0 0 0 1 1 1]\n",
      "Ersten 20 Vorhersagen mit dem _random_weighted für beta = 50: [0 1 0 0 0 0 0 1 0 0 0 1 0 0 0 0 0 0 0 0]\n",
      "Ersten 20 Vorhersagen mit dem y_pred_majority für beta = 50:  [0 0 0 0 0 0 0 0 0 0 0 0 0 0 0 0 0 0 0 0]\n",
      "Die ersten 20 Werte von y_train für beta = 50:                [0 0 0 0 0 0 0 0 0 0 0 0 0 0 0 0 0 0 1 0]\n",
      "Die ersten 20 Werte von y_test für beta = 50:                 [0 0 1 0 0 1 0 0 1 0 0 0 0 0 1 0 0 0 0 0]\n"
     ]
    },
    {
     "name": "stderr",
     "output_type": "stream",
     "text": [
      "/home/lisa/Code/Python/data_science1/.venv/lib/python3.12/site-packages/sklearn/metrics/_classification.py:1509: UndefinedMetricWarning: Precision is ill-defined and being set to 0.0 due to no predicted samples. Use `zero_division` parameter to control this behavior.\n",
      "  _warn_prf(average, modifier, f\"{metric.capitalize()} is\", len(result))\n"
     ]
    },
    {
     "name": "stdout",
     "output_type": "stream",
     "text": [
      "Ersten 20 Vorhersagen mit dem Modell für beta = 50:           [1 0 1 1 1 1 1 1 0 1 1 1 1 1 1 1 1 0 1 1]\n",
      "Ersten 20 Vorhersagen mit dem _random_weighted für beta = 50: [0 1 0 0 0 0 0 1 0 0 0 1 0 0 0 0 0 0 0 0]\n",
      "Ersten 20 Vorhersagen mit dem y_pred_majority für beta = 50:  [0 0 0 0 0 0 0 0 0 0 0 0 0 0 0 0 0 0 0 0]\n"
     ]
    },
    {
     "name": "stderr",
     "output_type": "stream",
     "text": [
      "/home/lisa/Code/Python/data_science1/.venv/lib/python3.12/site-packages/sklearn/metrics/_classification.py:1509: UndefinedMetricWarning: Precision is ill-defined and being set to 0.0 due to no predicted samples. Use `zero_division` parameter to control this behavior.\n",
      "  _warn_prf(average, modifier, f\"{metric.capitalize()} is\", len(result))\n"
     ]
    }
   ],
   "execution_count": 44
  },
  {
   "metadata": {
    "ExecuteTime": {
     "end_time": "2024-09-20T18:56:33.868856Z",
     "start_time": "2024-09-20T18:56:33.855647Z"
    }
   },
   "cell_type": "code",
   "source": [
    "\n",
    "# Ergebnisse ausgeben\n",
    "for beta in results.keys():\n",
    "    print(f'Beta: {beta}')\n",
    "    print(f'F-beta Score (mean) logReg: {results[beta]}')\n",
    "    print(f'Recall Score logReg: {results_rf_recall[beta]}')\n",
    "    print(f'Precision Score logReg: {results_rf_precision[beta]}')\n",
    "    print()\n",
    " #   print(f'F-beta Score (mean) logReg händischer StratifiedFold: {results_rf[beta]}')\n",
    "    print(f'F-beta Score (mean) Weighted Random Prediction: {results_random[beta]}')\n",
    "    print(f'Recall Score Weighted Random Prediction: {results_random_recall[beta]}')\n",
    "    print(f'Precision Score Weighted Random Prediction: {results_random_precision[beta]}')\n",
    "    print()\n",
    "    print(f'F-beta Score (mean) Mehrheit Prediction: {results_mehrheit[beta]}')\n",
    "    print(f'Recall Score Mehrheit Prediction: {results_majority_recall[beta]}')\n",
    "    print(f'Precision Score Mehrheit Prediction: {results_majority_precision[beta]}')\n",
    "    print()\n",
    "    print()\n"
   ],
   "id": "f5c1494b26a0211c",
   "outputs": [
    {
     "name": "stdout",
     "output_type": "stream",
     "text": [
      "Beta: 0.7\n",
      "F-beta Score (mean) logReg: 0.2339360085670165\n",
      "Recall Score logReg: 0.8785124806144303\n",
      "Precision Score logReg: 0.1720731704012424\n",
      "\n",
      "F-beta Score (mean) Weighted Random Prediction: 0.15356285319118382\n",
      "Recall Score Weighted Random Prediction: 0.1508846149788473\n",
      "Precision Score Weighted Random Prediction: 0.1549102029469002\n",
      "\n",
      "F-beta Score (mean) Mehrheit Prediction: 0.0\n",
      "Recall Score Mehrheit Prediction: 0.0\n",
      "Precision Score Mehrheit Prediction: 0.0\n",
      "\n",
      "\n",
      "Beta: 0.9\n",
      "F-beta Score (mean) logReg: 0.26880414850039197\n",
      "Recall Score logReg: 0.8785124806144303\n",
      "Precision Score logReg: 0.1720731704012424\n",
      "\n",
      "F-beta Score (mean) Weighted Random Prediction: 0.15308245532799905\n",
      "Recall Score Weighted Random Prediction: 0.1508846149788473\n",
      "Precision Score Weighted Random Prediction: 0.1549102029469002\n",
      "\n",
      "F-beta Score (mean) Mehrheit Prediction: 0.0\n",
      "Recall Score Mehrheit Prediction: 0.0\n",
      "Precision Score Mehrheit Prediction: 0.0\n",
      "\n",
      "\n",
      "Beta: 1\n",
      "F-beta Score (mean) logReg: 0.28777772921160116\n",
      "Recall Score logReg: 0.8785124806144303\n",
      "Precision Score logReg: 0.1720731704012424\n",
      "\n",
      "F-beta Score (mean) Weighted Random Prediction: 0.15287091184752005\n",
      "Recall Score Weighted Random Prediction: 0.1508846149788473\n",
      "Precision Score Weighted Random Prediction: 0.1549102029469002\n",
      "\n",
      "F-beta Score (mean) Mehrheit Prediction: 0.0\n",
      "Recall Score Mehrheit Prediction: 0.0\n",
      "Precision Score Mehrheit Prediction: 0.0\n",
      "\n",
      "\n",
      "Beta: 2\n",
      "F-beta Score (mean) logReg: 0.48240489744404214\n",
      "Recall Score logReg: 0.8785124806144303\n",
      "Precision Score logReg: 0.1720731704012424\n",
      "\n",
      "F-beta Score (mean) Weighted Random Prediction: 0.15167290731475594\n",
      "Recall Score Weighted Random Prediction: 0.1508846149788473\n",
      "Precision Score Weighted Random Prediction: 0.1549102029469002\n",
      "\n",
      "F-beta Score (mean) Mehrheit Prediction: 0.0\n",
      "Recall Score Mehrheit Prediction: 0.0\n",
      "Precision Score Mehrheit Prediction: 0.0\n",
      "\n",
      "\n",
      "Beta: 3\n",
      "F-beta Score (mean) logReg: 0.6228114595968568\n",
      "Recall Score logReg: 0.8785124806144303\n",
      "Precision Score logReg: 0.1720731704012424\n",
      "\n",
      "F-beta Score (mean) Weighted Random Prediction: 0.15127773422652985\n",
      "Recall Score Weighted Random Prediction: 0.1508846149788473\n",
      "Precision Score Weighted Random Prediction: 0.1549102029469002\n",
      "\n",
      "F-beta Score (mean) Mehrheit Prediction: 0.0\n",
      "Recall Score Mehrheit Prediction: 0.0\n",
      "Precision Score Mehrheit Prediction: 0.0\n",
      "\n",
      "\n",
      "Beta: 5\n",
      "F-beta Score (mean) logReg: 0.7587059999909253\n",
      "Recall Score logReg: 0.8785124806144303\n",
      "Precision Score logReg: 0.1720731704012424\n",
      "\n",
      "F-beta Score (mean) Weighted Random Prediction: 0.1510355726527804\n",
      "Recall Score Weighted Random Prediction: 0.1508846149788473\n",
      "Precision Score Weighted Random Prediction: 0.1549102029469002\n",
      "\n",
      "F-beta Score (mean) Mehrheit Prediction: 0.0\n",
      "Recall Score Mehrheit Prediction: 0.0\n",
      "Precision Score Mehrheit Prediction: 0.0\n",
      "\n",
      "\n",
      "Beta: 10\n",
      "F-beta Score (mean) logReg: 0.844195847918229\n",
      "Recall Score logReg: 0.8785124806144303\n",
      "Precision Score logReg: 0.1720731704012424\n",
      "\n",
      "F-beta Score (mean) Weighted Random Prediction: 0.15092344652088657\n",
      "Recall Score Weighted Random Prediction: 0.1508846149788473\n",
      "Precision Score Weighted Random Prediction: 0.1549102029469002\n",
      "\n",
      "F-beta Score (mean) Mehrheit Prediction: 0.0\n",
      "Recall Score Mehrheit Prediction: 0.0\n",
      "Precision Score Mehrheit Prediction: 0.0\n",
      "\n",
      "\n",
      "Beta: 15\n",
      "F-beta Score (mean) logReg: 0.8628376072408226\n",
      "Recall Score logReg: 0.8785124806144303\n",
      "Precision Score logReg: 0.1720731704012424\n",
      "\n",
      "F-beta Score (mean) Weighted Random Prediction: 0.15090196642819026\n",
      "Recall Score Weighted Random Prediction: 0.1508846149788473\n",
      "Precision Score Weighted Random Prediction: 0.1549102029469002\n",
      "\n",
      "F-beta Score (mean) Mehrheit Prediction: 0.0\n",
      "Recall Score Mehrheit Prediction: 0.0\n",
      "Precision Score Mehrheit Prediction: 0.0\n",
      "\n",
      "\n",
      "Beta: 20\n",
      "F-beta Score (mean) logReg: 0.8696089297205039\n",
      "Recall Score logReg: 0.8785124806144303\n",
      "Precision Score logReg: 0.1720731704012424\n",
      "\n",
      "F-beta Score (mean) Weighted Random Prediction: 0.15089439360917084\n",
      "Recall Score Weighted Random Prediction: 0.1508846149788473\n",
      "Precision Score Weighted Random Prediction: 0.1549102029469002\n",
      "\n",
      "F-beta Score (mean) Mehrheit Prediction: 0.0\n",
      "Recall Score Mehrheit Prediction: 0.0\n",
      "Precision Score Mehrheit Prediction: 0.0\n",
      "\n",
      "\n",
      "Beta: 30\n",
      "F-beta Score (mean) logReg: 0.8745274429228684\n",
      "Recall Score logReg: 0.8785124806144303\n",
      "Precision Score logReg: 0.1720731704012424\n",
      "\n",
      "F-beta Score (mean) Weighted Random Prediction: 0.15088896690974443\n",
      "Recall Score Weighted Random Prediction: 0.1508846149788473\n",
      "Precision Score Weighted Random Prediction: 0.1549102029469002\n",
      "\n",
      "F-beta Score (mean) Mehrheit Prediction: 0.0\n",
      "Recall Score Mehrheit Prediction: 0.0\n",
      "Precision Score Mehrheit Prediction: 0.0\n",
      "\n",
      "\n",
      "Beta: 50\n",
      "F-beta Score (mean) logReg: 0.877072668749238\n",
      "Recall Score logReg: 0.8785124806144303\n",
      "Precision Score logReg: 0.1720731704012424\n",
      "\n",
      "F-beta Score (mean) Weighted Random Prediction: 0.15088618275869045\n",
      "Recall Score Weighted Random Prediction: 0.1508846149788473\n",
      "Precision Score Weighted Random Prediction: 0.1549102029469002\n",
      "\n",
      "F-beta Score (mean) Mehrheit Prediction: 0.0\n",
      "Recall Score Mehrheit Prediction: 0.0\n",
      "Precision Score Mehrheit Prediction: 0.0\n",
      "\n",
      "\n"
     ]
    }
   ],
   "execution_count": 45
  },
  {
   "metadata": {
    "ExecuteTime": {
     "end_time": "2024-09-20T18:56:33.974598Z",
     "start_time": "2024-09-20T18:56:33.874225Z"
    }
   },
   "cell_type": "code",
   "source": [
    "\n",
    "# Klassifikationsberichte für den letzten Fold ausgeben\n",
    "print(\"Random Forest Classification Report (Last Fold):\")\n",
    "print(classification_report(y_test, y_pred_rf))\n",
    "\n",
    "print(\"Weighted Random Prediction Classification Report (Last Fold):\")\n",
    "print(classification_report(y_test, y_pred_random_weighted))"
   ],
   "id": "67d40de0fe392e46",
   "outputs": [
    {
     "name": "stdout",
     "output_type": "stream",
     "text": [
      "Random Forest Classification Report (Last Fold):\n",
      "              precision    recall  f1-score   support\n",
      "\n",
      "           0       0.91      0.23      0.37      6787\n",
      "           1       0.17      0.87      0.29      1231\n",
      "\n",
      "    accuracy                           0.33      8018\n",
      "   macro avg       0.54      0.55      0.33      8018\n",
      "weighted avg       0.80      0.33      0.36      8018\n",
      "\n",
      "Weighted Random Prediction Classification Report (Last Fold):\n",
      "              precision    recall  f1-score   support\n",
      "\n",
      "           0       0.85      0.85      0.85      6787\n",
      "           1       0.16      0.15      0.15      1231\n",
      "\n",
      "    accuracy                           0.74      8018\n",
      "   macro avg       0.50      0.50      0.50      8018\n",
      "weighted avg       0.74      0.74      0.74      8018\n",
      "\n"
     ]
    }
   ],
   "execution_count": 46
  },
  {
   "metadata": {
    "ExecuteTime": {
     "end_time": "2024-09-20T18:56:33.983187Z",
     "start_time": "2024-09-20T18:56:33.977515Z"
    }
   },
   "cell_type": "code",
   "source": "",
   "id": "9c50e64ebc32b3df",
   "outputs": [],
   "execution_count": 46
  }
 ],
 "metadata": {
  "kernelspec": {
   "display_name": "Python 3",
   "language": "python",
   "name": "python3"
  },
  "language_info": {
   "codemirror_mode": {
    "name": "ipython",
    "version": 2
   },
   "file_extension": ".py",
   "mimetype": "text/x-python",
   "name": "python",
   "nbconvert_exporter": "python",
   "pygments_lexer": "ipython2",
   "version": "2.7.6"
  }
 },
 "nbformat": 4,
 "nbformat_minor": 5
}
