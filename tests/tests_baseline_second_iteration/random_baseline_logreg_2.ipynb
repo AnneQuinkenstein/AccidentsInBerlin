{
 "cells": [
  {
   "metadata": {
    "ExecuteTime": {
     "end_time": "2024-09-19T18:30:22.685012Z",
     "start_time": "2024-09-19T18:30:22.675459Z"
    }
   },
   "cell_type": "code",
   "source": [
    "import numpy as np\n",
    "from sklearn.linear_model import LogisticRegression \n",
    "from sklearn.metrics import classification_report\n",
    "from collections import Counter\n",
    "import pandas as pd\n",
    "from sklearn.model_selection import StratifiedKFold,  cross_val_score\n",
    "from sklearn.metrics import make_scorer, fbeta_score"
   ],
   "id": "67e97767e45156e",
   "outputs": [],
   "execution_count": 68
  },
  {
   "metadata": {
    "ExecuteTime": {
     "end_time": "2024-09-19T18:30:22.808161Z",
     "start_time": "2024-09-19T18:30:22.713239Z"
    }
   },
   "cell_type": "code",
   "source": [
    "# Lade Datensatz\n",
    "train_data_loaded = pd.read_csv('../../data/train_data_2024-08-01.csv')\n",
    "X = train_data_loaded.drop(columns=['UKATEGORIE'])\n",
    "y = train_data_loaded['UKATEGORIE']\n"
   ],
   "id": "1af4db23cbd3c29b",
   "outputs": [],
   "execution_count": 69
  },
  {
   "metadata": {
    "ExecuteTime": {
     "end_time": "2024-09-19T18:30:22.822700Z",
     "start_time": "2024-09-19T18:30:22.811413Z"
    }
   },
   "cell_type": "code",
   "source": [
    "# StratifiedKFold initialisieren\n",
    "skf = StratifiedKFold(n_splits=5, shuffle=True, random_state=42)\n",
    "\n",
    "# Variablen für Ergebnisse\n",
    "fbetas_rf = []\n",
    "fbetas_random = []\n",
    "fbetas_mehrheit = []"
   ],
   "id": "a32a140d80216a4e",
   "outputs": [],
   "execution_count": 70
  },
  {
   "metadata": {
    "ExecuteTime": {
     "end_time": "2024-09-19T18:30:22.849822Z",
     "start_time": "2024-09-19T18:30:22.832778Z"
    }
   },
   "cell_type": "code",
   "source": [
    "beta = 2\n",
    "fbeta_scorer= make_scorer(fbeta_score, beta=beta)"
   ],
   "id": "13a8101206445b80",
   "outputs": [],
   "execution_count": 71
  },
  {
   "metadata": {
    "ExecuteTime": {
     "end_time": "2024-09-19T18:30:26.609707Z",
     "start_time": "2024-09-19T18:30:22.856217Z"
    }
   },
   "cell_type": "code",
   "source": [
    "model_logreg = LogisticRegression(C=1, max_iter=1700, penalty='l2', solver='liblinear', tol=0.0001, random_state=42, class_weight = {0:1, 1: 9})\n",
    "\n",
    "logreg_scores = cross_val_score(model_logreg, X, y, cv=skf, scoring=fbeta_scorer)\n",
    "print(f'LogReg F betas: ', logreg_scores)\n",
    "print(f'LogReg F-beta Score (mean): {logreg_scores.mean()}')\n",
    "print(f'LogReg F-beta Score (std): {logreg_scores.std()}')\n",
    "\n",
    "counter = 1\n",
    "for train_index, test_index in skf.split(X, y):\n",
    "    X_train, X_test = X.iloc[train_index], X.iloc[test_index]\n",
    "    y_train, y_test = y.iloc[train_index], y.iloc[test_index]\n",
    "    \n",
    "    # Drucke die ersten 10 values von y_train\n",
    "    print(\"Die ersten 20 Werte von y_train:               \", y_train.values[:20])\n",
    "    # Drucke die ersten 10 values von y_test\n",
    "    print(\"Die ersten 20 Werte von y_test:                \", y_test.values[:20])\n",
    "    \n",
    "    # Random Forest Modell trainieren\n",
    "    model_logreg.fit(X_train, y_train)\n",
    "    y_pred_rf = model_logreg.predict(X_test)\n",
    "    print(\"Ersten 20 Vorhersagen mit dem Modell:          \", y_pred_rf[:20])\n",
    "    \n",
    "    # Zufällige Vorhersagen basierend auf den Klassenwahrscheinlichkeiten erstellen\n",
    "    class_counts = Counter(y_test)\n",
    "    total_samples = len(y_test)\n",
    "    class_probabilities = {cls: count / total_samples for cls, count in class_counts.items()}\n",
    "    \n",
    "    np.random.seed(42)\n",
    "    y_pred_random_weighted = np.random.choice(\n",
    "        list(class_probabilities.keys()),\n",
    "        size=y_test.shape,\n",
    "        p=list(class_probabilities.values())\n",
    "    )\n",
    "    \n",
    "    # Drucke die ersten 10 Werte\n",
    "    print(\"Ersten 20 Vorhersagen mit dem _random_weighted:\", y_pred_random_weighted[:20])\n",
    "    \n",
    "    # Leistung der gewichteten zufälligen Vorhersagen bewerten\n",
    "    fbeta_random_weighted = fbeta_score(y_test, y_pred_random_weighted, beta=beta, average='weighted')\n",
    "  \n",
    "    fbetas_random.append(fbeta_random_weighted)\n",
    "    \n",
    "    # Immer Mehrheitsklasse vorhersagen\n",
    "    y_pred_majority = np.full(y_test.shape, y_train.mode().iloc[0])\n",
    "    \n",
    "    # Drucke die ersten 10 Werte\n",
    "    print(\"Ersten 10 Vorhersagen mit dem y_pred_majority: \", y_pred_majority[:10])\n",
    "    \n",
    "    # Leistung der Vorhersagen der Mehrheitsklasse bewerten\n",
    "    fbeta_mehrheit = fbeta_score(y_test, y_pred_majority, beta=beta, average='weighted')\n",
    "    \n",
    "    print(f\"Fold Nummer {counter}: fbeta_random_weighted - Score ist {fbeta_random_weighted}\")\n",
    "    print(f\"Fold Nummer {counter}: fbeta_mehrheit - Score ist {fbeta_mehrheit}\")\n",
    "    fbetas_mehrheit.append(fbeta_mehrheit)\n",
    "    \n",
    "    counter += 1\n",
    "    \n",
    "    "
   ],
   "id": "3960b806447649de",
   "outputs": [
    {
     "name": "stdout",
     "output_type": "stream",
     "text": [
      "LogReg F betas:  [0.48882557 0.48079506 0.48864846 0.47506045 0.47869495]\n",
      "LogReg F-beta Score (mean): 0.48240489744404214\n",
      "LogReg F-beta Score (std): 0.005486407299560132\n",
      "Die ersten 20 Werte von y_train:                [0 0 0 0 0 0 0 0 1 0 0 0 0 0 0 0 0 0 0 1]\n",
      "Die ersten 20 Werte von y_test:                 [0 0 0 0 0 1 0 0 0 0 0 1 1 1 0 0 0 0 0 0]\n",
      "Ersten 20 Vorhersagen mit dem Modell:           [1 1 1 0 1 1 1 1 1 0 0 1 1 1 1 1 1 0 1 0]\n",
      "Ersten 20 Vorhersagen mit dem _random_weighted: [0 1 0 0 0 0 0 1 0 0 0 1 0 0 0 0 0 0 0 0]\n",
      "Ersten 10 Vorhersagen mit dem y_pred_majority:  [0 0 0 0 0 0 0 0 0 0]\n",
      "Fold Nummer 1: fbeta_random_weighted - Score ist 0.7465515104431596\n",
      "Fold Nummer 1: fbeta_mehrheit - Score ist 0.8168620906598427\n",
      "Die ersten 20 Werte von y_train:                [0 0 0 0 0 0 0 0 0 0 1 0 0 0 0 0 0 0 1 0]\n",
      "Die ersten 20 Werte von y_test:                 [0 0 0 0 0 1 0 0 0 0 0 0 0 0 0 1 1 0 0 0]\n",
      "Ersten 20 Vorhersagen mit dem Modell:           [1 1 1 1 1 1 1 1 1 1 1 1 1 1 1 1 1 1 1 1]\n",
      "Ersten 20 Vorhersagen mit dem _random_weighted: [0 1 0 0 0 0 0 1 0 0 0 1 0 0 0 0 0 0 0 0]\n",
      "Ersten 10 Vorhersagen mit dem y_pred_majority:  [0 0 0 0 0 0 0 0 0 0]\n",
      "Fold Nummer 2: fbeta_random_weighted - Score ist 0.7375536013786789\n",
      "Fold Nummer 2: fbeta_mehrheit - Score ist 0.8168620906598427\n",
      "Die ersten 20 Werte von y_train:                [0 0 0 0 0 0 0 0 1 0 0 0 0 0 0 0 0 1 1 0]\n",
      "Die ersten 20 Werte von y_test:                 [0 0 0 0 0 0 0 1 0 0 0 1 0 0 0 0 0 1 1 0]\n",
      "Ersten 20 Vorhersagen mit dem Modell:           [1 1 1 1 1 0 1 1 1 1 1 1 1 1 1 1 1 1 1 1]\n",
      "Ersten 20 Vorhersagen mit dem _random_weighted: [0 1 0 0 0 0 0 1 0 0 0 1 0 0 0 0 0 0 0 0]\n",
      "Ersten 10 Vorhersagen mit dem y_pred_majority:  [0 0 0 0 0 0 0 0 0 0]\n",
      "Fold Nummer 3: fbeta_random_weighted - Score ist 0.7448024825353549\n",
      "Fold Nummer 3: fbeta_mehrheit - Score ist 0.8167143150750469\n",
      "Die ersten 20 Werte von y_train:                [0 0 0 0 0 0 0 0 0 1 0 0 0 0 0 0 0 0 0 0]\n",
      "Die ersten 20 Werte von y_test:                 [0 0 0 1 0 0 0 1 0 0 1 0 0 0 0 0 0 0 0 0]\n",
      "Ersten 20 Vorhersagen mit dem Modell:           [1 0 0 1 0 1 1 1 1 1 1 0 1 1 0 0 0 1 1 1]\n",
      "Ersten 20 Vorhersagen mit dem _random_weighted: [0 1 0 0 0 0 0 1 0 0 0 1 0 0 0 0 0 0 0 0]\n",
      "Ersten 10 Vorhersagen mit dem y_pred_majority:  [0 0 0 0 0 0 0 0 0 0]\n",
      "Fold Nummer 4: fbeta_random_weighted - Score ist 0.7413033033636792\n",
      "Fold Nummer 4: fbeta_mehrheit - Score ist 0.8167143150750469\n",
      "Die ersten 20 Werte von y_train:                [0 0 0 0 0 0 0 0 0 0 0 0 0 0 0 0 0 0 1 0]\n",
      "Die ersten 20 Werte von y_test:                 [0 0 1 0 0 1 0 0 1 0 0 0 0 0 1 0 0 0 0 0]\n",
      "Ersten 20 Vorhersagen mit dem Modell:           [1 0 1 1 1 1 1 1 0 1 1 1 1 1 1 1 1 0 1 1]\n",
      "Ersten 20 Vorhersagen mit dem _random_weighted: [0 1 0 0 0 0 0 1 0 0 0 1 0 0 0 0 0 0 0 0]\n",
      "Ersten 10 Vorhersagen mit dem y_pred_majority:  [0 0 0 0 0 0 0 0 0 0]\n",
      "Fold Nummer 5: fbeta_random_weighted - Score ist 0.7430202948409034\n",
      "Fold Nummer 5: fbeta_mehrheit - Score ist 0.8168394026197696\n"
     ]
    }
   ],
   "execution_count": 72
  },
  {
   "metadata": {
    "ExecuteTime": {
     "end_time": "2024-09-19T18:30:26.624110Z",
     "start_time": "2024-09-19T18:30:26.612619Z"
    }
   },
   "cell_type": "code",
   "source": "",
   "id": "bc0c6383091941af",
   "outputs": [],
   "execution_count": 72
  },
  {
   "metadata": {
    "ExecuteTime": {
     "end_time": "2024-09-19T18:30:26.645736Z",
     "start_time": "2024-09-19T18:30:26.628075Z"
    }
   },
   "cell_type": "code",
   "source": [
    "# Durchschnittliche Genauigkeiten berechnen\n",
    "mean_scores = np.mean(logreg_scores)\n",
    "mean_scores_random = np.mean(fbetas_random)\n",
    "mean_scores_mehrheit = np.mean(fbetas_mehrheit)"
   ],
   "id": "dcd08cc94652934f",
   "outputs": [],
   "execution_count": 73
  },
  {
   "metadata": {
    "ExecuteTime": {
     "end_time": "2024-09-19T18:30:26.662140Z",
     "start_time": "2024-09-19T18:30:26.649358Z"
    }
   },
   "cell_type": "code",
   "source": [
    "print(f\"LogReg Mean score: {mean_scores}\")\n",
    "print(f\"Weighted Random Prediction Mean score: {mean_scores_random}\")\n",
    "print(f\"Weighted Mehrheit Prediction Mean score: {mean_scores_mehrheit}\")\n"
   ],
   "id": "76d1e18435ebe2e",
   "outputs": [
    {
     "name": "stdout",
     "output_type": "stream",
     "text": [
      "LogReg Mean score: 0.48240489744404214\n",
      "Weighted Random Prediction Mean score: 0.7426462385123551\n",
      "Weighted Mehrheit Prediction Mean score: 0.8167984428179098\n"
     ]
    }
   ],
   "execution_count": 74
  },
  {
   "metadata": {
    "ExecuteTime": {
     "end_time": "2024-09-19T18:30:26.733307Z",
     "start_time": "2024-09-19T18:30:26.665780Z"
    }
   },
   "cell_type": "code",
   "source": [
    "\n",
    "# Klassifikationsberichte für den letzten Fold ausgeben\n",
    "print(\"Random Forest Classification Report (Last Fold):\")\n",
    "print(classification_report(y_test, y_pred_rf))\n",
    "\n",
    "print(\"Weighted Random Prediction Classification Report (Last Fold):\")\n",
    "print(classification_report(y_test, y_pred_random_weighted))"
   ],
   "id": "67d40de0fe392e46",
   "outputs": [
    {
     "name": "stdout",
     "output_type": "stream",
     "text": [
      "Random Forest Classification Report (Last Fold):\n",
      "              precision    recall  f1-score   support\n",
      "\n",
      "           0       0.91      0.23      0.37      6787\n",
      "           1       0.17      0.87      0.29      1231\n",
      "\n",
      "    accuracy                           0.33      8018\n",
      "   macro avg       0.54      0.55      0.33      8018\n",
      "weighted avg       0.80      0.33      0.36      8018\n",
      "\n",
      "Weighted Random Prediction Classification Report (Last Fold):\n",
      "              precision    recall  f1-score   support\n",
      "\n",
      "           0       0.85      0.85      0.85      6787\n",
      "           1       0.16      0.15      0.15      1231\n",
      "\n",
      "    accuracy                           0.74      8018\n",
      "   macro avg       0.50      0.50      0.50      8018\n",
      "weighted avg       0.74      0.74      0.74      8018\n",
      "\n"
     ]
    }
   ],
   "execution_count": 75
  },
  {
   "metadata": {
    "ExecuteTime": {
     "end_time": "2024-09-19T18:30:26.740026Z",
     "start_time": "2024-09-19T18:30:26.736061Z"
    }
   },
   "cell_type": "code",
   "source": "",
   "id": "9c50e64ebc32b3df",
   "outputs": [],
   "execution_count": 75
  }
 ],
 "metadata": {
  "kernelspec": {
   "display_name": "Python 3",
   "language": "python",
   "name": "python3"
  },
  "language_info": {
   "codemirror_mode": {
    "name": "ipython",
    "version": 2
   },
   "file_extension": ".py",
   "mimetype": "text/x-python",
   "name": "python",
   "nbconvert_exporter": "python",
   "pygments_lexer": "ipython2",
   "version": "2.7.6"
  }
 },
 "nbformat": 4,
 "nbformat_minor": 5
}
