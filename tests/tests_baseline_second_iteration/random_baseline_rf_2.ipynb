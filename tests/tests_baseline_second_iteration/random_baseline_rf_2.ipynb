{
 "cells": [
  {
   "cell_type": "code",
   "id": "initial_id",
   "metadata": {
    "collapsed": true,
    "ExecuteTime": {
     "end_time": "2024-09-09T07:24:51.933492Z",
     "start_time": "2024-09-09T07:24:51.926160Z"
    }
   },
   "source": [
    "import numpy as np\n",
    "from sklearn.ensemble import RandomForestClassifier\n",
    "from sklearn.metrics import classification_report\n",
    "from collections import Counter\n",
    "import pandas as pd\n",
    "from sklearn.model_selection import StratifiedKFold, cross_val_score\n",
    "from sklearn.metrics import make_scorer, fbeta_score"
   ],
   "outputs": [],
   "execution_count": 16
  },
  {
   "metadata": {
    "ExecuteTime": {
     "end_time": "2024-09-09T07:24:52.020394Z",
     "start_time": "2024-09-09T07:24:51.977557Z"
    }
   },
   "cell_type": "code",
   "source": [
    "train_data_loaded = pd.read_csv('../../data/train_data_2024-08-01.csv')\n",
    "\n",
    "X = train_data_loaded.drop(columns=['UKATEGORIE'])\n",
    "y = train_data_loaded['UKATEGORIE']"
   ],
   "id": "3c17ed6e09fa6cec",
   "outputs": [],
   "execution_count": 17
  },
  {
   "metadata": {
    "ExecuteTime": {
     "end_time": "2024-09-09T07:24:52.044062Z",
     "start_time": "2024-09-09T07:24:52.041427Z"
    }
   },
   "cell_type": "code",
   "source": [
    "# StratifiedKFold initialisieren\n",
    "skf = StratifiedKFold(n_splits=5, shuffle=True, random_state=42)\n",
    "\n",
    "# Variablen für Ergebnisse\n",
    "fbetas_rf = []\n",
    "fbetas_random = []\n",
    "fbetas_mehrheit = []"
   ],
   "id": "14640e88b6468603",
   "outputs": [],
   "execution_count": 18
  },
  {
   "metadata": {
    "ExecuteTime": {
     "end_time": "2024-09-09T07:24:52.088229Z",
     "start_time": "2024-09-09T07:24:52.085311Z"
    }
   },
   "cell_type": "code",
   "source": [
    "beta = 2\n",
    "fbeta_scorer = make_scorer(fbeta_score, beta=beta)"
   ],
   "id": "fcd1f4cf70853c46",
   "outputs": [],
   "execution_count": 19
  },
  {
   "metadata": {
    "ExecuteTime": {
     "end_time": "2024-09-09T07:25:45.953146Z",
     "start_time": "2024-09-09T07:24:52.145392Z"
    }
   },
   "cell_type": "code",
   "source": [
    "# Balanced Random Forest Modell mit aktualisierten Parametern\n",
    "rf_model =  RandomForestClassifier(n_estimators=344, min_samples_split=400, min_samples_leaf=8,max_features='log2', max_depth=15, random_state=42, class_weight={0:1, 1: 9})\n",
    "\n",
    "rf_scores = cross_val_score(rf_model, X, y, cv=skf, scoring=fbeta_scorer)\n",
    "fbetas_rf.append(rf_scores)\n",
    "print(f'Durchschnittlicher Random Forest F-beta Score (mean) mit unseren Daten: {rf_scores.mean()}')\n",
    "print(f'Standardabweichung des Random Forest F-beta Score (std) mit unseren Daten: {rf_scores.std()}')\n",
    "\n",
    "# zufällige und Mehrheitsklassen-Vorhersagen\n",
    "counter = 1\n",
    "for train_index, test_index in skf.split(X, y):\n",
    "    X_train, X_test = X.iloc[train_index], X.iloc[test_index]\n",
    "    y_train, y_test = y.iloc[train_index], y.iloc[test_index]\n",
    "    \n",
    "    # Drucke die ersten 10 values von y_train\n",
    "    print(\"nur split y_train:\", y_train.values[:100])\n",
    "    # Drucke die ersten 10 values von y_test\n",
    "    print(\"nur split y_test:\", y_test.values[:100])\n",
    "    \n",
    "    # Random Forest Modell trainieren\n",
    "    rf_model.fit(X_train, y_train)\n",
    "    y_pred_rf = rf_model.predict(X_test)\n",
    "    print(\"Ersten 10 Vorhersagen mit dem Random Forest Modell:\", y_pred_rf[:10])\n",
    "    \n",
    "    # Zufällige Vorhersagen basierend auf den Klassenwahrscheinlichkeiten erstellen\n",
    "    class_counts = Counter(y_test)\n",
    "    total_samples = len(y_test)\n",
    "    class_probabilities = {cls: count / total_samples for cls, count in class_counts.items()}\n",
    "    \n",
    "    np.random.seed(42)\n",
    "    y_pred_random_weighted = np.random.choice(\n",
    "        list(class_probabilities.keys()),\n",
    "        size=y_test.shape,\n",
    "        p=list(class_probabilities.values())\n",
    "    )\n",
    "    \n",
    "    # Drucke die ersten 10 Werte\n",
    "    print(\"Ersten 10 Vorhersagen mit dem _random_weighted:\", y_pred_random_weighted[:10])\n",
    "    \n",
    "    # Leistung der gewichteten zufälligen Vorhersagen bewerten\n",
    "    fbeta_random_weighted = fbeta_score(y_test, y_pred_random_weighted, beta=beta, average='weighted')\n",
    "    print(f\"Fold Nummer {counter}: fbeta_random_weighted - Score ist {fbeta_random_weighted}\")\n",
    "    fbetas_random.append(fbeta_random_weighted)\n",
    "    \n",
    "    # Immer Mehrheitsklasse vorhersagen\n",
    "    y_pred_majority = np.full(y_test.shape, y_train.mode().iloc[0])\n",
    "    \n",
    "    # Drucke die ersten 10 Werte\n",
    "    print(\"Ersten 10 Vorhersagen mit dem y_pred_majority:\", y_pred_majority[:10])\n",
    "    \n",
    "    # Leistung der Vorhersagen der Mehrheitsklasse bewerten\n",
    "    fbeta_mehrheit = fbeta_score(y_test, y_pred_majority, beta=beta, average='weighted')\n",
    "    print(f\"Fold Nummer {counter}: fbeta_mehrheit - Score ist {fbeta_mehrheit}\")\n",
    "    fbetas_mehrheit.append(fbeta_mehrheit)\n",
    "    \n",
    "    counter += 1\n",
    "\n",
    "# Durchschnittliche F-beta-Scores berechnen\n",
    "print(f'Random Weighted Predictions F-beta Score (mean): {np.mean(fbetas_random)}')\n",
    "print(f'Random Weighted Predictions F-beta Score (std): {np.std(fbetas_random)}')\n",
    "\n",
    "print(f'Majority Class Predictions F-beta Score (mean): {np.mean(fbetas_mehrheit)}')\n",
    "print(f'Majority Class Predictions F-beta Score (std): {np.std(fbetas_mehrheit)}')\n",
    "\n",
    "    "
   ],
   "id": "f6ccdf6e33312554",
   "outputs": [
    {
     "name": "stdout",
     "output_type": "stream",
     "text": [
      "Durchschnittlicher Random Forest F-beta Score (mean) mit unseren Daten: 0.5039573583667317\n",
      "Standardabweichung des Random Forest F-beta Score (std) mit unseren Daten: 0.0032926537238056304\n",
      "nur split y_train: [0 0 0 0 0 0 0 0 1 0 0 0 0 0 0 0 0 0 0 1 1 0 0 0 1 0 0 0 0 0 1 0 0 0 1 0 1\n",
      " 0 0 0 0 0 0 0 0 1 0 0 0 0 0 0 0 1 1 0 1 0 0 0 0 1 0 1 0 0 1 0 0 0 1 0 0 0\n",
      " 0 0 0 0 0 0 0 0 0 0 0 0 0 1 0 0 0 0 0 0 0 1 0 0 0 0]\n",
      "nur split y_test: [0 0 0 0 0 1 0 0 0 0 0 1 1 1 0 0 0 0 0 0 0 0 0 1 0 0 0 1 0 0 0 0 0 0 0 0 1\n",
      " 1 0 0 0 0 0 0 0 0 0 0 1 0 1 0 0 0 0 0 0 0 0 0 0 0 0 0 0 0 0 0 0 1 0 1 0 0\n",
      " 0 0 0 0 0 0 1 0 0 0 0 0 0 0 0 1 0 0 0 1 0 0 0 0 0 0]\n",
      "Ersten 10 Vorhersagen mit dem Random Forest Modell: [1 1 1 0 1 1 1 1 1 0]\n",
      "Ersten 10 Vorhersagen mit dem _random_weighted: [0 1 0 0 0 0 0 1 0 0]\n",
      "Fold Nummer 1: fbeta_random_weighted - Score ist 0.7465515104431596\n",
      "Ersten 10 Vorhersagen mit dem y_pred_majority: [0 0 0 0 0 0 0 0 0 0]\n",
      "Fold Nummer 1: fbeta_mehrheit - Score ist 0.8168620906598427\n",
      "nur split y_train: [0 0 0 0 0 0 0 0 0 0 1 0 0 0 0 0 0 0 1 0 0 0 1 0 0 1 1 0 0 0 0 1 0 1 0 0 0\n",
      " 0 0 0 0 0 1 0 0 0 0 0 0 0 1 1 1 1 0 1 0 0 0 0 1 0 0 0 1 0 0 0 1 0 0 0 0 0\n",
      " 0 0 0 0 0 0 0 0 0 0 0 0 0 1 0 0 0 0 0 1 0 0 0 0 0 0]\n",
      "nur split y_test: [0 0 0 0 0 1 0 0 0 0 0 0 0 0 0 1 1 0 0 0 0 0 0 1 0 0 0 0 0 0 0 0 0 0 0 1 0\n",
      " 0 1 0 0 0 0 0 0 1 0 0 0 0 0 0 0 0 0 0 0 0 0 1 0 0 1 0 0 0 0 0 0 1 1 0 0 0\n",
      " 0 0 0 0 0 0 0 0 0 0 0 1 0 0 0 0 0 0 1 1 0 0 0 0 1 0]\n",
      "Ersten 10 Vorhersagen mit dem Random Forest Modell: [1 1 1 1 1 1 1 1 1 1]\n",
      "Ersten 10 Vorhersagen mit dem _random_weighted: [0 1 0 0 0 0 0 1 0 0]\n",
      "Fold Nummer 2: fbeta_random_weighted - Score ist 0.7375536013786789\n",
      "Ersten 10 Vorhersagen mit dem y_pred_majority: [0 0 0 0 0 0 0 0 0 0]\n",
      "Fold Nummer 2: fbeta_mehrheit - Score ist 0.8168620906598427\n",
      "nur split y_train: [0 0 0 0 0 0 0 0 1 0 0 0 0 0 0 0 0 1 1 0 0 0 0 1 0 0 1 0 0 0 1 0 0 0 0 0 0\n",
      " 0 0 0 1 0 0 0 0 0 0 1 1 1 0 0 0 0 1 1 0 1 0 0 0 0 0 1 0 0 0 0 0 0 0 0 0 0\n",
      " 0 0 0 0 0 0 0 1 0 0 0 0 0 1 0 0 0 1 0 0 0 0 0 0 0 0]\n",
      "nur split y_test: [0 0 0 0 0 0 0 1 0 0 0 1 0 0 0 0 0 1 1 0 0 1 0 0 0 0 0 0 0 0 0 0 1 0 0 0 0\n",
      " 0 0 0 1 0 0 1 0 0 0 0 0 0 0 0 0 0 0 0 0 0 0 1 0 1 0 1 0 0 0 0 0 0 0 0 0 0\n",
      " 0 0 1 0 0 0 0 0 0 0 1 0 0 1 0 0 0 0 0 0 0 1 0 1 1 0]\n",
      "Ersten 10 Vorhersagen mit dem Random Forest Modell: [1 0 1 1 1 0 1 0 0 1]\n",
      "Ersten 10 Vorhersagen mit dem _random_weighted: [0 1 0 0 0 0 0 1 0 0]\n",
      "Fold Nummer 3: fbeta_random_weighted - Score ist 0.7448024825353549\n",
      "Ersten 10 Vorhersagen mit dem y_pred_majority: [0 0 0 0 0 0 0 0 0 0]\n",
      "Fold Nummer 3: fbeta_mehrheit - Score ist 0.8167143150750469\n",
      "nur split y_train: [0 0 0 0 0 0 0 0 0 1 0 0 0 0 0 0 0 0 0 0 1 1 0 0 0 0 1 0 0 0 1 0 0 1 0 0 0\n",
      " 0 0 1 0 0 0 0 0 0 1 0 0 0 0 0 0 0 0 0 0 1 1 1 0 1 0 0 0 1 0 1 0 1 0 0 1 0\n",
      " 0 0 0 0 0 0 0 0 0 0 0 0 0 0 0 0 0 0 1 0 0 0 1 0 0 1]\n",
      "nur split y_test: [0 0 0 1 0 0 0 1 0 0 1 0 0 0 0 0 0 0 0 0 0 0 0 0 0 0 0 0 0 1 0 1 0 0 0 1 0\n",
      " 0 0 0 0 0 0 1 0 0 0 0 0 0 0 0 0 0 0 1 0 0 0 0 0 0 1 0 0 0 0 0 0 0 0 0 1 0\n",
      " 1 0 0 1 0 0 0 0 1 0 0 0 0 0 0 0 0 0 0 0 0 0 1 0 1 0]\n",
      "Ersten 10 Vorhersagen mit dem Random Forest Modell: [1 0 0 1 0 1 1 1 1 1]\n",
      "Ersten 10 Vorhersagen mit dem _random_weighted: [0 1 0 0 0 0 0 1 0 0]\n",
      "Fold Nummer 4: fbeta_random_weighted - Score ist 0.7413033033636792\n",
      "Ersten 10 Vorhersagen mit dem y_pred_majority: [0 0 0 0 0 0 0 0 0 0]\n",
      "Fold Nummer 4: fbeta_mehrheit - Score ist 0.8167143150750469\n",
      "nur split y_train: [0 0 0 0 0 0 0 0 0 0 0 0 0 0 0 0 0 0 1 0 0 0 0 1 0 0 1 0 0 0 0 1 1 0 0 0 0\n",
      " 0 0 0 0 0 0 0 0 0 0 0 0 1 1 1 1 1 0 0 0 1 0 1 0 1 0 0 0 1 0 0 0 0 1 0 0 0\n",
      " 0 0 0 0 0 0 0 0 0 0 0 0 0 0 0 0 0 0 1 0 0 1 0 0 0 0]\n",
      "nur split y_test: [0 0 1 0 0 1 0 0 1 0 0 0 0 0 1 0 0 0 0 0 1 0 0 0 0 0 0 0 0 0 0 0 0 1 0 0 0\n",
      " 0 0 0 0 0 0 0 0 0 0 0 0 0 0 0 0 0 0 1 0 1 0 0 0 0 0 0 0 0 0 0 0 0 0 1 0 0\n",
      " 0 0 0 0 1 0 0 0 0 0 0 0 0 0 0 1 0 0 0 1 1 0 0 0 0 0]\n",
      "Ersten 10 Vorhersagen mit dem Random Forest Modell: [1 0 1 1 1 1 1 1 0 1]\n",
      "Ersten 10 Vorhersagen mit dem _random_weighted: [0 1 0 0 0 0 0 1 0 0]\n",
      "Fold Nummer 5: fbeta_random_weighted - Score ist 0.7430202948409034\n",
      "Ersten 10 Vorhersagen mit dem y_pred_majority: [0 0 0 0 0 0 0 0 0 0]\n",
      "Fold Nummer 5: fbeta_mehrheit - Score ist 0.8168394026197696\n",
      "Random Weighted Predictions F-beta Score (mean): 0.7426462385123551\n",
      "Random Weighted Predictions F-beta Score (std): 0.003091241920847536\n",
      "Majority Class Predictions F-beta Score (mean): 0.8167984428179098\n",
      "Majority Class Predictions F-beta Score (std): 6.918779541544925e-05\n"
     ]
    }
   ],
   "execution_count": 20
  },
  {
   "metadata": {
    "ExecuteTime": {
     "end_time": "2024-09-09T07:25:45.984301Z",
     "start_time": "2024-09-09T07:25:45.982444Z"
    }
   },
   "cell_type": "code",
   "source": "",
   "id": "bc0c6383091941af",
   "outputs": [],
   "execution_count": null
  },
  {
   "metadata": {
    "ExecuteTime": {
     "end_time": "2024-09-09T07:25:46.030175Z",
     "start_time": "2024-09-09T07:25:46.026849Z"
    }
   },
   "cell_type": "code",
   "source": [
    "# Durchschnittliche Genauigkeiten berechnen\n",
    "mean_scores_rf = np.mean(fbetas_rf)\n",
    "mean_scores_random = np.mean(fbetas_random)\n",
    "mean_scores_mehrheit = np.mean(fbetas_mehrheit)"
   ],
   "id": "dcd08cc94652934f",
   "outputs": [],
   "execution_count": 21
  },
  {
   "metadata": {
    "ExecuteTime": {
     "end_time": "2024-09-09T07:25:46.092421Z",
     "start_time": "2024-09-09T07:25:46.085310Z"
    }
   },
   "cell_type": "code",
   "source": [
    "print(type(fbetas_rf)) \n",
    "print(type(mean_scores_rf))\n"
   ],
   "id": "15fd9265595f32da",
   "outputs": [
    {
     "name": "stdout",
     "output_type": "stream",
     "text": [
      "<class 'list'>\n",
      "<class 'numpy.float64'>\n"
     ]
    }
   ],
   "execution_count": 22
  },
  {
   "metadata": {
    "ExecuteTime": {
     "end_time": "2024-09-09T07:25:46.146886Z",
     "start_time": "2024-09-09T07:25:46.143166Z"
    }
   },
   "cell_type": "code",
   "source": [
    "print(f\"Mean score: {mean_scores_rf}\")\n",
    "print(f\"Weighted Random Prediction Mean score: {mean_scores_random}\")\n",
    "print(f\"Weighted Mehrheit Prediction Mean score: {mean_scores_mehrheit}\")\n"
   ],
   "id": "76d1e18435ebe2e",
   "outputs": [
    {
     "name": "stdout",
     "output_type": "stream",
     "text": [
      "Mean score: 0.5039573583667317\n",
      "Weighted Random Prediction Mean score: 0.7426462385123551\n",
      "Weighted Mehrheit Prediction Mean score: 0.8167984428179098\n"
     ]
    }
   ],
   "execution_count": 23
  },
  {
   "metadata": {
    "ExecuteTime": {
     "end_time": "2024-09-09T07:25:46.250207Z",
     "start_time": "2024-09-09T07:25:46.208037Z"
    }
   },
   "cell_type": "code",
   "source": [
    "\n",
    "# Klassifikationsberichte für den letzten Fold ausgeben\n",
    "print(\"Classification Report (Last Fold):\")\n",
    "print(classification_report(y_test, y_pred_rf))\n",
    "\n",
    "print(\"Weighted Random Prediction Classification Report (Last Fold):\")\n",
    "print(classification_report(y_test, y_pred_random_weighted))"
   ],
   "id": "67d40de0fe392e46",
   "outputs": [
    {
     "name": "stdout",
     "output_type": "stream",
     "text": [
      "Classification Report (Last Fold):\n",
      "              precision    recall  f1-score   support\n",
      "\n",
      "           0       0.93      0.31      0.46      6787\n",
      "           1       0.18      0.86      0.30      1231\n",
      "\n",
      "    accuracy                           0.39      8018\n",
      "   macro avg       0.56      0.59      0.38      8018\n",
      "weighted avg       0.81      0.39      0.44      8018\n",
      "\n",
      "Weighted Random Prediction Classification Report (Last Fold):\n",
      "              precision    recall  f1-score   support\n",
      "\n",
      "           0       0.85      0.85      0.85      6787\n",
      "           1       0.16      0.15      0.15      1231\n",
      "\n",
      "    accuracy                           0.74      8018\n",
      "   macro avg       0.50      0.50      0.50      8018\n",
      "weighted avg       0.74      0.74      0.74      8018\n",
      "\n"
     ]
    }
   ],
   "execution_count": 24
  }
 ],
 "metadata": {
  "kernelspec": {
   "display_name": "Python 3",
   "language": "python",
   "name": "python3"
  },
  "language_info": {
   "codemirror_mode": {
    "name": "ipython",
    "version": 2
   },
   "file_extension": ".py",
   "mimetype": "text/x-python",
   "name": "python",
   "nbconvert_exporter": "python",
   "pygments_lexer": "ipython2",
   "version": "2.7.6"
  }
 },
 "nbformat": 4,
 "nbformat_minor": 5
}
