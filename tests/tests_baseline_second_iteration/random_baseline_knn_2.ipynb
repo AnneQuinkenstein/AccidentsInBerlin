{
 "cells": [
  {
   "metadata": {
    "ExecuteTime": {
     "end_time": "2024-09-09T07:58:16.938025Z",
     "start_time": "2024-09-09T07:58:14.974549Z"
    }
   },
   "cell_type": "code",
   "source": [
    "from sklearn.metrics import classification_report\n",
    "import pandas as pd\n",
    "from sklearn.metrics import make_scorer, fbeta_score\n",
    "from sklearn.model_selection import cross_val_score, StratifiedKFold\n",
    "from imblearn.over_sampling import SMOTE\n",
    "from sklearn.neighbors import KNeighborsClassifier\n",
    "from collections import Counter\n",
    "import numpy as np"
   ],
   "id": "67e97767e45156e",
   "outputs": [],
   "execution_count": 1
  },
  {
   "metadata": {
    "ExecuteTime": {
     "end_time": "2024-09-09T07:58:17.014215Z",
     "start_time": "2024-09-09T07:58:16.944203Z"
    }
   },
   "cell_type": "code",
   "source": [
    "# Lade Datensatz\n",
    "train_data_loaded = pd.read_csv('../../data/train_data_2024-08-01.csv')\n",
    "X = train_data_loaded.drop(columns=['UKATEGORIE'])\n",
    "y = train_data_loaded['UKATEGORIE']\n"
   ],
   "id": "1af4db23cbd3c29b",
   "outputs": [],
   "execution_count": 2
  },
  {
   "metadata": {
    "ExecuteTime": {
     "end_time": "2024-09-09T07:58:17.220834Z",
     "start_time": "2024-09-09T07:58:17.217593Z"
    }
   },
   "cell_type": "code",
   "source": [
    "# StratifiedKFold initialisieren\n",
    "skf = StratifiedKFold(n_splits=5, shuffle=True, random_state=42)\n",
    "\n"
   ],
   "id": "a32a140d80216a4e",
   "outputs": [],
   "execution_count": 3
  },
  {
   "metadata": {
    "ExecuteTime": {
     "end_time": "2024-09-09T07:58:17.243021Z",
     "start_time": "2024-09-09T07:58:17.239621Z"
    }
   },
   "cell_type": "code",
   "source": [
    "beta = 2\n",
    "fbeta_scorer= make_scorer(fbeta_score, beta=beta)"
   ],
   "id": "13a8101206445b80",
   "outputs": [],
   "execution_count": 4
  },
  {
   "metadata": {
    "ExecuteTime": {
     "end_time": "2024-09-09T08:00:07.864552Z",
     "start_time": "2024-09-09T07:58:17.286390Z"
    }
   },
   "cell_type": "code",
   "source": [
    "# SMOTE\n",
    "sm = SMOTE(random_state=42)\n",
    "\n",
    "# KNN Initialisierung\n",
    "knn = KNeighborsClassifier(n_neighbors=6, leaf_size=41, weights='distance', p=1)\n",
    "\n",
    "# Listen für die Ergebnisse\n",
    "fbetas_knn = []\n",
    "fbetas_random = []\n",
    "fbetas_mehrheit = []\n",
    "\n",
    "counter = 1\n",
    "for train_index, test_index in skf.split(X, y):\n",
    "    X_train_fold, X_test_fold = X.iloc[train_index], X.iloc[test_index]\n",
    "    y_train_fold, y_test_fold = y.iloc[train_index], y.iloc[test_index]\n",
    "    \n",
    "    # Anwendung von SMOTE auf Trainingsset\n",
    "    X_res_fold, y_res_fold = sm.fit_resample(X_train_fold, y_train_fold)\n",
    "\n",
    "    # Trainiere KNN\n",
    "    knn.fit(X_res_fold, y_res_fold)\n",
    "    y_pred_knn = knn.predict(X_test_fold)\n",
    "    fbeta_knn = fbeta_score(y_test_fold, y_pred_knn, beta=beta, average='weighted')\n",
    "    fbetas_knn.append(fbeta_knn)\n",
    "\n",
    "    print(f\"Fold Nummer {counter} - KNN F-beta Score: {fbeta_knn}\")\n",
    "    \n",
    "    # Zufällige Vorhersagen entsprechend der Klassenverteilung\n",
    "    class_counts = Counter(y_test_fold)\n",
    "    total_samples = len(y_test_fold)\n",
    "    class_probabilities = {cls: count / total_samples for cls, count in class_counts.items()}\n",
    "    \n",
    "    np.random.seed(42)\n",
    "    y_pred_random_weighted = np.random.choice(\n",
    "        list(class_probabilities.keys()),\n",
    "        size=y_test_fold.shape,\n",
    "        p=list(class_probabilities.values())\n",
    "    )\n",
    "    \n",
    "    fbeta_random_weighted = fbeta_score(y_test_fold, y_pred_random_weighted, beta=beta, average='weighted')\n",
    "    fbetas_random.append(fbeta_random_weighted)\n",
    "\n",
    "    print(f\"Fold Nummer {counter} - Zufällige Vorhersagen F-beta Score: {fbeta_random_weighted}\")\n",
    "    \n",
    "    # Immer Mehrheitsklasse vorhersagen\n",
    "    majority_class = y_train_fold.mode().iloc[0]\n",
    "    y_pred_majority = np.full(y_test_fold.shape, majority_class)\n",
    "    \n",
    "    fbeta_mehrheit = fbeta_score(y_test_fold, y_pred_majority, beta=beta, average='weighted')\n",
    "    fbetas_mehrheit.append(fbeta_mehrheit)\n",
    "\n",
    "    print(f\"Fold Nummer {counter} - Mehrheitsklasse F-beta Score: {fbeta_mehrheit}\")\n",
    "    \n",
    "    counter += 1\n",
    "\n",
    "# Durchschnittliche F-beta-Scores berechnen und ausgeben\n",
    "print(\"\\nDurchschnittliche F-beta-Scores:\")\n",
    "print(f\"KNN: {np.mean(fbetas_knn):.4f} (std: {np.std(fbetas_knn):.4f})\")\n",
    "print(f\"Zufällige Vorhersagen: {np.mean(fbetas_random):.4f} (std: {np.std(fbetas_random):.4f})\")\n",
    "print(f\"Mehrheitsklasse: {np.mean(fbetas_mehrheit):.4f} (std: {np.std(fbetas_mehrheit):.4f})\")"
   ],
   "id": "3960b806447649de",
   "outputs": [
    {
     "name": "stdout",
     "output_type": "stream",
     "text": [
      "Fold Nummer 1 - KNN F-beta Score: 0.6785436083817462\n",
      "Fold Nummer 1 - Zufällige Vorhersagen F-beta Score: 0.7465515104431596\n",
      "Fold Nummer 1 - Mehrheitsklasse F-beta Score: 0.8168620906598427\n",
      "Fold Nummer 2 - KNN F-beta Score: 0.6715284116686339\n",
      "Fold Nummer 2 - Zufällige Vorhersagen F-beta Score: 0.7375536013786789\n",
      "Fold Nummer 2 - Mehrheitsklasse F-beta Score: 0.8168620906598427\n",
      "Fold Nummer 3 - KNN F-beta Score: 0.6758450073158697\n",
      "Fold Nummer 3 - Zufällige Vorhersagen F-beta Score: 0.7448024825353549\n",
      "Fold Nummer 3 - Mehrheitsklasse F-beta Score: 0.8167143150750469\n",
      "Fold Nummer 4 - KNN F-beta Score: 0.6792301276168623\n",
      "Fold Nummer 4 - Zufällige Vorhersagen F-beta Score: 0.7413033033636792\n",
      "Fold Nummer 4 - Mehrheitsklasse F-beta Score: 0.8167143150750469\n",
      "Fold Nummer 5 - KNN F-beta Score: 0.6755650747711294\n",
      "Fold Nummer 5 - Zufällige Vorhersagen F-beta Score: 0.7430202948409034\n",
      "Fold Nummer 5 - Mehrheitsklasse F-beta Score: 0.8168394026197696\n",
      "\n",
      "Durchschnittliche F-beta-Scores:\n",
      "KNN: 0.6761 (std: 0.0027)\n",
      "Zufällige Vorhersagen: 0.7426 (std: 0.0031)\n",
      "Mehrheitsklasse: 0.8168 (std: 0.0001)\n"
     ]
    }
   ],
   "execution_count": 5
  },
  {
   "metadata": {
    "ExecuteTime": {
     "end_time": "2024-09-09T08:00:07.945497Z",
     "start_time": "2024-09-09T08:00:07.941600Z"
    }
   },
   "cell_type": "code",
   "source": "",
   "id": "bc0c6383091941af",
   "outputs": [],
   "execution_count": null
  },
  {
   "metadata": {
    "ExecuteTime": {
     "end_time": "2024-09-09T08:00:08.069380Z",
     "start_time": "2024-09-09T08:00:08.062323Z"
    }
   },
   "cell_type": "code",
   "source": [
    "# Durchschnittliche Genauigkeiten berechnen\n",
    "mean_scores = np.mean(fbetas_knn)\n",
    "mean_scores_random = np.mean(fbetas_random)\n",
    "mean_scores_mehrheit = np.mean(fbetas_mehrheit)"
   ],
   "id": "dcd08cc94652934f",
   "outputs": [],
   "execution_count": 6
  },
  {
   "metadata": {
    "ExecuteTime": {
     "end_time": "2024-09-09T08:07:47.105246Z",
     "start_time": "2024-09-09T08:07:47.102061Z"
    }
   },
   "cell_type": "code",
   "source": [
    "print(f\"Modell Mean score: {mean_scores}\")\n",
    "print(f\"Weighted Random Prediction Mean score: {mean_scores_random}\")\n",
    "print(f\"Weighted Mehrheit Prediction Mean score: {mean_scores_mehrheit}\")\n"
   ],
   "id": "76d1e18435ebe2e",
   "outputs": [
    {
     "name": "stdout",
     "output_type": "stream",
     "text": [
      "Modell Mean score: 0.6761424459508483\n",
      "Weighted Random Prediction Mean score: 0.7426462385123551\n",
      "Weighted Mehrheit Prediction Mean score: 0.8167984428179098\n"
     ]
    }
   ],
   "execution_count": 8
  },
  {
   "metadata": {
    "ExecuteTime": {
     "end_time": "2024-09-09T08:00:08.185799Z",
     "start_time": "2024-09-09T08:00:08.180817Z"
    }
   },
   "cell_type": "code",
   "source": "",
   "id": "67d40de0fe392e46",
   "outputs": [],
   "execution_count": null
  },
  {
   "metadata": {
    "ExecuteTime": {
     "end_time": "2024-09-09T08:00:08.256561Z",
     "start_time": "2024-09-09T08:00:08.252201Z"
    }
   },
   "cell_type": "code",
   "source": "",
   "id": "9c50e64ebc32b3df",
   "outputs": [],
   "execution_count": null
  }
 ],
 "metadata": {
  "kernelspec": {
   "display_name": "Python 3",
   "language": "python",
   "name": "python3"
  },
  "language_info": {
   "codemirror_mode": {
    "name": "ipython",
    "version": 2
   },
   "file_extension": ".py",
   "mimetype": "text/x-python",
   "name": "python",
   "nbconvert_exporter": "python",
   "pygments_lexer": "ipython2",
   "version": "2.7.6"
  }
 },
 "nbformat": 4,
 "nbformat_minor": 5
}
