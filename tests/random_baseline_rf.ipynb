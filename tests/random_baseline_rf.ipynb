{
 "cells": [
  {
   "cell_type": "code",
   "id": "initial_id",
   "metadata": {
    "collapsed": true,
    "ExecuteTime": {
     "end_time": "2024-07-27T12:36:26.191924Z",
     "start_time": "2024-07-27T12:36:26.188612Z"
    }
   },
   "source": [
    "import numpy as np\n",
    "from sklearn.ensemble import RandomForestClassifier\n",
    "from sklearn.metrics import accuracy_score, classification_report, confusion_matrix\n",
    "from collections import Counter\n",
    "import pandas as pd\n",
    "from sklearn.model_selection import StratifiedKFold\n",
    "from sklearn.metrics import make_scorer, fbeta_score"
   ],
   "outputs": [],
   "execution_count": 37
  },
  {
   "metadata": {
    "ExecuteTime": {
     "end_time": "2024-07-27T12:36:26.306885Z",
     "start_time": "2024-07-27T12:36:26.221103Z"
    }
   },
   "cell_type": "code",
   "source": [
    "# daten laden / teilen\n",
    "df = pd.read_csv('../data/GeneralDatensatz18-21ohneGeo-mitLockdown_mitCorona.csv', sep=';')\n",
    "\n",
    "X=df[['UMONAT','USTUNDE','UWOCHENTAG','UART','USTRZUSTAND','BEZ','UTYP1','ULICHTVERH','IstRad','IstPKW','IstFuss','IstKrad','IstGkfz','IstSonstige', 'LOCKDOWN', 'COVID']]\n",
    "#für tödliche Unfälle\n",
    "\n",
    "#für tödliche und schwere vs. leichte Unfälle  -> 1 ist schwer oder tödlich, 0 ist leicht\n",
    "y = df['UKATEGORIE'].isin([1, 2]).astype(int)\n"
   ],
   "id": "3c17ed6e09fa6cec",
   "outputs": [],
   "execution_count": 38
  },
  {
   "metadata": {
    "ExecuteTime": {
     "end_time": "2024-07-27T12:36:26.314094Z",
     "start_time": "2024-07-27T12:36:26.310621Z"
    }
   },
   "cell_type": "code",
   "source": [
    "# StratifiedKFold initialisieren\n",
    "skf = StratifiedKFold(n_splits=5)\n",
    "\n",
    "# Variablen für Ergebnisse\n",
    "fbetas_rf = []\n",
    "fbetas_random = []\n",
    "fbetas_mehrheit = []"
   ],
   "id": "14640e88b6468603",
   "outputs": [],
   "execution_count": 39
  },
  {
   "metadata": {
    "ExecuteTime": {
     "end_time": "2024-07-27T12:36:26.318965Z",
     "start_time": "2024-07-27T12:36:26.315467Z"
    }
   },
   "cell_type": "code",
   "source": [
    "beta = 2\n",
    "fbeta_scorer= make_scorer(fbeta_score, beta=beta)"
   ],
   "id": "fcd1f4cf70853c46",
   "outputs": [],
   "execution_count": 40
  },
  {
   "metadata": {
    "ExecuteTime": {
     "end_time": "2024-07-27T12:36:53.068463Z",
     "start_time": "2024-07-27T12:36:26.321375Z"
    }
   },
   "cell_type": "code",
   "source": [
    "from sklearn.model_selection import cross_val_score\n",
    "\n",
    "# Stratified K-Fold Cross-Validation\n",
    "counter = 0\n",
    "for train_index, test_index in skf.split(df.iloc[:, :-1], df['UKATEGORIE'].isin([1, 2]).astype(int)):\n",
    "    X_train, X_test = df.iloc[train_index, :-1], df.iloc[test_index, :-1]\n",
    "    y_train, y_test = df.iloc[train_index, -1], df.iloc[test_index, -1]\n",
    "    \n",
    "    \n",
    "    # Random Forest Modell trainieren\n",
    "    model = RandomForestClassifier(n_estimators=344, min_samples_split= 400, min_samples_leaf= 8, max_features ='log2', max_depth= 15, class_weight = {0: 1, 1: 9}, random_state=42)\n",
    "    \n",
    "    model.fit(X_train, y_train)\n",
    "    \n",
    "    # Vorhersagen mit dem Random Forest Modell\n",
    "    y_pred_rf = model.predict(X_test)\n",
    "    \n",
    "    # Leistung des Random Forest Modells bewerten\n",
    "    fbeta_rf = fbeta_score(y_test, y_pred_rf, beta=beta, average='weighted')\n",
    "    print(f\"Fold nummer {counter}: score ist {fbeta_rf} \")\n",
    "    fbetas_rf.append(fbeta_rf)\n",
    "    \n",
    "     # jetzt mit random:\n",
    "\n",
    "    # Klassenverteilung im Testdatensatz ermitteln\n",
    "    class_counts = Counter(y_test)\n",
    "    total_samples = len(y_test)\n",
    "    class_probabilities = {cls: count / total_samples for cls, count in class_counts.items()}\n",
    "    \n",
    "    # Zufällige Vorhersagen basierend auf den Klassenwahrscheinlichkeiten erstellen\n",
    "    np.random.seed(42)\n",
    "    y_pred_random_weighted = np.random.choice(\n",
    "        list(class_probabilities.keys()),\n",
    "        size=y_test.shape,\n",
    "        p=list(class_probabilities.values())\n",
    "    )\n",
    "    \n",
    "    \n",
    "    # Leistung der gewichteten zufälligen Vorhersagen bewerten\n",
    "    fbeta_random_weighted = fbeta_score(y_test, y_pred_random_weighted, beta=beta, average='weighted')\n",
    "   \n",
    "    fbetas_random.append(fbeta_random_weighted)\n",
    "    \n",
    "    # immer mehrheitsklasse vorhersagen\n",
    "    y_pred_zeros =np.zeros(y_test.shape)\n",
    "   \n",
    "    # Leistung der Vorhersagen der mehrheitsklasse bewerten\n",
    "    fbeta_mehrheit = fbeta_score(y_test, y_pred_zeros, beta=beta, average='weighted')\n",
    "    fbetas_mehrheit.append(fbeta_mehrheit)\n",
    "    counter = counter+1\n",
    "    \n",
    "    "
   ],
   "id": "f6ccdf6e33312554",
   "outputs": [
    {
     "name": "stdout",
     "output_type": "stream",
     "text": [
      "Fold nummer 0: score ist 0.7574593565869633 \n",
      "Fold nummer 1: score ist 0.8430926628387813 \n",
      "Fold nummer 2: score ist 1.0 \n",
      "Fold nummer 3: score ist 1.0 \n",
      "Fold nummer 4: score ist 1.0 \n"
     ]
    }
   ],
   "execution_count": 41
  },
  {
   "metadata": {
    "ExecuteTime": {
     "end_time": "2024-07-27T12:36:53.071327Z",
     "start_time": "2024-07-27T12:36:53.069574Z"
    }
   },
   "cell_type": "code",
   "source": "",
   "id": "bc0c6383091941af",
   "outputs": [],
   "execution_count": 41
  },
  {
   "metadata": {
    "ExecuteTime": {
     "end_time": "2024-07-27T12:36:53.076100Z",
     "start_time": "2024-07-27T12:36:53.072122Z"
    }
   },
   "cell_type": "code",
   "source": [
    "# Durchschnittliche Genauigkeiten berechnen\n",
    "mean_scores_rf = np.mean(fbetas_rf)\n",
    "mean_scores_random = np.mean(fbetas_random)\n",
    "mean_scores_mehrheit = np.mean(fbetas_mehrheit)"
   ],
   "id": "dcd08cc94652934f",
   "outputs": [],
   "execution_count": 42
  },
  {
   "metadata": {
    "ExecuteTime": {
     "end_time": "2024-07-27T12:36:53.081018Z",
     "start_time": "2024-07-27T12:36:53.077280Z"
    }
   },
   "cell_type": "code",
   "source": [
    "print(f\"LogReg Mean score: {mean_scores_rf}\")\n",
    "print(f\"Weighted Random Prediction Mean score: {mean_scores_random}\")\n",
    "print(f\"Weighted Mehrheit Prediction Mean score: {mean_scores_mehrheit}\")\n"
   ],
   "id": "76d1e18435ebe2e",
   "outputs": [
    {
     "name": "stdout",
     "output_type": "stream",
     "text": [
      "LogReg Mean score: 0.920110403885149\n",
      "Weighted Random Prediction Mean score: 0.7109170814391207\n",
      "Weighted Mehrheit Prediction Mean score: 0.5448585414697261\n"
     ]
    }
   ],
   "execution_count": 43
  },
  {
   "metadata": {
    "ExecuteTime": {
     "end_time": "2024-07-27T12:36:53.129698Z",
     "start_time": "2024-07-27T12:36:53.082219Z"
    }
   },
   "cell_type": "code",
   "source": [
    "\n",
    "# Klassifikationsberichte für den letzten Fold ausgeben\n",
    "print(\"LogReg Classification Report (Last Fold):\")\n",
    "print(classification_report(y_test, y_pred_rf))\n",
    "\n",
    "print(\"Weighted Random Prediction Classification Report (Last Fold):\")\n",
    "print(classification_report(y_test, y_pred_random_weighted))"
   ],
   "id": "67d40de0fe392e46",
   "outputs": [
    {
     "name": "stdout",
     "output_type": "stream",
     "text": [
      "LogReg Classification Report (Last Fold):\n",
      "              precision    recall  f1-score   support\n",
      "\n",
      "           0       1.00      1.00      1.00     10023\n",
      "\n",
      "    accuracy                           1.00     10023\n",
      "   macro avg       1.00      1.00      1.00     10023\n",
      "weighted avg       1.00      1.00      1.00     10023\n",
      "\n",
      "Weighted Random Prediction Classification Report (Last Fold):\n",
      "              precision    recall  f1-score   support\n",
      "\n",
      "           0       1.00      1.00      1.00     10023\n",
      "\n",
      "    accuracy                           1.00     10023\n",
      "   macro avg       1.00      1.00      1.00     10023\n",
      "weighted avg       1.00      1.00      1.00     10023\n",
      "\n"
     ]
    }
   ],
   "execution_count": 44
  }
 ],
 "metadata": {
  "kernelspec": {
   "display_name": "Python 3",
   "language": "python",
   "name": "python3"
  },
  "language_info": {
   "codemirror_mode": {
    "name": "ipython",
    "version": 2
   },
   "file_extension": ".py",
   "mimetype": "text/x-python",
   "name": "python",
   "nbconvert_exporter": "python",
   "pygments_lexer": "ipython2",
   "version": "2.7.6"
  }
 },
 "nbformat": 4,
 "nbformat_minor": 5
}
