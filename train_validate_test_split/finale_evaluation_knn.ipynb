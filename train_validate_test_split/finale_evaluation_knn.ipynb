{
 "cells": [
  {
   "cell_type": "code",
   "id": "initial_id",
   "metadata": {
    "collapsed": true,
    "ExecuteTime": {
     "end_time": "2024-09-20T20:08:21.369617Z",
     "start_time": "2024-09-20T20:06:21.395727Z"
    }
   },
   "source": [
    "import pandas as pd\n",
    "from imblearn.over_sampling import SMOTE\n",
    "from sklearn.neighbors import KNeighborsClassifier\n",
    "from sklearn.metrics import fbeta_score\n",
    "from sklearn.model_selection import StratifiedKFold\n",
    "\n",
    "# Lade den Trainings- und Validierungsdatensatz\n",
    "train_val_data = pd.read_csv('../data/train_data_2024-08-01.csv')\n",
    "X_train_val = train_val_data.drop(columns=['UKATEGORIE'])\n",
    "y_train_val = train_val_data['UKATEGORIE']\n",
    "\n",
    "# Stratified K-Fold Cross Validation Setup\n",
    "skf = StratifiedKFold(n_splits=5, shuffle=True, random_state=42)\n",
    "\n",
    "train_val_fbeta_scores = []  # Liste, um die F-beta Scores der einzelnen Folds zu speichern\n",
    "\n",
    "for train_index, val_index in skf.split(X_train_val, y_train_val):\n",
    "    X_train, X_val = X_train_val.iloc[train_index], X_train_val.iloc[val_index]\n",
    "    y_train, y_val = y_train_val.iloc[train_index], y_train_val.iloc[val_index]\n",
    "\n",
    "    # SMOTE anwenden auf den Trainingsdaten\n",
    "    smote = SMOTE(random_state=42)\n",
    "    X_train_resampled, y_train_resampled = smote.fit_resample(X_train, y_train)\n",
    "\n",
    "    # Trainiere das KNN Modell\n",
    "    model = KNeighborsClassifier(n_neighbors=6, leaf_size=41, weights='distance', p=1)\n",
    "    model.fit(X_train_resampled, y_train_resampled)\n",
    "\n",
    "    # Vorhersagen auf den Validierungsdaten\n",
    "    y_val_pred = model.predict(X_val)\n",
    "\n",
    "    # Berechne den F-beta Score für die Validierungsdaten\n",
    "    val_fbeta = fbeta_score(y_val, y_val_pred, beta=2)\n",
    "    train_val_fbeta_scores.append(val_fbeta)\n",
    "\n",
    "# Durchschnittlicher F-beta Score aus der Stratified K-Fold Cross Validation\n",
    "average_train_val_fbeta = sum(train_val_fbeta_scores) / len(train_val_fbeta_scores)\n",
    "\n",
    "# Lade den separaten Testdatensatz\n",
    "test_data = pd.read_csv('../data/test_data_nichtAnfassen.csv')\n",
    "X_test = test_data.drop(columns=['UKATEGORIE'])\n",
    "y_test = test_data['UKATEGORIE']\n",
    "\n",
    "# Trainiere das Modell auf dem gesamten Trainings- und Validierungsdatensatz mit SMOTE\n",
    "X_train_val_resampled, y_train_val_resampled = smote.fit_resample(X_train_val, y_train_val)\n",
    "model.fit(X_train_val_resampled, y_train_val_resampled)\n",
    "\n",
    "# Vorhersagen auf den Testdaten\n",
    "y_test_pred = model.predict(X_test)\n",
    "\n",
    "# Berechne den F-beta Score für die Testdaten\n",
    "test_fbeta = fbeta_score(y_test, y_test_pred, beta=2)\n",
    "\n",
    "# Drucke die F-beta Scores\n",
    "print(f'Durchschnittlicher Train-Validation F-beta Score: {average_train_val_fbeta}')\n",
    "print(f'Test F-beta Score: {test_fbeta}')"
   ],
   "outputs": [
    {
     "name": "stdout",
     "output_type": "stream",
     "text": [
      "Durchschnittlicher Train-Validation F-beta Score: 0.3094591474592224\n",
      "Test F-beta Score: 0.3144239226033421\n"
     ]
    }
   ],
   "execution_count": 1
  },
  {
   "metadata": {
    "ExecuteTime": {
     "end_time": "2024-09-20T20:08:21.389605Z",
     "start_time": "2024-09-20T20:08:21.380450Z"
    }
   },
   "cell_type": "code",
   "source": "",
   "id": "aa9da383a98964a9",
   "outputs": [],
   "execution_count": 1
  }
 ],
 "metadata": {
  "kernelspec": {
   "display_name": "Python 3",
   "language": "python",
   "name": "python3"
  },
  "language_info": {
   "codemirror_mode": {
    "name": "ipython",
    "version": 2
   },
   "file_extension": ".py",
   "mimetype": "text/x-python",
   "name": "python",
   "nbconvert_exporter": "python",
   "pygments_lexer": "ipython2",
   "version": "2.7.6"
  }
 },
 "nbformat": 4,
 "nbformat_minor": 5
}
