{
 "cells": [
  {
   "metadata": {},
   "cell_type": "markdown",
   "source": "Dieser Code teilt die Daten in Trainings- und Testdatensätze auf, speichert den Trainingsdatensatz in einer CSV-Datei und zeigt, wie er wieder geladen wird , um ihn in anderen Teilen des Projekts zu verwenden.",
   "id": "ad500b8d398b84f0"
  },
  {
   "cell_type": "code",
   "id": "initial_id",
   "metadata": {
    "collapsed": true,
    "ExecuteTime": {
     "end_time": "2024-07-31T12:32:46.700567Z",
     "start_time": "2024-07-31T12:32:46.652097Z"
    }
   },
   "source": [
    "import pandas as pd\n",
    "from sklearn.model_selection import train_test_split\n",
    "\n",
    "# Daten laden\n",
    "df = pd.read_csv('../data/GeneralDatensatz18-21ohneGeo-mitLockdown_mitCorona.csv', sep=';')\n",
    "\n",
    "# Spalten kontrollieren \n",
    "print(\"Spalten sind \", df.columns, \"\\n\")\n",
    "\n",
    "# Features definieren ohne 'LAND', 'BEZ', 'LOR_ab_2021'\n",
    "X_init=df.drop(columns=['UKATEGORIE', 'LAND', 'BEZ', 'LOR_ab_2021'])\n",
    "print(\"Features sind \", X_init.columns, \"\\n\")\n",
    "\n",
    "# Zielvariable definieren für Schweregrad Unfälle -> 1 ist schwer oder tödlich, 0 ist leicht\n",
    "y_init = df['UKATEGORIE'].isin([1, 2]).astype(int)\n",
    "print(\"Zielvariable ist \", y_init.name, \"\\n\")\n"
   ],
   "outputs": [
    {
     "name": "stdout",
     "output_type": "stream",
     "text": [
      "Spalten sind  Index(['LAND', 'BEZ', 'LOR_ab_2021', 'UJAHR', 'UMONAT', 'USTUNDE',\n",
      "       'UWOCHENTAG', 'UKATEGORIE', 'UART', 'UTYP1', 'ULICHTVERH', 'IstRad',\n",
      "       'IstPKW', 'IstFuss', 'IstKrad', 'IstGkfz', 'IstSonstige', 'USTRZUSTAND',\n",
      "       'LOCKDOWN', 'COVID'],\n",
      "      dtype='object') \n",
      "\n",
      "Features sind  Index(['UJAHR', 'UMONAT', 'USTUNDE', 'UWOCHENTAG', 'UART', 'UTYP1',\n",
      "       'ULICHTVERH', 'IstRad', 'IstPKW', 'IstFuss', 'IstKrad', 'IstGkfz',\n",
      "       'IstSonstige', 'USTRZUSTAND', 'LOCKDOWN', 'COVID'],\n",
      "      dtype='object') \n",
      "\n",
      "Zielvariable ist  UKATEGORIE \n",
      "\n"
     ]
    }
   ],
   "execution_count": 13
  },
  {
   "metadata": {
    "ExecuteTime": {
     "end_time": "2024-07-31T12:34:13.188833Z",
     "start_time": "2024-07-31T12:34:13.125064Z"
    }
   },
   "cell_type": "code",
   "source": [
    "from datetime import datetime\n",
    "\n",
    "# Daten aufteilen: 80% Training, 20% Test\n",
    "X_train, X_test, y_train, y_test = train_test_split(X_init, y_init, test_size=0.2, random_state=42)\n",
    "\n",
    "# Trainingsdaten speichern\n",
    "train_data = pd.concat([X_train, y_train], axis=1)\n",
    "# Aktuelles Datum als String\n",
    "current_date = datetime.now().strftime('%Y-%m-%d')\n",
    "# Dateiname mit aktuellem Datum\n",
    "file_name = f'../data/train_data_{current_date}.csv'\n",
    "# Speichern\n",
    "train_data.to_csv(file_name, index=False)\n",
    "\n",
    "# Testdaten speichern (optional)\n",
    "test_data = pd.concat([X_test, y_test], axis=1)\n",
    "test_data.to_csv('../data/test_data_nichtAnfassen.csv', index=False)"
   ],
   "id": "e84ec386bd02680",
   "outputs": [],
   "execution_count": 17
  },
  {
   "metadata": {
    "ExecuteTime": {
     "end_time": "2024-07-31T12:34:09.116201Z",
     "start_time": "2024-07-31T12:34:09.100742Z"
    }
   },
   "cell_type": "code",
   "source": [
    "# HowTo: Laden der Trainingsdaten\n",
    "train_data_loaded = pd.read_csv('../data/train_data-{current_date}.csv')\n",
    "X = train_data_loaded.drop(columns=['UKATEGORIE'])\n",
    "y = train_data_loaded['UKATEGORIE']"
   ],
   "id": "2ff9e6de07e3094d",
   "outputs": [],
   "execution_count": 16
  },
  {
   "metadata": {},
   "cell_type": "code",
   "outputs": [],
   "execution_count": null,
   "source": "",
   "id": "6d94f792902b9f2c"
  }
 ],
 "metadata": {
  "kernelspec": {
   "display_name": "Python 3",
   "language": "python",
   "name": "python3"
  },
  "language_info": {
   "codemirror_mode": {
    "name": "ipython",
    "version": 2
   },
   "file_extension": ".py",
   "mimetype": "text/x-python",
   "name": "python",
   "nbconvert_exporter": "python",
   "pygments_lexer": "ipython2",
   "version": "2.7.6"
  }
 },
 "nbformat": 4,
 "nbformat_minor": 5
}
