{
 "cells": [
  {
   "metadata": {},
   "cell_type": "markdown",
   "source": "Dieser Code teilt die Daten in Trainings- und Testdatensätze auf, speichert den Trainingsdatensatz in einer CSV-Datei und zeigt, wie er wieder geladen wird , um ihn in anderen Teilen des Projekts zu verwenden.",
   "id": "ad500b8d398b84f0"
  },
  {
   "cell_type": "code",
   "id": "initial_id",
   "metadata": {
    "collapsed": true,
    "ExecuteTime": {
     "end_time": "2024-07-31T12:18:53.300522Z",
     "start_time": "2024-07-31T12:18:52.840247Z"
    }
   },
   "source": [
    "import pandas as pd\n",
    "from sklearn.model_selection import train_test_split\n",
    "\n",
    "# Daten laden\n",
    "df = pd.read_csv('../data/GeneralDatensatz18-21ohneGeo-mitLockdown_mitCorona.csv', sep=';')\n",
    "\n",
    "# Features definieren\n",
    "X=df[['UMONAT','USTUNDE','UWOCHENTAG','UART','USTRZUSTAND','BEZ','UTYP1','ULICHTVERH','IstRad','IstPKW','IstFuss','IstKrad','IstGkfz','IstSonstige', 'LOCKDOWN', 'COVID']]\n",
    "\n",
    "# Zielvariable definieren: für tödliche und schwere vs. leichte Unfälle  -> 1 ist schwer oder tödlich, 0 ist leicht\n",
    "y = df['UKATEGORIE'].isin([1, 2]).astype(int)\n",
    "\n",
    "# Daten aufteilen: 80% Training, 20% Test\n",
    "X_train, X_test, y_train, y_test = train_test_split(X, y, test_size=0.2, random_state=42)\n",
    "\n",
    "# Trainingsdaten speichern\n",
    "train_data = pd.concat([X_train, y_train], axis=1)\n",
    "train_data.to_csv('train_data-aktuell.csv', index=False)\n",
    "\n",
    "# Testdaten speichern (optional)\n",
    "test_data = pd.concat([X_test, y_test], axis=1)\n",
    "test_data.to_csv('test_data_nichtAnfassen.csv', index=False)\n",
    "\n"
   ],
   "outputs": [
    {
     "name": "stdout",
     "output_type": "stream",
     "text": [
      "   LAND  BEZ  LOR_ab_2021  UJAHR  UMONAT  USTUNDE  UWOCHENTAG  UKATEGORIE  \\\n",
      "0    11    3    3701658.0   2021      11       18           2           3   \n",
      "1    11    7    7501134.0   2021      12       19           7           3   \n",
      "2    11    4    4100101.0   2021      12       17           4           3   \n",
      "3    11    4    4501041.0   2021      12       15           7           3   \n",
      "4    11   11   11501339.0   2021      12        9           5           3   \n",
      "\n",
      "   UART  UTYP1  ULICHTVERH  IstRad  IstPKW  IstFuss  IstKrad  IstGkfz  \\\n",
      "0     0      3           2       0       1        0        1        0   \n",
      "1     6      2           2       0       1        1        0        0   \n",
      "2     5      2           2       0       1        0        0        0   \n",
      "3     5      2           1       0       1        0        1        0   \n",
      "4     3      6           0       0       1        0        0        0   \n",
      "\n",
      "   IstSonstige  USTRZUSTAND  LOCKDOWN  COVID  \n",
      "0            0            1         0      2  \n",
      "1            0            1         1      2  \n",
      "2            0            0         1      2  \n",
      "3            0            1         1      2  \n",
      "4            1            2         1      2  \n"
     ]
    }
   ],
   "execution_count": 1
  },
  {
   "metadata": {},
   "cell_type": "code",
   "outputs": [],
   "execution_count": null,
   "source": [
    "# HowTo: Laden der Trainingsdaten\n",
    "train_data_loaded = pd.read_csv('train_data.csv')\n",
    "X_train = train_data_loaded.drop(columns=['UKATEGORIE'])\n",
    "y_train = train_data_loaded['UKATEGORIE']"
   ],
   "id": "2ff9e6de07e3094d"
  }
 ],
 "metadata": {
  "kernelspec": {
   "display_name": "Python 3",
   "language": "python",
   "name": "python3"
  },
  "language_info": {
   "codemirror_mode": {
    "name": "ipython",
    "version": 2
   },
   "file_extension": ".py",
   "mimetype": "text/x-python",
   "name": "python",
   "nbconvert_exporter": "python",
   "pygments_lexer": "ipython2",
   "version": "2.7.6"
  }
 },
 "nbformat": 4,
 "nbformat_minor": 5
}
