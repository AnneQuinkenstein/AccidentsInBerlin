{
 "cells": [
  {
   "metadata": {
    "ExecuteTime": {
     "end_time": "2024-09-09T09:15:56.064805Z",
     "start_time": "2024-09-09T09:15:12.899975Z"
    }
   },
   "cell_type": "code",
   "source": [
    "\n",
    "from sklearn.ensemble import RandomForestClassifier\n",
    "import pandas as pd\n",
    "from sklearn.metrics import fbeta_score\n",
    "from sklearn.model_selection import StratifiedKFold\n",
    "\n",
    "# Lade den Trainings- und Validierungsdatensatz\n",
    "train_val_data = pd.read_csv('../data/train_data_2024-08-01.csv')\n",
    "X_train_val = train_val_data.drop(columns=['UKATEGORIE'])\n",
    "y_train_val = train_val_data['UKATEGORIE']\n",
    "\n",
    "# Stratified K-Fold Cross Validation Setup\n",
    "skf = StratifiedKFold(n_splits=5, shuffle=True, random_state=42)\n",
    "\n",
    "train_val_fbeta_scores = []  # Liste, um die F-beta Scores der einzelnen Folds zu speichern\n",
    "\n",
    "for train_index, val_index in skf.split(X_train_val, y_train_val):\n",
    "    X_train, X_val = X_train_val.iloc[train_index], X_train_val.iloc[val_index]\n",
    "    y_train, y_val = y_train_val.iloc[train_index], y_train_val.iloc[val_index]\n",
    "\n",
    "    # Trainiere das Balanced Random Forest Modell mit replacement=True\n",
    "    model = RandomForestClassifier(n_estimators=344, min_samples_split=400, min_samples_leaf=8,max_features='log2', max_depth=15, random_state=42, class_weight={0:1, 1: 9})\n",
    "    model.fit(X_train, y_train)\n",
    "\n",
    "    # Vorhersagen auf Validierungsdaten\n",
    "    y_val_pred = model.predict(X_val)\n",
    "    \n",
    "    # Berechne den F-beta Score für die Validierungsdaten\n",
    "    val_fbeta = fbeta_score(y_val, y_val_pred, beta=2)\n",
    "    train_val_fbeta_scores.append(val_fbeta)\n",
    "\n",
    "# Durchschnittlicher F-beta Score aus der Stratified K-Fold Cross Validation\n",
    "average_train_val_fbeta = sum(train_val_fbeta_scores) / len(train_val_fbeta_scores)\n",
    "\n",
    "# Lade den separaten Testdatensatz\n",
    "test_data = pd.read_csv('../data/test_data_nichtAnfassen.csv')\n",
    "X_test = test_data.drop(columns=['UKATEGORIE'])\n",
    "y_test = test_data['UKATEGORIE']\n",
    "\n",
    "# Trainiere das Modell auf dem gesamten Trainings- und Validierungsdatensatz\n",
    "model.fit(X_train_val, y_train_val)\n",
    "\n",
    "# Vorhersagen auf Testdaten\n",
    "y_test_pred = model.predict(X_test)\n",
    "\n",
    "# Berechne den F-beta Score für die Testdaten\n",
    "test_fbeta = fbeta_score(y_test, y_test_pred, beta=2)\n",
    "\n",
    "# Drucke die F-beta Scores\n",
    "print(f'Durchschnittlicher Train-Validation F-beta Score: {average_train_val_fbeta}')\n",
    "print(f'Test F-beta Score: {test_fbeta}')"
   ],
   "id": "b76ebf2eb0ae8d66",
   "outputs": [
    {
     "name": "stdout",
     "output_type": "stream",
     "text": [
      "Durchschnittlicher Train-Validation F-beta Score: 0.381904526854028\n",
      "Test F-beta Score: 0.38322533319704205\n"
     ]
    }
   ],
   "execution_count": 1
  }
 ],
 "metadata": {
  "kernelspec": {
   "display_name": "Python 3",
   "language": "python",
   "name": "python3"
  },
  "language_info": {
   "codemirror_mode": {
    "name": "ipython",
    "version": 2
   },
   "file_extension": ".py",
   "mimetype": "text/x-python",
   "name": "python",
   "nbconvert_exporter": "python",
   "pygments_lexer": "ipython2",
   "version": "2.7.6"
  }
 },
 "nbformat": 4,
 "nbformat_minor": 5
}
