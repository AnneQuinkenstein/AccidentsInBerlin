{
 "cells": [
  {
   "cell_type": "code",
   "id": "initial_id",
   "metadata": {
    "collapsed": true,
    "ExecuteTime": {
     "end_time": "2024-06-06T14:37:50.839310Z",
     "start_time": "2024-06-06T14:37:50.831759Z"
    }
   },
   "source": "import pandas as pd",
   "outputs": [],
   "execution_count": 1
  },
  {
   "metadata": {
    "ExecuteTime": {
     "end_time": "2024-06-06T14:37:51.147967Z",
     "start_time": "2024-06-06T14:37:50.843934Z"
    }
   },
   "cell_type": "code",
   "source": [
    "all_df = pd.read_csv('../data/GeneralDatensatz18-21ohneGeo.csv', sep=';')\n",
    "all_df.sample(3)"
   ],
   "id": "332f22a22f12a5c4",
   "outputs": [
    {
     "data": {
      "text/plain": [
       "       OBJECTID  LAND  BEZ  LOR_ab_2021  UJAHR  UMONAT  USTUNDE  UWOCHENTAG  \\\n",
       "5291     213600    11    6    6300633.0   2021       7       16           4   \n",
       "38088    115592    11    3    3701657.0   2018       9        9           6   \n",
       "5573     213318    11    4    4501045.0   2021       6       14           6   \n",
       "\n",
       "       UKATEGORIE  UART  UTYP1  ULICHTVERH  IstRad  IstPKW  IstFuss  IstKrad  \\\n",
       "5291            3     1      5           0       1       1        0        0   \n",
       "38088           2     3      6           0       1       1        0        0   \n",
       "5573            3     5      3           0       1       1        0        0   \n",
       "\n",
       "       IstGkfz  IstSonstige  USTRZUSTAND  \n",
       "5291         0            0            0  \n",
       "38088        0            0            0  \n",
       "5573         0            0            0  "
      ],
      "text/html": [
       "<div>\n",
       "<style scoped>\n",
       "    .dataframe tbody tr th:only-of-type {\n",
       "        vertical-align: middle;\n",
       "    }\n",
       "\n",
       "    .dataframe tbody tr th {\n",
       "        vertical-align: top;\n",
       "    }\n",
       "\n",
       "    .dataframe thead th {\n",
       "        text-align: right;\n",
       "    }\n",
       "</style>\n",
       "<table border=\"1\" class=\"dataframe\">\n",
       "  <thead>\n",
       "    <tr style=\"text-align: right;\">\n",
       "      <th></th>\n",
       "      <th>OBJECTID</th>\n",
       "      <th>LAND</th>\n",
       "      <th>BEZ</th>\n",
       "      <th>LOR_ab_2021</th>\n",
       "      <th>UJAHR</th>\n",
       "      <th>UMONAT</th>\n",
       "      <th>USTUNDE</th>\n",
       "      <th>UWOCHENTAG</th>\n",
       "      <th>UKATEGORIE</th>\n",
       "      <th>UART</th>\n",
       "      <th>UTYP1</th>\n",
       "      <th>ULICHTVERH</th>\n",
       "      <th>IstRad</th>\n",
       "      <th>IstPKW</th>\n",
       "      <th>IstFuss</th>\n",
       "      <th>IstKrad</th>\n",
       "      <th>IstGkfz</th>\n",
       "      <th>IstSonstige</th>\n",
       "      <th>USTRZUSTAND</th>\n",
       "    </tr>\n",
       "  </thead>\n",
       "  <tbody>\n",
       "    <tr>\n",
       "      <th>5291</th>\n",
       "      <td>213600</td>\n",
       "      <td>11</td>\n",
       "      <td>6</td>\n",
       "      <td>6300633.0</td>\n",
       "      <td>2021</td>\n",
       "      <td>7</td>\n",
       "      <td>16</td>\n",
       "      <td>4</td>\n",
       "      <td>3</td>\n",
       "      <td>1</td>\n",
       "      <td>5</td>\n",
       "      <td>0</td>\n",
       "      <td>1</td>\n",
       "      <td>1</td>\n",
       "      <td>0</td>\n",
       "      <td>0</td>\n",
       "      <td>0</td>\n",
       "      <td>0</td>\n",
       "      <td>0</td>\n",
       "    </tr>\n",
       "    <tr>\n",
       "      <th>38088</th>\n",
       "      <td>115592</td>\n",
       "      <td>11</td>\n",
       "      <td>3</td>\n",
       "      <td>3701657.0</td>\n",
       "      <td>2018</td>\n",
       "      <td>9</td>\n",
       "      <td>9</td>\n",
       "      <td>6</td>\n",
       "      <td>2</td>\n",
       "      <td>3</td>\n",
       "      <td>6</td>\n",
       "      <td>0</td>\n",
       "      <td>1</td>\n",
       "      <td>1</td>\n",
       "      <td>0</td>\n",
       "      <td>0</td>\n",
       "      <td>0</td>\n",
       "      <td>0</td>\n",
       "      <td>0</td>\n",
       "    </tr>\n",
       "    <tr>\n",
       "      <th>5573</th>\n",
       "      <td>213318</td>\n",
       "      <td>11</td>\n",
       "      <td>4</td>\n",
       "      <td>4501045.0</td>\n",
       "      <td>2021</td>\n",
       "      <td>6</td>\n",
       "      <td>14</td>\n",
       "      <td>6</td>\n",
       "      <td>3</td>\n",
       "      <td>5</td>\n",
       "      <td>3</td>\n",
       "      <td>0</td>\n",
       "      <td>1</td>\n",
       "      <td>1</td>\n",
       "      <td>0</td>\n",
       "      <td>0</td>\n",
       "      <td>0</td>\n",
       "      <td>0</td>\n",
       "      <td>0</td>\n",
       "    </tr>\n",
       "  </tbody>\n",
       "</table>\n",
       "</div>"
      ]
     },
     "execution_count": 2,
     "metadata": {},
     "output_type": "execute_result"
    }
   ],
   "execution_count": 2
  },
  {
   "metadata": {
    "ExecuteTime": {
     "end_time": "2024-06-06T14:37:51.179059Z",
     "start_time": "2024-06-06T14:37:51.156922Z"
    }
   },
   "cell_type": "code",
   "source": "agg_df = all_df.groupby([\"UJAHR\",\"UMONAT\"]).agg(\"size\")",
   "id": "1e1519d1ffce28d9",
   "outputs": [],
   "execution_count": 3
  },
  {
   "metadata": {
    "ExecuteTime": {
     "end_time": "2024-06-06T14:37:51.210557Z",
     "start_time": "2024-06-06T14:37:51.187930Z"
    }
   },
   "cell_type": "code",
   "source": "agg_df.head()",
   "id": "c8c36a821c41fcbc",
   "outputs": [
    {
     "data": {
      "text/plain": [
       "UJAHR  UMONAT\n",
       "2018   1          884\n",
       "       2          730\n",
       "       3          802\n",
       "       4         1217\n",
       "       5         1462\n",
       "dtype: int64"
      ]
     },
     "execution_count": 4,
     "metadata": {},
     "output_type": "execute_result"
    }
   ],
   "execution_count": 4
  },
  {
   "metadata": {
    "ExecuteTime": {
     "end_time": "2024-06-06T14:37:51.241149Z",
     "start_time": "2024-06-06T14:37:51.214798Z"
    }
   },
   "cell_type": "code",
   "source": "len(agg_df)",
   "id": "2ab36ab2900a668a",
   "outputs": [
    {
     "data": {
      "text/plain": [
       "48"
      ]
     },
     "execution_count": 5,
     "metadata": {},
     "output_type": "execute_result"
    }
   ],
   "execution_count": 5
  },
  {
   "metadata": {
    "ExecuteTime": {
     "end_time": "2024-06-06T14:37:51.281923Z",
     "start_time": "2024-06-06T14:37:51.246368Z"
    }
   },
   "cell_type": "code",
   "source": "agg_df.index",
   "id": "4be35bb69c14e3b6",
   "outputs": [
    {
     "data": {
      "text/plain": [
       "MultiIndex([(2018,  1),\n",
       "            (2018,  2),\n",
       "            (2018,  3),\n",
       "            (2018,  4),\n",
       "            (2018,  5),\n",
       "            (2018,  6),\n",
       "            (2018,  7),\n",
       "            (2018,  8),\n",
       "            (2018,  9),\n",
       "            (2018, 10),\n",
       "            (2018, 11),\n",
       "            (2018, 12),\n",
       "            (2019,  1),\n",
       "            (2019,  2),\n",
       "            (2019,  3),\n",
       "            (2019,  4),\n",
       "            (2019,  5),\n",
       "            (2019,  6),\n",
       "            (2019,  7),\n",
       "            (2019,  8),\n",
       "            (2019,  9),\n",
       "            (2019, 10),\n",
       "            (2019, 11),\n",
       "            (2019, 12),\n",
       "            (2020,  1),\n",
       "            (2020,  2),\n",
       "            (2020,  3),\n",
       "            (2020,  4),\n",
       "            (2020,  5),\n",
       "            (2020,  6),\n",
       "            (2020,  7),\n",
       "            (2020,  8),\n",
       "            (2020,  9),\n",
       "            (2020, 10),\n",
       "            (2020, 11),\n",
       "            (2020, 12),\n",
       "            (2021,  1),\n",
       "            (2021,  2),\n",
       "            (2021,  3),\n",
       "            (2021,  4),\n",
       "            (2021,  5),\n",
       "            (2021,  6),\n",
       "            (2021,  7),\n",
       "            (2021,  8),\n",
       "            (2021,  9),\n",
       "            (2021, 10),\n",
       "            (2021, 11),\n",
       "            (2021, 12)],\n",
       "           names=['UJAHR', 'UMONAT'])"
      ]
     },
     "execution_count": 6,
     "metadata": {},
     "output_type": "execute_result"
    }
   ],
   "execution_count": 6
  },
  {
   "metadata": {
    "ExecuteTime": {
     "end_time": "2024-06-06T14:37:51.314561Z",
     "start_time": "2024-06-06T14:37:51.290181Z"
    }
   },
   "cell_type": "code",
   "source": "agg_df = agg_df.reset_index()",
   "id": "938e085d5cd34f62",
   "outputs": [],
   "execution_count": 7
  },
  {
   "metadata": {
    "ExecuteTime": {
     "end_time": "2024-06-06T14:37:51.359925Z",
     "start_time": "2024-06-06T14:37:51.322189Z"
    }
   },
   "cell_type": "code",
   "source": "agg_df.head()",
   "id": "b2e918bcc1b47535",
   "outputs": [
    {
     "data": {
      "text/plain": [
       "   UJAHR  UMONAT     0\n",
       "0   2018       1   884\n",
       "1   2018       2   730\n",
       "2   2018       3   802\n",
       "3   2018       4  1217\n",
       "4   2018       5  1462"
      ],
      "text/html": [
       "<div>\n",
       "<style scoped>\n",
       "    .dataframe tbody tr th:only-of-type {\n",
       "        vertical-align: middle;\n",
       "    }\n",
       "\n",
       "    .dataframe tbody tr th {\n",
       "        vertical-align: top;\n",
       "    }\n",
       "\n",
       "    .dataframe thead th {\n",
       "        text-align: right;\n",
       "    }\n",
       "</style>\n",
       "<table border=\"1\" class=\"dataframe\">\n",
       "  <thead>\n",
       "    <tr style=\"text-align: right;\">\n",
       "      <th></th>\n",
       "      <th>UJAHR</th>\n",
       "      <th>UMONAT</th>\n",
       "      <th>0</th>\n",
       "    </tr>\n",
       "  </thead>\n",
       "  <tbody>\n",
       "    <tr>\n",
       "      <th>0</th>\n",
       "      <td>2018</td>\n",
       "      <td>1</td>\n",
       "      <td>884</td>\n",
       "    </tr>\n",
       "    <tr>\n",
       "      <th>1</th>\n",
       "      <td>2018</td>\n",
       "      <td>2</td>\n",
       "      <td>730</td>\n",
       "    </tr>\n",
       "    <tr>\n",
       "      <th>2</th>\n",
       "      <td>2018</td>\n",
       "      <td>3</td>\n",
       "      <td>802</td>\n",
       "    </tr>\n",
       "    <tr>\n",
       "      <th>3</th>\n",
       "      <td>2018</td>\n",
       "      <td>4</td>\n",
       "      <td>1217</td>\n",
       "    </tr>\n",
       "    <tr>\n",
       "      <th>4</th>\n",
       "      <td>2018</td>\n",
       "      <td>5</td>\n",
       "      <td>1462</td>\n",
       "    </tr>\n",
       "  </tbody>\n",
       "</table>\n",
       "</div>"
      ]
     },
     "execution_count": 8,
     "metadata": {},
     "output_type": "execute_result"
    }
   ],
   "execution_count": 8
  },
  {
   "metadata": {
    "ExecuteTime": {
     "end_time": "2024-06-06T14:37:51.370955Z",
     "start_time": "2024-06-06T14:37:51.363544Z"
    }
   },
   "cell_type": "code",
   "source": "agg_df.columns = [\"year\", \"month\", \"count\"]",
   "id": "e7a9bd96e3563319",
   "outputs": [],
   "execution_count": 9
  },
  {
   "metadata": {
    "ExecuteTime": {
     "end_time": "2024-06-06T14:37:51.412456Z",
     "start_time": "2024-06-06T14:37:51.374137Z"
    }
   },
   "cell_type": "code",
   "source": "agg_df.head()",
   "id": "3a44ce3a63e5b9f6",
   "outputs": [
    {
     "data": {
      "text/plain": [
       "   year  month  count\n",
       "0  2018      1    884\n",
       "1  2018      2    730\n",
       "2  2018      3    802\n",
       "3  2018      4   1217\n",
       "4  2018      5   1462"
      ],
      "text/html": [
       "<div>\n",
       "<style scoped>\n",
       "    .dataframe tbody tr th:only-of-type {\n",
       "        vertical-align: middle;\n",
       "    }\n",
       "\n",
       "    .dataframe tbody tr th {\n",
       "        vertical-align: top;\n",
       "    }\n",
       "\n",
       "    .dataframe thead th {\n",
       "        text-align: right;\n",
       "    }\n",
       "</style>\n",
       "<table border=\"1\" class=\"dataframe\">\n",
       "  <thead>\n",
       "    <tr style=\"text-align: right;\">\n",
       "      <th></th>\n",
       "      <th>year</th>\n",
       "      <th>month</th>\n",
       "      <th>count</th>\n",
       "    </tr>\n",
       "  </thead>\n",
       "  <tbody>\n",
       "    <tr>\n",
       "      <th>0</th>\n",
       "      <td>2018</td>\n",
       "      <td>1</td>\n",
       "      <td>884</td>\n",
       "    </tr>\n",
       "    <tr>\n",
       "      <th>1</th>\n",
       "      <td>2018</td>\n",
       "      <td>2</td>\n",
       "      <td>730</td>\n",
       "    </tr>\n",
       "    <tr>\n",
       "      <th>2</th>\n",
       "      <td>2018</td>\n",
       "      <td>3</td>\n",
       "      <td>802</td>\n",
       "    </tr>\n",
       "    <tr>\n",
       "      <th>3</th>\n",
       "      <td>2018</td>\n",
       "      <td>4</td>\n",
       "      <td>1217</td>\n",
       "    </tr>\n",
       "    <tr>\n",
       "      <th>4</th>\n",
       "      <td>2018</td>\n",
       "      <td>5</td>\n",
       "      <td>1462</td>\n",
       "    </tr>\n",
       "  </tbody>\n",
       "</table>\n",
       "</div>"
      ]
     },
     "execution_count": 10,
     "metadata": {},
     "output_type": "execute_result"
    }
   ],
   "execution_count": 10
  },
  {
   "metadata": {
    "ExecuteTime": {
     "end_time": "2024-06-06T14:37:51.453536Z",
     "start_time": "2024-06-06T14:37:51.416029Z"
    }
   },
   "cell_type": "code",
   "source": "agg_df[\"date\"] = pd.to_datetime(agg_df[[\"year\", \"month\"]].assign(day=1))",
   "id": "a3554298ef3bf020",
   "outputs": [],
   "execution_count": 11
  },
  {
   "metadata": {
    "ExecuteTime": {
     "end_time": "2024-06-06T14:37:51.480414Z",
     "start_time": "2024-06-06T14:37:51.460831Z"
    }
   },
   "cell_type": "code",
   "source": "agg_df.head()",
   "id": "3360f0315782b27c",
   "outputs": [
    {
     "data": {
      "text/plain": [
       "   year  month  count       date\n",
       "0  2018      1    884 2018-01-01\n",
       "1  2018      2    730 2018-02-01\n",
       "2  2018      3    802 2018-03-01\n",
       "3  2018      4   1217 2018-04-01\n",
       "4  2018      5   1462 2018-05-01"
      ],
      "text/html": [
       "<div>\n",
       "<style scoped>\n",
       "    .dataframe tbody tr th:only-of-type {\n",
       "        vertical-align: middle;\n",
       "    }\n",
       "\n",
       "    .dataframe tbody tr th {\n",
       "        vertical-align: top;\n",
       "    }\n",
       "\n",
       "    .dataframe thead th {\n",
       "        text-align: right;\n",
       "    }\n",
       "</style>\n",
       "<table border=\"1\" class=\"dataframe\">\n",
       "  <thead>\n",
       "    <tr style=\"text-align: right;\">\n",
       "      <th></th>\n",
       "      <th>year</th>\n",
       "      <th>month</th>\n",
       "      <th>count</th>\n",
       "      <th>date</th>\n",
       "    </tr>\n",
       "  </thead>\n",
       "  <tbody>\n",
       "    <tr>\n",
       "      <th>0</th>\n",
       "      <td>2018</td>\n",
       "      <td>1</td>\n",
       "      <td>884</td>\n",
       "      <td>2018-01-01</td>\n",
       "    </tr>\n",
       "    <tr>\n",
       "      <th>1</th>\n",
       "      <td>2018</td>\n",
       "      <td>2</td>\n",
       "      <td>730</td>\n",
       "      <td>2018-02-01</td>\n",
       "    </tr>\n",
       "    <tr>\n",
       "      <th>2</th>\n",
       "      <td>2018</td>\n",
       "      <td>3</td>\n",
       "      <td>802</td>\n",
       "      <td>2018-03-01</td>\n",
       "    </tr>\n",
       "    <tr>\n",
       "      <th>3</th>\n",
       "      <td>2018</td>\n",
       "      <td>4</td>\n",
       "      <td>1217</td>\n",
       "      <td>2018-04-01</td>\n",
       "    </tr>\n",
       "    <tr>\n",
       "      <th>4</th>\n",
       "      <td>2018</td>\n",
       "      <td>5</td>\n",
       "      <td>1462</td>\n",
       "      <td>2018-05-01</td>\n",
       "    </tr>\n",
       "  </tbody>\n",
       "</table>\n",
       "</div>"
      ]
     },
     "execution_count": 12,
     "metadata": {},
     "output_type": "execute_result"
    }
   ],
   "execution_count": 12
  },
  {
   "metadata": {
    "ExecuteTime": {
     "end_time": "2024-06-06T14:37:51.504088Z",
     "start_time": "2024-06-06T14:37:51.483604Z"
    }
   },
   "cell_type": "code",
   "source": "agg_df = agg_df.sort_values(\"date\")",
   "id": "6207d1afce9b8677",
   "outputs": [],
   "execution_count": 13
  },
  {
   "metadata": {
    "ExecuteTime": {
     "end_time": "2024-06-06T14:37:51.538822Z",
     "start_time": "2024-06-06T14:37:51.512193Z"
    }
   },
   "cell_type": "code",
   "source": "agg_df.head()",
   "id": "4a49f8fde26b6fe4",
   "outputs": [
    {
     "data": {
      "text/plain": [
       "   year  month  count       date\n",
       "0  2018      1    884 2018-01-01\n",
       "1  2018      2    730 2018-02-01\n",
       "2  2018      3    802 2018-03-01\n",
       "3  2018      4   1217 2018-04-01\n",
       "4  2018      5   1462 2018-05-01"
      ],
      "text/html": [
       "<div>\n",
       "<style scoped>\n",
       "    .dataframe tbody tr th:only-of-type {\n",
       "        vertical-align: middle;\n",
       "    }\n",
       "\n",
       "    .dataframe tbody tr th {\n",
       "        vertical-align: top;\n",
       "    }\n",
       "\n",
       "    .dataframe thead th {\n",
       "        text-align: right;\n",
       "    }\n",
       "</style>\n",
       "<table border=\"1\" class=\"dataframe\">\n",
       "  <thead>\n",
       "    <tr style=\"text-align: right;\">\n",
       "      <th></th>\n",
       "      <th>year</th>\n",
       "      <th>month</th>\n",
       "      <th>count</th>\n",
       "      <th>date</th>\n",
       "    </tr>\n",
       "  </thead>\n",
       "  <tbody>\n",
       "    <tr>\n",
       "      <th>0</th>\n",
       "      <td>2018</td>\n",
       "      <td>1</td>\n",
       "      <td>884</td>\n",
       "      <td>2018-01-01</td>\n",
       "    </tr>\n",
       "    <tr>\n",
       "      <th>1</th>\n",
       "      <td>2018</td>\n",
       "      <td>2</td>\n",
       "      <td>730</td>\n",
       "      <td>2018-02-01</td>\n",
       "    </tr>\n",
       "    <tr>\n",
       "      <th>2</th>\n",
       "      <td>2018</td>\n",
       "      <td>3</td>\n",
       "      <td>802</td>\n",
       "      <td>2018-03-01</td>\n",
       "    </tr>\n",
       "    <tr>\n",
       "      <th>3</th>\n",
       "      <td>2018</td>\n",
       "      <td>4</td>\n",
       "      <td>1217</td>\n",
       "      <td>2018-04-01</td>\n",
       "    </tr>\n",
       "    <tr>\n",
       "      <th>4</th>\n",
       "      <td>2018</td>\n",
       "      <td>5</td>\n",
       "      <td>1462</td>\n",
       "      <td>2018-05-01</td>\n",
       "    </tr>\n",
       "  </tbody>\n",
       "</table>\n",
       "</div>"
      ]
     },
     "execution_count": 14,
     "metadata": {},
     "output_type": "execute_result"
    }
   ],
   "execution_count": 14
  },
  {
   "metadata": {
    "ExecuteTime": {
     "end_time": "2024-06-06T14:37:51.595049Z",
     "start_time": "2024-06-06T14:37:51.548871Z"
    }
   },
   "cell_type": "code",
   "source": [
    "%matplotlib inline\n",
    "import matplotlib.pyplot as plt"
   ],
   "id": "a3128dd98057d59c",
   "outputs": [],
   "execution_count": 15
  },
  {
   "metadata": {
    "ExecuteTime": {
     "end_time": "2024-06-06T14:37:52.823705Z",
     "start_time": "2024-06-06T14:37:51.604473Z"
    }
   },
   "cell_type": "code",
   "source": "plt.plot(agg_df[\"date\"], agg_df[\"count\"])",
   "id": "22f3e67fb736de88",
   "outputs": [
    {
     "data": {
      "text/plain": [
       "[<matplotlib.lines.Line2D at 0x7f8e9b4850a0>]"
      ]
     },
     "execution_count": 16,
     "metadata": {},
     "output_type": "execute_result"
    },
    {
     "data": {
      "text/plain": [
       "<Figure size 640x480 with 1 Axes>"
      ],
      "image/png": "[encoded data removed]"
     },
     "metadata": {},
     "output_type": "display_data"
    }
   ],
   "execution_count": 16
  },
  {
   "metadata": {
    "ExecuteTime": {
     "end_time": "2024-06-06T14:37:52.835203Z",
     "start_time": "2024-06-06T14:37:52.830122Z"
    }
   },
   "cell_type": "code",
   "source": "plt.show()",
   "id": "fb2068ca063e5849",
   "outputs": [],
   "execution_count": 17
  },
  {
   "metadata": {
    "ExecuteTime": {
     "end_time": "2024-06-06T14:37:52.844565Z",
     "start_time": "2024-06-06T14:37:52.838042Z"
    }
   },
   "cell_type": "code",
   "source": "",
   "id": "8596648169fd1fb1",
   "outputs": [],
   "execution_count": 17
  }
 ],
 "metadata": {
  "kernelspec": {
   "display_name": "Python 3",
   "language": "python",
   "name": "python3"
  },
  "language_info": {
   "codemirror_mode": {
    "name": "ipython",
    "version": 2
   },
   "file_extension": ".py",
   "mimetype": "text/x-python",
   "name": "python",
   "nbconvert_exporter": "python",
   "pygments_lexer": "ipython2",
   "version": "2.7.6"
  }
 },
 "nbformat": 4,
 "nbformat_minor": 5
}
