{
 "cells": [
  {
   "cell_type": "code",
   "id": "initial_id",
   "metadata": {
    "collapsed": true,
    "ExecuteTime": {
     "end_time": "2024-06-06T12:59:26.995897Z",
     "start_time": "2024-06-06T12:59:16.971301Z"
    }
   },
   "source": [
    "from ydata_profiling import ProfileReport\n",
    "import pandas as pd\n",
    "#from sklearn.preprocessing import MinMaxScaler\n",
    "#scaler = MinMaxScaler()\n",
    "unfaelle = pd.read_csv('../data/AfSBBB_BE_LOR_Strasse_Strassenverkehrsunfaelle_2020_Datensatz.csv', sep=';')\n",
    "unfaelle.head(10)\n",
    "#unfaelle = scaler.fit_transform(unfaelle)\n",
    "profile = ProfileReport(unfaelle, title='Unfaelle Report', explorative=True)\n",
    "\n",
    "profile.to_file(\"Datensatz_2020.html\")\n",
    "\n"
   ],
   "outputs": [
    {
     "data": {
      "text/plain": [
       "Summarize dataset:   0%|          | 0/5 [00:00<?, ?it/s]"
      ],
      "application/vnd.jupyter.widget-view+json": {
       "version_major": 2,
       "version_minor": 0,
       "model_id": "b724be62293d4db9bd781c80c34d1541"
      }
     },
     "metadata": {},
     "output_type": "display_data"
    },
    {
     "data": {
      "text/plain": [
       "Generate report structure:   0%|          | 0/1 [00:00<?, ?it/s]"
      ],
      "application/vnd.jupyter.widget-view+json": {
       "version_major": 2,
       "version_minor": 0,
       "model_id": "5b4e71de1641414d974cb1b2a53a5d5a"
      }
     },
     "metadata": {},
     "output_type": "display_data"
    },
    {
     "data": {
      "text/plain": [
       "Render HTML:   0%|          | 0/1 [00:00<?, ?it/s]"
      ],
      "application/vnd.jupyter.widget-view+json": {
       "version_major": 2,
       "version_minor": 0,
       "model_id": "964bd4153b7e41a19f6bda55cbb0785f"
      }
     },
     "metadata": {},
     "output_type": "display_data"
    },
    {
     "data": {
      "text/plain": [
       "Export report to file:   0%|          | 0/1 [00:00<?, ?it/s]"
      ],
      "application/vnd.jupyter.widget-view+json": {
       "version_major": 2,
       "version_minor": 0,
       "model_id": "3b74484e9e1845ed8b182e272f53ec6f"
      }
     },
     "metadata": {},
     "output_type": "display_data"
    }
   ],
   "execution_count": 2
  },
  {
   "metadata": {
    "ExecuteTime": {
     "end_time": "2024-06-06T12:55:22.114798Z",
     "start_time": "2024-06-06T12:54:41.213342Z"
    }
   },
   "cell_type": "code",
   "source": [
    "\n",
    "profile = ProfileReport(pd.read_csv('../data/GeneralDatensatz18-21ohneGeo.csv', sep=';') , title='Unfaelle Report', explorative=True)\n",
    "\n",
    "profile.to_file(\"GeneralDatensatz18-21ohneGeo.html\")"
   ],
   "id": "9ccabe0bb8664909",
   "outputs": [
    {
     "data": {
      "text/plain": [
       "Summarize dataset:   0%|          | 0/5 [00:00<?, ?it/s]"
      ],
      "application/vnd.jupyter.widget-view+json": {
       "version_major": 2,
       "version_minor": 0,
       "model_id": "9feace83e84344cf8862dc38e9612f73"
      }
     },
     "metadata": {},
     "output_type": "display_data"
    },
    {
     "data": {
      "text/plain": [
       "Generate report structure:   0%|          | 0/1 [00:00<?, ?it/s]"
      ],
      "application/vnd.jupyter.widget-view+json": {
       "version_major": 2,
       "version_minor": 0,
       "model_id": "c3c1e30846cf49d6b08d12cd9fdfb382"
      }
     },
     "metadata": {},
     "output_type": "display_data"
    },
    {
     "data": {
      "text/plain": [
       "Render HTML:   0%|          | 0/1 [00:00<?, ?it/s]"
      ],
      "application/vnd.jupyter.widget-view+json": {
       "version_major": 2,
       "version_minor": 0,
       "model_id": "3c60d5f718a241b49ae5746720bc84af"
      }
     },
     "metadata": {},
     "output_type": "display_data"
    },
    {
     "data": {
      "text/plain": [
       "Export report to file:   0%|          | 0/1 [00:00<?, ?it/s]"
      ],
      "application/vnd.jupyter.widget-view+json": {
       "version_major": 2,
       "version_minor": 0,
       "model_id": "be1bcb24ed824583aa6b30d9a8cfa066"
      }
     },
     "metadata": {},
     "output_type": "display_data"
    }
   ],
   "execution_count": 6
  },
  {
   "metadata": {},
   "cell_type": "markdown",
   "source": [
    "Geodaten: Scatterplot fertig machen, mit Karten: Folium, kann man im Screamlit-App darstellen \n",
    "logistische Regression trainieren  für die Daten // Jahr + Monat -> Unfälle tötlich und nicht tödlich\n",
    "Confusion Matrix, Classification Report -> erstellen, in welche Richtung gehen die Fehler? \n",
    "Random Forest -> Variablen kategorisch machen, die numerisch keinen Sinn machen, Bezirke kategorisch"
   ],
   "id": "e44f60638af162c4"
  },
  {
   "metadata": {
    "ExecuteTime": {
     "end_time": "2024-06-06T13:10:16.464622Z",
     "start_time": "2024-06-06T13:10:16.284125Z"
    }
   },
   "cell_type": "code",
   "source": [
    "all_df = pd.read_csv('../data/GeneralDatensatz18-21ohneGeo.csv', sep=';')\n",
    "all_df.sample(3)"
   ],
   "id": "6290241c9e000cee",
   "outputs": [
    {
     "data": {
      "text/plain": [
       "       OBJECTID  LAND  BEZ  LOR_ab_2021  UJAHR  UMONAT  USTUNDE  UWOCHENTAG  \\\n",
       "9196     209695    11    7    7601340.0   2021       2       10           7   \n",
       "28171    194397    11    1    1011303.0   2019       5       15           4   \n",
       "16281    139141    11    2    2300418.0   2020       5       14           4   \n",
       "\n",
       "       UKATEGORIE  UART  UTYP1  ULICHTVERH  IstRad  IstPKW  IstFuss  IstKrad  \\\n",
       "9196            3     3      6           0       0       1        0        0   \n",
       "28171           3     2      2           0       1       1        0        0   \n",
       "16281           3     0      1           0       1       0        0        0   \n",
       "\n",
       "       IstGkfz  IstSonstige  USTRZUSTAND  \n",
       "9196         0            0            0  \n",
       "28171        0            0            0  \n",
       "16281        0            0            0  "
      ],
      "text/html": [
       "<div>\n",
       "<style scoped>\n",
       "    .dataframe tbody tr th:only-of-type {\n",
       "        vertical-align: middle;\n",
       "    }\n",
       "\n",
       "    .dataframe tbody tr th {\n",
       "        vertical-align: top;\n",
       "    }\n",
       "\n",
       "    .dataframe thead th {\n",
       "        text-align: right;\n",
       "    }\n",
       "</style>\n",
       "<table border=\"1\" class=\"dataframe\">\n",
       "  <thead>\n",
       "    <tr style=\"text-align: right;\">\n",
       "      <th></th>\n",
       "      <th>OBJECTID</th>\n",
       "      <th>LAND</th>\n",
       "      <th>BEZ</th>\n",
       "      <th>LOR_ab_2021</th>\n",
       "      <th>UJAHR</th>\n",
       "      <th>UMONAT</th>\n",
       "      <th>USTUNDE</th>\n",
       "      <th>UWOCHENTAG</th>\n",
       "      <th>UKATEGORIE</th>\n",
       "      <th>UART</th>\n",
       "      <th>UTYP1</th>\n",
       "      <th>ULICHTVERH</th>\n",
       "      <th>IstRad</th>\n",
       "      <th>IstPKW</th>\n",
       "      <th>IstFuss</th>\n",
       "      <th>IstKrad</th>\n",
       "      <th>IstGkfz</th>\n",
       "      <th>IstSonstige</th>\n",
       "      <th>USTRZUSTAND</th>\n",
       "    </tr>\n",
       "  </thead>\n",
       "  <tbody>\n",
       "    <tr>\n",
       "      <th>9196</th>\n",
       "      <td>209695</td>\n",
       "      <td>11</td>\n",
       "      <td>7</td>\n",
       "      <td>7601340.0</td>\n",
       "      <td>2021</td>\n",
       "      <td>2</td>\n",
       "      <td>10</td>\n",
       "      <td>7</td>\n",
       "      <td>3</td>\n",
       "      <td>3</td>\n",
       "      <td>6</td>\n",
       "      <td>0</td>\n",
       "      <td>0</td>\n",
       "      <td>1</td>\n",
       "      <td>0</td>\n",
       "      <td>0</td>\n",
       "      <td>0</td>\n",
       "      <td>0</td>\n",
       "      <td>0</td>\n",
       "    </tr>\n",
       "    <tr>\n",
       "      <th>28171</th>\n",
       "      <td>194397</td>\n",
       "      <td>11</td>\n",
       "      <td>1</td>\n",
       "      <td>1011303.0</td>\n",
       "      <td>2019</td>\n",
       "      <td>5</td>\n",
       "      <td>15</td>\n",
       "      <td>4</td>\n",
       "      <td>3</td>\n",
       "      <td>2</td>\n",
       "      <td>2</td>\n",
       "      <td>0</td>\n",
       "      <td>1</td>\n",
       "      <td>1</td>\n",
       "      <td>0</td>\n",
       "      <td>0</td>\n",
       "      <td>0</td>\n",
       "      <td>0</td>\n",
       "      <td>0</td>\n",
       "    </tr>\n",
       "    <tr>\n",
       "      <th>16281</th>\n",
       "      <td>139141</td>\n",
       "      <td>11</td>\n",
       "      <td>2</td>\n",
       "      <td>2300418.0</td>\n",
       "      <td>2020</td>\n",
       "      <td>5</td>\n",
       "      <td>14</td>\n",
       "      <td>4</td>\n",
       "      <td>3</td>\n",
       "      <td>0</td>\n",
       "      <td>1</td>\n",
       "      <td>0</td>\n",
       "      <td>1</td>\n",
       "      <td>0</td>\n",
       "      <td>0</td>\n",
       "      <td>0</td>\n",
       "      <td>0</td>\n",
       "      <td>0</td>\n",
       "      <td>0</td>\n",
       "    </tr>\n",
       "  </tbody>\n",
       "</table>\n",
       "</div>"
      ]
     },
     "execution_count": 8,
     "metadata": {},
     "output_type": "execute_result"
    }
   ],
   "execution_count": 8
  },
  {
   "metadata": {
    "ExecuteTime": {
     "end_time": "2024-06-06T13:12:15.835203Z",
     "start_time": "2024-06-06T13:12:15.824826Z"
    }
   },
   "cell_type": "code",
   "source": "agg_df = all_df.groupby([\"UJAHR\",\"UMONAT\"]).agg(\"size\")",
   "id": "5764fa4c6005da21",
   "outputs": [],
   "execution_count": 12
  },
  {
   "metadata": {
    "ExecuteTime": {
     "end_time": "2024-06-06T13:12:21.428612Z",
     "start_time": "2024-06-06T13:12:21.410933Z"
    }
   },
   "cell_type": "code",
   "source": "agg_df.head()",
   "id": "ad52bf407e0d0185",
   "outputs": [
    {
     "data": {
      "text/plain": [
       "UJAHR  UMONAT\n",
       "2018   1          884\n",
       "       2          730\n",
       "       3          802\n",
       "       4         1217\n",
       "       5         1462\n",
       "dtype: int64"
      ]
     },
     "execution_count": 13,
     "metadata": {},
     "output_type": "execute_result"
    }
   ],
   "execution_count": 13
  },
  {
   "metadata": {
    "ExecuteTime": {
     "end_time": "2024-06-06T13:12:27.406068Z",
     "start_time": "2024-06-06T13:12:27.398504Z"
    }
   },
   "cell_type": "code",
   "source": "len(agg_df)",
   "id": "fe8850f741914054",
   "outputs": [
    {
     "data": {
      "text/plain": [
       "48"
      ]
     },
     "execution_count": 14,
     "metadata": {},
     "output_type": "execute_result"
    }
   ],
   "execution_count": 14
  },
  {
   "metadata": {
    "ExecuteTime": {
     "end_time": "2024-06-06T13:12:37.267336Z",
     "start_time": "2024-06-06T13:12:37.257242Z"
    }
   },
   "cell_type": "code",
   "source": "agg_df.index",
   "id": "1434bdd67a5b55d2",
   "outputs": [
    {
     "data": {
      "text/plain": [
       "MultiIndex([(2018,  1),\n",
       "            (2018,  2),\n",
       "            (2018,  3),\n",
       "            (2018,  4),\n",
       "            (2018,  5),\n",
       "            (2018,  6),\n",
       "            (2018,  7),\n",
       "            (2018,  8),\n",
       "            (2018,  9),\n",
       "            (2018, 10),\n",
       "            (2018, 11),\n",
       "            (2018, 12),\n",
       "            (2019,  1),\n",
       "            (2019,  2),\n",
       "            (2019,  3),\n",
       "            (2019,  4),\n",
       "            (2019,  5),\n",
       "            (2019,  6),\n",
       "            (2019,  7),\n",
       "            (2019,  8),\n",
       "            (2019,  9),\n",
       "            (2019, 10),\n",
       "            (2019, 11),\n",
       "            (2019, 12),\n",
       "            (2020,  1),\n",
       "            (2020,  2),\n",
       "            (2020,  3),\n",
       "            (2020,  4),\n",
       "            (2020,  5),\n",
       "            (2020,  6),\n",
       "            (2020,  7),\n",
       "            (2020,  8),\n",
       "            (2020,  9),\n",
       "            (2020, 10),\n",
       "            (2020, 11),\n",
       "            (2020, 12),\n",
       "            (2021,  1),\n",
       "            (2021,  2),\n",
       "            (2021,  3),\n",
       "            (2021,  4),\n",
       "            (2021,  5),\n",
       "            (2021,  6),\n",
       "            (2021,  7),\n",
       "            (2021,  8),\n",
       "            (2021,  9),\n",
       "            (2021, 10),\n",
       "            (2021, 11),\n",
       "            (2021, 12)],\n",
       "           names=['UJAHR', 'UMONAT'])"
      ]
     },
     "execution_count": 15,
     "metadata": {},
     "output_type": "execute_result"
    }
   ],
   "execution_count": 15
  },
  {
   "metadata": {
    "ExecuteTime": {
     "end_time": "2024-06-06T13:13:11.535089Z",
     "start_time": "2024-06-06T13:13:11.529473Z"
    }
   },
   "cell_type": "code",
   "source": "agg_df = agg_df.reset_index()",
   "id": "51e907e525cfa2f9",
   "outputs": [],
   "execution_count": 16
  },
  {
   "metadata": {
    "ExecuteTime": {
     "end_time": "2024-06-06T13:13:15.573250Z",
     "start_time": "2024-06-06T13:13:15.554926Z"
    }
   },
   "cell_type": "code",
   "source": "agg_df.head()",
   "id": "b50ff768203c92f",
   "outputs": [
    {
     "data": {
      "text/plain": [
       "   UJAHR  UMONAT     0\n",
       "0   2018       1   884\n",
       "1   2018       2   730\n",
       "2   2018       3   802\n",
       "3   2018       4  1217\n",
       "4   2018       5  1462"
      ],
      "text/html": [
       "<div>\n",
       "<style scoped>\n",
       "    .dataframe tbody tr th:only-of-type {\n",
       "        vertical-align: middle;\n",
       "    }\n",
       "\n",
       "    .dataframe tbody tr th {\n",
       "        vertical-align: top;\n",
       "    }\n",
       "\n",
       "    .dataframe thead th {\n",
       "        text-align: right;\n",
       "    }\n",
       "</style>\n",
       "<table border=\"1\" class=\"dataframe\">\n",
       "  <thead>\n",
       "    <tr style=\"text-align: right;\">\n",
       "      <th></th>\n",
       "      <th>UJAHR</th>\n",
       "      <th>UMONAT</th>\n",
       "      <th>0</th>\n",
       "    </tr>\n",
       "  </thead>\n",
       "  <tbody>\n",
       "    <tr>\n",
       "      <th>0</th>\n",
       "      <td>2018</td>\n",
       "      <td>1</td>\n",
       "      <td>884</td>\n",
       "    </tr>\n",
       "    <tr>\n",
       "      <th>1</th>\n",
       "      <td>2018</td>\n",
       "      <td>2</td>\n",
       "      <td>730</td>\n",
       "    </tr>\n",
       "    <tr>\n",
       "      <th>2</th>\n",
       "      <td>2018</td>\n",
       "      <td>3</td>\n",
       "      <td>802</td>\n",
       "    </tr>\n",
       "    <tr>\n",
       "      <th>3</th>\n",
       "      <td>2018</td>\n",
       "      <td>4</td>\n",
       "      <td>1217</td>\n",
       "    </tr>\n",
       "    <tr>\n",
       "      <th>4</th>\n",
       "      <td>2018</td>\n",
       "      <td>5</td>\n",
       "      <td>1462</td>\n",
       "    </tr>\n",
       "  </tbody>\n",
       "</table>\n",
       "</div>"
      ]
     },
     "execution_count": 17,
     "metadata": {},
     "output_type": "execute_result"
    }
   ],
   "execution_count": 17
  },
  {
   "metadata": {
    "ExecuteTime": {
     "end_time": "2024-06-06T13:14:43.200897Z",
     "start_time": "2024-06-06T13:14:43.196256Z"
    }
   },
   "cell_type": "code",
   "source": "agg_df.columns = [\"year\", \"month\", \"count\"]",
   "id": "b5d4ac9f4627a588",
   "outputs": [],
   "execution_count": 18
  },
  {
   "metadata": {
    "ExecuteTime": {
     "end_time": "2024-06-06T13:14:45.862488Z",
     "start_time": "2024-06-06T13:14:45.853718Z"
    }
   },
   "cell_type": "code",
   "source": "agg_df.head()",
   "id": "3246821b75ce0f64",
   "outputs": [
    {
     "data": {
      "text/plain": [
       "   year  month  count\n",
       "0  2018      1    884\n",
       "1  2018      2    730\n",
       "2  2018      3    802\n",
       "3  2018      4   1217\n",
       "4  2018      5   1462"
      ],
      "text/html": [
       "<div>\n",
       "<style scoped>\n",
       "    .dataframe tbody tr th:only-of-type {\n",
       "        vertical-align: middle;\n",
       "    }\n",
       "\n",
       "    .dataframe tbody tr th {\n",
       "        vertical-align: top;\n",
       "    }\n",
       "\n",
       "    .dataframe thead th {\n",
       "        text-align: right;\n",
       "    }\n",
       "</style>\n",
       "<table border=\"1\" class=\"dataframe\">\n",
       "  <thead>\n",
       "    <tr style=\"text-align: right;\">\n",
       "      <th></th>\n",
       "      <th>year</th>\n",
       "      <th>month</th>\n",
       "      <th>count</th>\n",
       "    </tr>\n",
       "  </thead>\n",
       "  <tbody>\n",
       "    <tr>\n",
       "      <th>0</th>\n",
       "      <td>2018</td>\n",
       "      <td>1</td>\n",
       "      <td>884</td>\n",
       "    </tr>\n",
       "    <tr>\n",
       "      <th>1</th>\n",
       "      <td>2018</td>\n",
       "      <td>2</td>\n",
       "      <td>730</td>\n",
       "    </tr>\n",
       "    <tr>\n",
       "      <th>2</th>\n",
       "      <td>2018</td>\n",
       "      <td>3</td>\n",
       "      <td>802</td>\n",
       "    </tr>\n",
       "    <tr>\n",
       "      <th>3</th>\n",
       "      <td>2018</td>\n",
       "      <td>4</td>\n",
       "      <td>1217</td>\n",
       "    </tr>\n",
       "    <tr>\n",
       "      <th>4</th>\n",
       "      <td>2018</td>\n",
       "      <td>5</td>\n",
       "      <td>1462</td>\n",
       "    </tr>\n",
       "  </tbody>\n",
       "</table>\n",
       "</div>"
      ]
     },
     "execution_count": 19,
     "metadata": {},
     "output_type": "execute_result"
    }
   ],
   "execution_count": 19
  },
  {
   "metadata": {
    "ExecuteTime": {
     "end_time": "2024-06-06T13:14:54.082926Z",
     "start_time": "2024-06-06T13:14:54.056712Z"
    }
   },
   "cell_type": "code",
   "source": "agg_df[\"date\"] = pd.to_datetime(agg_df[[\"year\", \"month\"]].assign(day=1))",
   "id": "a195fde5c682584e",
   "outputs": [],
   "execution_count": 20
  },
  {
   "metadata": {
    "ExecuteTime": {
     "end_time": "2024-06-06T13:14:59.079462Z",
     "start_time": "2024-06-06T13:14:59.062773Z"
    }
   },
   "cell_type": "code",
   "source": "agg_df.head()",
   "id": "e1829535ec093021",
   "outputs": [
    {
     "data": {
      "text/plain": [
       "   year  month  count       date\n",
       "0  2018      1    884 2018-01-01\n",
       "1  2018      2    730 2018-02-01\n",
       "2  2018      3    802 2018-03-01\n",
       "3  2018      4   1217 2018-04-01\n",
       "4  2018      5   1462 2018-05-01"
      ],
      "text/html": [
       "<div>\n",
       "<style scoped>\n",
       "    .dataframe tbody tr th:only-of-type {\n",
       "        vertical-align: middle;\n",
       "    }\n",
       "\n",
       "    .dataframe tbody tr th {\n",
       "        vertical-align: top;\n",
       "    }\n",
       "\n",
       "    .dataframe thead th {\n",
       "        text-align: right;\n",
       "    }\n",
       "</style>\n",
       "<table border=\"1\" class=\"dataframe\">\n",
       "  <thead>\n",
       "    <tr style=\"text-align: right;\">\n",
       "      <th></th>\n",
       "      <th>year</th>\n",
       "      <th>month</th>\n",
       "      <th>count</th>\n",
       "      <th>date</th>\n",
       "    </tr>\n",
       "  </thead>\n",
       "  <tbody>\n",
       "    <tr>\n",
       "      <th>0</th>\n",
       "      <td>2018</td>\n",
       "      <td>1</td>\n",
       "      <td>884</td>\n",
       "      <td>2018-01-01</td>\n",
       "    </tr>\n",
       "    <tr>\n",
       "      <th>1</th>\n",
       "      <td>2018</td>\n",
       "      <td>2</td>\n",
       "      <td>730</td>\n",
       "      <td>2018-02-01</td>\n",
       "    </tr>\n",
       "    <tr>\n",
       "      <th>2</th>\n",
       "      <td>2018</td>\n",
       "      <td>3</td>\n",
       "      <td>802</td>\n",
       "      <td>2018-03-01</td>\n",
       "    </tr>\n",
       "    <tr>\n",
       "      <th>3</th>\n",
       "      <td>2018</td>\n",
       "      <td>4</td>\n",
       "      <td>1217</td>\n",
       "      <td>2018-04-01</td>\n",
       "    </tr>\n",
       "    <tr>\n",
       "      <th>4</th>\n",
       "      <td>2018</td>\n",
       "      <td>5</td>\n",
       "      <td>1462</td>\n",
       "      <td>2018-05-01</td>\n",
       "    </tr>\n",
       "  </tbody>\n",
       "</table>\n",
       "</div>"
      ]
     },
     "execution_count": 21,
     "metadata": {},
     "output_type": "execute_result"
    }
   ],
   "execution_count": 21
  },
  {
   "metadata": {
    "ExecuteTime": {
     "end_time": "2024-06-06T13:15:13.418049Z",
     "start_time": "2024-06-06T13:15:13.412430Z"
    }
   },
   "cell_type": "code",
   "source": "agg_df = agg_df.sort_values(\"date\")",
   "id": "f7170150f960a935",
   "outputs": [],
   "execution_count": 22
  },
  {
   "metadata": {
    "ExecuteTime": {
     "end_time": "2024-06-06T13:15:15.614162Z",
     "start_time": "2024-06-06T13:15:15.593782Z"
    }
   },
   "cell_type": "code",
   "source": "agg_df.head()",
   "id": "f1f64f939932b70f",
   "outputs": [
    {
     "data": {
      "text/plain": [
       "   year  month  count       date\n",
       "0  2018      1    884 2018-01-01\n",
       "1  2018      2    730 2018-02-01\n",
       "2  2018      3    802 2018-03-01\n",
       "3  2018      4   1217 2018-04-01\n",
       "4  2018      5   1462 2018-05-01"
      ],
      "text/html": [
       "<div>\n",
       "<style scoped>\n",
       "    .dataframe tbody tr th:only-of-type {\n",
       "        vertical-align: middle;\n",
       "    }\n",
       "\n",
       "    .dataframe tbody tr th {\n",
       "        vertical-align: top;\n",
       "    }\n",
       "\n",
       "    .dataframe thead th {\n",
       "        text-align: right;\n",
       "    }\n",
       "</style>\n",
       "<table border=\"1\" class=\"dataframe\">\n",
       "  <thead>\n",
       "    <tr style=\"text-align: right;\">\n",
       "      <th></th>\n",
       "      <th>year</th>\n",
       "      <th>month</th>\n",
       "      <th>count</th>\n",
       "      <th>date</th>\n",
       "    </tr>\n",
       "  </thead>\n",
       "  <tbody>\n",
       "    <tr>\n",
       "      <th>0</th>\n",
       "      <td>2018</td>\n",
       "      <td>1</td>\n",
       "      <td>884</td>\n",
       "      <td>2018-01-01</td>\n",
       "    </tr>\n",
       "    <tr>\n",
       "      <th>1</th>\n",
       "      <td>2018</td>\n",
       "      <td>2</td>\n",
       "      <td>730</td>\n",
       "      <td>2018-02-01</td>\n",
       "    </tr>\n",
       "    <tr>\n",
       "      <th>2</th>\n",
       "      <td>2018</td>\n",
       "      <td>3</td>\n",
       "      <td>802</td>\n",
       "      <td>2018-03-01</td>\n",
       "    </tr>\n",
       "    <tr>\n",
       "      <th>3</th>\n",
       "      <td>2018</td>\n",
       "      <td>4</td>\n",
       "      <td>1217</td>\n",
       "      <td>2018-04-01</td>\n",
       "    </tr>\n",
       "    <tr>\n",
       "      <th>4</th>\n",
       "      <td>2018</td>\n",
       "      <td>5</td>\n",
       "      <td>1462</td>\n",
       "      <td>2018-05-01</td>\n",
       "    </tr>\n",
       "  </tbody>\n",
       "</table>\n",
       "</div>"
      ]
     },
     "execution_count": 23,
     "metadata": {},
     "output_type": "execute_result"
    }
   ],
   "execution_count": 23
  },
  {
   "metadata": {
    "ExecuteTime": {
     "end_time": "2024-06-06T13:15:19.450249Z",
     "start_time": "2024-06-06T13:15:19.446382Z"
    }
   },
   "cell_type": "code",
   "source": "import matplotlib.pyplot as plt",
   "id": "2804ce5ad15dd8cb",
   "outputs": [],
   "execution_count": 24
  },
  {
   "metadata": {
    "ExecuteTime": {
     "end_time": "2024-06-06T13:15:24.312938Z",
     "start_time": "2024-06-06T13:15:24.194002Z"
    }
   },
   "cell_type": "code",
   "source": "plt.plot(agg_df[\"date\"], agg_df[\"count\"])",
   "id": "25ffd072bf8ed3b6",
   "outputs": [
    {
     "data": {
      "text/plain": [
       "[<matplotlib.lines.Line2D at 0x7fc5565d6ff0>]"
      ]
     },
     "execution_count": 25,
     "metadata": {},
     "output_type": "execute_result"
    }
   ],
   "execution_count": 25
  },
  {
   "metadata": {
    "ExecuteTime": {
     "end_time": "2024-06-06T13:15:27.084057Z",
     "start_time": "2024-06-06T13:15:27.074811Z"
    }
   },
   "cell_type": "code",
   "source": "plt.show()",
   "id": "9cf228aba2508d61",
   "outputs": [
    {
     "name": "stderr",
     "output_type": "stream",
     "text": [
      "/tmp/ipykernel_5697/3040330175.py:1: UserWarning: FigureCanvasAgg is non-interactive, and thus cannot be shown\n",
      "  plt.show()\n"
     ]
    }
   ],
   "execution_count": 26
  },
  {
   "metadata": {},
   "cell_type": "code",
   "outputs": [],
   "execution_count": null,
   "source": "",
   "id": "6ecf7a3f6f9f7170"
  }
 ],
 "metadata": {
  "kernelspec": {
   "display_name": "Python 3",
   "language": "python",
   "name": "python3"
  },
  "language_info": {
   "codemirror_mode": {
    "name": "ipython",
    "version": 2
   },
   "file_extension": ".py",
   "mimetype": "text/x-python",
   "name": "python",
   "nbconvert_exporter": "python",
   "pygments_lexer": "ipython2",
   "version": "2.7.6"
  }
 },
 "nbformat": 4,
 "nbformat_minor": 5
}
