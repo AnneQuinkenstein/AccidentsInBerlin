{
 "cells": [
  {
   "cell_type": "code",
   "id": "13724567fdd312dc",
   "metadata": {
    "collapsed": true,
    "ExecuteTime": {
     "end_time": "2024-06-13T12:40:03.583634Z",
     "start_time": "2024-06-13T12:40:03.525150Z"
    }
   },
   "source": [
    "\n",
    "\n",
    "import pandas as pd\n",
    "\n",
    "all_df = pd.read_csv('../data/GeneralDatensatz18-21ohneGeo.csv', sep=';')\n",
    "all_df.sample(3)"
   ],
   "outputs": [
    {
     "data": {
      "text/plain": [
       "       LAND  BEZ  LOR_ab_2021  UJAHR  UMONAT  USTUNDE  UWOCHENTAG  UKATEGORIE  \\\n",
       "36944    11    1    1100310.0   2018       4        7           7           3   \n",
       "25037    11    6    6040810.0   2019       1       19           2           3   \n",
       "8293     11    4    4501043.0   2021       5       18           2           3   \n",
       "\n",
       "       UART  UTYP1  ULICHTVERH  IstRad  IstPKW  IstFuss  IstKrad  IstGkfz  \\\n",
       "36944     5      7           0       0       1        0        0        0   \n",
       "25037     2      6           2       0       1        0        0        0   \n",
       "8293      0      3           0       1       1        0        0        0   \n",
       "\n",
       "       IstSonstige  USTRZUSTAND  \n",
       "36944            0            0  \n",
       "25037            0            1  \n",
       "8293             0            0  "
      ],
      "text/html": [
       "<div>\n",
       "<style scoped>\n",
       "    .dataframe tbody tr th:only-of-type {\n",
       "        vertical-align: middle;\n",
       "    }\n",
       "\n",
       "    .dataframe tbody tr th {\n",
       "        vertical-align: top;\n",
       "    }\n",
       "\n",
       "    .dataframe thead th {\n",
       "        text-align: right;\n",
       "    }\n",
       "</style>\n",
       "<table border=\"1\" class=\"dataframe\">\n",
       "  <thead>\n",
       "    <tr style=\"text-align: right;\">\n",
       "      <th></th>\n",
       "      <th>LAND</th>\n",
       "      <th>BEZ</th>\n",
       "      <th>LOR_ab_2021</th>\n",
       "      <th>UJAHR</th>\n",
       "      <th>UMONAT</th>\n",
       "      <th>USTUNDE</th>\n",
       "      <th>UWOCHENTAG</th>\n",
       "      <th>UKATEGORIE</th>\n",
       "      <th>UART</th>\n",
       "      <th>UTYP1</th>\n",
       "      <th>ULICHTVERH</th>\n",
       "      <th>IstRad</th>\n",
       "      <th>IstPKW</th>\n",
       "      <th>IstFuss</th>\n",
       "      <th>IstKrad</th>\n",
       "      <th>IstGkfz</th>\n",
       "      <th>IstSonstige</th>\n",
       "      <th>USTRZUSTAND</th>\n",
       "    </tr>\n",
       "  </thead>\n",
       "  <tbody>\n",
       "    <tr>\n",
       "      <th>36944</th>\n",
       "      <td>11</td>\n",
       "      <td>1</td>\n",
       "      <td>1100310.0</td>\n",
       "      <td>2018</td>\n",
       "      <td>4</td>\n",
       "      <td>7</td>\n",
       "      <td>7</td>\n",
       "      <td>3</td>\n",
       "      <td>5</td>\n",
       "      <td>7</td>\n",
       "      <td>0</td>\n",
       "      <td>0</td>\n",
       "      <td>1</td>\n",
       "      <td>0</td>\n",
       "      <td>0</td>\n",
       "      <td>0</td>\n",
       "      <td>0</td>\n",
       "      <td>0</td>\n",
       "    </tr>\n",
       "    <tr>\n",
       "      <th>25037</th>\n",
       "      <td>11</td>\n",
       "      <td>6</td>\n",
       "      <td>6040810.0</td>\n",
       "      <td>2019</td>\n",
       "      <td>1</td>\n",
       "      <td>19</td>\n",
       "      <td>2</td>\n",
       "      <td>3</td>\n",
       "      <td>2</td>\n",
       "      <td>6</td>\n",
       "      <td>2</td>\n",
       "      <td>0</td>\n",
       "      <td>1</td>\n",
       "      <td>0</td>\n",
       "      <td>0</td>\n",
       "      <td>0</td>\n",
       "      <td>0</td>\n",
       "      <td>1</td>\n",
       "    </tr>\n",
       "    <tr>\n",
       "      <th>8293</th>\n",
       "      <td>11</td>\n",
       "      <td>4</td>\n",
       "      <td>4501043.0</td>\n",
       "      <td>2021</td>\n",
       "      <td>5</td>\n",
       "      <td>18</td>\n",
       "      <td>2</td>\n",
       "      <td>3</td>\n",
       "      <td>0</td>\n",
       "      <td>3</td>\n",
       "      <td>0</td>\n",
       "      <td>1</td>\n",
       "      <td>1</td>\n",
       "      <td>0</td>\n",
       "      <td>0</td>\n",
       "      <td>0</td>\n",
       "      <td>0</td>\n",
       "      <td>0</td>\n",
       "    </tr>\n",
       "  </tbody>\n",
       "</table>\n",
       "</div>"
      ]
     },
     "execution_count": 17,
     "metadata": {},
     "output_type": "execute_result"
    }
   ],
   "execution_count": 17
  },
  {
   "metadata": {
    "ExecuteTime": {
     "end_time": "2024-06-13T12:40:03.604284Z",
     "start_time": "2024-06-13T12:40:03.586584Z"
    }
   },
   "cell_type": "code",
   "source": [
    "agg_df = all_df.groupby([\"UJAHR\",\"UMONAT\"]).agg(\"size\") \n",
    "\n",
    "agg_df.head()"
   ],
   "id": "e2564b66b821a494",
   "outputs": [
    {
     "data": {
      "text/plain": [
       "UJAHR  UMONAT\n",
       "2018   1          884\n",
       "       2          730\n",
       "       3          802\n",
       "       4         1217\n",
       "       5         1462\n",
       "dtype: int64"
      ]
     },
     "execution_count": 18,
     "metadata": {},
     "output_type": "execute_result"
    }
   ],
   "execution_count": 18
  },
  {
   "metadata": {
    "ExecuteTime": {
     "end_time": "2024-06-13T12:40:03.609375Z",
     "start_time": "2024-06-13T12:40:03.605513Z"
    }
   },
   "cell_type": "code",
   "source": [
    "\n",
    "len(agg_df)"
   ],
   "id": "8c9b689d6d6274e9",
   "outputs": [
    {
     "data": {
      "text/plain": [
       "48"
      ]
     },
     "execution_count": 19,
     "metadata": {},
     "output_type": "execute_result"
    }
   ],
   "execution_count": 19
  },
  {
   "metadata": {
    "ExecuteTime": {
     "end_time": "2024-06-13T12:40:03.615949Z",
     "start_time": "2024-06-13T12:40:03.611073Z"
    }
   },
   "cell_type": "code",
   "source": [
    "\n",
    "agg_df.index"
   ],
   "id": "db5c9730daa5f985",
   "outputs": [
    {
     "data": {
      "text/plain": [
       "MultiIndex([(2018,  1),\n",
       "            (2018,  2),\n",
       "            (2018,  3),\n",
       "            (2018,  4),\n",
       "            (2018,  5),\n",
       "            (2018,  6),\n",
       "            (2018,  7),\n",
       "            (2018,  8),\n",
       "            (2018,  9),\n",
       "            (2018, 10),\n",
       "            (2018, 11),\n",
       "            (2018, 12),\n",
       "            (2019,  1),\n",
       "            (2019,  2),\n",
       "            (2019,  3),\n",
       "            (2019,  4),\n",
       "            (2019,  5),\n",
       "            (2019,  6),\n",
       "            (2019,  7),\n",
       "            (2019,  8),\n",
       "            (2019,  9),\n",
       "            (2019, 10),\n",
       "            (2019, 11),\n",
       "            (2019, 12),\n",
       "            (2020,  1),\n",
       "            (2020,  2),\n",
       "            (2020,  3),\n",
       "            (2020,  4),\n",
       "            (2020,  5),\n",
       "            (2020,  6),\n",
       "            (2020,  7),\n",
       "            (2020,  8),\n",
       "            (2020,  9),\n",
       "            (2020, 10),\n",
       "            (2020, 11),\n",
       "            (2020, 12),\n",
       "            (2021,  1),\n",
       "            (2021,  2),\n",
       "            (2021,  3),\n",
       "            (2021,  4),\n",
       "            (2021,  5),\n",
       "            (2021,  6),\n",
       "            (2021,  7),\n",
       "            (2021,  8),\n",
       "            (2021,  9),\n",
       "            (2021, 10),\n",
       "            (2021, 11),\n",
       "            (2021, 12)],\n",
       "           names=['UJAHR', 'UMONAT'])"
      ]
     },
     "execution_count": 20,
     "metadata": {},
     "output_type": "execute_result"
    }
   ],
   "execution_count": 20
  },
  {
   "metadata": {
    "ExecuteTime": {
     "end_time": "2024-06-13T12:40:03.622170Z",
     "start_time": "2024-06-13T12:40:03.618706Z"
    }
   },
   "cell_type": "code",
   "source": [
    "\n",
    "agg_df = agg_df.reset_index()"
   ],
   "id": "6cdddc1c0fedb715",
   "outputs": [],
   "execution_count": 21
  },
  {
   "metadata": {
    "ExecuteTime": {
     "end_time": "2024-06-13T12:40:03.628709Z",
     "start_time": "2024-06-13T12:40:03.623490Z"
    }
   },
   "cell_type": "code",
   "source": [
    "\n",
    "agg_df.head()"
   ],
   "id": "104346d9ca53c30d",
   "outputs": [
    {
     "data": {
      "text/plain": [
       "   UJAHR  UMONAT     0\n",
       "0   2018       1   884\n",
       "1   2018       2   730\n",
       "2   2018       3   802\n",
       "3   2018       4  1217\n",
       "4   2018       5  1462"
      ],
      "text/html": [
       "<div>\n",
       "<style scoped>\n",
       "    .dataframe tbody tr th:only-of-type {\n",
       "        vertical-align: middle;\n",
       "    }\n",
       "\n",
       "    .dataframe tbody tr th {\n",
       "        vertical-align: top;\n",
       "    }\n",
       "\n",
       "    .dataframe thead th {\n",
       "        text-align: right;\n",
       "    }\n",
       "</style>\n",
       "<table border=\"1\" class=\"dataframe\">\n",
       "  <thead>\n",
       "    <tr style=\"text-align: right;\">\n",
       "      <th></th>\n",
       "      <th>UJAHR</th>\n",
       "      <th>UMONAT</th>\n",
       "      <th>0</th>\n",
       "    </tr>\n",
       "  </thead>\n",
       "  <tbody>\n",
       "    <tr>\n",
       "      <th>0</th>\n",
       "      <td>2018</td>\n",
       "      <td>1</td>\n",
       "      <td>884</td>\n",
       "    </tr>\n",
       "    <tr>\n",
       "      <th>1</th>\n",
       "      <td>2018</td>\n",
       "      <td>2</td>\n",
       "      <td>730</td>\n",
       "    </tr>\n",
       "    <tr>\n",
       "      <th>2</th>\n",
       "      <td>2018</td>\n",
       "      <td>3</td>\n",
       "      <td>802</td>\n",
       "    </tr>\n",
       "    <tr>\n",
       "      <th>3</th>\n",
       "      <td>2018</td>\n",
       "      <td>4</td>\n",
       "      <td>1217</td>\n",
       "    </tr>\n",
       "    <tr>\n",
       "      <th>4</th>\n",
       "      <td>2018</td>\n",
       "      <td>5</td>\n",
       "      <td>1462</td>\n",
       "    </tr>\n",
       "  </tbody>\n",
       "</table>\n",
       "</div>"
      ]
     },
     "execution_count": 22,
     "metadata": {},
     "output_type": "execute_result"
    }
   ],
   "execution_count": 22
  },
  {
   "metadata": {
    "ExecuteTime": {
     "end_time": "2024-06-13T12:40:03.634301Z",
     "start_time": "2024-06-13T12:40:03.629858Z"
    }
   },
   "cell_type": "code",
   "source": [
    "\n",
    "\n",
    "agg_df.columns = [\"year\", \"month\", \"count\"]\n",
    "\n",
    "agg_df.head()"
   ],
   "id": "604867b82ff9b508",
   "outputs": [
    {
     "data": {
      "text/plain": [
       "   year  month  count\n",
       "0  2018      1    884\n",
       "1  2018      2    730\n",
       "2  2018      3    802\n",
       "3  2018      4   1217\n",
       "4  2018      5   1462"
      ],
      "text/html": [
       "<div>\n",
       "<style scoped>\n",
       "    .dataframe tbody tr th:only-of-type {\n",
       "        vertical-align: middle;\n",
       "    }\n",
       "\n",
       "    .dataframe tbody tr th {\n",
       "        vertical-align: top;\n",
       "    }\n",
       "\n",
       "    .dataframe thead th {\n",
       "        text-align: right;\n",
       "    }\n",
       "</style>\n",
       "<table border=\"1\" class=\"dataframe\">\n",
       "  <thead>\n",
       "    <tr style=\"text-align: right;\">\n",
       "      <th></th>\n",
       "      <th>year</th>\n",
       "      <th>month</th>\n",
       "      <th>count</th>\n",
       "    </tr>\n",
       "  </thead>\n",
       "  <tbody>\n",
       "    <tr>\n",
       "      <th>0</th>\n",
       "      <td>2018</td>\n",
       "      <td>1</td>\n",
       "      <td>884</td>\n",
       "    </tr>\n",
       "    <tr>\n",
       "      <th>1</th>\n",
       "      <td>2018</td>\n",
       "      <td>2</td>\n",
       "      <td>730</td>\n",
       "    </tr>\n",
       "    <tr>\n",
       "      <th>2</th>\n",
       "      <td>2018</td>\n",
       "      <td>3</td>\n",
       "      <td>802</td>\n",
       "    </tr>\n",
       "    <tr>\n",
       "      <th>3</th>\n",
       "      <td>2018</td>\n",
       "      <td>4</td>\n",
       "      <td>1217</td>\n",
       "    </tr>\n",
       "    <tr>\n",
       "      <th>4</th>\n",
       "      <td>2018</td>\n",
       "      <td>5</td>\n",
       "      <td>1462</td>\n",
       "    </tr>\n",
       "  </tbody>\n",
       "</table>\n",
       "</div>"
      ]
     },
     "execution_count": 23,
     "metadata": {},
     "output_type": "execute_result"
    }
   ],
   "execution_count": 23
  },
  {
   "metadata": {
    "ExecuteTime": {
     "end_time": "2024-06-13T12:40:03.640457Z",
     "start_time": "2024-06-13T12:40:03.635020Z"
    }
   },
   "cell_type": "code",
   "source": [
    "\n",
    "\n",
    "agg_df[\"date\"] = pd.to_datetime(agg_df[[\"year\", \"month\"]].assign(day=1))\n",
    "\n",
    "agg_df.head()"
   ],
   "id": "a84080059cc493de",
   "outputs": [
    {
     "data": {
      "text/plain": [
       "   year  month  count       date\n",
       "0  2018      1    884 2018-01-01\n",
       "1  2018      2    730 2018-02-01\n",
       "2  2018      3    802 2018-03-01\n",
       "3  2018      4   1217 2018-04-01\n",
       "4  2018      5   1462 2018-05-01"
      ],
      "text/html": [
       "<div>\n",
       "<style scoped>\n",
       "    .dataframe tbody tr th:only-of-type {\n",
       "        vertical-align: middle;\n",
       "    }\n",
       "\n",
       "    .dataframe tbody tr th {\n",
       "        vertical-align: top;\n",
       "    }\n",
       "\n",
       "    .dataframe thead th {\n",
       "        text-align: right;\n",
       "    }\n",
       "</style>\n",
       "<table border=\"1\" class=\"dataframe\">\n",
       "  <thead>\n",
       "    <tr style=\"text-align: right;\">\n",
       "      <th></th>\n",
       "      <th>year</th>\n",
       "      <th>month</th>\n",
       "      <th>count</th>\n",
       "      <th>date</th>\n",
       "    </tr>\n",
       "  </thead>\n",
       "  <tbody>\n",
       "    <tr>\n",
       "      <th>0</th>\n",
       "      <td>2018</td>\n",
       "      <td>1</td>\n",
       "      <td>884</td>\n",
       "      <td>2018-01-01</td>\n",
       "    </tr>\n",
       "    <tr>\n",
       "      <th>1</th>\n",
       "      <td>2018</td>\n",
       "      <td>2</td>\n",
       "      <td>730</td>\n",
       "      <td>2018-02-01</td>\n",
       "    </tr>\n",
       "    <tr>\n",
       "      <th>2</th>\n",
       "      <td>2018</td>\n",
       "      <td>3</td>\n",
       "      <td>802</td>\n",
       "      <td>2018-03-01</td>\n",
       "    </tr>\n",
       "    <tr>\n",
       "      <th>3</th>\n",
       "      <td>2018</td>\n",
       "      <td>4</td>\n",
       "      <td>1217</td>\n",
       "      <td>2018-04-01</td>\n",
       "    </tr>\n",
       "    <tr>\n",
       "      <th>4</th>\n",
       "      <td>2018</td>\n",
       "      <td>5</td>\n",
       "      <td>1462</td>\n",
       "      <td>2018-05-01</td>\n",
       "    </tr>\n",
       "  </tbody>\n",
       "</table>\n",
       "</div>"
      ]
     },
     "execution_count": 24,
     "metadata": {},
     "output_type": "execute_result"
    }
   ],
   "execution_count": 24
  },
  {
   "metadata": {
    "ExecuteTime": {
     "end_time": "2024-06-13T12:40:03.646550Z",
     "start_time": "2024-06-13T12:40:03.640943Z"
    }
   },
   "cell_type": "code",
   "source": [
    "\n",
    "\n",
    "agg_df = agg_df.sort_values(\"date\")\n",
    "\n",
    "agg_df.head()"
   ],
   "id": "23f112c76578314d",
   "outputs": [
    {
     "data": {
      "text/plain": [
       "   year  month  count       date\n",
       "0  2018      1    884 2018-01-01\n",
       "1  2018      2    730 2018-02-01\n",
       "2  2018      3    802 2018-03-01\n",
       "3  2018      4   1217 2018-04-01\n",
       "4  2018      5   1462 2018-05-01"
      ],
      "text/html": [
       "<div>\n",
       "<style scoped>\n",
       "    .dataframe tbody tr th:only-of-type {\n",
       "        vertical-align: middle;\n",
       "    }\n",
       "\n",
       "    .dataframe tbody tr th {\n",
       "        vertical-align: top;\n",
       "    }\n",
       "\n",
       "    .dataframe thead th {\n",
       "        text-align: right;\n",
       "    }\n",
       "</style>\n",
       "<table border=\"1\" class=\"dataframe\">\n",
       "  <thead>\n",
       "    <tr style=\"text-align: right;\">\n",
       "      <th></th>\n",
       "      <th>year</th>\n",
       "      <th>month</th>\n",
       "      <th>count</th>\n",
       "      <th>date</th>\n",
       "    </tr>\n",
       "  </thead>\n",
       "  <tbody>\n",
       "    <tr>\n",
       "      <th>0</th>\n",
       "      <td>2018</td>\n",
       "      <td>1</td>\n",
       "      <td>884</td>\n",
       "      <td>2018-01-01</td>\n",
       "    </tr>\n",
       "    <tr>\n",
       "      <th>1</th>\n",
       "      <td>2018</td>\n",
       "      <td>2</td>\n",
       "      <td>730</td>\n",
       "      <td>2018-02-01</td>\n",
       "    </tr>\n",
       "    <tr>\n",
       "      <th>2</th>\n",
       "      <td>2018</td>\n",
       "      <td>3</td>\n",
       "      <td>802</td>\n",
       "      <td>2018-03-01</td>\n",
       "    </tr>\n",
       "    <tr>\n",
       "      <th>3</th>\n",
       "      <td>2018</td>\n",
       "      <td>4</td>\n",
       "      <td>1217</td>\n",
       "      <td>2018-04-01</td>\n",
       "    </tr>\n",
       "    <tr>\n",
       "      <th>4</th>\n",
       "      <td>2018</td>\n",
       "      <td>5</td>\n",
       "      <td>1462</td>\n",
       "      <td>2018-05-01</td>\n",
       "    </tr>\n",
       "  </tbody>\n",
       "</table>\n",
       "</div>"
      ]
     },
     "execution_count": 25,
     "metadata": {},
     "output_type": "execute_result"
    }
   ],
   "execution_count": 25
  },
  {
   "metadata": {
    "ExecuteTime": {
     "end_time": "2024-06-13T12:40:03.754623Z",
     "start_time": "2024-06-13T12:40:03.648056Z"
    }
   },
   "cell_type": "code",
   "source": [
    "import matplotlib.pyplot as plt\n",
    "\n",
    "plt.plot(agg_df[\"date\"], agg_df[\"count\"])\n",
    "\n",
    "plt.show()\n",
    "\n",
    " \n",
    "\n"
   ],
   "id": "initial_id",
   "outputs": [
    {
     "data": {
      "text/plain": [
       "<Figure size 640x480 with 1 Axes>"
      ],
      "image/png": "[encoded data removed]"
     },
     "metadata": {},
     "output_type": "display_data"
    }
   ],
   "execution_count": 26
  },
  {
   "metadata": {},
   "cell_type": "markdown",
   "source": [
    "## Erste Welle (März 2020 - Lockerungen ab Mai 2020)\n",
    "    - Lockdown: Nicht wesentliche Geschäfte wurden geschlossen und Ausgangssperren verhängt.\n",
    "    - Schulen und Universitäten: Umstellung auf Fernunterricht.\n",
    "    - Reisebeschränkungen: Internationale und inländische Reisen wurden stark eingeschränkt.\n",
    "    - Öffentliche Versammlungen: Begrenzung der Teilnehmerzahlen und Schließung von kulturellen und Freizeiteinrichtungen.\n",
    "    - Masken und Hygiene: Pflicht zum Tragen von Masken in öffentlichen Räumen und Betonung der Händehygiene.\n",
    "    \n",
    "## Lockerungen ab Juni 2020: \n",
    "    - Juni 2, 2020: Restaurants und Hotels dürfen unter Auflagen wieder öffnen.\n",
    "    - Juni 16, 2020: Kontaktbeschränkungen werden gelockert, Treffen von bis zu zehn Personen sind wieder erlaubt.\n",
    "    - Juli 1, 2020: Weitere Lockerungen, z.B. dürfen Kinos und Theater unter strengen Hygienevorschriften wieder öffnen.\n",
    "## November 2020: Lockdown \"light\" \n",
    "    - Restaurants, Bars, Theater, Kinos und Fitnessstudios werden wieder geschlossen, Schulen und Geschäfte bleiben offen.\n",
    "## Dezember 2020 - Februar 2021: Lockdown \"hart\" \n",
    "    - Dezember 16, 2020: Harte Lockdown-Maßnahmen. Schulen und die meisten Geschäfte werden geschlossen, nur lebensnotwendige Geschäfte bleiben offen.\n",
    "    - Februar 22, 2021: Schulen öffnen teilweise wieder, zunächst für die unteren Klassenstufen.\n",
    "    März 1, 2021: Friseure dürfen wieder öffnen.\n",
    "\n",
    "## April 2021: Bundesweite „Notbremse“\n",
    "\n",
    "    April 24, 2021: Bundesweite „Notbremse“ tritt in Kraft, automatische Lockdown-Maßnahmen bei einer Inzidenz über 100 Neuinfektionen pro 100.000 Einwohner innerhalb von sieben Tagen. Ausgangssperren, Schließung der meisten Geschäfte, Schulen und Kindergärten.\n",
    "\n",
    "## Sommer 2021 (Lockerungen)\n",
    "\n",
    "    Juni 4, 2021: Stufenweise Lockerungen treten in Kraft, z.B. dürfen Außengastronomie, Hotels und Kultureinrichtungen unter Auflagen wieder öffnen.\n",
    "    Juli 2021: Weitere Lockerungen, z.B. dürfen Clubs und Diskotheken im Außenbereich unter Auflagen wieder öffnen.\n",
    "\n",
    "\n",
    "## Impfkampagne (2021):\n",
    "\n",
    "    - Umfangreiche Impfaktionen zur Immunisierung der Bevölkerung.\n",
    "    - Allmähliche Lockerung der Beschränkungen für geimpfte Personen.\n",
    "\n",
    "## Omikron-Welle (Ende 2021-Anfang 2022):\n",
    "\n",
    "    - Schnelle Ausbreitung der Omikron-Variante führte zu erneuten Besorgnissen.\n",
    "    - Fortgesetzte Betonung von Impfungen, Auffrischungsdosen und lokalen Beschränkunge\n",
    "\n"
   ],
   "id": "f046f946c513d743"
  },
  {
   "metadata": {},
   "cell_type": "markdown",
   "source": "d.h. in Ziffern (vereinfacht):03/2020 - 05/2020: 1, 10/2020 - 02/2021: 1, 04/2021 - 05/2021: 1,  12/2021 - 01/2022: 1, ansonsten 0 ",
   "id": "eb700c792c04f074"
  },
  {
   "metadata": {},
   "cell_type": "code",
   "outputs": [],
   "execution_count": null,
   "source": [
    "def assign_value(row):\n",
    "    if (row['year'] == 2020 and 3 <= row['month'] <= 5) or \\\n",
    "       (row['year'] == 2020 and 10 <= row['month'] <= 12) or \\\n",
    "       (row['year'] == 2021 and 1 <= row['month'] <= 2) or \\\n",
    "       (row['year'] == 2021 and 4 <= row['month'] <= 5) or \\\n",
    "       (row['year'] == 2021 and 12 <= row['month']) or \\\n",
    "       (row['year'] == 2022 and 1 <= row['month']):\n",
    "        return 1\n",
    "    else:\n",
    "        return 0"
   ],
   "id": "62239e76dd3fff64"
  },
  {
   "metadata": {},
   "cell_type": "code",
   "outputs": [],
   "execution_count": null,
   "source": "agg_df['lockdown'] = agg_df.apply(assign_value, axis=1)",
   "id": "41a3d414fd641fc2"
  }
 ],
 "metadata": {
  "kernelspec": {
   "display_name": "Python 3",
   "language": "python",
   "name": "python3"
  },
  "language_info": {
   "codemirror_mode": {
    "name": "ipython",
    "version": 2
   },
   "file_extension": ".py",
   "mimetype": "text/x-python",
   "name": "python",
   "nbconvert_exporter": "python",
   "pygments_lexer": "ipython2",
   "version": "2.7.6"
  }
 },
 "nbformat": 4,
 "nbformat_minor": 5
}
