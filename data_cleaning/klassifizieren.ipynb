{
 "cells": [
  {
   "cell_type": "code",
   "id": "initial_id",
   "metadata": {
    "collapsed": true,
    "ExecuteTime": {
     "end_time": "2024-06-18T15:30:59.260847Z",
     "start_time": "2024-06-18T15:30:59.257027Z"
    }
   },
   "source": [
    "import pandas as pd\n",
    "from sklearn.preprocessing import OneHotEncoder, StandardScaler\n",
    "from sklearn.cluster import KMeans\n",
    "import numpy as np\n"
   ],
   "outputs": [],
   "execution_count": 10
  },
  {
   "metadata": {
    "ExecuteTime": {
     "end_time": "2024-06-18T15:30:59.273451Z",
     "start_time": "2024-06-18T15:30:59.263226Z"
    }
   },
   "cell_type": "code",
   "source": [
    "\n",
    "# Beispiel-Daten\n",
    "data = pd.read_csv('./covid.csv')\n",
    "\n",
    "# DataFrame erstellen\n",
    "df = pd.DataFrame(data)\n",
    "\n",
    "df = df.drop('monat', axis=1)\n",
    "df.head()"
   ],
   "id": "1b5fd50641a082d8",
   "outputs": [
    {
     "data": {
      "text/plain": [
       "      zahlen  inzidenz  tode      angst\n",
       "0    moderat      17.5     8  sehr hoch\n",
       "1       hoch      25.0   167       hoch\n",
       "2  abnehmend       7.5    64    moderat\n",
       "3    niedrig       3.5    12    moderat\n",
       "4    niedrig       3.5     4    niedrig"
      ],
      "text/html": [
       "<div>\n",
       "<style scoped>\n",
       "    .dataframe tbody tr th:only-of-type {\n",
       "        vertical-align: middle;\n",
       "    }\n",
       "\n",
       "    .dataframe tbody tr th {\n",
       "        vertical-align: top;\n",
       "    }\n",
       "\n",
       "    .dataframe thead th {\n",
       "        text-align: right;\n",
       "    }\n",
       "</style>\n",
       "<table border=\"1\" class=\"dataframe\">\n",
       "  <thead>\n",
       "    <tr style=\"text-align: right;\">\n",
       "      <th></th>\n",
       "      <th>zahlen</th>\n",
       "      <th>inzidenz</th>\n",
       "      <th>tode</th>\n",
       "      <th>angst</th>\n",
       "    </tr>\n",
       "  </thead>\n",
       "  <tbody>\n",
       "    <tr>\n",
       "      <th>0</th>\n",
       "      <td>moderat</td>\n",
       "      <td>17.5</td>\n",
       "      <td>8</td>\n",
       "      <td>sehr hoch</td>\n",
       "    </tr>\n",
       "    <tr>\n",
       "      <th>1</th>\n",
       "      <td>hoch</td>\n",
       "      <td>25.0</td>\n",
       "      <td>167</td>\n",
       "      <td>hoch</td>\n",
       "    </tr>\n",
       "    <tr>\n",
       "      <th>2</th>\n",
       "      <td>abnehmend</td>\n",
       "      <td>7.5</td>\n",
       "      <td>64</td>\n",
       "      <td>moderat</td>\n",
       "    </tr>\n",
       "    <tr>\n",
       "      <th>3</th>\n",
       "      <td>niedrig</td>\n",
       "      <td>3.5</td>\n",
       "      <td>12</td>\n",
       "      <td>moderat</td>\n",
       "    </tr>\n",
       "    <tr>\n",
       "      <th>4</th>\n",
       "      <td>niedrig</td>\n",
       "      <td>3.5</td>\n",
       "      <td>4</td>\n",
       "      <td>niedrig</td>\n",
       "    </tr>\n",
       "  </tbody>\n",
       "</table>\n",
       "</div>"
      ]
     },
     "execution_count": 11,
     "metadata": {},
     "output_type": "execute_result"
    }
   ],
   "execution_count": 11
  },
  {
   "metadata": {
    "ExecuteTime": {
     "end_time": "2024-06-18T15:30:59.285440Z",
     "start_time": "2024-06-18T15:30:59.275052Z"
    }
   },
   "cell_type": "code",
   "source": [
    "from sklearn.compose import ColumnTransformer\n",
    "\n",
    "# Definieren der zu transformierenden Spalten\n",
    "categorical_features = ['zahlen', 'angst']\n",
    "numeric_features = ['inzidenz', 'tode']\n",
    "\n",
    "# ColumnTransformer erstellen\n",
    "preprocessor = ColumnTransformer(\n",
    "    transformers=[\n",
    "        ('cat', OneHotEncoder(), categorical_features),\n",
    "        ('num', StandardScaler(), numeric_features)\n",
    "    ])"
   ],
   "id": "55579e174ccd21d6",
   "outputs": [],
   "execution_count": 12
  },
  {
   "metadata": {
    "ExecuteTime": {
     "end_time": "2024-06-18T15:30:59.301268Z",
     "start_time": "2024-06-18T15:30:59.286763Z"
    }
   },
   "cell_type": "code",
   "source": [
    "# Daten vorverarbeiten\n",
    "processed_data = preprocessor.fit_transform(df)\n",
    "\n",
    "processed_data"
   ],
   "id": "d1ecf01187aad67e",
   "outputs": [
    {
     "data": {
      "text/plain": [
       "array([[ 0.        ,  0.        ,  1.        ,  0.        ,  0.        ,\n",
       "         0.        ,  0.        ,  0.        ,  1.        , -0.75951742,\n",
       "        -0.72884939],\n",
       "       [ 0.        ,  1.        ,  0.        ,  0.        ,  0.        ,\n",
       "         1.        ,  0.        ,  0.        ,  0.        , -0.68342733,\n",
       "         0.21611546],\n",
       "       [ 1.        ,  0.        ,  0.        ,  0.        ,  0.        ,\n",
       "         0.        ,  1.        ,  0.        ,  0.        , -0.86097087,\n",
       "        -0.39603158],\n",
       "       [ 0.        ,  0.        ,  0.        ,  0.        ,  1.        ,\n",
       "         0.        ,  1.        ,  0.        ,  0.        , -0.90155225,\n",
       "        -0.70507669],\n",
       "       [ 0.        ,  0.        ,  0.        ,  0.        ,  1.        ,\n",
       "         0.        ,  0.        ,  1.        ,  0.        , -0.90155225,\n",
       "        -0.75262209],\n",
       "       [ 0.        ,  0.        ,  0.        ,  0.        ,  1.        ,\n",
       "         0.        ,  1.        ,  0.        ,  0.        , -0.86097087,\n",
       "        -0.75856526],\n",
       "       [ 0.        ,  0.        ,  0.        ,  0.        ,  1.        ,\n",
       "         0.        ,  1.        ,  0.        ,  0.        , -0.78488078,\n",
       "        -0.72884939],\n",
       "       [ 0.        ,  1.        ,  0.        ,  0.        ,  0.        ,\n",
       "         1.        ,  0.        ,  0.        ,  0.        , -0.53124716,\n",
       "        -0.62781541],\n",
       "       [ 0.        ,  1.        ,  0.        ,  0.        ,  0.        ,\n",
       "         1.        ,  0.        ,  0.        ,  0.        ,  0.5847408 ,\n",
       "         0.29931991],\n",
       "       [ 0.        ,  1.        ,  0.        ,  0.        ,  0.        ,\n",
       "         1.        ,  0.        ,  0.        ,  0.        ,  1.5992753 ,\n",
       "         2.60527186],\n",
       "       [ 0.        ,  1.        ,  0.        ,  0.        ,  0.        ,\n",
       "         1.        ,  0.        ,  0.        ,  0.        ,  1.5992753 ,\n",
       "         3.02129412],\n",
       "       [ 0.        ,  1.        ,  0.        ,  0.        ,  0.        ,\n",
       "         1.        ,  0.        ,  0.        ,  0.        , -0.12543336,\n",
       "         0.55487644],\n",
       "       [ 0.        ,  1.        ,  0.        ,  0.        ,  0.        ,\n",
       "         1.        ,  0.        ,  0.        ,  0.        ,  0.33110717,\n",
       "         0.06159291],\n",
       "       [ 0.        ,  1.        ,  0.        ,  0.        ,  0.        ,\n",
       "         1.        ,  0.        ,  0.        ,  0.        ,  0.33110717,\n",
       "         0.20422911],\n",
       "       [ 0.        ,  1.        ,  0.        ,  0.        ,  0.        ,\n",
       "         0.        ,  0.        ,  1.        ,  0.        , -0.17616008,\n",
       "         0.00810433],\n",
       "       [ 1.        ,  0.        ,  0.        ,  0.        ,  0.        ,\n",
       "         0.        ,  0.        ,  1.        ,  0.        , -0.78488078,\n",
       "        -0.64564494],\n",
       "       [ 0.        ,  0.        ,  0.        ,  0.        ,  1.        ,\n",
       "         0.        ,  0.        ,  1.        ,  0.        , -0.86097087,\n",
       "        -0.74073574],\n",
       "       [ 0.        ,  0.        ,  0.        ,  0.        ,  1.        ,\n",
       "         0.        ,  0.        ,  1.        ,  0.        , -0.58197388,\n",
       "        -0.69319034],\n",
       "       [ 0.        ,  0.        ,  0.        ,  0.        ,  1.        ,\n",
       "         0.        ,  1.        ,  0.        ,  0.        , -0.17616008,\n",
       "        -0.63970176],\n",
       "       [ 0.        ,  0.        ,  0.        ,  1.        ,  0.        ,\n",
       "         0.        ,  1.        ,  0.        ,  0.        ,  0.33110717,\n",
       "        -0.35442935],\n",
       "       [ 0.        ,  1.        ,  0.        ,  0.        ,  0.        ,\n",
       "         1.        ,  0.        ,  0.        ,  0.        ,  1.5992753 ,\n",
       "         0.25771769],\n",
       "       [ 0.        ,  1.        ,  0.        ,  0.        ,  0.        ,\n",
       "         1.        ,  0.        ,  0.        ,  0.        ,  2.6138098 ,\n",
       "         0.54299009]])"
      ]
     },
     "execution_count": 13,
     "metadata": {},
     "output_type": "execute_result"
    }
   ],
   "execution_count": 13
  },
  {
   "metadata": {
    "ExecuteTime": {
     "end_time": "2024-06-18T15:32:50.057869Z",
     "start_time": "2024-06-18T15:32:50.051377Z"
    }
   },
   "cell_type": "code",
   "source": [
    "# Clustering (z.B. K-Means)\n",
    "kmeans = KMeans(n_clusters=4, random_state=0).fit(processed_data)\n",
    "\n",
    "\n",
    "# Cluster-Labels anzeigen\n",
    "print(kmeans.labels_)"
   ],
   "id": "266053504b686d0c",
   "outputs": [
    {
     "name": "stdout",
     "output_type": "stream",
     "text": [
      "[3 0 3 3 1 3 3 0 0 2 2 0 0 0 0 1 1 1 3 3 0 2]\n"
     ]
    }
   ],
   "execution_count": 16
  },
  {
   "metadata": {},
   "cell_type": "markdown",
   "source": [
    "mit n = 3 gibt es folgende kategorisierungen: [1 0 1 1 1 1 1 0 0 2 2 0 0 0 0 1 1 1 1 0 0 2]\n",
    "\n",
    "mit n = 2: [1 0 1 1 1 1 1 1 0 0 0 0 0 0 1 1 1 1 1 1 0 0]\n",
    "\n",
    "mit n=4: [3 0 3 3 1 3 3 0 0 2 2 0 0 0 0 1 1 1 3 3 0 2]"
   ],
   "id": "f58ba0070043ded9"
  },
  {
   "metadata": {},
   "cell_type": "code",
   "outputs": [],
   "execution_count": null,
   "source": "",
   "id": "f17bab68c4e8e649"
  }
 ],
 "metadata": {
  "kernelspec": {
   "display_name": "Python 3",
   "language": "python",
   "name": "python3"
  },
  "language_info": {
   "codemirror_mode": {
    "name": "ipython",
    "version": 2
   },
   "file_extension": ".py",
   "mimetype": "text/x-python",
   "name": "python",
   "nbconvert_exporter": "python",
   "pygments_lexer": "ipython2",
   "version": "2.7.6"
  }
 },
 "nbformat": 4,
 "nbformat_minor": 5
}
